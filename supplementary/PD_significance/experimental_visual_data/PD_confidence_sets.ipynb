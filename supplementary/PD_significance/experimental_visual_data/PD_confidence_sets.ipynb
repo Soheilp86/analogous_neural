{
 "cells": [
  {
   "cell_type": "markdown",
   "metadata": {},
   "source": [
    "Plot the significance threshold for PD(V1) in the experimental visual data. \n",
    "\n",
    "Significance threshold is computed using the topological bootstrapping method.\n",
    "\n",
    "* The significance threshold is computed using R (`PD_confidence_sets.Rmd`)\n",
    "* This notebook uses Python."
   ]
  },
  {
   "cell_type": "code",
   "execution_count": null,
   "metadata": {},
   "outputs": [],
   "source": [
    "import pandas as pd\n",
    "import numpy as np\n",
    "import pickle as pickle\n",
    "import gudhi as gd  \n",
    "import seaborn as sbs\n",
    "from scipy.spatial import distance_matrix\n",
    "from pylab import *"
   ]
  },
  {
   "cell_type": "code",
   "execution_count": 2,
   "metadata": {},
   "outputs": [],
   "source": [
    "# from https://github.com/GUDHI/TDA-tutorial/blob/master/persistence_statistics.py\n",
    "\n",
    "def hausd_interval(data, level = 0.95, m=-1, B =1000,pairwise_dist = False,\n",
    "                   leaf_size = 2,ncores = None):\n",
    "    \n",
    "    '''\n",
    "    Subsampling Confidence Interval for the Hausdorff Distance between a \n",
    "    Manifold and a Sample\n",
    "    Fasy et al AOS 2014\n",
    "    \n",
    "    Input:\n",
    "    data : a nxd numpy array representing n points in R^d, or a nxn matrix of pairwise distances\n",
    "    m : size of each subsample. If m=-1 then m = n / np.log(n)   \n",
    "    B : number of subsamples \n",
    "    level : confidence level\n",
    "    pairwise_dist : if pairwise_dist = True then data is a nxn matrix of pairwise distances\n",
    "    leaf_size : leaf size for KDTree\n",
    "    ncores :  number of cores for multiprocessing (if None then the maximum number of cores is used)\n",
    "        \n",
    "    Output: \n",
    "    quantile for the Hausdorff distance\n",
    "        \n",
    "   \n",
    "    '''\n",
    "    \n",
    "    \n",
    "    import numpy as np\n",
    "    from multiprocessing import Pool\n",
    "    from sklearn.neighbors import KDTree\n",
    "\n",
    "\n",
    "    \n",
    "    # sample size\n",
    "    n = np.size(data,0)\n",
    "    \n",
    "    # subsample size\n",
    "    if m == -1:\n",
    "        m = int (n / np.log(n))\n",
    "    \n",
    "    \n",
    "    # Data is an array\n",
    "    if pairwise_dist == False:\n",
    "            \n",
    "        # for subsampling\n",
    "        # a reprendre sans shuffle slit   \n",
    "\n",
    "        \n",
    "        global hauss_dist\n",
    "        def hauss_dist(m):\n",
    "            '''\n",
    "            Distances between the points of data and a random subsample of data of size m\n",
    "            '''            \n",
    "            I = np.random.choice(n,m)\n",
    "            Icomp = [item for item in np.arange(n) if item not in I]\n",
    "            tree = KDTree(data[I,],leaf_size=leaf_size)\n",
    "            dist, ind = tree.query(data[Icomp,],k=1) \n",
    "            hdist = max(dist)\n",
    "            return(hdist)\n",
    "        \n",
    "        # parrallel computing\n",
    "        with Pool(ncores) as p:\n",
    "            dist_vec = p.map(hauss_dist,[m]*B)\n",
    "        p.close()\n",
    "        dist_vec = [a[0] for a in dist_vec]        \n",
    "          \n",
    "        \n",
    "    # Data is a matrix of pairwise distances    \n",
    "    else:\n",
    "        def hauss_dist(m):\n",
    "            '''\n",
    "            Distances between the points of data and a random subsample of data of size m\n",
    "            '''\n",
    "            I = np.random.choice(n,m)    \n",
    "            hdist= np.max([np.min(data[I,j]) for j in np.arange(n) if j not in I])              \n",
    "            return(hdist)\n",
    "            \n",
    "        # parrallel computing\n",
    "        with Pool(ncores) as p:\n",
    "            dist_vec = p.map(hauss_dist, [m]*B)\n",
    "        p.close()\n",
    "    \n",
    "            \n",
    "    # quantile and confidence band\n",
    "    myquantile = np.quantile(dist_vec, level)\n",
    "    c = 2 * myquantile     \n",
    "            \n",
    "    return(c)\n",
    "\n",
    "\n",
    "\n",
    "\n",
    "def truncated_simplex_tree(st,int_trunc=100):\n",
    "    '''\n",
    "    This function return a truncated simplex tree \n",
    "    \n",
    "    Input:\n",
    "    st : a simplex tree\n",
    "    int_trunc : number of persistent interval keept per dimension (the largest)\n",
    "    \n",
    "    Ouptut:\n",
    "    st_trunc_pers : truncated simplex tree    \n",
    "    '''\n",
    "    \n",
    "    st.persistence()    \n",
    "    dim = st.dimension()\n",
    "    st_trunc_pers = [];\n",
    "    for d in range(dim):\n",
    "        pers_d = st.persistence_intervals_in_dimension(d)\n",
    "        d_l= len(pers_d)\n",
    "        if d_l > int_trunc:\n",
    "            pers_d_trunc = [pers_d[i] for i in range(d_l-int_trunc,d_l)]\n",
    "        else:\n",
    "            pers_d_trunc = pers_d\n",
    "        st_trunc_pers = st_trunc_pers + [(d,(l[0],l[1])) for l in pers_d_trunc]\n",
    "    return(st_trunc_pers)"
   ]
  },
  {
   "cell_type": "markdown",
   "metadata": {},
   "source": [
    "# Confidence set from subsampling approach\n",
    "* From Fasy et al 2014 Annals of Statistics paper.\n",
    "* As the authors mention, this confidence set is very conservative."
   ]
  },
  {
   "cell_type": "code",
   "execution_count": 5,
   "metadata": {},
   "outputs": [
    {
     "name": "stdout",
     "output_type": "stream",
     "text": [
      "Shape of D_V1:  (53, 53)\n",
      "Shape of D_AL:  (41, 41)\n"
     ]
    }
   ],
   "source": [
    "# load distance\n",
    "total_distance = np.loadtxt(\"../../../analysis/experimental_visual/data/total_dissimilarity.csv\")\n",
    "D_V1 = total_distance[0:53, 0:53]\n",
    "D_AL = total_distance[53:94, 53:94]\n",
    "print(\"Shape of D_V1: \", D_V1.shape)\n",
    "print(\"Shape of D_AL: \", D_AL.shape)"
   ]
  },
  {
   "cell_type": "code",
   "execution_count": 11,
   "metadata": {},
   "outputs": [
    {
     "name": "stderr",
     "output_type": "stream",
     "text": [
      "usetex mode requires TeX.\n"
     ]
    },
    {
     "data": {
      "image/png": "[encoded data removed]",
      "text/plain": [
       "<Figure size 432x288 with 1 Axes>"
      ]
     },
     "metadata": {
      "needs_background": "light"
     },
     "output_type": "display_data"
    }
   ],
   "source": [
    "# compute persistence\n",
    "skeleton = gd.RipsComplex(distance_matrix = D_V1,max_edge_length=2) \n",
    "Rips_simplex_tree_trefoil = skeleton.create_simplex_tree(max_dimension=2)\n",
    "BarCodes = Rips_simplex_tree_trefoil.persistence()\n",
    "gd.plot_persistence_diagram(BarCodes);"
   ]
  },
  {
   "cell_type": "code",
   "execution_count": 35,
   "metadata": {},
   "outputs": [
    {
     "name": "stdout",
     "output_type": "stream",
     "text": [
      "1.2148203594441234\n"
     ]
    }
   ],
   "source": [
    "hatc = hausd_interval(D_V1,pairwise_dist=True,level = 0.95, m = 53)\n",
    "print(hatc)"
   ]
  },
  {
   "cell_type": "code",
   "execution_count": 36,
   "metadata": {},
   "outputs": [
    {
     "data": {
      "image/png": "[encoded data removed]",
      "text/plain": [
       "<Figure size 432x288 with 1 Axes>"
      ]
     },
     "metadata": {
      "needs_background": "light"
     },
     "output_type": "display_data"
    }
   ],
   "source": [
    "gd.plot_persistence_diagram(BarCodes, band = 4 * hatc);"
   ]
  },
  {
   "cell_type": "markdown",
   "metadata": {},
   "source": [
    "# A more precise confidence set can be found.\n",
    "* See R code \"PD_confidence_sets.md\"\n",
    "* threshold, for V1, according to bootstrapping: 0.1428\n",
    "* threshold, for AL, according to bootstrapping: 0.0622"
   ]
  },
  {
   "cell_type": "code",
   "execution_count": 16,
   "metadata": {},
   "outputs": [],
   "source": [
    "import sys\n",
    "sys.path.insert(0, '../../src/')"
   ]
  },
  {
   "cell_type": "code",
   "execution_count": 17,
   "metadata": {},
   "outputs": [],
   "source": [
    "from plotting import *"
   ]
  },
  {
   "cell_type": "code",
   "execution_count": 20,
   "metadata": {},
   "outputs": [],
   "source": [
    "barcode_V1 = np.array([[0.563936, 0.568567], [0.558992, 0.634908]])\n",
    "barcode_AL = np.array([[0.381433, 0.386574], [0.456083, 0.508385]])"
   ]
  },
  {
   "cell_type": "code",
   "execution_count": 29,
   "metadata": {},
   "outputs": [
    {
     "data": {
      "text/plain": [
       "<AxesSubplot:>"
      ]
     },
     "execution_count": 29,
     "metadata": {},
     "output_type": "execute_result"
    },
    {
     "data": {
      "image/png": "[encoded data removed]",
      "text/plain": [
       "<Figure size 360x360 with 1 Axes>"
      ]
     },
     "metadata": {
      "needs_background": "light"
     },
     "output_type": "display_data"
    }
   ],
   "source": [
    "highlight_color = \"#f72585\"\n",
    "size_significant = 700\n",
    "size_noise = 700\n",
    "titlefontsize = 20\n",
    "tickfontsize = 20\n",
    "pd_min = 0.45\n",
    "pd_max = 0.75\n",
    "\n",
    "fig, ax = plt.subplots(figsize = (5, 5))\n",
    "plot_PD(barcode_V1, \n",
    "        ax = ax, \n",
    "#        title = \"PD(V1, dim 1)\", \n",
    "        titlefontsize = titlefontsize,\n",
    "        alpha = 0.8,\n",
    "        s = size_noise, \n",
    "        pd_min = pd_min, \n",
    "        pd_max = pd_max,\n",
    "        marker = \"o\",\n",
    "        edgecolor = \"black\",\n",
    "        threshold = 0.1428, \n",
    "        tickfontsize = tickfontsize)"
   ]
  },
  {
   "cell_type": "code",
   "execution_count": null,
   "metadata": {},
   "outputs": [],
   "source": []
  }
 ],
 "metadata": {
  "kernelspec": {
   "display_name": "Python 3",
   "language": "python",
   "name": "python3"
  },
  "language_info": {
   "codemirror_mode": {
    "name": "ipython",
    "version": 3
   },
   "file_extension": ".py",
   "mimetype": "text/x-python",
   "name": "python",
   "nbconvert_exporter": "python",
   "pygments_lexer": "ipython3",
   "version": "3.9.6"
  }
 },
 "nbformat": 4,
 "nbformat_minor": 4
}
