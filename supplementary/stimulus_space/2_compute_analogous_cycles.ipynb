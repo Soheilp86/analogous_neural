{
 "cells": [
  {
   "cell_type": "code",
   "execution_count": 2,
   "metadata": {},
   "outputs": [
    {
     "name": "stderr",
     "output_type": "stream",
     "text": [
      "\u001b[32m\u001b[1m  Activating\u001b[22m\u001b[39m project at `~/analogous_neural/env`\n"
     ]
    }
   ],
   "source": [
    "using Pkg\n",
    "Pkg.activate(\"../../env/.\")\n",
    "Pkg.instantiate()"
   ]
  },
  {
   "cell_type": "code",
   "execution_count": 3,
   "metadata": {},
   "outputs": [
    {
     "data": {
      "application/vnd.webio.node+json": {
       "children": [],
       "instanceArgs": {
        "namespace": "html",
        "tag": "div"
       },
       "nodeType": "DOM",
       "props": {},
       "type": "node"
      },
      "text/html": [
       "<div style=\"padding: 1em; background-color: #f8d6da; border: 1px solid #f5c6cb; font-weight: bold;\">\n",
       "<p>The WebIO Jupyter extension was not detected. See the\n",
       "<a href=\"https://juliagizmos.github.io/WebIO.jl/latest/providers/ijulia/\" target=\"_blank\">\n",
       "    WebIO Jupyter integration documentation\n",
       "</a>\n",
       "for more information.\n",
       "</div>\n"
      ],
      "text/plain": [
       "WebIO._IJuliaInit()"
      ]
     },
     "metadata": {},
     "output_type": "display_data"
    }
   ],
   "source": [
    "include(\"../../src/analogous_bars.jl\")\n",
    "include(\"../../src/Eirene_var.jl\")\n",
    "\n",
    "using .analogous_bars\n",
    "using .Eirene_var\n"
   ]
  },
  {
   "cell_type": "code",
   "execution_count": 27,
   "metadata": {},
   "outputs": [],
   "source": [
    "using DelimitedFiles\n",
    "#using HDF5\n",
    "using Plots\n",
    "#using FileIO\n",
    "#using MultivariateStats\n",
    "#using CSV\n",
    "#using DataFrames\n",
    "using Distances"
   ]
  },
  {
   "cell_type": "markdown",
   "metadata": {},
   "source": [
    "# 1. Load data "
   ]
  },
  {
   "cell_type": "code",
   "execution_count": 39,
   "metadata": {},
   "outputs": [
    {
     "name": "stdout",
     "output_type": "stream",
     "text": [
      "number of points in PC1: 625\n",
      "number of points in PC2: 1290\n"
     ]
    }
   ],
   "source": [
    "# load coordinates of point clouds\n",
    "PC1 = readdlm(\"pointcloud1.csv\", ',', Float64)\n",
    "PC2 = readdlm(\"pointcloud2.csv\", ',', Float64);\n",
    "\n",
    "n_PC1 = size(PC1, 1)\n",
    "n_PC2 = size(PC2, 1)\n",
    "\n",
    "println(\"number of points in PC1: \", n_PC1)\n",
    "println(\"number of points in PC2: \", n_PC2)"
   ]
  },
  {
   "cell_type": "code",
   "execution_count": 40,
   "metadata": {},
   "outputs": [
    {
     "name": "stdout",
     "output_type": "stream",
     "text": [
      "Shape of D: (1915, 1915)\n",
      "Shape of D1: (625, 625)\n",
      "Shape of D2: (1290, 1290)\n",
      "Shape of D_cross: (625, 1290)\n"
     ]
    }
   ],
   "source": [
    "# Compute dissimilarity matrices \n",
    "\n",
    "PC_total = vcat(PC1, PC2)\n",
    "D = pairwise(Euclidean(), PC_total, dims=1)\n",
    "\n",
    "D1 = D[1:n_PC1, 1:n_PC1]\n",
    "D2 = D[n_PC1+1:end, n_PC1+1:end]\n",
    "D_cross = D[1:n_PC1, n_PC1+1:end]\n",
    "\n",
    "println(\"Shape of D: \", size(D))\n",
    "println(\"Shape of D1: \", size(D1))\n",
    "println(\"Shape of D2: \", size(D2))\n",
    "println(\"Shape of D_cross: \", size(D_cross))"
   ]
  },
  {
   "cell_type": "markdown",
   "metadata": {},
   "source": [
    "# 2. Run persistence"
   ]
  },
  {
   "cell_type": "code",
   "execution_count": 41,
   "metadata": {},
   "outputs": [
    {
     "ename": "LoadError",
     "evalue": "InterruptException:",
     "output_type": "error",
     "traceback": [
      "InterruptException:",
      "",
      "Stacktrace:",
      " [1] build_Witness_complex(D::Matrix{Float64}, threshold::Float64; maxdim::Int64)",
      "   @ Main.analogous_bars ~/analogous_neural/src/analogous_bars.jl:1583",
      " [2] build_Witness_complex",
      "   @ ~/analogous_neural/src/analogous_bars.jl:1559 [inlined]",
      " [3] compute_Witness_persistence(D::Matrix{Float64}; maxdim::Int64, param_max::Float64)",
      "   @ Main.analogous_bars ~/analogous_neural/src/analogous_bars.jl:1645",
      " [4] compute_Witness_persistence(D::Matrix{Float64})",
      "   @ Main.analogous_bars ~/analogous_neural/src/analogous_bars.jl:1634",
      " [5] top-level scope",
      "   @ In[41]:3"
     ]
    }
   ],
   "source": [
    "C1 = eirene(D1, record = \"all\", maxdim = 1)\n",
    "C2 = eirene(D2, record = \"all\", maxdim = 1)\n",
    "W = compute_Witness_persistence(D_cross)\n",
    "\n",
    "barcode_C1 = barcode(C1, dim = 1)\n",
    "barcode_C2 = barcode(C2, dim = 1)\n",
    "barcode_W = barcode(W[\"eirene_output\"], dim = 1);"
   ]
  },
  {
   "cell_type": "code",
   "execution_count": null,
   "metadata": {},
   "outputs": [],
   "source": [
    "# plot all persistence diagrams & significance feature cutoff\n",
    "selected_1, cutoff_1 = select_persistent_intervals_IQR(barcode_C1)\n",
    "p1 = plot_PD(barcode_C1; \n",
    "            cutoff = cutoff_1,  \n",
    "            title = \"PD(pc1)\", \n",
    "            titlefontsize = 12)\n",
    "\n",
    "selected_W, cutoff_W = select_persistent_intervals_IQR(barcode_W)\n",
    "p2 = plot_PD(barcode_W; \n",
    "            cutoff = cutoff_W, \n",
    "            title = \"DPD\", \n",
    "            titlefontsize = 12)\n",
    "\n",
    "selected_2, cutoff_2 = select_persistent_intervals_IQR(barcode_C2)\n",
    "p3 = plot_PD(barcode_C2; \n",
    "            cutoff = cutoff_2, \n",
    "            title = \"PD(pc2)\", \n",
    "            titlefontsize = 12)\n",
    "\n",
    "plot(p1, p2, p3, layout = grid(1,3))"
   ]
  }
 ],
 "metadata": {
  "kernelspec": {
   "display_name": "Julia 1.7.2 1.10.2",
   "language": "julia",
   "name": "julia-1.7.2-1.10"
  },
  "language_info": {
   "file_extension": ".jl",
   "mimetype": "application/julia",
   "name": "julia",
   "version": "1.10.2"
  }
 },
 "nbformat": 4,
 "nbformat_minor": 2
}
