{
 "cells": [
  {
   "cell_type": "markdown",
   "id": "fitted-appraisal",
   "metadata": {},
   "source": [
    "# Analogous stats"
   ]
  },
  {
   "cell_type": "code",
   "execution_count": null,
   "id": "a20c088d",
   "metadata": {},
   "outputs": [],
   "source": [
    "using Pkg\n",
    "Pkg.activate(\"../../env/.\")"
   ]
  },
  {
   "cell_type": "code",
   "execution_count": 1,
   "id": "exempt-receipt",
   "metadata": {},
   "outputs": [
    {
     "data": {
      "application/vnd.webio.node+json": {
       "children": [],
       "instanceArgs": {
        "namespace": "html",
        "tag": "div"
       },
       "nodeType": "DOM",
       "props": {},
       "type": "node"
      },
      "text/html": [
       "<div style=\"padding: 1em; background-color: #f8d6da; border: 1px solid #f5c6cb; font-weight: bold;\">\n",
       "<p>The WebIO Jupyter extension was not detected. See the\n",
       "<a href=\"https://juliagizmos.github.io/WebIO.jl/latest/providers/ijulia/\" target=\"_blank\">\n",
       "    WebIO Jupyter integration documentation\n",
       "</a>\n",
       "for more information.\n",
       "</div>\n"
      ],
      "text/plain": [
       "WebIO._IJuliaInit()"
      ]
     },
     "metadata": {},
     "output_type": "display_data"
    },
    {
     "name": "stderr",
     "output_type": "stream",
     "text": [
      "┌ Warning: ORCA.jl has been deprecated and all savefig functionality\n",
      "│ has been implemented directly in PlotlyBase itself.\n",
      "│ \n",
      "│ By implementing in PlotlyBase.jl, the savefig routines are automatically\n",
      "│ available to PlotlyJS.jl also.\n",
      "└ @ ORCA /opt/julia/packages/ORCA/U5XaN/src/ORCA.jl:8\n"
     ]
    }
   ],
   "source": [
    "include(\"../../src/analogous_bars.jl\")\n",
    "include(\"../../src/Eirene_var.jl\")\n",
    "include(\"../../src/eirene_helper.jl\")\n",
    "using .analogous_bars\n",
    "using .Eirene_var\n",
    "using .eirene_helper\n",
    "using DelimitedFiles\n",
    "using HDF5\n",
    "using Plots\n",
    "using FileIO\n",
    "using Random\n"
   ]
  },
  {
   "cell_type": "code",
   "execution_count": 2,
   "id": "unlikely-mediterranean",
   "metadata": {},
   "outputs": [],
   "source": [
    "using Distributed\n",
    "#addprocs(5);"
   ]
  },
  {
   "cell_type": "code",
   "execution_count": 3,
   "id": "cleared-cleaner",
   "metadata": {},
   "outputs": [
    {
     "data": {
      "text/plain": [
       "1"
      ]
     },
     "execution_count": 3,
     "metadata": {},
     "output_type": "execute_result"
    }
   ],
   "source": [
    "nprocs()"
   ]
  },
  {
   "cell_type": "code",
   "execution_count": 4,
   "id": "fitted-continent",
   "metadata": {},
   "outputs": [],
   "source": [
    "@everywhere include(\"../../../src/analogous_stats.jl\")\n",
    "@everywhere using .analogous_stats"
   ]
  },
  {
   "cell_type": "markdown",
   "id": "tested-implement",
   "metadata": {},
   "source": [
    "## 1. conjunctive & grid cells"
   ]
  },
  {
   "cell_type": "markdown",
   "id": "adjacent-queue",
   "metadata": {},
   "source": [
    "Load dissimilarity matrices"
   ]
  },
  {
   "cell_type": "code",
   "execution_count": 5,
   "id": "cooked-vermont",
   "metadata": {},
   "outputs": [],
   "source": [
    "directory = \"simulated_data/\"\n",
    "\n",
    "n_grid = 200\n",
    "n_conj = 800\n",
    "\n",
    "D_grid = h5read(directory * \"grid_dissimilarity.h5\", \"distance\")\n",
    "D_grid = vector_to_symmetric_matrix(D_grid, n_grid)\n",
    "\n",
    "D_conj = h5read(directory * \"conj_dissimilarity.h5\", \"distance\")\n",
    "D_conj = vector_to_symmetric_matrix(D_conj, n_conj)\n",
    "\n",
    "D_grid_conj = h5read(directory * \"conj_grid_rate_dissimilarity.h5\", \"distance\")\n",
    "D_conj_grid = Array(transpose(D_grid_conj));"
   ]
  },
  {
   "cell_type": "markdown",
   "id": "delayed-anderson",
   "metadata": {},
   "source": [
    "Compute VR persistence"
   ]
  },
  {
   "cell_type": "code",
   "execution_count": 6,
   "id": "complimentary-leeds",
   "metadata": {},
   "outputs": [
    {
     "ename": "LoadError",
     "evalue": "\u001b[91mInterruptException:\u001b[39m",
     "output_type": "error",
     "traceback": [
      "\u001b[91mInterruptException:\u001b[39m",
      "",
      "Stacktrace:",
      " [1] top-level scope at In[6]:1",
      " [2] include_string(::Function, ::Module, ::String, ::String) at ./loading.jl:1091"
     ]
    }
   ],
   "source": [
    "VR_conj = eirene(D_conj, record = \"all\", maxdim = 1)\n",
    "VR_grid = eirene(D_grid, record = \"all\", maxdim = 1);"
   ]
  },
  {
   "cell_type": "markdown",
   "id": "ecological-professor",
   "metadata": {},
   "source": [
    "Load the VR, W persistence diagrams and cutoffs"
   ]
  },
  {
   "cell_type": "code",
   "execution_count": 7,
   "id": "destroyed-board",
   "metadata": {},
   "outputs": [],
   "source": [
    "outputs = load(\"simulated_data/grid_conj_analogous_outputs.jld2\")\n",
    "\n",
    "# load barcodes\n",
    "barcode_conj = outputs[\"barcodes\"][\"VR_conj\"]\n",
    "barcode_grid = outputs[\"barcodes\"][\"VR_grid\"]\n",
    "barcode_W_grid_conj = outputs[\"barcodes\"][\"W_grid_conj\"]\n",
    "\n",
    "# load cutoffs\n",
    "conj_cutoff = outputs[\"persistence_cutoff\"][\"conj_cutoff\"]\n",
    "grid_cutoff = outputs[\"persistence_cutoff\"][\"grid_cutoff\"]\n",
    "W_cutoff = outputs[\"persistence_cutoff\"][\"W_grid_conj_cutoff\"];"
   ]
  },
  {
   "cell_type": "code",
   "execution_count": 8,
   "id": "painted-twins",
   "metadata": {},
   "outputs": [
    {
     "data": {
      "text/plain": [
       "2-element Array{Int64,1}:\n",
       " 58\n",
       " 59"
      ]
     },
     "execution_count": 8,
     "metadata": {},
     "output_type": "execute_result"
    }
   ],
   "source": [
    "selected_conj = findall(x -> x > conj_cutoff, barcode_conj[:,2] - barcode_conj[:,1])\n",
    "selected_grid = findall(x -> x > grid_cutoff, barcode_grid[:,2] - barcode_grid[:,1])"
   ]
  },
  {
   "cell_type": "markdown",
   "id": "timely-colleague",
   "metadata": {},
   "source": [
    "### Compute using distributed computation"
   ]
  },
  {
   "cell_type": "code",
   "execution_count": null,
   "id": "constitutional-timothy",
   "metadata": {},
   "outputs": [],
   "source": [
    "# script to compute from 50 to 100\n",
    "start_idx = collect(101:5:200)\n",
    "for idx in start_idx\n",
    "    shuffles = collect(idx:idx+4) \n",
    "    t = @distributed for k in shuffles\n",
    "        output_filename = \"null_model_stats/grid_conj/\" * string(k)\n",
    "        _, _, _, _, _ = analogous_stats.compute_analogous_bars_null_model(;\n",
    "                                                                    VR_P = VR_grid,\n",
    "                                                                    D_P = D_grid,\n",
    "                                                                    VR_Q = VR_conj,\n",
    "                                                                    D_Q = D_conj,\n",
    "                                                                    P_null_dim = 2,\n",
    "                                                                    Q_null_dim = 3,\n",
    "                                                                    output_filename = output_filename\n",
    "                                                                    )\n",
    "    \n",
    "\n",
    "    end\n",
    "    fetch(t)\n",
    "end"
   ]
  },
  {
   "cell_type": "markdown",
   "id": "useful-radiation",
   "metadata": {},
   "source": [
    "## load null model stats"
   ]
  },
  {
   "cell_type": "code",
   "execution_count": 10,
   "id": "speaking-identification",
   "metadata": {},
   "outputs": [
    {
     "data": {
      "text/plain": [
       "2×3 Array{Float64,2}:\n",
       " 0.0  0.0  0.0\n",
       " 0.0  0.0  0.0"
      ]
     },
     "execution_count": 10,
     "metadata": {},
     "output_type": "execute_result"
    }
   ],
   "source": [
    "n_shuffles = 200\n",
    "output_dir = \"null_model_stats/grid_conj/\"\n",
    "selected_grid = [58, 59]\n",
    "selected_conj = [435, 436, 437]\n",
    "stats_matrix, stats_matrix_total, selected_bar_count, no_Ftau_P_or_Q, valid_files = parse_null_model_stats(output_dir, \n",
    "                                                                         barcode_grid, \n",
    "                                                                         barcode_conj,\n",
    "                                                                         selected_grid,\n",
    "                                                                         selected_conj,\n",
    "                                                                         n_shuffles = n_shuffles)\n",
    "\n",
    "prob_matrix = stats_matrix ./ n_shuffles"
   ]
  },
  {
   "cell_type": "code",
   "execution_count": 13,
   "id": "advanced-water",
   "metadata": {},
   "outputs": [
    {
     "data": {
      "text/plain": [
       "1.0"
      ]
     },
     "execution_count": 13,
     "metadata": {},
     "output_type": "execute_result"
    }
   ],
   "source": [
    "maximum(stats_matrix_total)"
   ]
  },
  {
   "cell_type": "code",
   "execution_count": 23,
   "id": "polished-syria",
   "metadata": {},
   "outputs": [
    {
     "data": {
      "text/plain": [
       "0.005"
      ]
     },
     "execution_count": 23,
     "metadata": {},
     "output_type": "execute_result"
    }
   ],
   "source": [
    "1/200"
   ]
  },
  {
   "cell_type": "code",
   "execution_count": 22,
   "id": "specific-standard",
   "metadata": {},
   "outputs": [
    {
     "data": {
      "text/plain": [
       "0.0058823529411764705"
      ]
     },
     "execution_count": 22,
     "metadata": {},
     "output_type": "execute_result"
    }
   ],
   "source": [
    "1/170"
   ]
  },
  {
   "cell_type": "code",
   "execution_count": 21,
   "id": "individual-schema",
   "metadata": {},
   "outputs": [
    {
     "name": "stdout",
     "output_type": "stream",
     "text": [
      "[48, 50]\n",
      "Dict{Any,Any}(50 => [1],48 => [8, 1])\n",
      "Dict{Any,Any}(50 => nothing,48 => nothing)\n",
      "[44, 45]\n",
      "Dict{Any,Any}(44 => nothing,45 => nothing)\n",
      "Dict{Any,Any}(44 => nothing,45 => nothing)\n",
      "[55, 56]\n",
      "Dict{Any,Any}(55 => nothing,56 => nothing)\n",
      "Dict{Any,Any}(55 => nothing,56 => nothing)\n",
      "[55, 56]\n",
      "Dict{Any,Any}(55 => nothing,56 => nothing)\n",
      "Dict{Any,Any}(55 => nothing,56 => nothing)\n",
      "[44, 46]\n",
      "Dict{Any,Any}(44 => nothing,46 => nothing)\n",
      "Dict{Any,Any}(44 => nothing,46 => nothing)\n",
      "[54, 55]\n",
      "Dict{Any,Any}(54 => nothing,55 => [3])\n",
      "Dict{Any,Any}(54 => nothing,55 => nothing)\n",
      "[49, 51]\n",
      "Dict{Any,Any}(49 => [8],51 => nothing)\n",
      "Dict{Any,Any}(49 => nothing,51 => nothing)\n",
      "[42, 43]\n",
      "Dict{Any,Any}(43 => nothing,42 => nothing)\n",
      "Dict{Any,Any}(43 => nothing,42 => nothing)\n",
      "[44, 47]\n",
      "Dict{Any,Any}(47 => [2],44 => nothing)\n",
      "Dict{Any,Any}(47 => nothing,44 => nothing)\n",
      "[46, 47]\n",
      "Dict{Any,Any}(47 => nothing,46 => nothing)\n",
      "Dict{Any,Any}(47 => nothing,46 => nothing)\n"
     ]
    }
   ],
   "source": [
    "# count the total number of bars from which we ran similarity_centric_analogous_bars\n",
    "output_dir = \"null_model_stats/grid_conj/\"\n",
    "for i = 1:10\n",
    "\n",
    "\n",
    "    # open julia files\n",
    "    analogous_P = load(output_dir * string(i) * \".jld2\")[\"analogous_P\"]\n",
    "    analogous_Q = load(output_dir * string(i) * \".jld2\")[\"analogous_Q\"]\n",
    "    selected = load(output_dir * string(i) * \".jld2\")[\"W_selected\"]\n",
    "\n",
    "    println(selected)\n",
    "    println(analogous_P)\n",
    "    println(analogous_Q)\n",
    "end"
   ]
  },
  {
   "cell_type": "markdown",
   "id": "thrown-cinema",
   "metadata": {},
   "source": [
    "# 2. HD cells & conj cells"
   ]
  },
  {
   "cell_type": "markdown",
   "id": "genuine-senator",
   "metadata": {},
   "source": [
    "Load dissimilarity matrices"
   ]
  },
  {
   "cell_type": "code",
   "execution_count": 14,
   "id": "italic-background",
   "metadata": {},
   "outputs": [],
   "source": [
    "directory = \"simulated_data/\"\n",
    "\n",
    "n_HD = 64\n",
    "n_conj = 800\n",
    "\n",
    "D_HD = h5read(directory * \"HD_dissimilarity.h5\", \"distance\")\n",
    "D_HD = vector_to_symmetric_matrix(D_HD, n_HD)\n",
    "\n",
    "D_conj = h5read(directory * \"conj_dissimilarity.h5\", \"distance\")\n",
    "D_conj = vector_to_symmetric_matrix(D_conj, n_conj)\n",
    "\n",
    "D_HD_conj = h5read(directory * \"conj_HD_rate_dissimilarity.h5\", \"distance\")\n",
    "D_conj_HD = Array(transpose(D_HD_conj));"
   ]
  },
  {
   "cell_type": "markdown",
   "id": "biblical-handbook",
   "metadata": {},
   "source": [
    "Compute VR persistence"
   ]
  },
  {
   "cell_type": "code",
   "execution_count": 13,
   "id": "impressed-homeless",
   "metadata": {},
   "outputs": [],
   "source": [
    "VR_conj = eirene(D_conj, record = \"all\", maxdim = 1)\n",
    "VR_HD = eirene(D_HD, record = \"all\", maxdim = 1);\n"
   ]
  },
  {
   "cell_type": "markdown",
   "id": "every-conservative",
   "metadata": {},
   "source": [
    "Load the VR, W persistence diagrams and cutoffs"
   ]
  },
  {
   "cell_type": "code",
   "execution_count": 15,
   "id": "resistant-joseph",
   "metadata": {},
   "outputs": [],
   "source": [
    "outputs = load(\"simulated_data/HD_conj_analogous_outputs.jld2\")\n",
    "\n",
    "# load barcodes\n",
    "barcode_conj = outputs[\"barcodes\"][\"VR_conj\"]\n",
    "barcode_HD = outputs[\"barcodes\"][\"VR_HD\"]\n",
    "barcode_W_HD_conj = outputs[\"barcodes\"][\"W_HD_conj\"]\n",
    "\n",
    "# load cutoffs\n",
    "conj_cutoff = outputs[\"persistence_cutoff\"][\"conj_cutoff\"]\n",
    "HD_cutoff = outputs[\"persistence_cutoff\"][\"HD_cutoff\"]\n",
    "W_cutoff = outputs[\"persistence_cutoff\"][\"W_HD_conj_cutoff\"]\n",
    "\n",
    "# selected bars\n",
    "selected_conj = findall(x -> x > conj_cutoff, barcode_conj[:,2] - barcode_conj[:,1])\n",
    "selected_HD = findall(x -> x > HD_cutoff, barcode_HD[:,2] - barcode_HD[:,1]);"
   ]
  },
  {
   "cell_type": "code",
   "execution_count": null,
   "id": "rubber-philosophy",
   "metadata": {},
   "outputs": [],
   "source": [
    "# script to compute from 50 to 100\n",
    "start_idx = collect(11:5:100)\n",
    "for idx in start_idx\n",
    "    shuffles = collect(idx:idx+4) \n",
    "    t = @distributed for k in shuffles\n",
    "        output_filename = \"null_model_stats/HD_conj/\" * string(k)\n",
    "        _, _, _, _, _ = analogous_stats.compute_analogous_bars_null_model(;\n",
    "                                                                    VR_P = VR_HD,\n",
    "                                                                    D_P = D_HD,\n",
    "                                                                    VR_Q = VR_conj,\n",
    "                                                                    D_Q = D_conj,\n",
    "                                                                    P_null_dim = 1,\n",
    "                                                                    Q_null_dim = 3,\n",
    "                                                                    output_filename = output_filename\n",
    "                                                                    )\n",
    "    end\n",
    "    fetch(t)\n",
    "end"
   ]
  },
  {
   "cell_type": "markdown",
   "id": "formal-castle",
   "metadata": {},
   "source": [
    "## Load null model stats"
   ]
  },
  {
   "cell_type": "code",
   "execution_count": 19,
   "id": "significant-superintendent",
   "metadata": {},
   "outputs": [
    {
     "data": {
      "text/plain": [
       "1×3 Array{Float64,2}:\n",
       " 0.0  0.0  0.0"
      ]
     },
     "execution_count": 19,
     "metadata": {},
     "output_type": "execute_result"
    }
   ],
   "source": [
    "n_shuffles = 100\n",
    "output_dir = \"null_model_stats/HD_conj/\"\n",
    "\n",
    "stats_matrix, stats_matrix_total, selected_bar_count, no_Ftau_P_or_Q, valid_files = parse_null_model_stats(output_dir, \n",
    "                                                                         barcode_HD, \n",
    "                                                                         barcode_conj,\n",
    "                                                                         selected_HD,\n",
    "                                                                         selected_conj,\n",
    "                                                                         n_shuffles = n_shuffles)\n",
    "\n",
    "prob_matrix = stats_matrix ./ n_shuffles"
   ]
  },
  {
   "cell_type": "code",
   "execution_count": 21,
   "id": "impaired-literacy",
   "metadata": {},
   "outputs": [
    {
     "data": {
      "text/plain": [
       "0.0"
      ]
     },
     "execution_count": 21,
     "metadata": {},
     "output_type": "execute_result"
    }
   ],
   "source": [
    "maximum(stats_matrix_total)"
   ]
  },
  {
   "cell_type": "code",
   "execution_count": 19,
   "id": "vulnerable-field",
   "metadata": {},
   "outputs": [
    {
     "data": {
      "text/plain": [
       "1×3 Array{Float64,2}:\n",
       " 0.0  0.0  0.0"
      ]
     },
     "execution_count": 19,
     "metadata": {},
     "output_type": "execute_result"
    }
   ],
   "source": [
    "prob_matrix"
   ]
  },
  {
   "cell_type": "code",
   "execution_count": 24,
   "id": "exceptional-novel",
   "metadata": {},
   "outputs": [
    {
     "data": {
      "text/plain": [
       "0.005"
      ]
     },
     "execution_count": 24,
     "metadata": {},
     "output_type": "execute_result"
    }
   ],
   "source": [
    "1/200"
   ]
  },
  {
   "cell_type": "code",
   "execution_count": null,
   "id": "scientific-suspect",
   "metadata": {},
   "outputs": [],
   "source": []
  }
 ],
 "metadata": {
  "kernelspec": {
   "display_name": "Julia 1.5.3",
   "language": "julia",
   "name": "julia-1.5"
  },
  "language_info": {
   "file_extension": ".jl",
   "mimetype": "application/julia",
   "name": "julia",
   "version": "1.5.3"
  }
 },
 "nbformat": 4,
 "nbformat_minor": 5
}
