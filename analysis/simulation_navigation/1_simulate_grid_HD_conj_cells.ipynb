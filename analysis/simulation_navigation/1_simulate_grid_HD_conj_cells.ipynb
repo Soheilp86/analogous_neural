{
 "cells": [
  {
   "cell_type": "markdown",
   "metadata": {},
   "source": [
    "# Simulated grid cells, head-direction cells, and conjunctive cells.\n",
    "* We use simulated grid cells from \"Toroidal topology of population activity in grid cells\" (Gardner et al, 2022). The specific simulation model is based on \"Recurrent inhibitory circuitry as a mechanism for grid formulation\" (Couey et al, 2013).\n",
    "* We simulated head-direction cells using tuning curves.\n",
    "* The firing rates of conjunctive cells were computed as the minimum of the firing rates of a grid cell and a head-direction cell.\n",
    "* Please use `environment.yml` file to create a conda environment. The use of `numba` library in `utils.py` requires specific versions of packages. "
   ]
  },
  {
   "cell_type": "code",
   "execution_count": null,
   "metadata": {},
   "outputs": [],
   "source": [
    "import sys\n",
    "\n",
    "sys.path.append(\"../../src/\")\n",
    "\n",
    "from utils import * # This code is from Gardner et al, 2022\n",
    "from simulations import *\n",
    "import random\n",
    "\n",
    "import matplotlib.pyplot as plt\n",
    "plt.style.use('ggplot')\n",
    "%matplotlib inline\n",
    "\n",
    "import matplotlib\n",
    "import matplotlib.pyplot as plt\n",
    "import matplotlib.animation as animation\n",
    "import os\n",
    "from scipy import *\n",
    "import scipy.io\n",
    "from julia.api import Julia\n",
    "from simulations import *"
   ]
  },
  {
   "cell_type": "code",
   "execution_count": 3,
   "metadata": {},
   "outputs": [],
   "source": [
    "def add_unreliable_intervals_default(rates, p, baseline, reliability_interval = 10):\n",
    "    \"\"\"\n",
    "    For each neuron, add unreliable intervals at which the neurons just fire at baseline. \n",
    "    For each unit of \"reliability_interval\", sample from a Bernoulli distribution to decide whether the neuron's firing rate\n",
    "    should be decreased to baseline\n",
    "    \n",
    "    --- input ---\n",
    "    rates: (array) of neuron firing rates predicted by the neural network. \n",
    "        Has shape (n_timebins, n_neurons)\n",
    "    p: (float) probability \"p\" of the Bernoulli distribution\n",
    "    baseline: (float) baseline firing rate\n",
    "    reliability_interval: (int) units (in seconds) for unreliability of neurons \n",
    "    \n",
    "    --- output ---\n",
    "    adjusted_rates: (array) of neuron firing rates in which specific intervals are adjusted to have baseline firing rates \n",
    "    \"\"\"\n",
    "    \n",
    "    n_neurons = rates.shape[1]\n",
    "    n_frames = rates.shape[0]\n",
    "    adjusted_rates = rates.copy()\n",
    "    \n",
    "    # check that the `reliability_interval` divides the number of timebins \n",
    "    if n_frames % reliability_interval != 0:\n",
    "        print(\"argument `reliability_interval` should divide the number of frames.\")\n",
    "        return None\n",
    "    else:\n",
    "        m = int(n_frames / reliability_interval)\n",
    "        for i in range(n_neurons):\n",
    "            binomial = np.random.binomial(1, p, m)\n",
    "            binomial = np.repeat(binomial, reliability_interval, axis = 0)\n",
    "\n",
    "            for f in range(n_frames):\n",
    "                if binomial[f] == 0:\n",
    "                    adjusted_rates[f,i] = baseline\n",
    "        return adjusted_rates\n",
    "    "
   ]
  },
  {
   "cell_type": "markdown",
   "metadata": {},
   "source": [
    "# 1. Run Couey simulation\n",
    "* The code for simulating grid cells comes from \"Toroidal topology of population activity in grid cells\" (Gardner et al, 2022).\n",
    "* It simulates the firing rates of 2464 grid cells. \n",
    "* For computational efficiency, we randomly select 200 cells for the pure grid cells. "
   ]
  },
  {
   "cell_type": "code",
   "execution_count": null,
   "metadata": {},
   "outputs": [],
   "source": [
    "#### Couey\n",
    "xx,yy,__,__ = load_pos('R','OF','day1',bSpeed = False)\n",
    "\n",
    "dxx =  xx[:100000]#gaussian_filter1d(xx,10)\n",
    "dyy =  yy[:100000]#gaussian_filter1d(yy,10)\n",
    "speeds = np.zeros(len(dxx))\n",
    "speeds[1:] =np.sqrt(np.square(dxx[1:]-dxx[:-1]) + np.square(dyy[1:]-dyy[:-1]))*1000\n",
    "speeds[0] = speeds[1]\n",
    "angs = np.zeros(len(dxx))\n",
    "angs[1:] = np.arctan2(dyy[1:]-dyy[:-1],dxx[1:]-dxx[:-1])\n",
    "angs[0] = angs[1]\n",
    "posx = xx[np.arange(0,180000,2)]\n",
    "posy = yy[np.arange(0,180000,2)]\n",
    "post = np.arange(0,180000,2)/100\n",
    "\n",
    "#xx,yy = xx[np.arange(0,15000,10)],yy[np.arange(0,15000,10)]\n",
    "dxx =  xx[:100000]#gaussian_filter1d(xx,10)\n",
    "dyy =  yy[:100000]#gaussian_filter1d(yy,10)\n",
    "#dxx,dyy = dxx[np.arange(0,50000,1)],dyy[np.arange(0,50000,1)]\n",
    "#num_steps = len(dxx)\n",
    "speeds = np.zeros(len(dxx))\n",
    "speeds[1:] =np.sqrt(np.square(dxx[1:]-dxx[:-1]) + np.square(dyy[1:]-dyy[:-1]))*1000\n",
    "speeds[0] = speeds[1]\n",
    "angs = np.zeros(len(dxx))\n",
    "angs[1:] = np.arctan2(dyy[1:]-dyy[:-1],dxx[1:]-dxx[:-1])\n",
    "angs[0] = angs[1]\n",
    "posx = xx[np.arange(0,180000,2)]\n",
    "posy = yy[np.arange(0,180000,2)]\n",
    "post = np.arange(0,180000,2)/100\n",
    "\n",
    "post = post[np.isfinite(posx)]\n",
    "posy = posy[np.isfinite(posx)]\n",
    "posx = posx[np.isfinite(posx)]\n",
    "post = post[np.isfinite(posy)]\n",
    "posx = posx[np.isfinite(posy)]\n",
    "posy = posy[np.isfinite(posy)]\n",
    "post *= 1000\n",
    "\n",
    "side = max(max(posx)-min(posx), max(posy)-min(posy))\n",
    "posx *= 1./side\n",
    "posy *= 1./side\n",
    "posx -= min(posx)\n",
    "posy -= min(posy)\n",
    "\n",
    "tnew = np.arange(0, 599000, 1)\n",
    "posx = np.interp(tnew, post, posx)\n",
    "posy = np.interp(tnew, post, posy)\n",
    "post = tnew\n",
    "\n",
    "#Get angles and velocities\n",
    "angs = np.zeros(len(post))\n",
    "angs[:-1] = np.arctan2(posy[1:]-posy[:-1], posx[1:]-posx[:-1])\n",
    "angs[-1] = angs[-2]\n",
    "speeds = 1000.*np.sqrt((posx[1:]-posx[:-1])**2+(posy[1:]-posy[:-1])**2)\n",
    "nums = len(speeds)\n",
    "import matplotlib\n",
    "import matplotlib.pyplot as plt\n",
    "import matplotlib.animation as animation\n",
    "import os\n",
    "from scipy import *\n",
    "import scipy.io\n",
    "\n",
    "numbumps = 4 \n",
    "# parameters of the model\n",
    "extinp = 1.\n",
    "alpha = 0.15\n",
    "ell = 2.\n",
    "inh = -0.02\n",
    "R  = 15.\n",
    "Nx = 28\n",
    "Ny = 44\n",
    "\n",
    "if(numbumps==4):\n",
    "    Nx*=2\n",
    "if(numbumps==8):\n",
    "    Nx*=2\n",
    "    Ny*=2\n",
    "NG=Nx*Ny \n",
    "\n",
    "### MAKE CONNECTIVITY WITH AN OFFSET RELATIVE TO PREFERRED DIRECTION\n",
    "theta = zeros([Nx,Ny])\n",
    "theta[0:Nx:2,0:Ny:2] = 0\n",
    "theta[1:Nx:2,0:Ny:2] = 1\n",
    "theta[0:Nx:2,1:Ny:2] = 2\n",
    "theta[1:Nx:2,1:Ny:2] = 3\n",
    "theta = 0.5*pi*theta\n",
    "theta = ravel(theta)\n",
    "xes = zeros([Nx,Ny])\n",
    "yes = zeros([Nx,Ny])\n",
    "for x in range(Nx):\n",
    "    for y in range(Ny):\n",
    "        xes[x,y] = x\n",
    "        yes[x,y] = y\n",
    "xes = ravel(xes)\n",
    "yes = ravel(yes)\n",
    "Rsqrd = R**2\n",
    "W = zeros([NG,NG])\n",
    "for xi in range(Nx):\n",
    "    xdiffA = abs(xes-xi-ell*cos(theta))\n",
    "    xdiffB = Nx-xdiffA\n",
    "    xdiffA = xdiffA**2\n",
    "    xdiffB = xdiffB**2\n",
    "    for y in range(Ny):\n",
    "        n = xi*Ny+y\n",
    "        ydiffA = abs(yes-y-ell*sin(theta))\n",
    "        ydiffB = Ny-ydiffA\n",
    "        ydiffA = ydiffA**2\n",
    "        ydiffB = ydiffB**2\n",
    "        d = xdiffA+ydiffA\n",
    "        W[d<Rsqrd,n] += inh\n",
    "        d = xdiffB+ydiffA\n",
    "        W[d<Rsqrd,n] += inh\n",
    "        d = xdiffA+ydiffB\n",
    "        W[d<Rsqrd,n] += inh\n",
    "        d = xdiffB+ydiffB\n",
    "        W[d<Rsqrd,n] += inh\n",
    "xes=0\n",
    "yes=0\n",
    "N = NG\n",
    "\n",
    "S = (rand(Nx*Ny) > 0.1)*1.0\n",
    "for t in range(2000):\n",
    "    S = S + 0.1*(-S + maximum((extinp+np.matmul(S,W)),0.))\n",
    "    S[S<0.00001] = 0.\n",
    "\n",
    "maxS = max(np.ravel(S))\n",
    "minx = min([min(posy),min(posx)])\n",
    "maxx = max([max(posy),max(posx)])\n",
    "whichn = np.arange(len(S))#random.sample(np.arange(len(S)), 100)\n",
    "nodes1 = np.zeros([len(whichn), nums])\n",
    "\n",
    "fig = plt.figure(13)\n",
    "plt.plot([],[],'-')\n",
    "#print animation.writers.avail\n",
    "\n",
    "for t in range(0, nums):\n",
    "    S = S + 0.1*(-S + np.maximum((extinp+np.matmul(S,W)+alpha*speeds[t]*np.cos(angs[t]-theta)),0.))\n",
    "    if(np.mod(t,10)==0):\n",
    "        S[S<0.0001] = 0.\n",
    "    nodes1[:,t] = S#[]#>0.3*maxS ##some fake spikes\n",
    "    if(np.mod(t,5000)==0 and t>2):\n",
    "        print('%2.2f percent done'%(float(t)*100/float(nums)))\n",
    "from scipy.stats import binned_statistic_2d, pearsonr\n",
    "num_neurons = len(nodes1[:,0])\n",
    "inds = np.arange(num_neurons)\n",
    "np.random.shuffle(inds)\n",
    "for i in inds[:5]:\n",
    "    mtot, x_edge, y_edge, circ = binned_statistic_2d(posx[:t],posy[:t], nodes1[i,:t], \n",
    "        statistic='mean', bins=50, range=None, expand_binnumbers=True)\n",
    "    plt.figure()\n",
    "    plt.imshow(mtot)"
   ]
  },
  {
   "cell_type": "markdown",
   "metadata": {},
   "source": [
    "# 2. Get firing rates of grid cells"
   ]
  },
  {
   "cell_type": "code",
   "execution_count": 6,
   "metadata": {},
   "outputs": [],
   "source": [
    "\n",
    "#time_cutoff = nodes1.shape[1]\n",
    "time_cutoff = 100000 # limiting to the first 100,000 timebins\n",
    "simulated_raster = nodes1[:, :time_cutoff]"
   ]
  },
  {
   "cell_type": "markdown",
   "metadata": {},
   "source": [
    "Select pure grid cells"
   ]
  },
  {
   "cell_type": "code",
   "execution_count": 10,
   "metadata": {},
   "outputs": [],
   "source": [
    "n_grid = 200\n",
    "n_cells = nodes1.shape[0]\n",
    "\n",
    "# select random pure grid cells\n",
    "idx_range = list(range(n_cells))\n",
    "# shuffle the indices\n",
    "random.shuffle(idx_range)\n",
    "grid_idx = idx_range[:n_grid]\n",
    "\n",
    "grid_rates = simulated_raster[grid_idx, : ]"
   ]
  },
  {
   "cell_type": "code",
   "execution_count": 12,
   "metadata": {},
   "outputs": [],
   "source": [
    "# save grid cell rate\n",
    "hf = h5py.File('simulated_data/grid_rate.h5', 'w')\n",
    "hf.create_dataset('raster', data = grid_rates)\n",
    "hf.close()"
   ]
  },
  {
   "cell_type": "code",
   "execution_count": 6,
   "metadata": {},
   "outputs": [
    {
     "name": "stdout",
     "output_type": "stream",
     "text": [
      "Shape of grid rate matrix:\n",
      "(200, 100000)\n"
     ]
    }
   ],
   "source": [
    "# print size of grid cell rate matrix\n",
    "f = h5py.File('simulated_data/grid_rate.h5','r')\n",
    "grid_rate = f[\"raster\"][()]\n",
    "f.close()\n",
    "\n",
    "print(\"Shape of grid rate matrix:\")\n",
    "print(grid_rate.shape)"
   ]
  },
  {
   "cell_type": "markdown",
   "metadata": {},
   "source": [
    "Compute dissimilarity matrix among grid cells"
   ]
  },
  {
   "cell_type": "code",
   "execution_count": 14,
   "metadata": {},
   "outputs": [
    {
     "name": "stdout",
     "output_type": "stream",
     "text": [
      "Computation time for 200 neurons: 693.58\n"
     ]
    }
   ],
   "source": [
    "# compute dissimilarity matrix among grid cells\n",
    "!python3 ../../src/compute_similarity_multiprocessing.py simulated_data/grid_rate.h5 100 simulated_data/grid_dissimilarity.h5\n"
   ]
  },
  {
   "cell_type": "markdown",
   "metadata": {},
   "source": [
    "# 3. Simulate head direction cells\n",
    "* Use the head direction angle from the experiments to generate simulated head-direction cells."
   ]
  },
  {
   "cell_type": "markdown",
   "metadata": {},
   "source": [
    "Adjust head direction angle range from $(- \\pi, \\pi)$ to $(0, 2 \\pi)$."
   ]
  },
  {
   "cell_type": "code",
   "execution_count": 11,
   "metadata": {},
   "outputs": [],
   "source": [
    "angs_adjust = angs + math.pi\n",
    "angs_adjust = angs_adjust[:time_cutoff]"
   ]
  },
  {
   "cell_type": "markdown",
   "metadata": {},
   "source": [
    "Specify tuning curve"
   ]
  },
  {
   "cell_type": "code",
   "execution_count": 12,
   "metadata": {},
   "outputs": [
    {
     "data": {
      "image/png": "[encoded data removed]",
      "text/plain": [
       "<Figure size 360x216 with 1 Axes>"
      ]
     },
     "metadata": {
      "needs_background": "light"
     },
     "output_type": "display_data"
    }
   ],
   "source": [
    "# specify tuning curve\n",
    "%matplotlib inline\n",
    "theta_preferred = math.pi\n",
    "R_preferred = 2\n",
    "C = 0.25\n",
    "sigma = 1\n",
    "\n",
    "# example orientation-tuning with pi/2 as the preferred orientation\n",
    "x = np.linspace(0, 2* math.pi, 100)\n",
    "tc = [tuning_curve(theta_preferred, C, R_preferred, sigma, t, size = 2 * math.pi) for t in x]\n",
    "\n",
    "fig, ax = plt.subplots(figsize = (5,3))\n",
    "ax.plot(x, tc)\n",
    "\n",
    "ax.set_title(\"tuning curve\")\n",
    "ax.set_ylabel(\"rate (Hz)\")\n",
    "ax.set_xlabel(\"angular distance\")\n",
    "ax.set_ylim((0, 2.5))\n",
    "plt.show()"
   ]
  },
  {
   "cell_type": "code",
   "execution_count": 13,
   "metadata": {},
   "outputs": [],
   "source": [
    "# generate head-directions\n",
    "n_neurons = 200\n",
    "\n",
    "# orientations\n",
    "neurons_HD = np.random.uniform(low=0, high=2 * math.pi, size=n_neurons)\n",
    "\n",
    "# R_preferred\n",
    "R_preferred = [2 * 0.2] * n_neurons\n",
    "\n",
    "# sigma\n",
    "sigma = [0.4] * n_neurons\n",
    "\n",
    "# baseline rate\n",
    "C = [0] * n_neurons\n"
   ]
  },
  {
   "cell_type": "code",
   "execution_count": 14,
   "metadata": {},
   "outputs": [],
   "source": [
    "# get orientation-sensitive neurons firing rate for training data\n",
    "rates_HD = compute_firing_rates(angs_adjust, neurons_HD, C, R_preferred, sigma, size = 2 * math.pi)"
   ]
  },
  {
   "cell_type": "code",
   "execution_count": 29,
   "metadata": {},
   "outputs": [],
   "source": [
    "# add unreliable intervals\n",
    "rates_HD = add_unreliable_intervals_default(rates_HD[0:99900,:], 0.5, 0, 100) # we ussed 99900 because there are 100000 timebins"
   ]
  },
  {
   "cell_type": "code",
   "execution_count": 31,
   "metadata": {},
   "outputs": [],
   "source": [
    "# save HD rate\n",
    "hf = h5py.File('simulated_data/HD_rate.h5', 'w')\n",
    "hf.create_dataset('raster', data = rates_HD.T)\n",
    "hf.close()"
   ]
  },
  {
   "cell_type": "markdown",
   "metadata": {},
   "source": [
    "Compute dissimilarity matrix among HD firing rates"
   ]
  },
  {
   "cell_type": "code",
   "execution_count": 32,
   "metadata": {},
   "outputs": [
    {
     "name": "stdout",
     "output_type": "stream",
     "text": [
      "Computation time for 200 neurons: 705.69\n"
     ]
    }
   ],
   "source": [
    "# compute distance matrix\n",
    "!python3 ../../src/compute_similarity_multiprocessing.py simulated_data/HD_rate.h5 100 simulated_data/HD_dissimilarity.h5"
   ]
  },
  {
   "cell_type": "markdown",
   "metadata": {},
   "source": [
    "# 4. Simulate conjunctive cells\n",
    "* take random samples of grid cells (distinct from the pure grid cells)\n",
    "* for each selected grid cell, choose a random preferred direction for HD cells\n",
    "* take a conjunction of the grid cell and the HD cell firing rates \n"
   ]
  },
  {
   "cell_type": "code",
   "execution_count": 18,
   "metadata": {},
   "outputs": [],
   "source": [
    "# specify number of conjunctive cells \n",
    "n_conj = 10\n",
    "\n",
    "conj_idx = idx_range[n_grid:n_grid + n_conj]\n",
    "conj_grid = simulated_raster[conj_idx, :]"
   ]
  },
  {
   "cell_type": "code",
   "execution_count": 19,
   "metadata": {},
   "outputs": [],
   "source": [
    "# make the \"rates\" of orientation-sensitive neurons comparable\n",
    "# for each conjunctive cell (conj_idx), assign a randomly selected orientation\n",
    "# generate head-directions\n",
    "\n",
    "# orientations\n",
    "conj_HD = np.random.uniform(low=0, high=2 * math.pi, size = n_conj)\n",
    "\n",
    "# R_preferred\n",
    "R_preferred = [2 * 0.2] * n_conj\n",
    "\n",
    "# sigma\n",
    "sigma = [0.4] * n_conj\n",
    "\n",
    "# baseline rate\n",
    "C = [0] * n_conj\n"
   ]
  },
  {
   "cell_type": "code",
   "execution_count": 20,
   "metadata": {},
   "outputs": [],
   "source": [
    "# get orientation-sensitive neurons firing rate for training data\n",
    "rates_conj_HD = compute_firing_rates(angs_adjust, conj_HD, C, R_preferred, sigma, size = 2 * math.pi)"
   ]
  },
  {
   "cell_type": "code",
   "execution_count": 36,
   "metadata": {},
   "outputs": [
    {
     "data": {
      "image/png": "[encoded data removed]",
      "text/plain": [
       "<Figure size 720x288 with 2 Axes>"
      ]
     },
     "metadata": {
      "needs_background": "light"
     },
     "output_type": "display_data"
    }
   ],
   "source": [
    "fig, ax = plt.subplots(ncols = 2, figsize = (10, 4))\n",
    "ax[0].hist(rates_conj_HD.ravel())\n",
    "ax[0].set_title(\"rates of HD cells\")\n",
    "ax[1].hist(conj_grid.ravel())\n",
    "ax[1].set_title(\"rates of grid cells\")\n",
    "plt.show()"
   ]
  },
  {
   "cell_type": "code",
   "execution_count": 21,
   "metadata": {},
   "outputs": [
    {
     "name": "stderr",
     "output_type": "stream",
     "text": [
      "/Users/irisyoon/opt/anaconda3/envs/GridCellTorus/lib/python3.6/site-packages/ipykernel_launcher.py:1: DeprecationWarning: scipy.minimum is deprecated and will be removed in SciPy 2.0.0, use numpy.minimum instead\n",
      "  \"\"\"Entry point for launching an IPython kernel.\n"
     ]
    }
   ],
   "source": [
    "conj_cells = minimum(conj_grid, rates_conj_HD.T)"
   ]
  },
  {
   "cell_type": "code",
   "execution_count": 39,
   "metadata": {},
   "outputs": [
    {
     "data": {
      "image/png": "[encoded data removed]",
      "text/plain": [
       "<Figure size 432x288 with 3 Axes>"
      ]
     },
     "metadata": {
      "needs_background": "light"
     },
     "output_type": "display_data"
    }
   ],
   "source": [
    "idx = 0\n",
    "start = 90000\n",
    "end = start + 5000\n",
    "fig, ax = plt.subplots(nrows = 3)\n",
    "ax[0].plot(rates_conj_HD.T[idx,start:end])\n",
    "ax[1].plot(conj_grid[idx, start:end])\n",
    "ax[2].plot(conj_cells[idx, start:end])\n",
    "plt.show()"
   ]
  },
  {
   "cell_type": "code",
   "execution_count": 40,
   "metadata": {},
   "outputs": [],
   "source": [
    "\n",
    "# save conjunctive cell rates\n",
    "hf = h5py.File('figures/example_HD_grid_conj_rates.h5', 'w')\n",
    "hf.create_dataset('grid_rates', data = conj_grid)\n",
    "hf.create_dataset('HD_rates', data = rates_conj_HD.T)\n",
    "hf.create_dataset('conj_rates', data = conj_cells)\n",
    "hf.close()\n"
   ]
  },
  {
   "cell_type": "markdown",
   "metadata": {},
   "source": [
    "Save rasters\n",
    "* make sure that the rows correspond to cells"
   ]
  },
  {
   "cell_type": "code",
   "execution_count": 43,
   "metadata": {},
   "outputs": [],
   "source": [
    "# check conj_cells shape\n",
    "conj_cells = conj_cells[:,:100000] "
   ]
  },
  {
   "cell_type": "code",
   "execution_count": 45,
   "metadata": {},
   "outputs": [],
   "source": [
    "\n",
    "# save conjunctive cell rates\n",
    "hf = h5py.File('simulated_data/conj_rate.h5', 'w')\n",
    "hf.create_dataset('raster', data = conj_cells)\n",
    "hf.close()\n"
   ]
  },
  {
   "cell_type": "markdown",
   "metadata": {},
   "source": [
    "# 5. Compute cross-system dissimilarity matrices\n"
   ]
  },
  {
   "cell_type": "code",
   "execution_count": 46,
   "metadata": {},
   "outputs": [
    {
     "name": "stdout",
     "output_type": "stream",
     "text": [
      "Computation time for 800 neurons: 11576.25\n"
     ]
    }
   ],
   "source": [
    "# dissimilarity among conjunctive cells\n",
    "!python3 ../../src/compute_similarity_multiprocessing.py simulated_data/conj_rate.h5 100 simulated_data/conj_dissimilarity.h5"
   ]
  },
  {
   "cell_type": "code",
   "execution_count": null,
   "metadata": {},
   "outputs": [
    {
     "name": "stdout",
     "output_type": "stream",
     "text": [
      "*** This script computes the cross-similarity matrix between two rasters *** \n"
     ]
    }
   ],
   "source": [
    "# dissimilarity between conjunctive cells and HD cells\n",
    "!python3 ../../src/cross_similarity_multiprocessing.py simulated_data/conj_rate.h5 simulated_data/HD_rate.h5 100 simulated_data/conj_HD_rate_dissimilarity.h5"
   ]
  },
  {
   "cell_type": "code",
   "execution_count": 25,
   "metadata": {},
   "outputs": [
    {
     "name": "stdout",
     "output_type": "stream",
     "text": [
      "/bin/bash: -c: line 0: unexpected EOF while looking for matching ``'\n",
      "/bin/bash: -c: line 1: syntax error: unexpected end of file\n"
     ]
    }
   ],
   "source": [
    "# dissimilarity between conjunctive cells and grid cells \n",
    "!python3 ../../src/cross_similarity_multiprocessing.py simulated_data/conj_rate.h5 simulated_data/grid_rate.h5 100 simulated_data/conj_grid_rate_dissimilarity.h5"
   ]
  }
 ],
 "metadata": {
  "kernelspec": {
   "display_name": "Python 3",
   "language": "python",
   "name": "python3"
  },
  "language_info": {
   "codemirror_mode": {
    "name": "ipython",
    "version": 3
   },
   "file_extension": ".py",
   "mimetype": "text/x-python",
   "name": "python",
   "nbconvert_exporter": "python",
   "pygments_lexer": "ipython3",
   "version": "3.6.8"
  }
 },
 "nbformat": 4,
 "nbformat_minor": 4
}
