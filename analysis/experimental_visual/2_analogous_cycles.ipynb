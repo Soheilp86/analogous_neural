{
 "cells": [
  {
   "cell_type": "markdown",
   "id": "australian-spell",
   "metadata": {},
   "source": [
    "# Analogous cycles\n",
    "* This notebook implements the analogous cycles method on the experimentla visual data"
   ]
  },
  {
   "cell_type": "code",
   "execution_count": null,
   "id": "bc8404c4",
   "metadata": {},
   "outputs": [],
   "source": [
    "using Pkg\n",
    "Pkg.activate(\"../../env/.\")"
   ]
  },
  {
   "cell_type": "code",
   "execution_count": 1,
   "id": "unique-equivalent",
   "metadata": {
    "scrolled": true
   },
   "outputs": [
    {
     "data": {
      "application/vnd.webio.node+json": {
       "children": [],
       "instanceArgs": {
        "namespace": "html",
        "tag": "div"
       },
       "nodeType": "DOM",
       "props": {},
       "type": "node"
      },
      "text/html": [
       "<div style=\"padding: 1em; background-color: #f8d6da; border: 1px solid #f5c6cb; font-weight: bold;\">\n",
       "<p>The WebIO Jupyter extension was not detected. See the\n",
       "<a href=\"https://juliagizmos.github.io/WebIO.jl/latest/providers/ijulia/\" target=\"_blank\">\n",
       "    WebIO Jupyter integration documentation\n",
       "</a>\n",
       "for more information.\n",
       "</div>\n"
      ],
      "text/plain": [
       "WebIO._IJuliaInit()"
      ]
     },
     "metadata": {},
     "output_type": "display_data"
    },
    {
     "name": "stderr",
     "output_type": "stream",
     "text": [
      "WARNING: could not import HDF5.Group into _hdf5_implementation\n",
      "WARNING: could not import HDF5.Dataset into _hdf5_implementation\n",
      "┌ Warning: Error requiring `HDF5` from `Plots`\n",
      "│   exception = (LoadError(\"/Users/irisyoon/.julia/packages/Plots/5S9Hg/src/backends/hdf5.jl\", 36, UndefVarError(:Group)), Union{Ptr{Nothing}, Base.InterpreterIP}[Ptr{Nothing} @0x000000010a00c2cf, Ptr{Nothing} @0x000000010a0a1206, Ptr{Nothing} @0x000000010a0a223b, Ptr{Nothing} @0x000000010a0a0b94, Ptr{Nothing} @0x000000010a0a0f0c, Base.InterpreterIP in top-level CodeInfo for Plots._hdf5_implementation at statement 4, Ptr{Nothing} @0x000000010a0bb844, Ptr{Nothing} @0x000000010a0baf65, Ptr{Nothing} @0x000000010a0bb604, Ptr{Nothing} @0x000000010a0bb604, Ptr{Nothing} @0x000000010a0bc134, Ptr{Nothing} @0x000000011f02d4e7, Ptr{Nothing} @0x000000010a08afbf, Ptr{Nothing} @0x000000011f07e312, Ptr{Nothing} @0x000000011ecb4a65, Ptr{Nothing} @0x000000010a08afbf, Ptr{Nothing} @0x000000010a097839, Ptr{Nothing} @0x000000010b66382e, Ptr{Nothing} @0x000000010a08afbf, Ptr{Nothing} @0x000000010a0a225f, Ptr{Nothing} @0x000000010a0a0b94, Ptr{Nothing} @0x000000010a0a0f0c, Base.InterpreterIP in top-level CodeInfo for Plots at statement 10, Ptr{Nothing} @0x000000010a0bb844, Ptr{Nothing} @0x000000010a0bc134, Ptr{Nothing} @0x000000010b663756, Ptr{Nothing} @0x000000010b66378d, Ptr{Nothing} @0x000000010a08afbf, Ptr{Nothing} @0x000000010a0a225f, Ptr{Nothing} @0x000000010a0a0913, Ptr{Nothing} @0x000000010a0a0dbe, Ptr{Nothing} @0x000000010a0a062c, Base.InterpreterIP in MethodInstance for err(::Any, ::Module, ::String, ::String, ::Any) at statement 8, Ptr{Nothing} @0x000000010b663685, Ptr{Nothing} @0x000000010b6636ad, Ptr{Nothing} @0x000000010a08afbf, Ptr{Nothing} @0x000000010a0a225f, Ptr{Nothing} @0x000000010a0a0913, Ptr{Nothing} @0x000000010a0a0dbe, Ptr{Nothing} @0x000000010a0a062c, Base.InterpreterIP in MethodInstance for withpath(::Any, ::String) at statement 10, Ptr{Nothing} @0x000000010b663502, Ptr{Nothing} @0x000000010b6635cd, Ptr{Nothing} @0x000000010a08afbf, Ptr{Nothing} @0x000000010a0a225f, Ptr{Nothing} @0x000000010a0a0b94, Ptr{Nothing} @0x000000010a0a062c, Base.InterpreterIP in MethodInstance for listenpkg(::Any, ::Base.PkgId) at statement 3, Ptr{Nothing} @0x000000010b65630c, Ptr{Nothing} @0x000000010b65732d, Ptr{Nothing} @0x000000010a08afbf, Ptr{Nothing} @0x000000010a0b9ae3, Ptr{Nothing} @0x000000010a0ab697, Ptr{Nothing} @0x000000010b617fdb, Ptr{Nothing} @0x000000010b619352, Ptr{Nothing} @0x000000010b61ba9e, Ptr{Nothing} @0x000000010b61e1ea, Ptr{Nothing} @0x000000010b6300a3, Ptr{Nothing} @0x000000010a08afbf, Ptr{Nothing} @0x000000010a0bbf0c, Ptr{Nothing} @0x000000010a0bacd3, Ptr{Nothing} @0x000000010a0baf65, Ptr{Nothing} @0x000000010a0bb604, Ptr{Nothing} @0x000000010a0bb604, Ptr{Nothing} @0x000000010a0bc134, Ptr{Nothing} @0x000000011f02d4e7, Ptr{Nothing} @0x000000010a08afbf, Ptr{Nothing} @0x000000011f07e312, Ptr{Nothing} @0x000000010b5e1d4e, Ptr{Nothing} @0x000000010a08afbf, Ptr{Nothing} @0x000000010a0a225f, Ptr{Nothing} @0x000000010a0a0b94, Ptr{Nothing} @0x000000010a0a0f0c, Base.InterpreterIP in top-level CodeInfo for Main at statement 0, Ptr{Nothing} @0x000000010a0bb844, Ptr{Nothing} @0x000000010a0bb604, Ptr{Nothing} @0x000000010a0bc134, Ptr{Nothing} @0x000000010b5e187c, Ptr{Nothing} @0x000000010b5e1cd9, Ptr{Nothing} @0x000000010a08afbf, Ptr{Nothing} @0x000000010b5ddeac, Ptr{Nothing} @0x000000010a08afbf, Ptr{Nothing} @0x000000010a097839, Ptr{Nothing} @0x000000010b5d4022, Ptr{Nothing} @0x000000010b5d4394, Ptr{Nothing} @0x000000010b5d43ac, Ptr{Nothing} @0x000000010a08afbf, Ptr{Nothing} @0x000000010a0a659d])\n",
      "└ @ Requires /Users/irisyoon/.julia/packages/Requires/Z8rfN/src/require.jl:51\n",
      "┌ Info: For saving to png with the Plotly backend PlotlyBase has to be installed.\n",
      "└ @ Plots /Users/irisyoon/.julia/packages/Plots/5S9Hg/src/backends.jl:317\n"
     ]
    }
   ],
   "source": [
    "include(\"../../src/analogous_bars.jl\")\n",
    "include(\"../../src/Eirene_var.jl\")\n",
    "\n",
    "using .analogous_bars\n",
    "using .Eirene_var\n"
   ]
  },
  {
   "cell_type": "code",
   "execution_count": 2,
   "id": "blind-exposure",
   "metadata": {},
   "outputs": [],
   "source": [
    "using DelimitedFiles\n",
    "using HDF5\n",
    "using Plots\n",
    "using FileIO\n",
    "using MultivariateStats\n"
   ]
  },
  {
   "cell_type": "markdown",
   "id": "described-salmon",
   "metadata": {},
   "source": [
    "## 1. Load dissimialrity"
   ]
  },
  {
   "cell_type": "code",
   "execution_count": 3,
   "id": "domestic-rescue",
   "metadata": {},
   "outputs": [],
   "source": [
    "# load dissimilarity\n",
    "total_D = readdlm(\"total_dissimilarity.csv\")\n",
    "\n",
    "# get number of neurons in AL\n",
    "AL_txt = open(\"AL_neurons_idx.txt\", \"r\")\n",
    "AL_linebyline = readlines(AL_txt)\n",
    "close(AL_txt)\n",
    "n_AL = size(AL_linebyline, 1)\n",
    "\n",
    "# get number of neurons in V1\n",
    "V1_txt = open(\"V1_neurons_idx.txt\", \"r\")\n",
    "V1_linebyline = readlines(V1_txt)\n",
    "close(V1_txt)\n",
    "n_V1 = size(V1_linebyline, 1)\n",
    "\n",
    "# Define submatrices \n",
    "D_V1 = total_D[1:n_V1, 1:n_V1]\n",
    "D_AL = total_D[n_V1+1:end, n_V1+1:end]\n",
    "D_V1_AL = total_D[1:n_V1, n_V1+1:end]\n",
    "    # rows (landmarks): V1\n",
    "    # columns (witness) : AL\n",
    "D_AL_V1 = total_D[n_V1+1:end, 1:n_V1];\n",
    "    # rows (landmarks): AL\n",
    "    # columns (witness) : V1"
   ]
  },
  {
   "cell_type": "markdown",
   "id": "rapid-entertainment",
   "metadata": {},
   "source": [
    "## 2. Run persistence"
   ]
  },
  {
   "cell_type": "code",
   "execution_count": 4,
   "id": "vertical-nitrogen",
   "metadata": {},
   "outputs": [],
   "source": [
    "C_V1 = eirene(D_V1, record = \"all\", maxdim = 1)\n",
    "C_AL = eirene(D_AL, record = \"all\", maxdim = 1)\n",
    "W_V1 = ext_var.compute_Witness_persistence(D_V1_AL)\n",
    "\n",
    "barcode_V1 = barcode(C_V1, dim = 1)\n",
    "barcode_AL = barcode(C_AL, dim = 1)\n",
    "barcode_W_V1_AL = barcode(W_V1[\"eirene_output\"], dim = 1);"
   ]
  },
  {
   "cell_type": "code",
   "execution_count": 5,
   "id": "demonstrated-surge",
   "metadata": {},
   "outputs": [
    {
     "data": {
      "application/vnd.plotly.v1+json": {
       "data": [
        {
         "colorbar": {
          "title": ""
         },
         "legendgroup": "",
         "marker": {
          "color": "rgba(128, 128, 128, 0.500)",
          "line": {
           "color": "rgba(0, 0, 0, 0.500)",
           "width": 1
          },
          "size": 8,
          "symbol": "circle"
         },
         "mode": "markers",
         "name": "",
         "showlegend": false,
         "type": "scatter",
         "x": [
          0.5639360404052973,
          0.5589915032156663
         ],
         "xaxis": "x1",
         "y": [
          0.5685672879636985,
          0.6349079262193076
         ],
         "yaxis": "y1",
         "zmax": null,
         "zmin": null
        },
        {
         "colorbar": {
          "title": ""
         },
         "legendgroup": "",
         "line": {
          "color": "rgba(128, 128, 128, 1.000)",
          "dash": "solid",
          "shape": "linear",
          "width": 5
         },
         "mode": "lines",
         "name": "",
         "showlegend": false,
         "type": "scatter",
         "x": [
          0.44719320257253303,
          0.6983987188412384
         ],
         "xaxis": "x1",
         "y": [
          0.44719320257253303,
          0.6983987188412384
         ],
         "yaxis": "y1",
         "zmax": null,
         "zmin": null
        },
        {
         "colorbar": {
          "title": ""
         },
         "legendgroup": "",
         "marker": {
          "color": "rgba(128, 128, 128, 0.500)",
          "line": {
           "color": "rgba(0, 0, 0, 0.500)",
           "width": 1
          },
          "size": 8,
          "symbol": "circle"
         },
         "mode": "markers",
         "name": "",
         "showlegend": false,
         "type": "scatter",
         "x": [
          0.4024366521227176,
          0.48523076539972543
         ],
         "xaxis": "x2",
         "y": [
          0.43037476035593203,
          0.49653893919583936
         ],
         "yaxis": "y2",
         "zmax": null,
         "zmin": null
        },
        {
         "colorbar": {
          "title": ""
         },
         "legendgroup": "",
         "line": {
          "color": "rgba(128, 128, 128, 1.000)",
          "dash": "solid",
          "shape": "linear",
          "width": 5
         },
         "mode": "lines",
         "name": "",
         "showlegend": false,
         "type": "scatter",
         "x": [
          0.32194932169817414,
          0.5461928331154233
         ],
         "xaxis": "x2",
         "y": [
          0.32194932169817414,
          0.5461928331154233
         ],
         "yaxis": "y2",
         "zmax": null,
         "zmin": null
        },
        {
         "colorbar": {
          "title": ""
         },
         "legendgroup": "",
         "marker": {
          "color": "rgba(128, 128, 128, 0.500)",
          "line": {
           "color": "rgba(0, 0, 0, 0.500)",
           "width": 1
          },
          "size": 8,
          "symbol": "circle"
         },
         "mode": "markers",
         "name": "",
         "showlegend": false,
         "type": "scatter",
         "x": [
          0.3814331491646641,
          0.4560830876857863
         ],
         "xaxis": "x3",
         "y": [
          0.386574214763859,
          0.5083850196946953
         ],
         "yaxis": "y3",
         "zmax": null,
         "zmin": null
        },
        {
         "colorbar": {
          "title": ""
         },
         "legendgroup": "",
         "line": {
          "color": "rgba(128, 128, 128, 1.000)",
          "dash": "solid",
          "shape": "linear",
          "width": 5
         },
         "mode": "lines",
         "name": "",
         "showlegend": false,
         "type": "scatter",
         "x": [
          0.3051465193317313,
          0.5592235216641649
         ],
         "xaxis": "x3",
         "y": [
          0.3051465193317313,
          0.5592235216641649
         ],
         "yaxis": "y3",
         "zmax": null,
         "zmin": null
        }
       ],
       "layout": {
        "annotations": [
         {
          "font": {
           "color": "rgba(0, 0, 0, 1.000)",
           "family": "sans-serif",
           "size": 21
          },
          "rotation": 0,
          "showarrow": false,
          "text": "PD(VR(V1))",
          "x": 0.19629629629629627,
          "xanchor": "center",
          "xref": "paper",
          "y": 1,
          "yanchor": "top",
          "yref": "paper"
         },
         {
          "font": {
           "color": "rgba(0, 0, 0, 1.000)",
           "family": "sans-serif",
           "size": 20
          },
          "rotation": 0,
          "showarrow": false,
          "text": "PD(W(V1, AL))",
          "x": 0.5296296296296296,
          "xanchor": "center",
          "xref": "paper",
          "y": 1,
          "yanchor": "top",
          "yref": "paper"
         },
         {
          "font": {
           "color": "rgba(0, 0, 0, 1.000)",
           "family": "sans-serif",
           "size": 21
          },
          "rotation": 0,
          "showarrow": false,
          "text": "PD(VR(AL))",
          "x": 0.8629629629629629,
          "xanchor": "center",
          "xref": "paper",
          "y": 1,
          "yanchor": "top",
          "yref": "paper"
         }
        ],
        "height": 400,
        "legend_position": {
         "bgcolor": "rgba(255, 255, 255, 1.000)",
         "bordercolor": "rgba(0, 0, 0, 1.000)",
         "borderwidth": 1,
         "font": {
          "color": "rgba(0, 0, 0, 1.000)",
          "family": "sans-serif",
          "size": 11
         },
         "title": {
          "font": {
           "color": "rgba(0, 0, 0, 1.000)",
           "family": "sans-serif",
           "size": 15
          },
          "text": ""
         },
         "tracegroupgap": 0,
         "traceorder": "normal",
         "x": 1,
         "xanchor": "right",
         "y": 0.07,
         "yanchor": "bottom"
        },
        "margin": {
         "b": 20,
         "l": 0,
         "r": 0,
         "t": 20
        },
        "paper_bgcolor": "rgba(255, 255, 255, 1.000)",
        "plot_bgcolor": "rgba(255, 255, 255, 1.000)",
        "showlegend": true,
        "width": 600,
        "xaxis1": {
         "anchor": "y1",
         "domain": [
          0.0658209390492855,
          0.32677165354330706
         ],
         "gridcolor": "rgba(0, 0, 0, 0.100)",
         "gridwidth": 0.5,
         "linecolor": "rgba(0, 0, 0, 1.000)",
         "mirror": true,
         "range": [
          0.44719320257253303,
          0.6983987188412384
         ],
         "showgrid": true,
         "showline": true,
         "showticklabels": true,
         "tickangle": 0,
         "tickcolor": "rgb(0, 0, 0)",
         "tickfont": {
          "color": "rgba(0, 0, 0, 1.000)",
          "family": "sans-serif",
          "size": 11
         },
         "tickmode": "array",
         "ticks": "inside",
         "ticktext": [
          "0.45",
          "0.50",
          "0.55",
          "0.60",
          "0.65"
         ],
         "tickvals": [
          0.45,
          0.5,
          0.55,
          0.6000000000000001,
          0.65
         ],
         "title": "",
         "titlefont": {
          "color": "rgba(0, 0, 0, 1.000)",
          "family": "sans-serif",
          "size": 15
         },
         "type": "-",
         "visible": true,
         "zeroline": false,
         "zerolinecolor": "rgba(0, 0, 0, 1.000)"
        },
        "xaxis2": {
         "anchor": "y2",
         "domain": [
          0.3991542723826188,
          0.6601049868766404
         ],
         "gridcolor": "rgba(0, 0, 0, 0.100)",
         "gridwidth": 0.5,
         "linecolor": "rgba(0, 0, 0, 1.000)",
         "mirror": true,
         "range": [
          0.32194932169817414,
          0.5461928331154233
         ],
         "showgrid": true,
         "showline": true,
         "showticklabels": true,
         "tickangle": 0,
         "tickcolor": "rgb(0, 0, 0)",
         "tickfont": {
          "color": "rgba(0, 0, 0, 1.000)",
          "family": "sans-serif",
          "size": 11
         },
         "tickmode": "array",
         "ticks": "inside",
         "ticktext": [
          "0.35",
          "0.40",
          "0.45",
          "0.50"
         ],
         "tickvals": [
          0.35000000000000003,
          0.4,
          0.45,
          0.5
         ],
         "title": "",
         "titlefont": {
          "color": "rgba(0, 0, 0, 1.000)",
          "family": "sans-serif",
          "size": 15
         },
         "type": "-",
         "visible": true,
         "zeroline": false,
         "zerolinecolor": "rgba(0, 0, 0, 1.000)"
        },
        "xaxis3": {
         "anchor": "y3",
         "domain": [
          0.7324876057159522,
          0.9934383202099737
         ],
         "gridcolor": "rgba(0, 0, 0, 0.100)",
         "gridwidth": 0.5,
         "linecolor": "rgba(0, 0, 0, 1.000)",
         "mirror": true,
         "range": [
          0.3051465193317313,
          0.5592235216641649
         ],
         "showgrid": true,
         "showline": true,
         "showticklabels": true,
         "tickangle": 0,
         "tickcolor": "rgb(0, 0, 0)",
         "tickfont": {
          "color": "rgba(0, 0, 0, 1.000)",
          "family": "sans-serif",
          "size": 11
         },
         "tickmode": "array",
         "ticks": "inside",
         "ticktext": [
          "0.35",
          "0.40",
          "0.45",
          "0.50",
          "0.55"
         ],
         "tickvals": [
          0.35000000000000003,
          0.4,
          0.45,
          0.5,
          0.55
         ],
         "title": "",
         "titlefont": {
          "color": "rgba(0, 0, 0, 1.000)",
          "family": "sans-serif",
          "size": 15
         },
         "type": "-",
         "visible": true,
         "zeroline": false,
         "zerolinecolor": "rgba(0, 0, 0, 1.000)"
        },
        "yaxis1": {
         "anchor": "x1",
         "domain": [
          0.29213418635170596,
          0.6835602580927383
         ],
         "gridcolor": "rgba(0, 0, 0, 0.100)",
         "gridwidth": 0.5,
         "linecolor": "rgba(0, 0, 0, 1.000)",
         "mirror": true,
         "range": [
          0.44719320257253303,
          0.6983987188412384
         ],
         "showgrid": true,
         "showline": true,
         "showticklabels": true,
         "tickangle": 0,
         "tickcolor": "rgb(0, 0, 0)",
         "tickfont": {
          "color": "rgba(0, 0, 0, 1.000)",
          "family": "sans-serif",
          "size": 11
         },
         "tickmode": "array",
         "ticks": "inside",
         "ticktext": [
          "0.45",
          "0.50",
          "0.55",
          "0.60",
          "0.65"
         ],
         "tickvals": [
          0.45,
          0.5,
          0.55,
          0.6000000000000001,
          0.65
         ],
         "title": "",
         "titlefont": {
          "color": "rgba(0, 0, 0, 1.000)",
          "family": "sans-serif",
          "size": 15
         },
         "type": "-",
         "visible": true,
         "zeroline": false,
         "zerolinecolor": "rgba(0, 0, 0, 1.000)"
        },
        "yaxis2": {
         "anchor": "x2",
         "domain": [
          0.29213418635170596,
          0.6835602580927383
         ],
         "gridcolor": "rgba(0, 0, 0, 0.100)",
         "gridwidth": 0.5,
         "linecolor": "rgba(0, 0, 0, 1.000)",
         "mirror": true,
         "range": [
          0.32194932169817414,
          0.5461928331154233
         ],
         "showgrid": true,
         "showline": true,
         "showticklabels": true,
         "tickangle": 0,
         "tickcolor": "rgb(0, 0, 0)",
         "tickfont": {
          "color": "rgba(0, 0, 0, 1.000)",
          "family": "sans-serif",
          "size": 11
         },
         "tickmode": "array",
         "ticks": "inside",
         "ticktext": [
          "0.35",
          "0.40",
          "0.45",
          "0.50"
         ],
         "tickvals": [
          0.35000000000000003,
          0.4,
          0.45,
          0.5
         ],
         "title": "",
         "titlefont": {
          "color": "rgba(0, 0, 0, 1.000)",
          "family": "sans-serif",
          "size": 15
         },
         "type": "-",
         "visible": true,
         "zeroline": false,
         "zerolinecolor": "rgba(0, 0, 0, 1.000)"
        },
        "yaxis3": {
         "anchor": "x3",
         "domain": [
          0.29213418635170596,
          0.6835602580927383
         ],
         "gridcolor": "rgba(0, 0, 0, 0.100)",
         "gridwidth": 0.5,
         "linecolor": "rgba(0, 0, 0, 1.000)",
         "mirror": true,
         "range": [
          0.3051465193317313,
          0.5592235216641649
         ],
         "showgrid": true,
         "showline": true,
         "showticklabels": true,
         "tickangle": 0,
         "tickcolor": "rgb(0, 0, 0)",
         "tickfont": {
          "color": "rgba(0, 0, 0, 1.000)",
          "family": "sans-serif",
          "size": 11
         },
         "tickmode": "array",
         "ticks": "inside",
         "ticktext": [
          "0.35",
          "0.40",
          "0.45",
          "0.50",
          "0.55"
         ],
         "tickvals": [
          0.35000000000000003,
          0.4,
          0.45,
          0.5,
          0.55
         ],
         "title": "",
         "titlefont": {
          "color": "rgba(0, 0, 0, 1.000)",
          "family": "sans-serif",
          "size": 15
         },
         "type": "-",
         "visible": true,
         "zeroline": false,
         "zerolinecolor": "rgba(0, 0, 0, 1.000)"
        }
       }
      },
      "text/html": [
       "    <div id=\"04a842c4-06d3-4182-aa51-a49b04dbb108\" style=\"width:600px;height:400px;\"></div>\n",
       "    <script>\n",
       "        requirejs.config({\n",
       "        paths: {\n",
       "            Plotly: 'https://cdn.plot.ly/plotly-2.6.3.min'\n",
       "        }\n",
       "    });\n",
       "    require(['Plotly'], function (Plotly) {\n",
       "\n",
       "        Plotly.newPlot('04a842c4-06d3-4182-aa51-a49b04dbb108', [\n",
       "    {\n",
       "        \"xaxis\": \"x1\",\n",
       "        \"colorbar\": {\n",
       "            \"title\": \"\"\n",
       "        },\n",
       "        \"yaxis\": \"y1\",\n",
       "        \"x\": [\n",
       "            0.5639360404052973,\n",
       "            0.5589915032156663\n",
       "        ],\n",
       "        \"showlegend\": false,\n",
       "        \"mode\": \"markers\",\n",
       "        \"name\": \"\",\n",
       "        \"zmin\": null,\n",
       "        \"legendgroup\": \"\",\n",
       "        \"marker\": {\n",
       "            \"symbol\": \"circle\",\n",
       "            \"color\": \"rgba(128, 128, 128, 0.500)\",\n",
       "            \"line\": {\n",
       "                \"color\": \"rgba(0, 0, 0, 0.500)\",\n",
       "                \"width\": 1\n",
       "            },\n",
       "            \"size\": 8\n",
       "        },\n",
       "        \"zmax\": null,\n",
       "        \"y\": [\n",
       "            0.5685672879636985,\n",
       "            0.6349079262193076\n",
       "        ],\n",
       "        \"type\": \"scatter\"\n",
       "    },\n",
       "    {\n",
       "        \"xaxis\": \"x1\",\n",
       "        \"colorbar\": {\n",
       "            \"title\": \"\"\n",
       "        },\n",
       "        \"yaxis\": \"y1\",\n",
       "        \"x\": [\n",
       "            0.44719320257253303,\n",
       "            0.6983987188412384\n",
       "        ],\n",
       "        \"showlegend\": false,\n",
       "        \"mode\": \"lines\",\n",
       "        \"name\": \"\",\n",
       "        \"zmin\": null,\n",
       "        \"legendgroup\": \"\",\n",
       "        \"zmax\": null,\n",
       "        \"line\": {\n",
       "            \"color\": \"rgba(128, 128, 128, 1.000)\",\n",
       "            \"shape\": \"linear\",\n",
       "            \"dash\": \"solid\",\n",
       "            \"width\": 5\n",
       "        },\n",
       "        \"y\": [\n",
       "            0.44719320257253303,\n",
       "            0.6983987188412384\n",
       "        ],\n",
       "        \"type\": \"scatter\"\n",
       "    },\n",
       "    {\n",
       "        \"xaxis\": \"x2\",\n",
       "        \"colorbar\": {\n",
       "            \"title\": \"\"\n",
       "        },\n",
       "        \"yaxis\": \"y2\",\n",
       "        \"x\": [\n",
       "            0.4024366521227176,\n",
       "            0.48523076539972543\n",
       "        ],\n",
       "        \"showlegend\": false,\n",
       "        \"mode\": \"markers\",\n",
       "        \"name\": \"\",\n",
       "        \"zmin\": null,\n",
       "        \"legendgroup\": \"\",\n",
       "        \"marker\": {\n",
       "            \"symbol\": \"circle\",\n",
       "            \"color\": \"rgba(128, 128, 128, 0.500)\",\n",
       "            \"line\": {\n",
       "                \"color\": \"rgba(0, 0, 0, 0.500)\",\n",
       "                \"width\": 1\n",
       "            },\n",
       "            \"size\": 8\n",
       "        },\n",
       "        \"zmax\": null,\n",
       "        \"y\": [\n",
       "            0.43037476035593203,\n",
       "            0.49653893919583936\n",
       "        ],\n",
       "        \"type\": \"scatter\"\n",
       "    },\n",
       "    {\n",
       "        \"xaxis\": \"x2\",\n",
       "        \"colorbar\": {\n",
       "            \"title\": \"\"\n",
       "        },\n",
       "        \"yaxis\": \"y2\",\n",
       "        \"x\": [\n",
       "            0.32194932169817414,\n",
       "            0.5461928331154233\n",
       "        ],\n",
       "        \"showlegend\": false,\n",
       "        \"mode\": \"lines\",\n",
       "        \"name\": \"\",\n",
       "        \"zmin\": null,\n",
       "        \"legendgroup\": \"\",\n",
       "        \"zmax\": null,\n",
       "        \"line\": {\n",
       "            \"color\": \"rgba(128, 128, 128, 1.000)\",\n",
       "            \"shape\": \"linear\",\n",
       "            \"dash\": \"solid\",\n",
       "            \"width\": 5\n",
       "        },\n",
       "        \"y\": [\n",
       "            0.32194932169817414,\n",
       "            0.5461928331154233\n",
       "        ],\n",
       "        \"type\": \"scatter\"\n",
       "    },\n",
       "    {\n",
       "        \"xaxis\": \"x3\",\n",
       "        \"colorbar\": {\n",
       "            \"title\": \"\"\n",
       "        },\n",
       "        \"yaxis\": \"y3\",\n",
       "        \"x\": [\n",
       "            0.3814331491646641,\n",
       "            0.4560830876857863\n",
       "        ],\n",
       "        \"showlegend\": false,\n",
       "        \"mode\": \"markers\",\n",
       "        \"name\": \"\",\n",
       "        \"zmin\": null,\n",
       "        \"legendgroup\": \"\",\n",
       "        \"marker\": {\n",
       "            \"symbol\": \"circle\",\n",
       "            \"color\": \"rgba(128, 128, 128, 0.500)\",\n",
       "            \"line\": {\n",
       "                \"color\": \"rgba(0, 0, 0, 0.500)\",\n",
       "                \"width\": 1\n",
       "            },\n",
       "            \"size\": 8\n",
       "        },\n",
       "        \"zmax\": null,\n",
       "        \"y\": [\n",
       "            0.386574214763859,\n",
       "            0.5083850196946953\n",
       "        ],\n",
       "        \"type\": \"scatter\"\n",
       "    },\n",
       "    {\n",
       "        \"xaxis\": \"x3\",\n",
       "        \"colorbar\": {\n",
       "            \"title\": \"\"\n",
       "        },\n",
       "        \"yaxis\": \"y3\",\n",
       "        \"x\": [\n",
       "            0.3051465193317313,\n",
       "            0.5592235216641649\n",
       "        ],\n",
       "        \"showlegend\": false,\n",
       "        \"mode\": \"lines\",\n",
       "        \"name\": \"\",\n",
       "        \"zmin\": null,\n",
       "        \"legendgroup\": \"\",\n",
       "        \"zmax\": null,\n",
       "        \"line\": {\n",
       "            \"color\": \"rgba(128, 128, 128, 1.000)\",\n",
       "            \"shape\": \"linear\",\n",
       "            \"dash\": \"solid\",\n",
       "            \"width\": 5\n",
       "        },\n",
       "        \"y\": [\n",
       "            0.3051465193317313,\n",
       "            0.5592235216641649\n",
       "        ],\n",
       "        \"type\": \"scatter\"\n",
       "    }\n",
       "]\n",
       ", {\n",
       "    \"showlegend\": true,\n",
       "    \"paper_bgcolor\": \"rgba(255, 255, 255, 1.000)\",\n",
       "    \"xaxis1\": {\n",
       "        \"showticklabels\": true,\n",
       "        \"gridwidth\": 0.5,\n",
       "        \"tickvals\": [\n",
       "            0.45,\n",
       "            0.5,\n",
       "            0.55,\n",
       "            0.6000000000000001,\n",
       "            0.65\n",
       "        ],\n",
       "        \"range\": [\n",
       "            0.44719320257253303,\n",
       "            0.6983987188412384\n",
       "        ],\n",
       "        \"domain\": [\n",
       "            0.0658209390492855,\n",
       "            0.32677165354330706\n",
       "        ],\n",
       "        \"mirror\": true,\n",
       "        \"tickangle\": 0,\n",
       "        \"showline\": true,\n",
       "        \"ticktext\": [\n",
       "            \"0.45\",\n",
       "            \"0.50\",\n",
       "            \"0.55\",\n",
       "            \"0.60\",\n",
       "            \"0.65\"\n",
       "        ],\n",
       "        \"zeroline\": false,\n",
       "        \"tickfont\": {\n",
       "            \"color\": \"rgba(0, 0, 0, 1.000)\",\n",
       "            \"family\": \"sans-serif\",\n",
       "            \"size\": 11\n",
       "        },\n",
       "        \"zerolinecolor\": \"rgba(0, 0, 0, 1.000)\",\n",
       "        \"anchor\": \"y1\",\n",
       "        \"visible\": true,\n",
       "        \"ticks\": \"inside\",\n",
       "        \"tickmode\": \"array\",\n",
       "        \"linecolor\": \"rgba(0, 0, 0, 1.000)\",\n",
       "        \"showgrid\": true,\n",
       "        \"title\": \"\",\n",
       "        \"gridcolor\": \"rgba(0, 0, 0, 0.100)\",\n",
       "        \"titlefont\": {\n",
       "            \"color\": \"rgba(0, 0, 0, 1.000)\",\n",
       "            \"family\": \"sans-serif\",\n",
       "            \"size\": 15\n",
       "        },\n",
       "        \"tickcolor\": \"rgb(0, 0, 0)\",\n",
       "        \"type\": \"-\"\n",
       "    },\n",
       "    \"yaxis3\": {\n",
       "        \"showticklabels\": true,\n",
       "        \"gridwidth\": 0.5,\n",
       "        \"tickvals\": [\n",
       "            0.35000000000000003,\n",
       "            0.4,\n",
       "            0.45,\n",
       "            0.5,\n",
       "            0.55\n",
       "        ],\n",
       "        \"range\": [\n",
       "            0.3051465193317313,\n",
       "            0.5592235216641649\n",
       "        ],\n",
       "        \"domain\": [\n",
       "            0.29213418635170596,\n",
       "            0.6835602580927383\n",
       "        ],\n",
       "        \"mirror\": true,\n",
       "        \"tickangle\": 0,\n",
       "        \"showline\": true,\n",
       "        \"ticktext\": [\n",
       "            \"0.35\",\n",
       "            \"0.40\",\n",
       "            \"0.45\",\n",
       "            \"0.50\",\n",
       "            \"0.55\"\n",
       "        ],\n",
       "        \"zeroline\": false,\n",
       "        \"tickfont\": {\n",
       "            \"color\": \"rgba(0, 0, 0, 1.000)\",\n",
       "            \"family\": \"sans-serif\",\n",
       "            \"size\": 11\n",
       "        },\n",
       "        \"zerolinecolor\": \"rgba(0, 0, 0, 1.000)\",\n",
       "        \"anchor\": \"x3\",\n",
       "        \"visible\": true,\n",
       "        \"ticks\": \"inside\",\n",
       "        \"tickmode\": \"array\",\n",
       "        \"linecolor\": \"rgba(0, 0, 0, 1.000)\",\n",
       "        \"showgrid\": true,\n",
       "        \"title\": \"\",\n",
       "        \"gridcolor\": \"rgba(0, 0, 0, 0.100)\",\n",
       "        \"titlefont\": {\n",
       "            \"color\": \"rgba(0, 0, 0, 1.000)\",\n",
       "            \"family\": \"sans-serif\",\n",
       "            \"size\": 15\n",
       "        },\n",
       "        \"tickcolor\": \"rgb(0, 0, 0)\",\n",
       "        \"type\": \"-\"\n",
       "    },\n",
       "    \"height\": 400,\n",
       "    \"yaxis2\": {\n",
       "        \"showticklabels\": true,\n",
       "        \"gridwidth\": 0.5,\n",
       "        \"tickvals\": [\n",
       "            0.35000000000000003,\n",
       "            0.4,\n",
       "            0.45,\n",
       "            0.5\n",
       "        ],\n",
       "        \"range\": [\n",
       "            0.32194932169817414,\n",
       "            0.5461928331154233\n",
       "        ],\n",
       "        \"domain\": [\n",
       "            0.29213418635170596,\n",
       "            0.6835602580927383\n",
       "        ],\n",
       "        \"mirror\": true,\n",
       "        \"tickangle\": 0,\n",
       "        \"showline\": true,\n",
       "        \"ticktext\": [\n",
       "            \"0.35\",\n",
       "            \"0.40\",\n",
       "            \"0.45\",\n",
       "            \"0.50\"\n",
       "        ],\n",
       "        \"zeroline\": false,\n",
       "        \"tickfont\": {\n",
       "            \"color\": \"rgba(0, 0, 0, 1.000)\",\n",
       "            \"family\": \"sans-serif\",\n",
       "            \"size\": 11\n",
       "        },\n",
       "        \"zerolinecolor\": \"rgba(0, 0, 0, 1.000)\",\n",
       "        \"anchor\": \"x2\",\n",
       "        \"visible\": true,\n",
       "        \"ticks\": \"inside\",\n",
       "        \"tickmode\": \"array\",\n",
       "        \"linecolor\": \"rgba(0, 0, 0, 1.000)\",\n",
       "        \"showgrid\": true,\n",
       "        \"title\": \"\",\n",
       "        \"gridcolor\": \"rgba(0, 0, 0, 0.100)\",\n",
       "        \"titlefont\": {\n",
       "            \"color\": \"rgba(0, 0, 0, 1.000)\",\n",
       "            \"family\": \"sans-serif\",\n",
       "            \"size\": 15\n",
       "        },\n",
       "        \"tickcolor\": \"rgb(0, 0, 0)\",\n",
       "        \"type\": \"-\"\n",
       "    },\n",
       "    \"xaxis3\": {\n",
       "        \"showticklabels\": true,\n",
       "        \"gridwidth\": 0.5,\n",
       "        \"tickvals\": [\n",
       "            0.35000000000000003,\n",
       "            0.4,\n",
       "            0.45,\n",
       "            0.5,\n",
       "            0.55\n",
       "        ],\n",
       "        \"range\": [\n",
       "            0.3051465193317313,\n",
       "            0.5592235216641649\n",
       "        ],\n",
       "        \"domain\": [\n",
       "            0.7324876057159522,\n",
       "            0.9934383202099737\n",
       "        ],\n",
       "        \"mirror\": true,\n",
       "        \"tickangle\": 0,\n",
       "        \"showline\": true,\n",
       "        \"ticktext\": [\n",
       "            \"0.35\",\n",
       "            \"0.40\",\n",
       "            \"0.45\",\n",
       "            \"0.50\",\n",
       "            \"0.55\"\n",
       "        ],\n",
       "        \"zeroline\": false,\n",
       "        \"tickfont\": {\n",
       "            \"color\": \"rgba(0, 0, 0, 1.000)\",\n",
       "            \"family\": \"sans-serif\",\n",
       "            \"size\": 11\n",
       "        },\n",
       "        \"zerolinecolor\": \"rgba(0, 0, 0, 1.000)\",\n",
       "        \"anchor\": \"y3\",\n",
       "        \"visible\": true,\n",
       "        \"ticks\": \"inside\",\n",
       "        \"tickmode\": \"array\",\n",
       "        \"linecolor\": \"rgba(0, 0, 0, 1.000)\",\n",
       "        \"showgrid\": true,\n",
       "        \"title\": \"\",\n",
       "        \"gridcolor\": \"rgba(0, 0, 0, 0.100)\",\n",
       "        \"titlefont\": {\n",
       "            \"color\": \"rgba(0, 0, 0, 1.000)\",\n",
       "            \"family\": \"sans-serif\",\n",
       "            \"size\": 15\n",
       "        },\n",
       "        \"tickcolor\": \"rgb(0, 0, 0)\",\n",
       "        \"type\": \"-\"\n",
       "    },\n",
       "    \"legend_position\": {\n",
       "        \"yanchor\": \"bottom\",\n",
       "        \"xanchor\": \"right\",\n",
       "        \"bordercolor\": \"rgba(0, 0, 0, 1.000)\",\n",
       "        \"bgcolor\": \"rgba(255, 255, 255, 1.000)\",\n",
       "        \"borderwidth\": 1,\n",
       "        \"tracegroupgap\": 0,\n",
       "        \"y\": 0.07,\n",
       "        \"font\": {\n",
       "            \"color\": \"rgba(0, 0, 0, 1.000)\",\n",
       "            \"family\": \"sans-serif\",\n",
       "            \"size\": 11\n",
       "        },\n",
       "        \"title\": {\n",
       "            \"font\": {\n",
       "                \"color\": \"rgba(0, 0, 0, 1.000)\",\n",
       "                \"family\": \"sans-serif\",\n",
       "                \"size\": 15\n",
       "            },\n",
       "            \"text\": \"\"\n",
       "        },\n",
       "        \"traceorder\": \"normal\",\n",
       "        \"x\": 1.0\n",
       "    },\n",
       "    \"xaxis2\": {\n",
       "        \"showticklabels\": true,\n",
       "        \"gridwidth\": 0.5,\n",
       "        \"tickvals\": [\n",
       "            0.35000000000000003,\n",
       "            0.4,\n",
       "            0.45,\n",
       "            0.5\n",
       "        ],\n",
       "        \"range\": [\n",
       "            0.32194932169817414,\n",
       "            0.5461928331154233\n",
       "        ],\n",
       "        \"domain\": [\n",
       "            0.3991542723826188,\n",
       "            0.6601049868766404\n",
       "        ],\n",
       "        \"mirror\": true,\n",
       "        \"tickangle\": 0,\n",
       "        \"showline\": true,\n",
       "        \"ticktext\": [\n",
       "            \"0.35\",\n",
       "            \"0.40\",\n",
       "            \"0.45\",\n",
       "            \"0.50\"\n",
       "        ],\n",
       "        \"zeroline\": false,\n",
       "        \"tickfont\": {\n",
       "            \"color\": \"rgba(0, 0, 0, 1.000)\",\n",
       "            \"family\": \"sans-serif\",\n",
       "            \"size\": 11\n",
       "        },\n",
       "        \"zerolinecolor\": \"rgba(0, 0, 0, 1.000)\",\n",
       "        \"anchor\": \"y2\",\n",
       "        \"visible\": true,\n",
       "        \"ticks\": \"inside\",\n",
       "        \"tickmode\": \"array\",\n",
       "        \"linecolor\": \"rgba(0, 0, 0, 1.000)\",\n",
       "        \"showgrid\": true,\n",
       "        \"title\": \"\",\n",
       "        \"gridcolor\": \"rgba(0, 0, 0, 0.100)\",\n",
       "        \"titlefont\": {\n",
       "            \"color\": \"rgba(0, 0, 0, 1.000)\",\n",
       "            \"family\": \"sans-serif\",\n",
       "            \"size\": 15\n",
       "        },\n",
       "        \"tickcolor\": \"rgb(0, 0, 0)\",\n",
       "        \"type\": \"-\"\n",
       "    },\n",
       "    \"yaxis1\": {\n",
       "        \"showticklabels\": true,\n",
       "        \"gridwidth\": 0.5,\n",
       "        \"tickvals\": [\n",
       "            0.45,\n",
       "            0.5,\n",
       "            0.55,\n",
       "            0.6000000000000001,\n",
       "            0.65\n",
       "        ],\n",
       "        \"range\": [\n",
       "            0.44719320257253303,\n",
       "            0.6983987188412384\n",
       "        ],\n",
       "        \"domain\": [\n",
       "            0.29213418635170596,\n",
       "            0.6835602580927383\n",
       "        ],\n",
       "        \"mirror\": true,\n",
       "        \"tickangle\": 0,\n",
       "        \"showline\": true,\n",
       "        \"ticktext\": [\n",
       "            \"0.45\",\n",
       "            \"0.50\",\n",
       "            \"0.55\",\n",
       "            \"0.60\",\n",
       "            \"0.65\"\n",
       "        ],\n",
       "        \"zeroline\": false,\n",
       "        \"tickfont\": {\n",
       "            \"color\": \"rgba(0, 0, 0, 1.000)\",\n",
       "            \"family\": \"sans-serif\",\n",
       "            \"size\": 11\n",
       "        },\n",
       "        \"zerolinecolor\": \"rgba(0, 0, 0, 1.000)\",\n",
       "        \"anchor\": \"x1\",\n",
       "        \"visible\": true,\n",
       "        \"ticks\": \"inside\",\n",
       "        \"tickmode\": \"array\",\n",
       "        \"linecolor\": \"rgba(0, 0, 0, 1.000)\",\n",
       "        \"showgrid\": true,\n",
       "        \"title\": \"\",\n",
       "        \"gridcolor\": \"rgba(0, 0, 0, 0.100)\",\n",
       "        \"titlefont\": {\n",
       "            \"color\": \"rgba(0, 0, 0, 1.000)\",\n",
       "            \"family\": \"sans-serif\",\n",
       "            \"size\": 15\n",
       "        },\n",
       "        \"tickcolor\": \"rgb(0, 0, 0)\",\n",
       "        \"type\": \"-\"\n",
       "    },\n",
       "    \"annotations\": [\n",
       "        {\n",
       "            \"yanchor\": \"top\",\n",
       "            \"xanchor\": \"center\",\n",
       "            \"rotation\": -0.0,\n",
       "            \"y\": 1.0,\n",
       "            \"font\": {\n",
       "                \"color\": \"rgba(0, 0, 0, 1.000)\",\n",
       "                \"family\": \"sans-serif\",\n",
       "                \"size\": 21\n",
       "            },\n",
       "            \"yref\": \"paper\",\n",
       "            \"showarrow\": false,\n",
       "            \"text\": \"PD(VR(V1))\",\n",
       "            \"xref\": \"paper\",\n",
       "            \"x\": 0.19629629629629627\n",
       "        },\n",
       "        {\n",
       "            \"yanchor\": \"top\",\n",
       "            \"xanchor\": \"center\",\n",
       "            \"rotation\": -0.0,\n",
       "            \"y\": 1.0,\n",
       "            \"font\": {\n",
       "                \"color\": \"rgba(0, 0, 0, 1.000)\",\n",
       "                \"family\": \"sans-serif\",\n",
       "                \"size\": 20\n",
       "            },\n",
       "            \"yref\": \"paper\",\n",
       "            \"showarrow\": false,\n",
       "            \"text\": \"PD(W(V1, AL))\",\n",
       "            \"xref\": \"paper\",\n",
       "            \"x\": 0.5296296296296296\n",
       "        },\n",
       "        {\n",
       "            \"yanchor\": \"top\",\n",
       "            \"xanchor\": \"center\",\n",
       "            \"rotation\": -0.0,\n",
       "            \"y\": 1.0,\n",
       "            \"font\": {\n",
       "                \"color\": \"rgba(0, 0, 0, 1.000)\",\n",
       "                \"family\": \"sans-serif\",\n",
       "                \"size\": 21\n",
       "            },\n",
       "            \"yref\": \"paper\",\n",
       "            \"showarrow\": false,\n",
       "            \"text\": \"PD(VR(AL))\",\n",
       "            \"xref\": \"paper\",\n",
       "            \"x\": 0.8629629629629629\n",
       "        }\n",
       "    ],\n",
       "    \"plot_bgcolor\": \"rgba(255, 255, 255, 1.000)\",\n",
       "    \"margin\": {\n",
       "        \"l\": 0,\n",
       "        \"b\": 20,\n",
       "        \"r\": 0,\n",
       "        \"t\": 20\n",
       "    },\n",
       "    \"width\": 600\n",
       "}\n",
       ");\n",
       "\n",
       "    });\n",
       "    </script>\n"
      ]
     },
     "execution_count": 5,
     "metadata": {},
     "output_type": "execute_result"
    }
   ],
   "source": [
    "p1 = ext_var.plot_PD(barcode_V1, title = \"PD(VR(V1))\", titlefontsize = 15)\n",
    "p2 = ext_var.plot_PD(barcode_W_V1_AL, title = \"PD(W(V1, AL))\")\n",
    "p3 = ext_var.plot_PD(barcode_AL, title = \"PD(VR(AL))\", titlefontsize = 15)\n",
    "plot(p1, p2, p3, layout = grid(1,3))"
   ]
  },
  {
   "cell_type": "markdown",
   "id": "apart-electricity",
   "metadata": {},
   "source": [
    "## 3. Compute similarity-centric analogous cycles"
   ]
  },
  {
   "cell_type": "code",
   "execution_count": 13,
   "id": "offensive-juice",
   "metadata": {},
   "outputs": [],
   "source": [
    "# select interval\n",
    "W_class = 2\n",
    "dim = 1;"
   ]
  },
  {
   "cell_type": "code",
   "execution_count": 14,
   "id": "likely-communications",
   "metadata": {},
   "outputs": [],
   "source": [
    "extension_V1, extension_AL = run_similarity_analogous(\n",
    "                            VR_P = C_V1, \n",
    "                            D_P = D_V1, \n",
    "                            VR_Q = C_AL,\n",
    "                            D_Q = D_AL,\n",
    "                            W_PQ = W_V1,\n",
    "                            W_PQ_bar = W_class,\n",
    "                            dim = dim);"
   ]
  },
  {
   "cell_type": "code",
   "execution_count": 15,
   "id": "canadian-dialogue",
   "metadata": {
    "scrolled": true
   },
   "outputs": [
    {
     "data": {
      "application/vnd.plotly.v1+json": {
       "data": [
        {
         "colorbar": {
          "title": ""
         },
         "hoverinfo": "text",
         "legendgroup": "y1",
         "line": {
          "color": "rgba(143, 143, 143, 1.000)",
          "dash": "solid",
          "shape": "linear",
          "width": null
         },
         "mode": "lines",
         "name": "y1",
         "showlegend": true,
         "text": [
          "class 2",
          "class 2"
         ],
         "type": "scatter",
         "x": [
          0.5589915032156663,
          0.5589915032156663
         ],
         "xaxis": "x2",
         "y": [
          1,
          1
         ],
         "yaxis": "y2",
         "zmax": null,
         "zmin": null
        },
        {
         "colorbar": {
          "title": ""
         },
         "hoverinfo": "text",
         "legendgroup": "y2",
         "line": {
          "color": "rgba(238, 18, 137, 1.000)",
          "dash": "solid",
          "shape": "linear",
          "width": null
         },
         "mode": "lines",
         "name": "y2",
         "showlegend": true,
         "text": [
          "class 2",
          "class 2"
         ],
         "type": "scatter",
         "x": [
          0.5589915032156663,
          0.6349079262193076
         ],
         "xaxis": "x2",
         "y": [
          1,
          1
         ],
         "yaxis": "y2",
         "zmax": null,
         "zmin": null
        },
        {
         "colorbar": {
          "title": ""
         },
         "hoverinfo": "text",
         "legendgroup": "y3",
         "line": {
          "color": "rgba(143, 143, 143, 1.000)",
          "dash": "solid",
          "shape": "linear",
          "width": null
         },
         "mode": "lines",
         "name": "y3",
         "showlegend": true,
         "text": [
          "class 1",
          "class 1"
         ],
         "type": "scatter",
         "x": [
          0.5639360404052973,
          0.5685672879636985
         ],
         "xaxis": "x2",
         "y": [
          2,
          2
         ],
         "yaxis": "y2",
         "zmax": null,
         "zmin": null
        },
        {
         "colorbar": {
          "title": ""
         },
         "legendgroup": "y4",
         "line": {
          "color": "rgba(255, 0, 0, 1.000)",
          "dash": "dot",
          "shape": "linear",
          "width": 1
         },
         "mode": "lines",
         "name": "y4",
         "showlegend": true,
         "type": "scatter",
         "x": [
          0.5589915032156663,
          0.5589915032156663
         ],
         "xaxis": "x2",
         "y": [
          -401,
          403
         ],
         "yaxis": "y2",
         "zmax": null,
         "zmin": null
        },
        {
         "colorbar": {
          "title": ""
         },
         "hoverinfo": "text",
         "legendgroup": "y1",
         "line": {
          "color": "rgba(143, 143, 143, 1.000)",
          "dash": "solid",
          "shape": "linear",
          "width": null
         },
         "mode": "lines",
         "name": "y1",
         "showlegend": true,
         "text": [
          "class 1",
          "class 1"
         ],
         "type": "scatter",
         "x": [
          0.4024366521227176,
          0.43037476035593203
         ],
         "xaxis": "x3",
         "y": [
          1,
          1
         ],
         "yaxis": "y3",
         "zmax": null,
         "zmin": null
        },
        {
         "colorbar": {
          "title": ""
         },
         "hoverinfo": "text",
         "legendgroup": "y2",
         "line": {
          "color": "rgba(0, 178, 238, 1.000)",
          "dash": "solid",
          "shape": "linear",
          "width": null
         },
         "mode": "lines",
         "name": "y2",
         "showlegend": true,
         "text": [
          "class 2",
          "class 2"
         ],
         "type": "scatter",
         "x": [
          0.48523076539972543,
          0.49653893919583936
         ],
         "xaxis": "x3",
         "y": [
          2,
          2
         ],
         "yaxis": "y3",
         "zmax": null,
         "zmin": null
        },
        {
         "colorbar": {
          "title": ""
         },
         "hoverinfo": "text",
         "legendgroup": "y1",
         "line": {
          "color": "rgba(143, 143, 143, 1.000)",
          "dash": "solid",
          "shape": "linear",
          "width": null
         },
         "mode": "lines",
         "name": "y1",
         "showlegend": true,
         "text": [
          "class 1",
          "class 1"
         ],
         "type": "scatter",
         "x": [
          0.4024366521227176,
          0.43037476035593203
         ],
         "xaxis": "x4",
         "y": [
          1,
          1
         ],
         "yaxis": "y4",
         "zmax": null,
         "zmin": null
        },
        {
         "colorbar": {
          "title": ""
         },
         "hoverinfo": "text",
         "legendgroup": "y2",
         "line": {
          "color": "rgba(0, 178, 238, 1.000)",
          "dash": "solid",
          "shape": "linear",
          "width": null
         },
         "mode": "lines",
         "name": "y2",
         "showlegend": true,
         "text": [
          "class 2",
          "class 2"
         ],
         "type": "scatter",
         "x": [
          0.48523076539972543,
          0.49653893919583936
         ],
         "xaxis": "x4",
         "y": [
          2,
          2
         ],
         "yaxis": "y4",
         "zmax": null,
         "zmin": null
        },
        {
         "colorbar": {
          "title": ""
         },
         "hoverinfo": "text",
         "legendgroup": "y1",
         "line": {
          "color": "rgba(143, 143, 143, 1.000)",
          "dash": "solid",
          "shape": "linear",
          "width": null
         },
         "mode": "lines",
         "name": "y1",
         "showlegend": true,
         "text": [
          "class 1",
          "class 1"
         ],
         "type": "scatter",
         "x": [
          0.3814331491646641,
          0.386574214763859
         ],
         "xaxis": "x5",
         "y": [
          1,
          1
         ],
         "yaxis": "y5",
         "zmax": null,
         "zmin": null
        },
        {
         "colorbar": {
          "title": ""
         },
         "hoverinfo": "text",
         "legendgroup": "y2",
         "line": {
          "color": "rgba(143, 143, 143, 1.000)",
          "dash": "solid",
          "shape": "linear",
          "width": null
         },
         "mode": "lines",
         "name": "y2",
         "showlegend": true,
         "text": [
          "class 2",
          "class 2"
         ],
         "type": "scatter",
         "x": [
          0.4560830876857863,
          0.4560830876857863
         ],
         "xaxis": "x5",
         "y": [
          2,
          2
         ],
         "yaxis": "y5",
         "zmax": null,
         "zmin": null
        },
        {
         "colorbar": {
          "title": ""
         },
         "hoverinfo": "text",
         "legendgroup": "y3",
         "line": {
          "color": "rgba(238, 18, 137, 1.000)",
          "dash": "solid",
          "shape": "linear",
          "width": null
         },
         "mode": "lines",
         "name": "y3",
         "showlegend": true,
         "text": [
          "class 2",
          "class 2"
         ],
         "type": "scatter",
         "x": [
          0.4560830876857863,
          0.5083850196946953
         ],
         "xaxis": "x5",
         "y": [
          2,
          2
         ],
         "yaxis": "y5",
         "zmax": null,
         "zmin": null
        },
        {
         "colorbar": {
          "title": ""
         },
         "legendgroup": "y4",
         "line": {
          "color": "rgba(255, 0, 0, 1.000)",
          "dash": "dot",
          "shape": "linear",
          "width": 1
         },
         "mode": "lines",
         "name": "y4",
         "showlegend": true,
         "type": "scatter",
         "x": [
          0.4560830876857863,
          0.4560830876857863
         ],
         "xaxis": "x5",
         "y": [
          -401,
          403
         ],
         "yaxis": "y5",
         "zmax": null,
         "zmin": null
        }
       ],
       "layout": {
        "annotations": [
         {
          "font": {
           "color": "rgba(0, 0, 0, 1.000)",
           "family": "sans-serif",
           "size": 20
          },
          "rotation": 0,
          "showarrow": false,
          "text": "Analogous bar",
          "x": 0.5266666666666667,
          "xanchor": "center",
          "xref": "paper",
          "y": 1,
          "yanchor": "top",
          "yref": "paper"
         },
         {
          "font": {
           "color": "rgba(0, 0, 0, 1.000)",
           "family": "sans-serif",
           "size": 14
          },
          "rotation": 0,
          "showarrow": false,
          "text": "Baseline bar extension in Barcode(VR(P))",
          "x": 0.5,
          "xanchor": "center",
          "xref": "paper",
          "y": 0.9679505686789152,
          "yanchor": "top",
          "yref": "paper"
         },
         {
          "font": {
           "color": "rgba(0, 0, 0, 1.000)",
           "family": "sans-serif",
           "size": 14
          },
          "rotation": 0,
          "showarrow": false,
          "text": "Selected bar in Barcode(W(P,Q))",
          "x": 0.5,
          "xanchor": "center",
          "xref": "paper",
          "y": 0.7259629265091864,
          "yanchor": "top",
          "yref": "paper"
         },
         {
          "font": {
           "color": "rgba(0, 0, 0, 1.000)",
           "family": "sans-serif",
           "size": 14
          },
          "rotation": 0,
          "showarrow": false,
          "text": "Selected bar in Barcode(W(Q,P))",
          "x": 0.5,
          "xanchor": "center",
          "xref": "paper",
          "y": 0.48397528433945763,
          "yanchor": "top",
          "yref": "paper"
         },
         {
          "font": {
           "color": "rgba(0, 0, 0, 1.000)",
           "family": "sans-serif",
           "size": 14
          },
          "rotation": 0,
          "showarrow": false,
          "text": "Baseline bar extension in Barcode(VR(Q))",
          "x": 0.5,
          "xanchor": "center",
          "xref": "paper",
          "y": 0.24198764216972887,
          "yanchor": "top",
          "yref": "paper"
         }
        ],
        "height": 1000,
        "legend_position": {
         "bgcolor": "rgba(255, 255, 255, 1.000)",
         "bordercolor": "rgba(0, 0, 0, 1.000)",
         "borderwidth": 1,
         "font": {
          "color": "rgba(0, 0, 0, 1.000)",
          "family": "sans-serif",
          "size": 11
         },
         "title": {
          "font": {
           "color": "rgba(0, 0, 0, 1.000)",
           "family": "sans-serif",
           "size": 15
          },
          "text": ""
         },
         "tracegroupgap": 0,
         "traceorder": "normal",
         "x": 1,
         "xanchor": "auto",
         "y": 1,
         "yanchor": "auto"
        },
        "margin": {
         "b": 20,
         "l": 0,
         "r": 0,
         "t": 20
        },
        "paper_bgcolor": "rgba(255, 255, 255, 1.000)",
        "plot_bgcolor": "rgba(255, 255, 255, 1.000)",
        "showlegend": false,
        "width": 500,
        "xaxis1": {
         "anchor": "y1",
         "domain": [
          0.06120734908136483,
          0.9921259842519684
         ],
         "gridcolor": "rgba(0, 0, 0, 0.100)",
         "gridwidth": 0.5,
         "linecolor": "rgba(0, 0, 0, 1.000)",
         "mirror": false,
         "range": [
          0,
          1
         ],
         "showgrid": false,
         "showline": false,
         "showticklabels": false,
         "tickangle": 0,
         "tickcolor": "rgba(0, 0, 0, 0.000)",
         "tickfont": {
          "color": "rgba(0, 0, 0, 1.000)",
          "family": "sans-serif",
          "size": 11
         },
         "tickmode": "array",
         "ticks": "inside",
         "ticktext": [
          "0.0",
          "0.2",
          "0.4",
          "0.6",
          "0.8",
          "1.0"
         ],
         "tickvals": [
          0,
          0.2,
          0.4,
          0.6000000000000001,
          0.8,
          1
         ],
         "title": "",
         "titlefont": {
          "color": "rgba(0, 0, 0, 1.000)",
          "family": "sans-serif",
          "size": 15
         },
         "type": "-",
         "visible": true,
         "zeroline": false,
         "zerolinecolor": "rgba(0, 0, 0, 1.000)"
        },
        "xaxis2": {
         "anchor": "y2",
         "domain": [
          0.007874015748031496,
          0.9921259842519685
         ],
         "gridcolor": "rgba(0, 0, 0, 0.100)",
         "gridwidth": 0.5,
         "linecolor": "rgba(0, 0, 0, 1.000)",
         "mirror": true,
         "range": [
          0.556714010525557,
          0.6371854189094168
         ],
         "showgrid": true,
         "showline": true,
         "showticklabels": true,
         "tickangle": 0,
         "tickcolor": "rgb(0, 0, 0)",
         "tickfont": {
          "color": "rgba(0, 0, 0, 1.000)",
          "family": "sans-serif",
          "size": 11
         },
         "tickmode": "array",
         "ticks": "inside",
         "ticktext": [
          "0.56",
          "0.58",
          "0.60",
          "0.62"
         ],
         "tickvals": [
          0.56,
          0.58,
          0.6,
          0.62
         ],
         "title": "",
         "titlefont": {
          "color": "rgba(0, 0, 0, 1.000)",
          "family": "sans-serif",
          "size": 15
         },
         "type": "-",
         "visible": true,
         "zeroline": false,
         "zerolinecolor": "rgba(0, 0, 0, 1.000)"
        },
        "xaxis3": {
         "anchor": "y3",
         "domain": [
          0.007874015748031496,
          0.9921259842519685
         ],
         "gridcolor": "rgba(0, 0, 0, 0.100)",
         "gridwidth": 0.5,
         "linecolor": "rgba(0, 0, 0, 1.000)",
         "mirror": true,
         "range": [
          0.39961358351052395,
          0.499362007808033
         ],
         "showgrid": true,
         "showline": true,
         "showticklabels": true,
         "tickangle": 0,
         "tickcolor": "rgb(0, 0, 0)",
         "tickfont": {
          "color": "rgba(0, 0, 0, 1.000)",
          "family": "sans-serif",
          "size": 11
         },
         "tickmode": "array",
         "ticks": "inside",
         "ticktext": [
          "0.40",
          "0.42",
          "0.44",
          "0.46",
          "0.48"
         ],
         "tickvals": [
          0.4,
          0.42,
          0.44,
          0.46,
          0.48
         ],
         "title": "",
         "titlefont": {
          "color": "rgba(0, 0, 0, 1.000)",
          "family": "sans-serif",
          "size": 15
         },
         "type": "-",
         "visible": true,
         "zeroline": false,
         "zerolinecolor": "rgba(0, 0, 0, 1.000)"
        },
        "xaxis4": {
         "anchor": "y4",
         "domain": [
          0.007874015748031496,
          0.9921259842519685
         ],
         "gridcolor": "rgba(0, 0, 0, 0.100)",
         "gridwidth": 0.5,
         "linecolor": "rgba(0, 0, 0, 1.000)",
         "mirror": true,
         "range": [
          0.39961358351052395,
          0.499362007808033
         ],
         "showgrid": true,
         "showline": true,
         "showticklabels": true,
         "tickangle": 0,
         "tickcolor": "rgb(0, 0, 0)",
         "tickfont": {
          "color": "rgba(0, 0, 0, 1.000)",
          "family": "sans-serif",
          "size": 11
         },
         "tickmode": "array",
         "ticks": "inside",
         "ticktext": [
          "0.40",
          "0.42",
          "0.44",
          "0.46",
          "0.48"
         ],
         "tickvals": [
          0.4,
          0.42,
          0.44,
          0.46,
          0.48
         ],
         "title": "",
         "titlefont": {
          "color": "rgba(0, 0, 0, 1.000)",
          "family": "sans-serif",
          "size": 15
         },
         "type": "-",
         "visible": true,
         "zeroline": false,
         "zerolinecolor": "rgba(0, 0, 0, 1.000)"
        },
        "xaxis5": {
         "anchor": "y5",
         "domain": [
          0.007874015748031496,
          0.9921259842519685
         ],
         "gridcolor": "rgba(0, 0, 0, 0.100)",
         "gridwidth": 0.5,
         "linecolor": "rgba(0, 0, 0, 1.000)",
         "mirror": true,
         "range": [
          0.37762459304876317,
          0.5121935758105962
         ],
         "showgrid": true,
         "showline": true,
         "showticklabels": true,
         "tickangle": 0,
         "tickcolor": "rgb(0, 0, 0)",
         "tickfont": {
          "color": "rgba(0, 0, 0, 1.000)",
          "family": "sans-serif",
          "size": 11
         },
         "tickmode": "array",
         "ticks": "inside",
         "ticktext": [
          "0.400",
          "0.425",
          "0.450",
          "0.475",
          "0.500"
         ],
         "tickvals": [
          0.4,
          0.42500000000000004,
          0.45,
          0.47500000000000003,
          0.5
         ],
         "title": "",
         "titlefont": {
          "color": "rgba(0, 0, 0, 1.000)",
          "family": "sans-serif",
          "size": 15
         },
         "type": "-",
         "visible": true,
         "zeroline": false,
         "zerolinecolor": "rgba(0, 0, 0, 1.000)"
        },
        "yaxis1": {
         "anchor": "x1",
         "domain": [
          0.9290616797900263,
          0.9766185476815399
         ],
         "gridcolor": "rgba(0, 0, 0, 0.100)",
         "gridwidth": 0.5,
         "linecolor": "rgba(0, 0, 0, 1.000)",
         "mirror": false,
         "range": [
          0,
          1
         ],
         "showgrid": false,
         "showline": false,
         "showticklabels": false,
         "tickangle": 0,
         "tickcolor": "rgba(0, 0, 0, 0.000)",
         "tickfont": {
          "color": "rgba(0, 0, 0, 1.000)",
          "family": "sans-serif",
          "size": 11
         },
         "tickmode": "array",
         "ticks": "inside",
         "ticktext": [
          "0.0",
          "0.2",
          "0.4",
          "0.6",
          "0.8",
          "1.0"
         ],
         "tickvals": [
          0,
          0.2,
          0.4,
          0.6000000000000001,
          0.8,
          1
         ],
         "title": "",
         "titlefont": {
          "color": "rgba(0, 0, 0, 1.000)",
          "family": "sans-serif",
          "size": 15
         },
         "type": "-",
         "visible": true,
         "zeroline": false,
         "zerolinecolor": "rgba(0, 0, 0, 1.000)"
        },
        "yaxis2": {
         "anchor": "x2",
         "domain": [
          0.7567590769903763,
          0.9343766404199475
         ],
         "gridcolor": "rgba(0, 0, 0, 0.100)",
         "gridwidth": 0.5,
         "linecolor": "rgba(0, 0, 0, 1.000)",
         "mirror": true,
         "range": [
          -1,
          3
         ],
         "showgrid": true,
         "showline": true,
         "showticklabels": true,
         "tickangle": 0,
         "tickcolor": "rgb(0, 0, 0)",
         "tickfont": {
          "color": "rgba(0, 0, 0, 1.000)",
          "family": "sans-serif",
          "size": 11
         },
         "tickmode": "array",
         "ticks": "inside",
         "ticktext": [],
         "tickvals": [],
         "title": "",
         "titlefont": {
          "color": "rgba(0, 0, 0, 1.000)",
          "family": "sans-serif",
          "size": 15
         },
         "type": "-",
         "visible": true,
         "zeroline": false,
         "zerolinecolor": "rgba(0, 0, 0, 1.000)"
        },
        "yaxis3": {
         "anchor": "x3",
         "domain": [
          0.5147714348206475,
          0.6923889982502187
         ],
         "gridcolor": "rgba(0, 0, 0, 0.100)",
         "gridwidth": 0.5,
         "linecolor": "rgba(0, 0, 0, 1.000)",
         "mirror": true,
         "range": [
          -1,
          3
         ],
         "showgrid": true,
         "showline": true,
         "showticklabels": true,
         "tickangle": 0,
         "tickcolor": "rgb(0, 0, 0)",
         "tickfont": {
          "color": "rgba(0, 0, 0, 1.000)",
          "family": "sans-serif",
          "size": 11
         },
         "tickmode": "array",
         "ticks": "inside",
         "ticktext": [],
         "tickvals": [],
         "title": "",
         "titlefont": {
          "color": "rgba(0, 0, 0, 1.000)",
          "family": "sans-serif",
          "size": 15
         },
         "type": "-",
         "visible": true,
         "zeroline": false,
         "zerolinecolor": "rgba(0, 0, 0, 1.000)"
        },
        "yaxis4": {
         "anchor": "x4",
         "domain": [
          0.27278379265091873,
          0.45040135608049003
         ],
         "gridcolor": "rgba(0, 0, 0, 0.100)",
         "gridwidth": 0.5,
         "linecolor": "rgba(0, 0, 0, 1.000)",
         "mirror": true,
         "range": [
          -1,
          3
         ],
         "showgrid": true,
         "showline": true,
         "showticklabels": true,
         "tickangle": 0,
         "tickcolor": "rgb(0, 0, 0)",
         "tickfont": {
          "color": "rgba(0, 0, 0, 1.000)",
          "family": "sans-serif",
          "size": 11
         },
         "tickmode": "array",
         "ticks": "inside",
         "ticktext": [],
         "tickvals": [],
         "title": "",
         "titlefont": {
          "color": "rgba(0, 0, 0, 1.000)",
          "family": "sans-serif",
          "size": 15
         },
         "type": "-",
         "visible": true,
         "zeroline": false,
         "zerolinecolor": "rgba(0, 0, 0, 1.000)"
        },
        "yaxis5": {
         "anchor": "x5",
         "domain": [
          0.030796150481189964,
          0.20841371391076124
         ],
         "gridcolor": "rgba(0, 0, 0, 0.100)",
         "gridwidth": 0.5,
         "linecolor": "rgba(0, 0, 0, 1.000)",
         "mirror": true,
         "range": [
          -1,
          3
         ],
         "showgrid": true,
         "showline": true,
         "showticklabels": true,
         "tickangle": 0,
         "tickcolor": "rgb(0, 0, 0)",
         "tickfont": {
          "color": "rgba(0, 0, 0, 1.000)",
          "family": "sans-serif",
          "size": 11
         },
         "tickmode": "array",
         "ticks": "inside",
         "ticktext": [],
         "tickvals": [],
         "title": "",
         "titlefont": {
          "color": "rgba(0, 0, 0, 1.000)",
          "family": "sans-serif",
          "size": 15
         },
         "type": "-",
         "visible": true,
         "zeroline": false,
         "zerolinecolor": "rgba(0, 0, 0, 1.000)"
        }
       }
      },
      "text/html": [
       "    <div id=\"ccec88cc-4ce0-4e7b-ab5d-21c41406135f\" style=\"width:500px;height:1000px;\"></div>\n",
       "    <script>\n",
       "        requirejs.config({\n",
       "        paths: {\n",
       "            Plotly: 'https://cdn.plot.ly/plotly-2.6.3.min'\n",
       "        }\n",
       "    });\n",
       "    require(['Plotly'], function (Plotly) {\n",
       "\n",
       "        Plotly.newPlot('ccec88cc-4ce0-4e7b-ab5d-21c41406135f', [\n",
       "    {\n",
       "        \"xaxis\": \"x2\",\n",
       "        \"colorbar\": {\n",
       "            \"title\": \"\"\n",
       "        },\n",
       "        \"yaxis\": \"y2\",\n",
       "        \"text\": [\n",
       "            \"class 2\",\n",
       "            \"class 2\"\n",
       "        ],\n",
       "        \"x\": [\n",
       "            0.5589915032156663,\n",
       "            0.5589915032156663\n",
       "        ],\n",
       "        \"showlegend\": true,\n",
       "        \"mode\": \"lines\",\n",
       "        \"name\": \"y1\",\n",
       "        \"zmin\": null,\n",
       "        \"legendgroup\": \"y1\",\n",
       "        \"zmax\": null,\n",
       "        \"line\": {\n",
       "            \"color\": \"rgba(143, 143, 143, 1.000)\",\n",
       "            \"shape\": \"linear\",\n",
       "            \"dash\": \"solid\",\n",
       "            \"width\": null\n",
       "        },\n",
       "        \"y\": [\n",
       "            1.0,\n",
       "            1.0\n",
       "        ],\n",
       "        \"type\": \"scatter\",\n",
       "        \"hoverinfo\": \"text\"\n",
       "    },\n",
       "    {\n",
       "        \"xaxis\": \"x2\",\n",
       "        \"colorbar\": {\n",
       "            \"title\": \"\"\n",
       "        },\n",
       "        \"yaxis\": \"y2\",\n",
       "        \"text\": [\n",
       "            \"class 2\",\n",
       "            \"class 2\"\n",
       "        ],\n",
       "        \"x\": [\n",
       "            0.5589915032156663,\n",
       "            0.6349079262193076\n",
       "        ],\n",
       "        \"showlegend\": true,\n",
       "        \"mode\": \"lines\",\n",
       "        \"name\": \"y2\",\n",
       "        \"zmin\": null,\n",
       "        \"legendgroup\": \"y2\",\n",
       "        \"zmax\": null,\n",
       "        \"line\": {\n",
       "            \"color\": \"rgba(238, 18, 137, 1.000)\",\n",
       "            \"shape\": \"linear\",\n",
       "            \"dash\": \"solid\",\n",
       "            \"width\": null\n",
       "        },\n",
       "        \"y\": [\n",
       "            1.0,\n",
       "            1.0\n",
       "        ],\n",
       "        \"type\": \"scatter\",\n",
       "        \"hoverinfo\": \"text\"\n",
       "    },\n",
       "    {\n",
       "        \"xaxis\": \"x2\",\n",
       "        \"colorbar\": {\n",
       "            \"title\": \"\"\n",
       "        },\n",
       "        \"yaxis\": \"y2\",\n",
       "        \"text\": [\n",
       "            \"class 1\",\n",
       "            \"class 1\"\n",
       "        ],\n",
       "        \"x\": [\n",
       "            0.5639360404052973,\n",
       "            0.5685672879636985\n",
       "        ],\n",
       "        \"showlegend\": true,\n",
       "        \"mode\": \"lines\",\n",
       "        \"name\": \"y3\",\n",
       "        \"zmin\": null,\n",
       "        \"legendgroup\": \"y3\",\n",
       "        \"zmax\": null,\n",
       "        \"line\": {\n",
       "            \"color\": \"rgba(143, 143, 143, 1.000)\",\n",
       "            \"shape\": \"linear\",\n",
       "            \"dash\": \"solid\",\n",
       "            \"width\": null\n",
       "        },\n",
       "        \"y\": [\n",
       "            2.0,\n",
       "            2.0\n",
       "        ],\n",
       "        \"type\": \"scatter\",\n",
       "        \"hoverinfo\": \"text\"\n",
       "    },\n",
       "    {\n",
       "        \"xaxis\": \"x2\",\n",
       "        \"colorbar\": {\n",
       "            \"title\": \"\"\n",
       "        },\n",
       "        \"yaxis\": \"y2\",\n",
       "        \"x\": [\n",
       "            0.5589915032156663,\n",
       "            0.5589915032156663\n",
       "        ],\n",
       "        \"showlegend\": true,\n",
       "        \"mode\": \"lines\",\n",
       "        \"name\": \"y4\",\n",
       "        \"zmin\": null,\n",
       "        \"legendgroup\": \"y4\",\n",
       "        \"zmax\": null,\n",
       "        \"line\": {\n",
       "            \"color\": \"rgba(255, 0, 0, 1.000)\",\n",
       "            \"shape\": \"linear\",\n",
       "            \"dash\": \"dot\",\n",
       "            \"width\": 1\n",
       "        },\n",
       "        \"y\": [\n",
       "            -401.0,\n",
       "            403.0\n",
       "        ],\n",
       "        \"type\": \"scatter\"\n",
       "    },\n",
       "    {\n",
       "        \"xaxis\": \"x3\",\n",
       "        \"colorbar\": {\n",
       "            \"title\": \"\"\n",
       "        },\n",
       "        \"yaxis\": \"y3\",\n",
       "        \"text\": [\n",
       "            \"class 1\",\n",
       "            \"class 1\"\n",
       "        ],\n",
       "        \"x\": [\n",
       "            0.4024366521227176,\n",
       "            0.43037476035593203\n",
       "        ],\n",
       "        \"showlegend\": true,\n",
       "        \"mode\": \"lines\",\n",
       "        \"name\": \"y1\",\n",
       "        \"zmin\": null,\n",
       "        \"legendgroup\": \"y1\",\n",
       "        \"zmax\": null,\n",
       "        \"line\": {\n",
       "            \"color\": \"rgba(143, 143, 143, 1.000)\",\n",
       "            \"shape\": \"linear\",\n",
       "            \"dash\": \"solid\",\n",
       "            \"width\": null\n",
       "        },\n",
       "        \"y\": [\n",
       "            1.0,\n",
       "            1.0\n",
       "        ],\n",
       "        \"type\": \"scatter\",\n",
       "        \"hoverinfo\": \"text\"\n",
       "    },\n",
       "    {\n",
       "        \"xaxis\": \"x3\",\n",
       "        \"colorbar\": {\n",
       "            \"title\": \"\"\n",
       "        },\n",
       "        \"yaxis\": \"y3\",\n",
       "        \"text\": [\n",
       "            \"class 2\",\n",
       "            \"class 2\"\n",
       "        ],\n",
       "        \"x\": [\n",
       "            0.48523076539972543,\n",
       "            0.49653893919583936\n",
       "        ],\n",
       "        \"showlegend\": true,\n",
       "        \"mode\": \"lines\",\n",
       "        \"name\": \"y2\",\n",
       "        \"zmin\": null,\n",
       "        \"legendgroup\": \"y2\",\n",
       "        \"zmax\": null,\n",
       "        \"line\": {\n",
       "            \"color\": \"rgba(0, 178, 238, 1.000)\",\n",
       "            \"shape\": \"linear\",\n",
       "            \"dash\": \"solid\",\n",
       "            \"width\": null\n",
       "        },\n",
       "        \"y\": [\n",
       "            2.0,\n",
       "            2.0\n",
       "        ],\n",
       "        \"type\": \"scatter\",\n",
       "        \"hoverinfo\": \"text\"\n",
       "    },\n",
       "    {\n",
       "        \"xaxis\": \"x4\",\n",
       "        \"colorbar\": {\n",
       "            \"title\": \"\"\n",
       "        },\n",
       "        \"yaxis\": \"y4\",\n",
       "        \"text\": [\n",
       "            \"class 1\",\n",
       "            \"class 1\"\n",
       "        ],\n",
       "        \"x\": [\n",
       "            0.4024366521227176,\n",
       "            0.43037476035593203\n",
       "        ],\n",
       "        \"showlegend\": true,\n",
       "        \"mode\": \"lines\",\n",
       "        \"name\": \"y1\",\n",
       "        \"zmin\": null,\n",
       "        \"legendgroup\": \"y1\",\n",
       "        \"zmax\": null,\n",
       "        \"line\": {\n",
       "            \"color\": \"rgba(143, 143, 143, 1.000)\",\n",
       "            \"shape\": \"linear\",\n",
       "            \"dash\": \"solid\",\n",
       "            \"width\": null\n",
       "        },\n",
       "        \"y\": [\n",
       "            1.0,\n",
       "            1.0\n",
       "        ],\n",
       "        \"type\": \"scatter\",\n",
       "        \"hoverinfo\": \"text\"\n",
       "    },\n",
       "    {\n",
       "        \"xaxis\": \"x4\",\n",
       "        \"colorbar\": {\n",
       "            \"title\": \"\"\n",
       "        },\n",
       "        \"yaxis\": \"y4\",\n",
       "        \"text\": [\n",
       "            \"class 2\",\n",
       "            \"class 2\"\n",
       "        ],\n",
       "        \"x\": [\n",
       "            0.48523076539972543,\n",
       "            0.49653893919583936\n",
       "        ],\n",
       "        \"showlegend\": true,\n",
       "        \"mode\": \"lines\",\n",
       "        \"name\": \"y2\",\n",
       "        \"zmin\": null,\n",
       "        \"legendgroup\": \"y2\",\n",
       "        \"zmax\": null,\n",
       "        \"line\": {\n",
       "            \"color\": \"rgba(0, 178, 238, 1.000)\",\n",
       "            \"shape\": \"linear\",\n",
       "            \"dash\": \"solid\",\n",
       "            \"width\": null\n",
       "        },\n",
       "        \"y\": [\n",
       "            2.0,\n",
       "            2.0\n",
       "        ],\n",
       "        \"type\": \"scatter\",\n",
       "        \"hoverinfo\": \"text\"\n",
       "    },\n",
       "    {\n",
       "        \"xaxis\": \"x5\",\n",
       "        \"colorbar\": {\n",
       "            \"title\": \"\"\n",
       "        },\n",
       "        \"yaxis\": \"y5\",\n",
       "        \"text\": [\n",
       "            \"class 1\",\n",
       "            \"class 1\"\n",
       "        ],\n",
       "        \"x\": [\n",
       "            0.3814331491646641,\n",
       "            0.386574214763859\n",
       "        ],\n",
       "        \"showlegend\": true,\n",
       "        \"mode\": \"lines\",\n",
       "        \"name\": \"y1\",\n",
       "        \"zmin\": null,\n",
       "        \"legendgroup\": \"y1\",\n",
       "        \"zmax\": null,\n",
       "        \"line\": {\n",
       "            \"color\": \"rgba(143, 143, 143, 1.000)\",\n",
       "            \"shape\": \"linear\",\n",
       "            \"dash\": \"solid\",\n",
       "            \"width\": null\n",
       "        },\n",
       "        \"y\": [\n",
       "            1.0,\n",
       "            1.0\n",
       "        ],\n",
       "        \"type\": \"scatter\",\n",
       "        \"hoverinfo\": \"text\"\n",
       "    },\n",
       "    {\n",
       "        \"xaxis\": \"x5\",\n",
       "        \"colorbar\": {\n",
       "            \"title\": \"\"\n",
       "        },\n",
       "        \"yaxis\": \"y5\",\n",
       "        \"text\": [\n",
       "            \"class 2\",\n",
       "            \"class 2\"\n",
       "        ],\n",
       "        \"x\": [\n",
       "            0.4560830876857863,\n",
       "            0.4560830876857863\n",
       "        ],\n",
       "        \"showlegend\": true,\n",
       "        \"mode\": \"lines\",\n",
       "        \"name\": \"y2\",\n",
       "        \"zmin\": null,\n",
       "        \"legendgroup\": \"y2\",\n",
       "        \"zmax\": null,\n",
       "        \"line\": {\n",
       "            \"color\": \"rgba(143, 143, 143, 1.000)\",\n",
       "            \"shape\": \"linear\",\n",
       "            \"dash\": \"solid\",\n",
       "            \"width\": null\n",
       "        },\n",
       "        \"y\": [\n",
       "            2.0,\n",
       "            2.0\n",
       "        ],\n",
       "        \"type\": \"scatter\",\n",
       "        \"hoverinfo\": \"text\"\n",
       "    },\n",
       "    {\n",
       "        \"xaxis\": \"x5\",\n",
       "        \"colorbar\": {\n",
       "            \"title\": \"\"\n",
       "        },\n",
       "        \"yaxis\": \"y5\",\n",
       "        \"text\": [\n",
       "            \"class 2\",\n",
       "            \"class 2\"\n",
       "        ],\n",
       "        \"x\": [\n",
       "            0.4560830876857863,\n",
       "            0.5083850196946953\n",
       "        ],\n",
       "        \"showlegend\": true,\n",
       "        \"mode\": \"lines\",\n",
       "        \"name\": \"y3\",\n",
       "        \"zmin\": null,\n",
       "        \"legendgroup\": \"y3\",\n",
       "        \"zmax\": null,\n",
       "        \"line\": {\n",
       "            \"color\": \"rgba(238, 18, 137, 1.000)\",\n",
       "            \"shape\": \"linear\",\n",
       "            \"dash\": \"solid\",\n",
       "            \"width\": null\n",
       "        },\n",
       "        \"y\": [\n",
       "            2.0,\n",
       "            2.0\n",
       "        ],\n",
       "        \"type\": \"scatter\",\n",
       "        \"hoverinfo\": \"text\"\n",
       "    },\n",
       "    {\n",
       "        \"xaxis\": \"x5\",\n",
       "        \"colorbar\": {\n",
       "            \"title\": \"\"\n",
       "        },\n",
       "        \"yaxis\": \"y5\",\n",
       "        \"x\": [\n",
       "            0.4560830876857863,\n",
       "            0.4560830876857863\n",
       "        ],\n",
       "        \"showlegend\": true,\n",
       "        \"mode\": \"lines\",\n",
       "        \"name\": \"y4\",\n",
       "        \"zmin\": null,\n",
       "        \"legendgroup\": \"y4\",\n",
       "        \"zmax\": null,\n",
       "        \"line\": {\n",
       "            \"color\": \"rgba(255, 0, 0, 1.000)\",\n",
       "            \"shape\": \"linear\",\n",
       "            \"dash\": \"dot\",\n",
       "            \"width\": 1\n",
       "        },\n",
       "        \"y\": [\n",
       "            -401.0,\n",
       "            403.0\n",
       "        ],\n",
       "        \"type\": \"scatter\"\n",
       "    }\n",
       "]\n",
       ", {\n",
       "    \"showlegend\": false,\n",
       "    \"paper_bgcolor\": \"rgba(255, 255, 255, 1.000)\",\n",
       "    \"xaxis1\": {\n",
       "        \"showticklabels\": false,\n",
       "        \"gridwidth\": 0.5,\n",
       "        \"tickvals\": [\n",
       "            0.0,\n",
       "            0.2,\n",
       "            0.4,\n",
       "            0.6000000000000001,\n",
       "            0.8,\n",
       "            1.0\n",
       "        ],\n",
       "        \"range\": [\n",
       "            0.0,\n",
       "            1.0\n",
       "        ],\n",
       "        \"domain\": [\n",
       "            0.06120734908136483,\n",
       "            0.9921259842519684\n",
       "        ],\n",
       "        \"mirror\": false,\n",
       "        \"tickangle\": 0,\n",
       "        \"showline\": false,\n",
       "        \"ticktext\": [\n",
       "            \"0.0\",\n",
       "            \"0.2\",\n",
       "            \"0.4\",\n",
       "            \"0.6\",\n",
       "            \"0.8\",\n",
       "            \"1.0\"\n",
       "        ],\n",
       "        \"zeroline\": false,\n",
       "        \"tickfont\": {\n",
       "            \"color\": \"rgba(0, 0, 0, 1.000)\",\n",
       "            \"family\": \"sans-serif\",\n",
       "            \"size\": 11\n",
       "        },\n",
       "        \"zerolinecolor\": \"rgba(0, 0, 0, 1.000)\",\n",
       "        \"anchor\": \"y1\",\n",
       "        \"visible\": true,\n",
       "        \"ticks\": \"inside\",\n",
       "        \"tickmode\": \"array\",\n",
       "        \"linecolor\": \"rgba(0, 0, 0, 1.000)\",\n",
       "        \"showgrid\": false,\n",
       "        \"title\": \"\",\n",
       "        \"gridcolor\": \"rgba(0, 0, 0, 0.100)\",\n",
       "        \"titlefont\": {\n",
       "            \"color\": \"rgba(0, 0, 0, 1.000)\",\n",
       "            \"family\": \"sans-serif\",\n",
       "            \"size\": 15\n",
       "        },\n",
       "        \"tickcolor\": \"rgba(0, 0, 0, 0.000)\",\n",
       "        \"type\": \"-\"\n",
       "    },\n",
       "    \"yaxis3\": {\n",
       "        \"showticklabels\": true,\n",
       "        \"gridwidth\": 0.5,\n",
       "        \"tickvals\": [],\n",
       "        \"range\": [\n",
       "            -1.0,\n",
       "            3.0\n",
       "        ],\n",
       "        \"domain\": [\n",
       "            0.5147714348206475,\n",
       "            0.6923889982502187\n",
       "        ],\n",
       "        \"mirror\": true,\n",
       "        \"tickangle\": 0,\n",
       "        \"showline\": true,\n",
       "        \"ticktext\": [],\n",
       "        \"zeroline\": false,\n",
       "        \"tickfont\": {\n",
       "            \"color\": \"rgba(0, 0, 0, 1.000)\",\n",
       "            \"family\": \"sans-serif\",\n",
       "            \"size\": 11\n",
       "        },\n",
       "        \"zerolinecolor\": \"rgba(0, 0, 0, 1.000)\",\n",
       "        \"anchor\": \"x3\",\n",
       "        \"visible\": true,\n",
       "        \"ticks\": \"inside\",\n",
       "        \"tickmode\": \"array\",\n",
       "        \"linecolor\": \"rgba(0, 0, 0, 1.000)\",\n",
       "        \"showgrid\": true,\n",
       "        \"title\": \"\",\n",
       "        \"gridcolor\": \"rgba(0, 0, 0, 0.100)\",\n",
       "        \"titlefont\": {\n",
       "            \"color\": \"rgba(0, 0, 0, 1.000)\",\n",
       "            \"family\": \"sans-serif\",\n",
       "            \"size\": 15\n",
       "        },\n",
       "        \"tickcolor\": \"rgb(0, 0, 0)\",\n",
       "        \"type\": \"-\"\n",
       "    },\n",
       "    \"height\": 1000,\n",
       "    \"yaxis4\": {\n",
       "        \"showticklabels\": true,\n",
       "        \"gridwidth\": 0.5,\n",
       "        \"tickvals\": [],\n",
       "        \"range\": [\n",
       "            -1.0,\n",
       "            3.0\n",
       "        ],\n",
       "        \"domain\": [\n",
       "            0.27278379265091873,\n",
       "            0.45040135608049003\n",
       "        ],\n",
       "        \"mirror\": true,\n",
       "        \"tickangle\": 0,\n",
       "        \"showline\": true,\n",
       "        \"ticktext\": [],\n",
       "        \"zeroline\": false,\n",
       "        \"tickfont\": {\n",
       "            \"color\": \"rgba(0, 0, 0, 1.000)\",\n",
       "            \"family\": \"sans-serif\",\n",
       "            \"size\": 11\n",
       "        },\n",
       "        \"zerolinecolor\": \"rgba(0, 0, 0, 1.000)\",\n",
       "        \"anchor\": \"x4\",\n",
       "        \"visible\": true,\n",
       "        \"ticks\": \"inside\",\n",
       "        \"tickmode\": \"array\",\n",
       "        \"linecolor\": \"rgba(0, 0, 0, 1.000)\",\n",
       "        \"showgrid\": true,\n",
       "        \"title\": \"\",\n",
       "        \"gridcolor\": \"rgba(0, 0, 0, 0.100)\",\n",
       "        \"titlefont\": {\n",
       "            \"color\": \"rgba(0, 0, 0, 1.000)\",\n",
       "            \"family\": \"sans-serif\",\n",
       "            \"size\": 15\n",
       "        },\n",
       "        \"tickcolor\": \"rgb(0, 0, 0)\",\n",
       "        \"type\": \"-\"\n",
       "    },\n",
       "    \"yaxis2\": {\n",
       "        \"showticklabels\": true,\n",
       "        \"gridwidth\": 0.5,\n",
       "        \"tickvals\": [],\n",
       "        \"range\": [\n",
       "            -1.0,\n",
       "            3.0\n",
       "        ],\n",
       "        \"domain\": [\n",
       "            0.7567590769903763,\n",
       "            0.9343766404199475\n",
       "        ],\n",
       "        \"mirror\": true,\n",
       "        \"tickangle\": 0,\n",
       "        \"showline\": true,\n",
       "        \"ticktext\": [],\n",
       "        \"zeroline\": false,\n",
       "        \"tickfont\": {\n",
       "            \"color\": \"rgba(0, 0, 0, 1.000)\",\n",
       "            \"family\": \"sans-serif\",\n",
       "            \"size\": 11\n",
       "        },\n",
       "        \"zerolinecolor\": \"rgba(0, 0, 0, 1.000)\",\n",
       "        \"anchor\": \"x2\",\n",
       "        \"visible\": true,\n",
       "        \"ticks\": \"inside\",\n",
       "        \"tickmode\": \"array\",\n",
       "        \"linecolor\": \"rgba(0, 0, 0, 1.000)\",\n",
       "        \"showgrid\": true,\n",
       "        \"title\": \"\",\n",
       "        \"gridcolor\": \"rgba(0, 0, 0, 0.100)\",\n",
       "        \"titlefont\": {\n",
       "            \"color\": \"rgba(0, 0, 0, 1.000)\",\n",
       "            \"family\": \"sans-serif\",\n",
       "            \"size\": 15\n",
       "        },\n",
       "        \"tickcolor\": \"rgb(0, 0, 0)\",\n",
       "        \"type\": \"-\"\n",
       "    },\n",
       "    \"xaxis3\": {\n",
       "        \"showticklabels\": true,\n",
       "        \"gridwidth\": 0.5,\n",
       "        \"tickvals\": [\n",
       "            0.4,\n",
       "            0.42,\n",
       "            0.44,\n",
       "            0.46,\n",
       "            0.48\n",
       "        ],\n",
       "        \"range\": [\n",
       "            0.39961358351052395,\n",
       "            0.499362007808033\n",
       "        ],\n",
       "        \"domain\": [\n",
       "            0.007874015748031496,\n",
       "            0.9921259842519685\n",
       "        ],\n",
       "        \"mirror\": true,\n",
       "        \"tickangle\": 0,\n",
       "        \"showline\": true,\n",
       "        \"ticktext\": [\n",
       "            \"0.40\",\n",
       "            \"0.42\",\n",
       "            \"0.44\",\n",
       "            \"0.46\",\n",
       "            \"0.48\"\n",
       "        ],\n",
       "        \"zeroline\": false,\n",
       "        \"tickfont\": {\n",
       "            \"color\": \"rgba(0, 0, 0, 1.000)\",\n",
       "            \"family\": \"sans-serif\",\n",
       "            \"size\": 11\n",
       "        },\n",
       "        \"zerolinecolor\": \"rgba(0, 0, 0, 1.000)\",\n",
       "        \"anchor\": \"y3\",\n",
       "        \"visible\": true,\n",
       "        \"ticks\": \"inside\",\n",
       "        \"tickmode\": \"array\",\n",
       "        \"linecolor\": \"rgba(0, 0, 0, 1.000)\",\n",
       "        \"showgrid\": true,\n",
       "        \"title\": \"\",\n",
       "        \"gridcolor\": \"rgba(0, 0, 0, 0.100)\",\n",
       "        \"titlefont\": {\n",
       "            \"color\": \"rgba(0, 0, 0, 1.000)\",\n",
       "            \"family\": \"sans-serif\",\n",
       "            \"size\": 15\n",
       "        },\n",
       "        \"tickcolor\": \"rgb(0, 0, 0)\",\n",
       "        \"type\": \"-\"\n",
       "    },\n",
       "    \"legend_position\": {\n",
       "        \"yanchor\": \"auto\",\n",
       "        \"xanchor\": \"auto\",\n",
       "        \"bordercolor\": \"rgba(0, 0, 0, 1.000)\",\n",
       "        \"bgcolor\": \"rgba(255, 255, 255, 1.000)\",\n",
       "        \"borderwidth\": 1,\n",
       "        \"tracegroupgap\": 0,\n",
       "        \"y\": 1.0,\n",
       "        \"font\": {\n",
       "            \"color\": \"rgba(0, 0, 0, 1.000)\",\n",
       "            \"family\": \"sans-serif\",\n",
       "            \"size\": 11\n",
       "        },\n",
       "        \"title\": {\n",
       "            \"font\": {\n",
       "                \"color\": \"rgba(0, 0, 0, 1.000)\",\n",
       "                \"family\": \"sans-serif\",\n",
       "                \"size\": 15\n",
       "            },\n",
       "            \"text\": \"\"\n",
       "        },\n",
       "        \"traceorder\": \"normal\",\n",
       "        \"x\": 1.0\n",
       "    },\n",
       "    \"yaxis5\": {\n",
       "        \"showticklabels\": true,\n",
       "        \"gridwidth\": 0.5,\n",
       "        \"tickvals\": [],\n",
       "        \"range\": [\n",
       "            -1.0,\n",
       "            3.0\n",
       "        ],\n",
       "        \"domain\": [\n",
       "            0.030796150481189964,\n",
       "            0.20841371391076124\n",
       "        ],\n",
       "        \"mirror\": true,\n",
       "        \"tickangle\": 0,\n",
       "        \"showline\": true,\n",
       "        \"ticktext\": [],\n",
       "        \"zeroline\": false,\n",
       "        \"tickfont\": {\n",
       "            \"color\": \"rgba(0, 0, 0, 1.000)\",\n",
       "            \"family\": \"sans-serif\",\n",
       "            \"size\": 11\n",
       "        },\n",
       "        \"zerolinecolor\": \"rgba(0, 0, 0, 1.000)\",\n",
       "        \"anchor\": \"x5\",\n",
       "        \"visible\": true,\n",
       "        \"ticks\": \"inside\",\n",
       "        \"tickmode\": \"array\",\n",
       "        \"linecolor\": \"rgba(0, 0, 0, 1.000)\",\n",
       "        \"showgrid\": true,\n",
       "        \"title\": \"\",\n",
       "        \"gridcolor\": \"rgba(0, 0, 0, 0.100)\",\n",
       "        \"titlefont\": {\n",
       "            \"color\": \"rgba(0, 0, 0, 1.000)\",\n",
       "            \"family\": \"sans-serif\",\n",
       "            \"size\": 15\n",
       "        },\n",
       "        \"tickcolor\": \"rgb(0, 0, 0)\",\n",
       "        \"type\": \"-\"\n",
       "    },\n",
       "    \"xaxis4\": {\n",
       "        \"showticklabels\": true,\n",
       "        \"gridwidth\": 0.5,\n",
       "        \"tickvals\": [\n",
       "            0.4,\n",
       "            0.42,\n",
       "            0.44,\n",
       "            0.46,\n",
       "            0.48\n",
       "        ],\n",
       "        \"range\": [\n",
       "            0.39961358351052395,\n",
       "            0.499362007808033\n",
       "        ],\n",
       "        \"domain\": [\n",
       "            0.007874015748031496,\n",
       "            0.9921259842519685\n",
       "        ],\n",
       "        \"mirror\": true,\n",
       "        \"tickangle\": 0,\n",
       "        \"showline\": true,\n",
       "        \"ticktext\": [\n",
       "            \"0.40\",\n",
       "            \"0.42\",\n",
       "            \"0.44\",\n",
       "            \"0.46\",\n",
       "            \"0.48\"\n",
       "        ],\n",
       "        \"zeroline\": false,\n",
       "        \"tickfont\": {\n",
       "            \"color\": \"rgba(0, 0, 0, 1.000)\",\n",
       "            \"family\": \"sans-serif\",\n",
       "            \"size\": 11\n",
       "        },\n",
       "        \"zerolinecolor\": \"rgba(0, 0, 0, 1.000)\",\n",
       "        \"anchor\": \"y4\",\n",
       "        \"visible\": true,\n",
       "        \"ticks\": \"inside\",\n",
       "        \"tickmode\": \"array\",\n",
       "        \"linecolor\": \"rgba(0, 0, 0, 1.000)\",\n",
       "        \"showgrid\": true,\n",
       "        \"title\": \"\",\n",
       "        \"gridcolor\": \"rgba(0, 0, 0, 0.100)\",\n",
       "        \"titlefont\": {\n",
       "            \"color\": \"rgba(0, 0, 0, 1.000)\",\n",
       "            \"family\": \"sans-serif\",\n",
       "            \"size\": 15\n",
       "        },\n",
       "        \"tickcolor\": \"rgb(0, 0, 0)\",\n",
       "        \"type\": \"-\"\n",
       "    },\n",
       "    \"yaxis1\": {\n",
       "        \"showticklabels\": false,\n",
       "        \"gridwidth\": 0.5,\n",
       "        \"tickvals\": [\n",
       "            0.0,\n",
       "            0.2,\n",
       "            0.4,\n",
       "            0.6000000000000001,\n",
       "            0.8,\n",
       "            1.0\n",
       "        ],\n",
       "        \"range\": [\n",
       "            0.0,\n",
       "            1.0\n",
       "        ],\n",
       "        \"domain\": [\n",
       "            0.9290616797900263,\n",
       "            0.9766185476815399\n",
       "        ],\n",
       "        \"mirror\": false,\n",
       "        \"tickangle\": 0,\n",
       "        \"showline\": false,\n",
       "        \"ticktext\": [\n",
       "            \"0.0\",\n",
       "            \"0.2\",\n",
       "            \"0.4\",\n",
       "            \"0.6\",\n",
       "            \"0.8\",\n",
       "            \"1.0\"\n",
       "        ],\n",
       "        \"zeroline\": false,\n",
       "        \"tickfont\": {\n",
       "            \"color\": \"rgba(0, 0, 0, 1.000)\",\n",
       "            \"family\": \"sans-serif\",\n",
       "            \"size\": 11\n",
       "        },\n",
       "        \"zerolinecolor\": \"rgba(0, 0, 0, 1.000)\",\n",
       "        \"anchor\": \"x1\",\n",
       "        \"visible\": true,\n",
       "        \"ticks\": \"inside\",\n",
       "        \"tickmode\": \"array\",\n",
       "        \"linecolor\": \"rgba(0, 0, 0, 1.000)\",\n",
       "        \"showgrid\": false,\n",
       "        \"title\": \"\",\n",
       "        \"gridcolor\": \"rgba(0, 0, 0, 0.100)\",\n",
       "        \"titlefont\": {\n",
       "            \"color\": \"rgba(0, 0, 0, 1.000)\",\n",
       "            \"family\": \"sans-serif\",\n",
       "            \"size\": 15\n",
       "        },\n",
       "        \"tickcolor\": \"rgba(0, 0, 0, 0.000)\",\n",
       "        \"type\": \"-\"\n",
       "    },\n",
       "    \"annotations\": [\n",
       "        {\n",
       "            \"yanchor\": \"top\",\n",
       "            \"xanchor\": \"center\",\n",
       "            \"rotation\": -0.0,\n",
       "            \"y\": 1.0,\n",
       "            \"font\": {\n",
       "                \"color\": \"rgba(0, 0, 0, 1.000)\",\n",
       "                \"family\": \"sans-serif\",\n",
       "                \"size\": 20\n",
       "            },\n",
       "            \"yref\": \"paper\",\n",
       "            \"showarrow\": false,\n",
       "            \"text\": \"Analogous bar\",\n",
       "            \"xref\": \"paper\",\n",
       "            \"x\": 0.5266666666666667\n",
       "        },\n",
       "        {\n",
       "            \"yanchor\": \"top\",\n",
       "            \"xanchor\": \"center\",\n",
       "            \"rotation\": -0.0,\n",
       "            \"y\": 0.9679505686789152,\n",
       "            \"font\": {\n",
       "                \"color\": \"rgba(0, 0, 0, 1.000)\",\n",
       "                \"family\": \"sans-serif\",\n",
       "                \"size\": 14\n",
       "            },\n",
       "            \"yref\": \"paper\",\n",
       "            \"showarrow\": false,\n",
       "            \"text\": \"Baseline bar extension in Barcode(VR(P))\",\n",
       "            \"xref\": \"paper\",\n",
       "            \"x\": 0.5\n",
       "        },\n",
       "        {\n",
       "            \"yanchor\": \"top\",\n",
       "            \"xanchor\": \"center\",\n",
       "            \"rotation\": -0.0,\n",
       "            \"y\": 0.7259629265091864,\n",
       "            \"font\": {\n",
       "                \"color\": \"rgba(0, 0, 0, 1.000)\",\n",
       "                \"family\": \"sans-serif\",\n",
       "                \"size\": 14\n",
       "            },\n",
       "            \"yref\": \"paper\",\n",
       "            \"showarrow\": false,\n",
       "            \"text\": \"Selected bar in Barcode(W(P,Q))\",\n",
       "            \"xref\": \"paper\",\n",
       "            \"x\": 0.5\n",
       "        },\n",
       "        {\n",
       "            \"yanchor\": \"top\",\n",
       "            \"xanchor\": \"center\",\n",
       "            \"rotation\": -0.0,\n",
       "            \"y\": 0.48397528433945763,\n",
       "            \"font\": {\n",
       "                \"color\": \"rgba(0, 0, 0, 1.000)\",\n",
       "                \"family\": \"sans-serif\",\n",
       "                \"size\": 14\n",
       "            },\n",
       "            \"yref\": \"paper\",\n",
       "            \"showarrow\": false,\n",
       "            \"text\": \"Selected bar in Barcode(W(Q,P))\",\n",
       "            \"xref\": \"paper\",\n",
       "            \"x\": 0.5\n",
       "        },\n",
       "        {\n",
       "            \"yanchor\": \"top\",\n",
       "            \"xanchor\": \"center\",\n",
       "            \"rotation\": -0.0,\n",
       "            \"y\": 0.24198764216972887,\n",
       "            \"font\": {\n",
       "                \"color\": \"rgba(0, 0, 0, 1.000)\",\n",
       "                \"family\": \"sans-serif\",\n",
       "                \"size\": 14\n",
       "            },\n",
       "            \"yref\": \"paper\",\n",
       "            \"showarrow\": false,\n",
       "            \"text\": \"Baseline bar extension in Barcode(VR(Q))\",\n",
       "            \"xref\": \"paper\",\n",
       "            \"x\": 0.5\n",
       "        }\n",
       "    ],\n",
       "    \"xaxis2\": {\n",
       "        \"showticklabels\": true,\n",
       "        \"gridwidth\": 0.5,\n",
       "        \"tickvals\": [\n",
       "            0.56,\n",
       "            0.58,\n",
       "            0.6,\n",
       "            0.62\n",
       "        ],\n",
       "        \"range\": [\n",
       "            0.556714010525557,\n",
       "            0.6371854189094168\n",
       "        ],\n",
       "        \"domain\": [\n",
       "            0.007874015748031496,\n",
       "            0.9921259842519685\n",
       "        ],\n",
       "        \"mirror\": true,\n",
       "        \"tickangle\": 0,\n",
       "        \"showline\": true,\n",
       "        \"ticktext\": [\n",
       "            \"0.56\",\n",
       "            \"0.58\",\n",
       "            \"0.60\",\n",
       "            \"0.62\"\n",
       "        ],\n",
       "        \"zeroline\": false,\n",
       "        \"tickfont\": {\n",
       "            \"color\": \"rgba(0, 0, 0, 1.000)\",\n",
       "            \"family\": \"sans-serif\",\n",
       "            \"size\": 11\n",
       "        },\n",
       "        \"zerolinecolor\": \"rgba(0, 0, 0, 1.000)\",\n",
       "        \"anchor\": \"y2\",\n",
       "        \"visible\": true,\n",
       "        \"ticks\": \"inside\",\n",
       "        \"tickmode\": \"array\",\n",
       "        \"linecolor\": \"rgba(0, 0, 0, 1.000)\",\n",
       "        \"showgrid\": true,\n",
       "        \"title\": \"\",\n",
       "        \"gridcolor\": \"rgba(0, 0, 0, 0.100)\",\n",
       "        \"titlefont\": {\n",
       "            \"color\": \"rgba(0, 0, 0, 1.000)\",\n",
       "            \"family\": \"sans-serif\",\n",
       "            \"size\": 15\n",
       "        },\n",
       "        \"tickcolor\": \"rgb(0, 0, 0)\",\n",
       "        \"type\": \"-\"\n",
       "    },\n",
       "    \"plot_bgcolor\": \"rgba(255, 255, 255, 1.000)\",\n",
       "    \"margin\": {\n",
       "        \"l\": 0,\n",
       "        \"b\": 20,\n",
       "        \"r\": 0,\n",
       "        \"t\": 20\n",
       "    },\n",
       "    \"xaxis5\": {\n",
       "        \"showticklabels\": true,\n",
       "        \"gridwidth\": 0.5,\n",
       "        \"tickvals\": [\n",
       "            0.4,\n",
       "            0.42500000000000004,\n",
       "            0.45,\n",
       "            0.47500000000000003,\n",
       "            0.5\n",
       "        ],\n",
       "        \"range\": [\n",
       "            0.37762459304876317,\n",
       "            0.5121935758105962\n",
       "        ],\n",
       "        \"domain\": [\n",
       "            0.007874015748031496,\n",
       "            0.9921259842519685\n",
       "        ],\n",
       "        \"mirror\": true,\n",
       "        \"tickangle\": 0,\n",
       "        \"showline\": true,\n",
       "        \"ticktext\": [\n",
       "            \"0.400\",\n",
       "            \"0.425\",\n",
       "            \"0.450\",\n",
       "            \"0.475\",\n",
       "            \"0.500\"\n",
       "        ],\n",
       "        \"zeroline\": false,\n",
       "        \"tickfont\": {\n",
       "            \"color\": \"rgba(0, 0, 0, 1.000)\",\n",
       "            \"family\": \"sans-serif\",\n",
       "            \"size\": 11\n",
       "        },\n",
       "        \"zerolinecolor\": \"rgba(0, 0, 0, 1.000)\",\n",
       "        \"anchor\": \"y5\",\n",
       "        \"visible\": true,\n",
       "        \"ticks\": \"inside\",\n",
       "        \"tickmode\": \"array\",\n",
       "        \"linecolor\": \"rgba(0, 0, 0, 1.000)\",\n",
       "        \"showgrid\": true,\n",
       "        \"title\": \"\",\n",
       "        \"gridcolor\": \"rgba(0, 0, 0, 0.100)\",\n",
       "        \"titlefont\": {\n",
       "            \"color\": \"rgba(0, 0, 0, 1.000)\",\n",
       "            \"family\": \"sans-serif\",\n",
       "            \"size\": 15\n",
       "        },\n",
       "        \"tickcolor\": \"rgb(0, 0, 0)\",\n",
       "        \"type\": \"-\"\n",
       "    },\n",
       "    \"width\": 500\n",
       "}\n",
       ");\n",
       "\n",
       "    });\n",
       "    </script>\n"
      ]
     },
     "execution_count": 15,
     "metadata": {},
     "output_type": "execute_result"
    }
   ],
   "source": [
    "plot_analogous_bars(extension_V1, extension_AL)"
   ]
  },
  {
   "cell_type": "markdown",
   "id": "durable-purple",
   "metadata": {},
   "source": [
    "Note: In the above plot, `R1` refers to `V1` and `R2` refers to `AL`"
   ]
  },
  {
   "cell_type": "code",
   "execution_count": 48,
   "id": "bb1731d4",
   "metadata": {},
   "outputs": [
    {
     "data": {
      "text/plain": [
       "Classical MDS(indim = 53, outdim = 2)"
      ]
     },
     "execution_count": 48,
     "metadata": {},
     "output_type": "execute_result"
    }
   ],
   "source": [
    "M = fit(MDS, D_V1; maxoutdim=2)"
   ]
  },
  {
   "cell_type": "code",
   "execution_count": 51,
   "id": "377c6f34",
   "metadata": {},
   "outputs": [
    {
     "data": {
      "text/plain": [
       "2×53 Matrix{Float64}:\n",
       " -0.287624  -1.24924   0.00472278  …  -1.06189   -1.43208   -0.369885\n",
       "  0.663034  -0.367433  0.669586        0.128376  -0.654685   1.04739"
      ]
     },
     "execution_count": 51,
     "metadata": {},
     "output_type": "execute_result"
    }
   ],
   "source": [
    "\n",
    "y = MultivariateStats.transform(M)"
   ]
  },
  {
   "cell_type": "code",
   "execution_count": 58,
   "id": "37d4f6f1",
   "metadata": {},
   "outputs": [
    {
     "data": {
      "text/plain": [
       "1.322305256433991"
      ]
     },
     "execution_count": 58,
     "metadata": {},
     "output_type": "execute_result"
    }
   ],
   "source": [
    "y[1,10]"
   ]
  },
  {
   "cell_type": "code",
   "execution_count": 65,
   "id": "7f86d47b",
   "metadata": {},
   "outputs": [
    {
     "data": {
      "application/vnd.plotly.v1+json": {
       "data": [
        {
         "colorbar": {
          "title": ""
         },
         "legendgroup": "y1",
         "marker": {
          "color": "rgba(0, 154, 250, 1.000)",
          "line": {
           "color": "rgba(0, 0, 0, 1.000)",
           "width": 1
          },
          "size": 8,
          "symbol": "circle"
         },
         "mode": "markers",
         "name": "y1",
         "showlegend": true,
         "type": "scatter",
         "x": [
          -0.287623556004575,
          -1.249242349420747,
          0.004722775955778972,
          0.2907924374691315,
          1.53099741412727,
          0.8951813152846598,
          0.7665013678745609,
          -0.7236113313551846,
          1.4811026957388937,
          1.322305256433991,
          -0.07155612595692196,
          -0.7579687369059805,
          -0.048666336421952956,
          -1.5400582010953057,
          -1.6200828719978666,
          -0.16030909153112538,
          0.825222398379249,
          -0.47655193644878036,
          -0.9527339129143267,
          1.0914161747597597,
          -0.012221735072373055,
          -0.1935126610186736,
          -0.8578378877240824,
          1.5469641887063303,
          1.5997901484309731,
          0.3615318086471572,
          -0.9053495914298367,
          -1.2288111999036369,
          -0.3970304414244972,
          0.07745221820517899,
          -0.864798087734317,
          0.4873984370960064,
          -0.05492912219036186,
          1.5471443340812951,
          1.4283855012443765,
          0.8725157207108741,
          1.4220309233295485,
          -1.1206866012884562,
          -1.0627370813330992,
          0.9524132772268832,
          -1.2068101174867716,
          -1.174835990904961,
          -0.8647953419832811,
          0.6914324615767713,
          -1.4821359766414237,
          -0.9564571580544814,
          1.2643897017035324,
          0.2803752045570686,
          0.9244555547363971,
          1.4706905415479472,
          -1.0618945967900069,
          -1.4320786473464682,
          -0.3698851694441393
         ],
         "xaxis": "x",
         "y": [
          0.663033761789218,
          -0.36743318500422606,
          0.6695861346465284,
          0.8770164944375392,
          0.3580254905837396,
          -1.1269369545845629,
          -1.3411611831654673,
          1.3116559247170956,
          -0.9665315074218875,
          -0.5631237658260507,
          1.4941579230857072,
          0.015753399629629405,
          0.06451653982537901,
          -0.00667961146058566,
          0.22398193828658852,
          1.2140297473448167,
          -1.1644878125746319,
          -0.271556773421858,
          -0.4615992090862554,
          0.7960926824471881,
          1.219386585464206,
          1.419326813725504,
          -0.439497819146492,
          0.21642550350207007,
          0.45186554908195903,
          0.868085186094972,
          0.44289295634054676,
          -0.6040728679832028,
          -0.0713254601316421,
          0.8905527628788521,
          -0.8494826558349852,
          0.9541103749395788,
          1.0603661534431792,
          -0.8121327009448193,
          0.4208607649767888,
          -0.38088370222454426,
          -1.0938821696114658,
          -0.23837932112701327,
          -0.9071374433053897,
          -0.8190500789723855,
          -0.4044561985573985,
          -0.7347384571662857,
          -0.7615930827740748,
          -1.2341980051437527,
          -0.6651993331340925,
          -0.9299732721000303,
          0.64994318097067,
          1.198268571235921,
          0.2117657867856178,
          -0.9972706086801587,
          0.1283764823410378,
          -0.6546851166337003,
          1.0473915874426256
         ],
         "yaxis": "y",
         "zmax": null,
         "zmin": null
        },
        {
         "colorbar": {
          "title": ""
         },
         "legendgroup": "y2",
         "marker": {
          "color": "rgba(227, 111, 71, 1.000)",
          "line": {
           "color": "rgba(0, 0, 0, 1.000)",
           "width": 1
          },
          "size": 8,
          "symbol": "circle"
         },
         "mode": "markers",
         "name": "y2",
         "showlegend": true,
         "type": "scatter",
         "x": [
          -1.6200828719978666,
          -0.7236113313551846,
          -0.9564571580544814,
          -1.4320786473464682,
          -0.07155612595692196,
          1.0914161747597597,
          0.2803752045570686,
          1.4706905415479472,
          1.53099741412727,
          0.7665013678745609,
          0.6914324615767713
         ],
         "xaxis": "x",
         "y": [
          0.22398193828658852,
          1.3116559247170956,
          -0.9299732721000303,
          -0.6546851166337003,
          1.4941579230857072,
          0.7960926824471881,
          1.198268571235921,
          -0.9972706086801587,
          0.3580254905837396,
          -1.3411611831654673,
          -1.2341980051437527
         ],
         "yaxis": "y",
         "zmax": null,
         "zmin": null
        },
        {
         "colorbar": {
          "title": ""
         },
         "legendgroup": "y3",
         "line": {
          "color": "rgba(62, 164, 78, 1.000)",
          "dash": "solid",
          "shape": "linear",
          "width": 1
         },
         "mode": "lines",
         "name": "y3",
         "showlegend": true,
         "type": "scatter",
         "x": [
          -0.07155612595692196,
          -0.7236113313551846
         ],
         "xaxis": "x",
         "y": [
          1.4941579230857072,
          1.3116559247170956
         ],
         "yaxis": "y",
         "zmax": null,
         "zmin": null
        },
        {
         "colorbar": {
          "title": ""
         },
         "legendgroup": "y4",
         "line": {
          "color": "rgba(195, 113, 210, 1.000)",
          "dash": "solid",
          "shape": "linear",
          "width": 1
         },
         "mode": "lines",
         "name": "y4",
         "showlegend": true,
         "type": "scatter",
         "x": [
          0.6914324615767713,
          0.7665013678745609
         ],
         "xaxis": "x",
         "y": [
          -1.2341980051437527,
          -1.3411611831654673
         ],
         "yaxis": "y",
         "zmax": null,
         "zmin": null
        },
        {
         "colorbar": {
          "title": ""
         },
         "legendgroup": "y5",
         "line": {
          "color": "rgba(172, 142, 24, 1.000)",
          "dash": "solid",
          "shape": "linear",
          "width": 1
         },
         "mode": "lines",
         "name": "y5",
         "showlegend": true,
         "type": "scatter",
         "x": [
          -0.7236113313551846,
          -1.6200828719978666
         ],
         "xaxis": "x",
         "y": [
          1.3116559247170956,
          0.22398193828658852
         ],
         "yaxis": "y",
         "zmax": null,
         "zmin": null
        },
        {
         "colorbar": {
          "title": ""
         },
         "legendgroup": "y6",
         "line": {
          "color": "rgba(0, 170, 174, 1.000)",
          "dash": "solid",
          "shape": "linear",
          "width": 1
         },
         "mode": "lines",
         "name": "y6",
         "showlegend": true,
         "type": "scatter",
         "x": [
          0.2803752045570686,
          -0.07155612595692196
         ],
         "xaxis": "x",
         "y": [
          1.198268571235921,
          1.4941579230857072
         ],
         "yaxis": "y",
         "zmax": null,
         "zmin": null
        },
        {
         "colorbar": {
          "title": ""
         },
         "legendgroup": "y7",
         "line": {
          "color": "rgba(237, 94, 147, 1.000)",
          "dash": "solid",
          "shape": "linear",
          "width": 1
         },
         "mode": "lines",
         "name": "y7",
         "showlegend": true,
         "type": "scatter",
         "x": [
          1.53099741412727,
          1.0914161747597597
         ],
         "xaxis": "x",
         "y": [
          0.3580254905837396,
          0.7960926824471881
         ],
         "yaxis": "y",
         "zmax": null,
         "zmin": null
        },
        {
         "colorbar": {
          "title": ""
         },
         "legendgroup": "y8",
         "line": {
          "color": "rgba(198, 130, 37, 1.000)",
          "dash": "solid",
          "shape": "linear",
          "width": 1
         },
         "mode": "lines",
         "name": "y8",
         "showlegend": true,
         "type": "scatter",
         "x": [
          -1.4320786473464682,
          -1.6200828719978666
         ],
         "xaxis": "x",
         "y": [
          -0.6546851166337003,
          0.22398193828658852
         ],
         "yaxis": "y",
         "zmax": null,
         "zmin": null
        },
        {
         "colorbar": {
          "title": ""
         },
         "legendgroup": "y9",
         "line": {
          "color": "rgba(0, 169, 141, 1.000)",
          "dash": "solid",
          "shape": "linear",
          "width": 1
         },
         "mode": "lines",
         "name": "y9",
         "showlegend": true,
         "type": "scatter",
         "x": [
          0.7665013678745609,
          1.4706905415479472
         ],
         "xaxis": "x",
         "y": [
          -1.3411611831654673,
          -0.9972706086801587
         ],
         "yaxis": "y",
         "zmax": null,
         "zmin": null
        },
        {
         "colorbar": {
          "title": ""
         },
         "legendgroup": "y10",
         "line": {
          "color": "rgba(142, 151, 30, 1.000)",
          "dash": "solid",
          "shape": "linear",
          "width": 1
         },
         "mode": "lines",
         "name": "y10",
         "showlegend": true,
         "type": "scatter",
         "x": [
          0.2803752045570686,
          1.0914161747597597
         ],
         "xaxis": "x",
         "y": [
          1.198268571235921,
          0.7960926824471881
         ],
         "yaxis": "y",
         "zmax": null,
         "zmin": null
        },
        {
         "colorbar": {
          "title": ""
         },
         "legendgroup": "y11",
         "line": {
          "color": "rgba(0, 169, 204, 1.000)",
          "dash": "solid",
          "shape": "linear",
          "width": 1
         },
         "mode": "lines",
         "name": "y11",
         "showlegend": true,
         "type": "scatter",
         "x": [
          -1.4320786473464682,
          -0.9564571580544814
         ],
         "xaxis": "x",
         "y": [
          -0.6546851166337003,
          -0.9299732721000303
         ],
         "yaxis": "y",
         "zmax": null,
         "zmin": null
        },
        {
         "colorbar": {
          "title": ""
         },
         "legendgroup": "y12",
         "line": {
          "color": "rgba(155, 127, 233, 1.000)",
          "dash": "solid",
          "shape": "linear",
          "width": 1
         },
         "mode": "lines",
         "name": "y12",
         "showlegend": true,
         "type": "scatter",
         "x": [
          0.6914324615767713,
          -0.9564571580544814
         ],
         "xaxis": "x",
         "y": [
          -1.2341980051437527,
          -0.9299732721000303
         ],
         "yaxis": "y",
         "zmax": null,
         "zmin": null
        },
        {
         "colorbar": {
          "title": ""
         },
         "legendgroup": "y13",
         "line": {
          "color": "rgba(97, 141, 246, 1.000)",
          "dash": "solid",
          "shape": "linear",
          "width": 1
         },
         "mode": "lines",
         "name": "y13",
         "showlegend": true,
         "type": "scatter",
         "x": [
          1.53099741412727,
          1.4706905415479472
         ],
         "xaxis": "x",
         "y": [
          0.3580254905837396,
          -0.9972706086801587
         ],
         "yaxis": "y",
         "zmax": null,
         "zmin": null
        }
       ],
       "layout": {
        "annotations": [],
        "height": 400,
        "legend_position": {
         "bgcolor": "rgba(255, 255, 255, 1.000)",
         "bordercolor": "rgba(0, 0, 0, 1.000)",
         "borderwidth": 1,
         "font": {
          "color": "rgba(0, 0, 0, 1.000)",
          "family": "sans-serif",
          "size": 11
         },
         "title": {
          "font": {
           "color": "rgba(0, 0, 0, 1.000)",
           "family": "sans-serif",
           "size": 15
          },
          "text": ""
         },
         "tracegroupgap": 0,
         "traceorder": "normal",
         "x": 1,
         "xanchor": "auto",
         "y": 1,
         "yanchor": "auto"
        },
        "margin": {
         "b": 20,
         "l": 0,
         "r": 0,
         "t": 20
        },
        "paper_bgcolor": "rgba(255, 255, 255, 1.000)",
        "plot_bgcolor": "rgba(255, 255, 255, 1.000)",
        "showlegend": true,
        "width": 600,
        "xaxis": {
         "anchor": "y",
         "domain": [
          0.0658209390492855,
          0.9934383202099738
         ],
         "gridcolor": "rgba(0, 0, 0, 0.100)",
         "gridwidth": 0.5,
         "linecolor": "rgba(0, 0, 0, 1.000)",
         "mirror": false,
         "range": [
          -1.7166790626107318,
          1.6963863390438383
         ],
         "showgrid": true,
         "showline": true,
         "showticklabels": true,
         "tickangle": 0,
         "tickcolor": "rgb(0, 0, 0)",
         "tickfont": {
          "color": "rgba(0, 0, 0, 1.000)",
          "family": "sans-serif",
          "size": 11
         },
         "tickmode": "array",
         "ticks": "inside",
         "ticktext": [
          "−1.5",
          "−1.0",
          "−0.5",
          "0.0",
          "0.5",
          "1.0",
          "1.5"
         ],
         "tickvals": [
          -1.5,
          -1,
          -0.5,
          0,
          0.5,
          1,
          1.5
         ],
         "title": "",
         "titlefont": {
          "color": "rgba(0, 0, 0, 1.000)",
          "family": "sans-serif",
          "size": 15
         },
         "type": "-",
         "visible": true,
         "zeroline": false,
         "zerolinecolor": "rgba(0, 0, 0, 1.000)"
        },
        "yaxis": {
         "anchor": "x",
         "domain": [
          0.03762029746281716,
          0.9901574803149606
         ],
         "gridcolor": "rgba(0, 0, 0, 0.100)",
         "gridwidth": 0.5,
         "linecolor": "rgba(0, 0, 0, 1.000)",
         "mirror": false,
         "range": [
          -1.4262207563530025,
          1.5792174962732424
         ],
         "showgrid": true,
         "showline": true,
         "showticklabels": true,
         "tickangle": 0,
         "tickcolor": "rgb(0, 0, 0)",
         "tickfont": {
          "color": "rgba(0, 0, 0, 1.000)",
          "family": "sans-serif",
          "size": 11
         },
         "tickmode": "array",
         "ticks": "inside",
         "ticktext": [
          "−1.0",
          "−0.5",
          "0.0",
          "0.5",
          "1.0",
          "1.5"
         ],
         "tickvals": [
          -1,
          -0.5,
          0,
          0.5,
          1,
          1.5
         ],
         "title": "",
         "titlefont": {
          "color": "rgba(0, 0, 0, 1.000)",
          "family": "sans-serif",
          "size": 15
         },
         "type": "-",
         "visible": true,
         "zeroline": false,
         "zerolinecolor": "rgba(0, 0, 0, 1.000)"
        }
       }
      },
      "text/html": [
       "    <div id=\"d6997558-584a-4e2e-90d6-0859d6f7126e\" style=\"width:600px;height:400px;\"></div>\n",
       "    <script>\n",
       "        requirejs.config({\n",
       "        paths: {\n",
       "            Plotly: 'https://cdn.plot.ly/plotly-2.6.3.min'\n",
       "        }\n",
       "    });\n",
       "    require(['Plotly'], function (Plotly) {\n",
       "\n",
       "        Plotly.newPlot('d6997558-584a-4e2e-90d6-0859d6f7126e', [\n",
       "    {\n",
       "        \"xaxis\": \"x\",\n",
       "        \"colorbar\": {\n",
       "            \"title\": \"\"\n",
       "        },\n",
       "        \"yaxis\": \"y\",\n",
       "        \"x\": [\n",
       "            -0.287623556004575,\n",
       "            -1.249242349420747,\n",
       "            0.004722775955778972,\n",
       "            0.2907924374691315,\n",
       "            1.53099741412727,\n",
       "            0.8951813152846598,\n",
       "            0.7665013678745609,\n",
       "            -0.7236113313551846,\n",
       "            1.4811026957388937,\n",
       "            1.322305256433991,\n",
       "            -0.07155612595692196,\n",
       "            -0.7579687369059805,\n",
       "            -0.048666336421952956,\n",
       "            -1.5400582010953057,\n",
       "            -1.6200828719978666,\n",
       "            -0.16030909153112538,\n",
       "            0.825222398379249,\n",
       "            -0.47655193644878036,\n",
       "            -0.9527339129143267,\n",
       "            1.0914161747597597,\n",
       "            -0.012221735072373055,\n",
       "            -0.1935126610186736,\n",
       "            -0.8578378877240824,\n",
       "            1.5469641887063303,\n",
       "            1.5997901484309731,\n",
       "            0.3615318086471572,\n",
       "            -0.9053495914298367,\n",
       "            -1.2288111999036369,\n",
       "            -0.3970304414244972,\n",
       "            0.07745221820517899,\n",
       "            -0.864798087734317,\n",
       "            0.4873984370960064,\n",
       "            -0.05492912219036186,\n",
       "            1.5471443340812951,\n",
       "            1.4283855012443765,\n",
       "            0.8725157207108741,\n",
       "            1.4220309233295485,\n",
       "            -1.1206866012884562,\n",
       "            -1.0627370813330992,\n",
       "            0.9524132772268832,\n",
       "            -1.2068101174867716,\n",
       "            -1.174835990904961,\n",
       "            -0.8647953419832811,\n",
       "            0.6914324615767713,\n",
       "            -1.4821359766414237,\n",
       "            -0.9564571580544814,\n",
       "            1.2643897017035324,\n",
       "            0.2803752045570686,\n",
       "            0.9244555547363971,\n",
       "            1.4706905415479472,\n",
       "            -1.0618945967900069,\n",
       "            -1.4320786473464682,\n",
       "            -0.3698851694441393\n",
       "        ],\n",
       "        \"showlegend\": true,\n",
       "        \"mode\": \"markers\",\n",
       "        \"name\": \"y1\",\n",
       "        \"zmin\": null,\n",
       "        \"legendgroup\": \"y1\",\n",
       "        \"marker\": {\n",
       "            \"symbol\": \"circle\",\n",
       "            \"color\": \"rgba(0, 154, 250, 1.000)\",\n",
       "            \"line\": {\n",
       "                \"color\": \"rgba(0, 0, 0, 1.000)\",\n",
       "                \"width\": 1\n",
       "            },\n",
       "            \"size\": 8\n",
       "        },\n",
       "        \"zmax\": null,\n",
       "        \"y\": [\n",
       "            0.663033761789218,\n",
       "            -0.36743318500422606,\n",
       "            0.6695861346465284,\n",
       "            0.8770164944375392,\n",
       "            0.3580254905837396,\n",
       "            -1.1269369545845629,\n",
       "            -1.3411611831654673,\n",
       "            1.3116559247170956,\n",
       "            -0.9665315074218875,\n",
       "            -0.5631237658260507,\n",
       "            1.4941579230857072,\n",
       "            0.015753399629629405,\n",
       "            0.06451653982537901,\n",
       "            -0.00667961146058566,\n",
       "            0.22398193828658852,\n",
       "            1.2140297473448167,\n",
       "            -1.1644878125746319,\n",
       "            -0.271556773421858,\n",
       "            -0.4615992090862554,\n",
       "            0.7960926824471881,\n",
       "            1.219386585464206,\n",
       "            1.419326813725504,\n",
       "            -0.439497819146492,\n",
       "            0.21642550350207007,\n",
       "            0.45186554908195903,\n",
       "            0.868085186094972,\n",
       "            0.44289295634054676,\n",
       "            -0.6040728679832028,\n",
       "            -0.0713254601316421,\n",
       "            0.8905527628788521,\n",
       "            -0.8494826558349852,\n",
       "            0.9541103749395788,\n",
       "            1.0603661534431792,\n",
       "            -0.8121327009448193,\n",
       "            0.4208607649767888,\n",
       "            -0.38088370222454426,\n",
       "            -1.0938821696114658,\n",
       "            -0.23837932112701327,\n",
       "            -0.9071374433053897,\n",
       "            -0.8190500789723855,\n",
       "            -0.4044561985573985,\n",
       "            -0.7347384571662857,\n",
       "            -0.7615930827740748,\n",
       "            -1.2341980051437527,\n",
       "            -0.6651993331340925,\n",
       "            -0.9299732721000303,\n",
       "            0.64994318097067,\n",
       "            1.198268571235921,\n",
       "            0.2117657867856178,\n",
       "            -0.9972706086801587,\n",
       "            0.1283764823410378,\n",
       "            -0.6546851166337003,\n",
       "            1.0473915874426256\n",
       "        ],\n",
       "        \"type\": \"scatter\"\n",
       "    },\n",
       "    {\n",
       "        \"xaxis\": \"x\",\n",
       "        \"colorbar\": {\n",
       "            \"title\": \"\"\n",
       "        },\n",
       "        \"yaxis\": \"y\",\n",
       "        \"x\": [\n",
       "            -1.6200828719978666,\n",
       "            -0.7236113313551846,\n",
       "            -0.9564571580544814,\n",
       "            -1.4320786473464682,\n",
       "            -0.07155612595692196,\n",
       "            1.0914161747597597,\n",
       "            0.2803752045570686,\n",
       "            1.4706905415479472,\n",
       "            1.53099741412727,\n",
       "            0.7665013678745609,\n",
       "            0.6914324615767713\n",
       "        ],\n",
       "        \"showlegend\": true,\n",
       "        \"mode\": \"markers\",\n",
       "        \"name\": \"y2\",\n",
       "        \"zmin\": null,\n",
       "        \"legendgroup\": \"y2\",\n",
       "        \"marker\": {\n",
       "            \"symbol\": \"circle\",\n",
       "            \"color\": \"rgba(227, 111, 71, 1.000)\",\n",
       "            \"line\": {\n",
       "                \"color\": \"rgba(0, 0, 0, 1.000)\",\n",
       "                \"width\": 1\n",
       "            },\n",
       "            \"size\": 8\n",
       "        },\n",
       "        \"zmax\": null,\n",
       "        \"y\": [\n",
       "            0.22398193828658852,\n",
       "            1.3116559247170956,\n",
       "            -0.9299732721000303,\n",
       "            -0.6546851166337003,\n",
       "            1.4941579230857072,\n",
       "            0.7960926824471881,\n",
       "            1.198268571235921,\n",
       "            -0.9972706086801587,\n",
       "            0.3580254905837396,\n",
       "            -1.3411611831654673,\n",
       "            -1.2341980051437527\n",
       "        ],\n",
       "        \"type\": \"scatter\"\n",
       "    },\n",
       "    {\n",
       "        \"xaxis\": \"x\",\n",
       "        \"colorbar\": {\n",
       "            \"title\": \"\"\n",
       "        },\n",
       "        \"yaxis\": \"y\",\n",
       "        \"x\": [\n",
       "            -0.07155612595692196,\n",
       "            -0.7236113313551846\n",
       "        ],\n",
       "        \"showlegend\": true,\n",
       "        \"mode\": \"lines\",\n",
       "        \"name\": \"y3\",\n",
       "        \"zmin\": null,\n",
       "        \"legendgroup\": \"y3\",\n",
       "        \"zmax\": null,\n",
       "        \"line\": {\n",
       "            \"color\": \"rgba(62, 164, 78, 1.000)\",\n",
       "            \"shape\": \"linear\",\n",
       "            \"dash\": \"solid\",\n",
       "            \"width\": 1\n",
       "        },\n",
       "        \"y\": [\n",
       "            1.4941579230857072,\n",
       "            1.3116559247170956\n",
       "        ],\n",
       "        \"type\": \"scatter\"\n",
       "    },\n",
       "    {\n",
       "        \"xaxis\": \"x\",\n",
       "        \"colorbar\": {\n",
       "            \"title\": \"\"\n",
       "        },\n",
       "        \"yaxis\": \"y\",\n",
       "        \"x\": [\n",
       "            0.6914324615767713,\n",
       "            0.7665013678745609\n",
       "        ],\n",
       "        \"showlegend\": true,\n",
       "        \"mode\": \"lines\",\n",
       "        \"name\": \"y4\",\n",
       "        \"zmin\": null,\n",
       "        \"legendgroup\": \"y4\",\n",
       "        \"zmax\": null,\n",
       "        \"line\": {\n",
       "            \"color\": \"rgba(195, 113, 210, 1.000)\",\n",
       "            \"shape\": \"linear\",\n",
       "            \"dash\": \"solid\",\n",
       "            \"width\": 1\n",
       "        },\n",
       "        \"y\": [\n",
       "            -1.2341980051437527,\n",
       "            -1.3411611831654673\n",
       "        ],\n",
       "        \"type\": \"scatter\"\n",
       "    },\n",
       "    {\n",
       "        \"xaxis\": \"x\",\n",
       "        \"colorbar\": {\n",
       "            \"title\": \"\"\n",
       "        },\n",
       "        \"yaxis\": \"y\",\n",
       "        \"x\": [\n",
       "            -0.7236113313551846,\n",
       "            -1.6200828719978666\n",
       "        ],\n",
       "        \"showlegend\": true,\n",
       "        \"mode\": \"lines\",\n",
       "        \"name\": \"y5\",\n",
       "        \"zmin\": null,\n",
       "        \"legendgroup\": \"y5\",\n",
       "        \"zmax\": null,\n",
       "        \"line\": {\n",
       "            \"color\": \"rgba(172, 142, 24, 1.000)\",\n",
       "            \"shape\": \"linear\",\n",
       "            \"dash\": \"solid\",\n",
       "            \"width\": 1\n",
       "        },\n",
       "        \"y\": [\n",
       "            1.3116559247170956,\n",
       "            0.22398193828658852\n",
       "        ],\n",
       "        \"type\": \"scatter\"\n",
       "    },\n",
       "    {\n",
       "        \"xaxis\": \"x\",\n",
       "        \"colorbar\": {\n",
       "            \"title\": \"\"\n",
       "        },\n",
       "        \"yaxis\": \"y\",\n",
       "        \"x\": [\n",
       "            0.2803752045570686,\n",
       "            -0.07155612595692196\n",
       "        ],\n",
       "        \"showlegend\": true,\n",
       "        \"mode\": \"lines\",\n",
       "        \"name\": \"y6\",\n",
       "        \"zmin\": null,\n",
       "        \"legendgroup\": \"y6\",\n",
       "        \"zmax\": null,\n",
       "        \"line\": {\n",
       "            \"color\": \"rgba(0, 170, 174, 1.000)\",\n",
       "            \"shape\": \"linear\",\n",
       "            \"dash\": \"solid\",\n",
       "            \"width\": 1\n",
       "        },\n",
       "        \"y\": [\n",
       "            1.198268571235921,\n",
       "            1.4941579230857072\n",
       "        ],\n",
       "        \"type\": \"scatter\"\n",
       "    },\n",
       "    {\n",
       "        \"xaxis\": \"x\",\n",
       "        \"colorbar\": {\n",
       "            \"title\": \"\"\n",
       "        },\n",
       "        \"yaxis\": \"y\",\n",
       "        \"x\": [\n",
       "            1.53099741412727,\n",
       "            1.0914161747597597\n",
       "        ],\n",
       "        \"showlegend\": true,\n",
       "        \"mode\": \"lines\",\n",
       "        \"name\": \"y7\",\n",
       "        \"zmin\": null,\n",
       "        \"legendgroup\": \"y7\",\n",
       "        \"zmax\": null,\n",
       "        \"line\": {\n",
       "            \"color\": \"rgba(237, 94, 147, 1.000)\",\n",
       "            \"shape\": \"linear\",\n",
       "            \"dash\": \"solid\",\n",
       "            \"width\": 1\n",
       "        },\n",
       "        \"y\": [\n",
       "            0.3580254905837396,\n",
       "            0.7960926824471881\n",
       "        ],\n",
       "        \"type\": \"scatter\"\n",
       "    },\n",
       "    {\n",
       "        \"xaxis\": \"x\",\n",
       "        \"colorbar\": {\n",
       "            \"title\": \"\"\n",
       "        },\n",
       "        \"yaxis\": \"y\",\n",
       "        \"x\": [\n",
       "            -1.4320786473464682,\n",
       "            -1.6200828719978666\n",
       "        ],\n",
       "        \"showlegend\": true,\n",
       "        \"mode\": \"lines\",\n",
       "        \"name\": \"y8\",\n",
       "        \"zmin\": null,\n",
       "        \"legendgroup\": \"y8\",\n",
       "        \"zmax\": null,\n",
       "        \"line\": {\n",
       "            \"color\": \"rgba(198, 130, 37, 1.000)\",\n",
       "            \"shape\": \"linear\",\n",
       "            \"dash\": \"solid\",\n",
       "            \"width\": 1\n",
       "        },\n",
       "        \"y\": [\n",
       "            -0.6546851166337003,\n",
       "            0.22398193828658852\n",
       "        ],\n",
       "        \"type\": \"scatter\"\n",
       "    },\n",
       "    {\n",
       "        \"xaxis\": \"x\",\n",
       "        \"colorbar\": {\n",
       "            \"title\": \"\"\n",
       "        },\n",
       "        \"yaxis\": \"y\",\n",
       "        \"x\": [\n",
       "            0.7665013678745609,\n",
       "            1.4706905415479472\n",
       "        ],\n",
       "        \"showlegend\": true,\n",
       "        \"mode\": \"lines\",\n",
       "        \"name\": \"y9\",\n",
       "        \"zmin\": null,\n",
       "        \"legendgroup\": \"y9\",\n",
       "        \"zmax\": null,\n",
       "        \"line\": {\n",
       "            \"color\": \"rgba(0, 169, 141, 1.000)\",\n",
       "            \"shape\": \"linear\",\n",
       "            \"dash\": \"solid\",\n",
       "            \"width\": 1\n",
       "        },\n",
       "        \"y\": [\n",
       "            -1.3411611831654673,\n",
       "            -0.9972706086801587\n",
       "        ],\n",
       "        \"type\": \"scatter\"\n",
       "    },\n",
       "    {\n",
       "        \"xaxis\": \"x\",\n",
       "        \"colorbar\": {\n",
       "            \"title\": \"\"\n",
       "        },\n",
       "        \"yaxis\": \"y\",\n",
       "        \"x\": [\n",
       "            0.2803752045570686,\n",
       "            1.0914161747597597\n",
       "        ],\n",
       "        \"showlegend\": true,\n",
       "        \"mode\": \"lines\",\n",
       "        \"name\": \"y10\",\n",
       "        \"zmin\": null,\n",
       "        \"legendgroup\": \"y10\",\n",
       "        \"zmax\": null,\n",
       "        \"line\": {\n",
       "            \"color\": \"rgba(142, 151, 30, 1.000)\",\n",
       "            \"shape\": \"linear\",\n",
       "            \"dash\": \"solid\",\n",
       "            \"width\": 1\n",
       "        },\n",
       "        \"y\": [\n",
       "            1.198268571235921,\n",
       "            0.7960926824471881\n",
       "        ],\n",
       "        \"type\": \"scatter\"\n",
       "    },\n",
       "    {\n",
       "        \"xaxis\": \"x\",\n",
       "        \"colorbar\": {\n",
       "            \"title\": \"\"\n",
       "        },\n",
       "        \"yaxis\": \"y\",\n",
       "        \"x\": [\n",
       "            -1.4320786473464682,\n",
       "            -0.9564571580544814\n",
       "        ],\n",
       "        \"showlegend\": true,\n",
       "        \"mode\": \"lines\",\n",
       "        \"name\": \"y11\",\n",
       "        \"zmin\": null,\n",
       "        \"legendgroup\": \"y11\",\n",
       "        \"zmax\": null,\n",
       "        \"line\": {\n",
       "            \"color\": \"rgba(0, 169, 204, 1.000)\",\n",
       "            \"shape\": \"linear\",\n",
       "            \"dash\": \"solid\",\n",
       "            \"width\": 1\n",
       "        },\n",
       "        \"y\": [\n",
       "            -0.6546851166337003,\n",
       "            -0.9299732721000303\n",
       "        ],\n",
       "        \"type\": \"scatter\"\n",
       "    },\n",
       "    {\n",
       "        \"xaxis\": \"x\",\n",
       "        \"colorbar\": {\n",
       "            \"title\": \"\"\n",
       "        },\n",
       "        \"yaxis\": \"y\",\n",
       "        \"x\": [\n",
       "            0.6914324615767713,\n",
       "            -0.9564571580544814\n",
       "        ],\n",
       "        \"showlegend\": true,\n",
       "        \"mode\": \"lines\",\n",
       "        \"name\": \"y12\",\n",
       "        \"zmin\": null,\n",
       "        \"legendgroup\": \"y12\",\n",
       "        \"zmax\": null,\n",
       "        \"line\": {\n",
       "            \"color\": \"rgba(155, 127, 233, 1.000)\",\n",
       "            \"shape\": \"linear\",\n",
       "            \"dash\": \"solid\",\n",
       "            \"width\": 1\n",
       "        },\n",
       "        \"y\": [\n",
       "            -1.2341980051437527,\n",
       "            -0.9299732721000303\n",
       "        ],\n",
       "        \"type\": \"scatter\"\n",
       "    },\n",
       "    {\n",
       "        \"xaxis\": \"x\",\n",
       "        \"colorbar\": {\n",
       "            \"title\": \"\"\n",
       "        },\n",
       "        \"yaxis\": \"y\",\n",
       "        \"x\": [\n",
       "            1.53099741412727,\n",
       "            1.4706905415479472\n",
       "        ],\n",
       "        \"showlegend\": true,\n",
       "        \"mode\": \"lines\",\n",
       "        \"name\": \"y13\",\n",
       "        \"zmin\": null,\n",
       "        \"legendgroup\": \"y13\",\n",
       "        \"zmax\": null,\n",
       "        \"line\": {\n",
       "            \"color\": \"rgba(97, 141, 246, 1.000)\",\n",
       "            \"shape\": \"linear\",\n",
       "            \"dash\": \"solid\",\n",
       "            \"width\": 1\n",
       "        },\n",
       "        \"y\": [\n",
       "            0.3580254905837396,\n",
       "            -0.9972706086801587\n",
       "        ],\n",
       "        \"type\": \"scatter\"\n",
       "    }\n",
       "]\n",
       ", {\n",
       "    \"showlegend\": true,\n",
       "    \"xaxis\": {\n",
       "        \"showticklabels\": true,\n",
       "        \"gridwidth\": 0.5,\n",
       "        \"tickvals\": [\n",
       "            -1.5,\n",
       "            -1.0,\n",
       "            -0.5,\n",
       "            0.0,\n",
       "            0.5,\n",
       "            1.0,\n",
       "            1.5\n",
       "        ],\n",
       "        \"range\": [\n",
       "            -1.7166790626107318,\n",
       "            1.6963863390438383\n",
       "        ],\n",
       "        \"domain\": [\n",
       "            0.0658209390492855,\n",
       "            0.9934383202099738\n",
       "        ],\n",
       "        \"mirror\": false,\n",
       "        \"tickangle\": 0,\n",
       "        \"showline\": true,\n",
       "        \"ticktext\": [\n",
       "            \"−1.5\",\n",
       "            \"−1.0\",\n",
       "            \"−0.5\",\n",
       "            \"0.0\",\n",
       "            \"0.5\",\n",
       "            \"1.0\",\n",
       "            \"1.5\"\n",
       "        ],\n",
       "        \"zeroline\": false,\n",
       "        \"tickfont\": {\n",
       "            \"color\": \"rgba(0, 0, 0, 1.000)\",\n",
       "            \"family\": \"sans-serif\",\n",
       "            \"size\": 11\n",
       "        },\n",
       "        \"zerolinecolor\": \"rgba(0, 0, 0, 1.000)\",\n",
       "        \"anchor\": \"y\",\n",
       "        \"visible\": true,\n",
       "        \"ticks\": \"inside\",\n",
       "        \"tickmode\": \"array\",\n",
       "        \"linecolor\": \"rgba(0, 0, 0, 1.000)\",\n",
       "        \"showgrid\": true,\n",
       "        \"title\": \"\",\n",
       "        \"gridcolor\": \"rgba(0, 0, 0, 0.100)\",\n",
       "        \"titlefont\": {\n",
       "            \"color\": \"rgba(0, 0, 0, 1.000)\",\n",
       "            \"family\": \"sans-serif\",\n",
       "            \"size\": 15\n",
       "        },\n",
       "        \"tickcolor\": \"rgb(0, 0, 0)\",\n",
       "        \"type\": \"-\"\n",
       "    },\n",
       "    \"paper_bgcolor\": \"rgba(255, 255, 255, 1.000)\",\n",
       "    \"annotations\": [],\n",
       "    \"height\": 400,\n",
       "    \"margin\": {\n",
       "        \"l\": 0,\n",
       "        \"b\": 20,\n",
       "        \"r\": 0,\n",
       "        \"t\": 20\n",
       "    },\n",
       "    \"plot_bgcolor\": \"rgba(255, 255, 255, 1.000)\",\n",
       "    \"yaxis\": {\n",
       "        \"showticklabels\": true,\n",
       "        \"gridwidth\": 0.5,\n",
       "        \"tickvals\": [\n",
       "            -1.0,\n",
       "            -0.5,\n",
       "            0.0,\n",
       "            0.5,\n",
       "            1.0,\n",
       "            1.5\n",
       "        ],\n",
       "        \"range\": [\n",
       "            -1.4262207563530025,\n",
       "            1.5792174962732424\n",
       "        ],\n",
       "        \"domain\": [\n",
       "            0.03762029746281716,\n",
       "            0.9901574803149606\n",
       "        ],\n",
       "        \"mirror\": false,\n",
       "        \"tickangle\": 0,\n",
       "        \"showline\": true,\n",
       "        \"ticktext\": [\n",
       "            \"−1.0\",\n",
       "            \"−0.5\",\n",
       "            \"0.0\",\n",
       "            \"0.5\",\n",
       "            \"1.0\",\n",
       "            \"1.5\"\n",
       "        ],\n",
       "        \"zeroline\": false,\n",
       "        \"tickfont\": {\n",
       "            \"color\": \"rgba(0, 0, 0, 1.000)\",\n",
       "            \"family\": \"sans-serif\",\n",
       "            \"size\": 11\n",
       "        },\n",
       "        \"zerolinecolor\": \"rgba(0, 0, 0, 1.000)\",\n",
       "        \"anchor\": \"x\",\n",
       "        \"visible\": true,\n",
       "        \"ticks\": \"inside\",\n",
       "        \"tickmode\": \"array\",\n",
       "        \"linecolor\": \"rgba(0, 0, 0, 1.000)\",\n",
       "        \"showgrid\": true,\n",
       "        \"title\": \"\",\n",
       "        \"gridcolor\": \"rgba(0, 0, 0, 0.100)\",\n",
       "        \"titlefont\": {\n",
       "            \"color\": \"rgba(0, 0, 0, 1.000)\",\n",
       "            \"family\": \"sans-serif\",\n",
       "            \"size\": 15\n",
       "        },\n",
       "        \"tickcolor\": \"rgb(0, 0, 0)\",\n",
       "        \"type\": \"-\"\n",
       "    },\n",
       "    \"legend_position\": {\n",
       "        \"yanchor\": \"auto\",\n",
       "        \"xanchor\": \"auto\",\n",
       "        \"bordercolor\": \"rgba(0, 0, 0, 1.000)\",\n",
       "        \"bgcolor\": \"rgba(255, 255, 255, 1.000)\",\n",
       "        \"borderwidth\": 1,\n",
       "        \"tracegroupgap\": 0,\n",
       "        \"y\": 1.0,\n",
       "        \"font\": {\n",
       "            \"color\": \"rgba(0, 0, 0, 1.000)\",\n",
       "            \"family\": \"sans-serif\",\n",
       "            \"size\": 11\n",
       "        },\n",
       "        \"title\": {\n",
       "            \"font\": {\n",
       "                \"color\": \"rgba(0, 0, 0, 1.000)\",\n",
       "                \"family\": \"sans-serif\",\n",
       "                \"size\": 15\n",
       "            },\n",
       "            \"text\": \"\"\n",
       "        },\n",
       "        \"traceorder\": \"normal\",\n",
       "        \"x\": 1.0\n",
       "    },\n",
       "    \"width\": 600\n",
       "}\n",
       ");\n",
       "\n",
       "    });\n",
       "    </script>\n"
      ]
     },
     "execution_count": 65,
     "metadata": {},
     "output_type": "execute_result"
    }
   ],
   "source": [
    "p = scatter(y[1,:], y[2,:])\n",
    "scatter!(y[1, V1_cr_vertex], y[2, V1_cr_vertex])\n",
    "for j = 1:size(V1_cr, 2)\n",
    "    p1 = V1_cr[1,j]\n",
    "    p2 = V1_cr[2,j]\n",
    "    plot!([y[1, p1], y[1, p2]], [y[2, p1], y[2, p2]])\n",
    "end\n",
    "plot(p)"
   ]
  },
  {
   "cell_type": "code",
   "execution_count": null,
   "id": "bf4cbdd0",
   "metadata": {},
   "outputs": [],
   "source": [
    "V1_cr = classrep(C_V1, dim = 1, class = 2)"
   ]
  },
  {
   "cell_type": "code",
   "execution_count": 54,
   "id": "93a83788",
   "metadata": {},
   "outputs": [
    {
     "data": {
      "text/plain": [
       "11-element Vector{Int64}:\n",
       " 15\n",
       "  8\n",
       " 46\n",
       " 52\n",
       " 11\n",
       " 20\n",
       " 48\n",
       " 50\n",
       "  5\n",
       "  7\n",
       " 44"
      ]
     },
     "execution_count": 54,
     "metadata": {},
     "output_type": "execute_result"
    }
   ],
   "source": [
    "V1_cr_vertex = classrep(C_V1, dim = 1, class = 2, format = \"vertex\")"
   ]
  },
  {
   "cell_type": "markdown",
   "id": "da61e548",
   "metadata": {},
   "source": [
    "# Plot cycle representatives of the analogous pair "
   ]
  },
  {
   "cell_type": "markdown",
   "id": "a8aa1475",
   "metadata": {},
   "source": [
    "In VR(P)"
   ]
  },
  {
   "cell_type": "code",
   "execution_count": 41,
   "id": "3b9179a5",
   "metadata": {},
   "outputs": [
    {
     "data": {
      "text/plain": [
       "2×11 Matrix{Int64}:\n",
       " 11  44   8  48   5  52   7  48  52  44   5\n",
       "  8   7  15  11  20  15  50  20  46  46  50"
      ]
     },
     "execution_count": 41,
     "metadata": {},
     "output_type": "execute_result"
    }
   ],
   "source": [
    "V1_cr = classrep(C_V1, dim = 1, class = 2)"
   ]
  },
  {
   "cell_type": "code",
   "execution_count": 42,
   "id": "5c122b3a",
   "metadata": {},
   "outputs": [],
   "source": [
    "V1_cr_idx = zeros((size(V1_cr)))\n",
    "for i = 1:size(V1_cr, 1)\n",
    "    for j = 1:size(V1_cr, 2)\n",
    "        V1_cr_idx[i,j] = parse(Int64, V1_linebyline[V1_cr[i,j]])\n",
    "    end\n",
    "end"
   ]
  },
  {
   "cell_type": "code",
   "execution_count": 43,
   "id": "cc1ac4f9",
   "metadata": {},
   "outputs": [
    {
     "data": {
      "text/plain": [
       "53"
      ]
     },
     "execution_count": 43,
     "metadata": {},
     "output_type": "execute_result"
    }
   ],
   "source": [
    "n_V1"
   ]
  },
  {
   "cell_type": "code",
   "execution_count": 44,
   "id": "f11d44a6",
   "metadata": {},
   "outputs": [
    {
     "data": {
      "text/plain": [
       "2×11 Matrix{Float64}:\n",
       " 88.0  309.0   65.0  330.0   43.0  341.0   45.0  330.0  341.0  309.0   43.0\n",
       " 65.0   45.0  103.0   88.0  138.0  103.0  333.0  138.0  315.0  315.0  333.0"
      ]
     },
     "execution_count": 44,
     "metadata": {},
     "output_type": "execute_result"
    }
   ],
   "source": [
    "V1_cr_idx"
   ]
  },
  {
   "cell_type": "markdown",
   "id": "8d3ac39e",
   "metadata": {},
   "source": [
    "cycle rep: [88, 65, 103, 341, 315, 309, 45, 333, 43, 138, 330]"
   ]
  },
  {
   "cell_type": "markdown",
   "id": "b31c362b",
   "metadata": {},
   "source": [
    "In VR(Q)"
   ]
  },
  {
   "cell_type": "code",
   "execution_count": 20,
   "id": "78c2118c",
   "metadata": {},
   "outputs": [
    {
     "data": {
      "text/plain": [
       "2×5 Matrix{Int64}:\n",
       " 32  32   7  24  21\n",
       " 24   7  41  21  41"
      ]
     },
     "execution_count": 20,
     "metadata": {},
     "output_type": "execute_result"
    }
   ],
   "source": [
    "AL_cr = classrep(C_AL, dim = 1, class = 2)"
   ]
  },
  {
   "cell_type": "code",
   "execution_count": 36,
   "id": "18debddd",
   "metadata": {},
   "outputs": [],
   "source": [
    "AL_cr_idx = zeros((size(AL_cr)))\n",
    "for i = 1:size(AL_cr, 1)\n",
    "    for j = 1:size(AL_cr, 2)\n",
    "        AL_cr_idx[i,j] = parse(Int64, AL_linebyline[AL_cr[i,j]])\n",
    "    end\n",
    "end"
   ]
  },
  {
   "cell_type": "code",
   "execution_count": 37,
   "id": "d60b74ee",
   "metadata": {},
   "outputs": [
    {
     "data": {
      "text/plain": [
       "2×5 Matrix{Float64}:\n",
       " 129.0  129.0   44.0  108.0   99.0\n",
       " 108.0   44.0  161.0   99.0  161.0"
      ]
     },
     "execution_count": 37,
     "metadata": {},
     "output_type": "execute_result"
    }
   ],
   "source": [
    "AL_cr_idx"
   ]
  },
  {
   "cell_type": "markdown",
   "id": "0e65173e",
   "metadata": {},
   "source": [
    "cycle rep: [129, 108, 99, 161, 44]"
   ]
  },
  {
   "cell_type": "markdown",
   "id": "fallen-therapy",
   "metadata": {},
   "source": [
    "## 4 Explore other possible extensions\n"
   ]
  },
  {
   "cell_type": "markdown",
   "id": "valued-student",
   "metadata": {},
   "source": [
    "### 4(a) Examine confirmed and possible extensions in extension_V1"
   ]
  },
  {
   "cell_type": "markdown",
   "id": "dominican-greensboro",
   "metadata": {},
   "source": [
    "<b> Plot confirmed interval and possible extensions </b>"
   ]
  },
  {
   "cell_type": "code",
   "execution_count": 35,
   "id": "partial-basic",
   "metadata": {},
   "outputs": [
    {
     "data": {
      "application/vnd.plotly.v1+json": {
       "data": [
        {
         "colorbar": {
          "title": ""
         },
         "hoverinfo": "text",
         "legendgroup": "y1",
         "line": {
          "color": "rgba(143, 143, 143, 1.000)",
          "dash": "solid",
          "shape": "linear",
          "width": 3
         },
         "mode": "lines",
         "name": "y1",
         "showlegend": true,
         "text": [
          "class 1",
          "class 1"
         ],
         "type": "scatter",
         "x": [
          0.4024366521227176,
          0.43037476035593203
         ],
         "xaxis": "x1",
         "y": [
          1,
          1
         ],
         "yaxis": "y1",
         "zmax": null,
         "zmin": null
        },
        {
         "colorbar": {
          "title": ""
         },
         "hoverinfo": "text",
         "legendgroup": "y2",
         "line": {
          "color": "rgba(238, 18, 137, 1.000)",
          "dash": "solid",
          "shape": "linear",
          "width": 3
         },
         "mode": "lines",
         "name": "y2",
         "showlegend": true,
         "text": [
          "class 2",
          "class 2"
         ],
         "type": "scatter",
         "x": [
          0.48523076539972543,
          0.49653893919583936
         ],
         "xaxis": "x1",
         "y": [
          2,
          2
         ],
         "yaxis": "y1",
         "zmax": null,
         "zmin": null
        },
        {
         "colorbar": {
          "title": ""
         },
         "hoverinfo": "text",
         "legendgroup": "y3",
         "line": {
          "color": "rgba(238, 18, 137, 1.000)",
          "dash": "solid",
          "shape": "linear",
          "width": 3
         },
         "mode": "lines",
         "name": "y3",
         "showlegend": true,
         "text": [
          "class 2",
          "class 2"
         ],
         "type": "scatter",
         "x": [
          0.48523076539972543,
          0.49653893919583936
         ],
         "xaxis": "x1",
         "y": [
          2,
          2
         ],
         "yaxis": "y1",
         "zmax": null,
         "zmin": null
        },
        {
         "colorbar": {
          "title": ""
         },
         "hoverinfo": "text",
         "legendgroup": "y1",
         "line": {
          "color": "rgba(143, 143, 143, 1.000)",
          "dash": "solid",
          "shape": "linear",
          "width": 3
         },
         "mode": "lines",
         "name": "y1",
         "showlegend": true,
         "text": [
          "class 2",
          "class 2"
         ],
         "type": "scatter",
         "x": [
          0.5589915032156663,
          0.5589915032156663
         ],
         "xaxis": "x2",
         "y": [
          1,
          1
         ],
         "yaxis": "y2",
         "zmax": null,
         "zmin": null
        },
        {
         "colorbar": {
          "title": ""
         },
         "hoverinfo": "text",
         "legendgroup": "y2",
         "line": {
          "color": "rgba(238, 18, 137, 1.000)",
          "dash": "solid",
          "shape": "linear",
          "width": 3
         },
         "mode": "lines",
         "name": "y2",
         "showlegend": true,
         "text": [
          "class 2",
          "class 2"
         ],
         "type": "scatter",
         "x": [
          0.5589915032156663,
          0.6349079262193076
         ],
         "xaxis": "x2",
         "y": [
          1,
          1
         ],
         "yaxis": "y2",
         "zmax": null,
         "zmin": null
        },
        {
         "colorbar": {
          "title": ""
         },
         "hoverinfo": "text",
         "legendgroup": "y3",
         "line": {
          "color": "rgba(143, 143, 143, 1.000)",
          "dash": "solid",
          "shape": "linear",
          "width": 3
         },
         "mode": "lines",
         "name": "y3",
         "showlegend": true,
         "text": [
          "class 1",
          "class 1"
         ],
         "type": "scatter",
         "x": [
          0.5639360404052973,
          0.5685672879636985
         ],
         "xaxis": "x2",
         "y": [
          2,
          2
         ],
         "yaxis": "y2",
         "zmax": null,
         "zmin": null
        },
        {
         "colorbar": {
          "title": ""
         },
         "hoverinfo": "text",
         "legendgroup": "y4",
         "line": {
          "color": "rgba(143, 143, 143, 1.000)",
          "dash": "solid",
          "shape": "linear",
          "width": 3
         },
         "mode": "lines",
         "name": "y4",
         "showlegend": true,
         "text": [
          "class 2",
          "class 2"
         ],
         "type": "scatter",
         "x": [
          0.5589915032156663,
          0.5589915032156663
         ],
         "xaxis": "x2",
         "y": [
          1,
          1
         ],
         "yaxis": "y2",
         "zmax": null,
         "zmin": null
        },
        {
         "colorbar": {
          "title": ""
         },
         "hoverinfo": "text",
         "legendgroup": "y5",
         "line": {
          "color": "rgba(238, 18, 137, 1.000)",
          "dash": "solid",
          "shape": "linear",
          "width": 3
         },
         "mode": "lines",
         "name": "y5",
         "showlegend": true,
         "text": [
          "class 2",
          "class 2"
         ],
         "type": "scatter",
         "x": [
          0.5589915032156663,
          0.6349079262193076
         ],
         "xaxis": "x2",
         "y": [
          1,
          1
         ],
         "yaxis": "y2",
         "zmax": null,
         "zmin": null
        },
        {
         "colorbar": {
          "title": ""
         },
         "legendgroup": "y6",
         "line": {
          "color": "rgba(255, 0, 0, 1.000)",
          "dash": "dot",
          "shape": "linear",
          "width": 1
         },
         "mode": "lines",
         "name": "y6",
         "showlegend": true,
         "type": "scatter",
         "x": [
          0.5589915032156663,
          0.5589915032156663
         ],
         "xaxis": "x2",
         "y": [
          -401,
          403
         ],
         "yaxis": "y2",
         "zmax": null,
         "zmin": null
        }
       ],
       "layout": {
        "annotations": [
         {
          "font": {
           "color": "rgba(0, 0, 0, 1.000)",
           "family": "sans-serif",
           "size": 21
          },
          "rotation": 0,
          "showarrow": false,
          "text": "Selected interval in barcode(W)",
          "x": 0.5,
          "xanchor": "center",
          "xref": "paper",
          "y": 1,
          "yanchor": "top",
          "yref": "paper"
         },
         {
          "font": {
           "color": "rgba(0, 0, 0, 1.000)",
           "family": "sans-serif",
           "size": 21
          },
          "rotation": 0,
          "showarrow": false,
          "text": "Confirmed extension in barcode(VR)",
          "x": 0.5,
          "xanchor": "center",
          "xref": "paper",
          "y": 0.5,
          "yanchor": "top",
          "yref": "paper"
         }
        ],
        "height": 600,
        "margin": {
         "b": 20,
         "l": 0,
         "r": 0,
         "t": 20
        },
        "paper_bgcolor": "rgba(255, 255, 255, 1.000)",
        "plot_bgcolor": "rgba(255, 255, 255, 1.000)",
        "showlegend": false,
        "width": 500,
        "xaxis1": {
         "anchor": "y1",
         "domain": [
          0.007874015748031496,
          0.9921259842519685
         ],
         "gridcolor": "rgba(0, 0, 0, 0.100)",
         "gridwidth": 0.5,
         "linecolor": "rgba(0, 0, 0, 1.000)",
         "mirror": true,
         "range": [
          0.39961358351052395,
          0.499362007808033
         ],
         "showgrid": true,
         "showline": true,
         "showticklabels": true,
         "tickangle": 0,
         "tickcolor": "rgb(0, 0, 0)",
         "tickfont": {
          "color": "rgba(0, 0, 0, 1.000)",
          "family": "sans-serif",
          "size": 17
         },
         "tickmode": "array",
         "ticks": "inside",
         "ticktext": [
          "0.40",
          "0.42",
          "0.44",
          "0.46",
          "0.48"
         ],
         "tickvals": [
          0.4,
          0.42,
          0.44,
          0.46,
          0.48
         ],
         "title": "",
         "titlefont": {
          "color": "rgba(0, 0, 0, 1.000)",
          "family": "sans-serif",
          "size": 15
         },
         "type": "-",
         "visible": true,
         "zeroline": false,
         "zerolinecolor": "rgba(0, 0, 0, 1.000)"
        },
        "xaxis2": {
         "anchor": "y2",
         "domain": [
          0.007874015748031496,
          0.9921259842519685
         ],
         "gridcolor": "rgba(0, 0, 0, 0.100)",
         "gridwidth": 0.5,
         "linecolor": "rgba(0, 0, 0, 1.000)",
         "mirror": true,
         "range": [
          0.556714010525557,
          0.6371854189094168
         ],
         "showgrid": true,
         "showline": true,
         "showticklabels": true,
         "tickangle": 0,
         "tickcolor": "rgb(0, 0, 0)",
         "tickfont": {
          "color": "rgba(0, 0, 0, 1.000)",
          "family": "sans-serif",
          "size": 17
         },
         "tickmode": "array",
         "ticks": "inside",
         "ticktext": [
          "0.56",
          "0.58",
          "0.60",
          "0.62"
         ],
         "tickvals": [
          0.56,
          0.58,
          0.6,
          0.62
         ],
         "title": "",
         "titlefont": {
          "color": "rgba(0, 0, 0, 1.000)",
          "family": "sans-serif",
          "size": 15
         },
         "type": "-",
         "visible": true,
         "zeroline": false,
         "zerolinecolor": "rgba(0, 0, 0, 1.000)"
        },
        "yaxis1": {
         "anchor": "x1",
         "domain": [
          0.560586176727909,
          0.9324693788276466
         ],
         "gridcolor": "rgba(0, 0, 0, 0.100)",
         "gridwidth": 0.5,
         "linecolor": "rgba(0, 0, 0, 1.000)",
         "mirror": true,
         "range": [
          -1,
          3
         ],
         "showgrid": true,
         "showline": true,
         "showticklabels": true,
         "tickangle": 0,
         "tickcolor": "rgb(0, 0, 0)",
         "tickfont": {
          "color": "rgba(0, 0, 0, 1.000)",
          "family": "sans-serif",
          "size": 11
         },
         "tickmode": "array",
         "ticks": "inside",
         "ticktext": [],
         "tickvals": [],
         "title": "",
         "titlefont": {
          "color": "rgba(0, 0, 0, 1.000)",
          "family": "sans-serif",
          "size": 15
         },
         "type": "-",
         "visible": true,
         "zeroline": false,
         "zerolinecolor": "rgba(0, 0, 0, 1.000)"
        },
        "yaxis2": {
         "anchor": "x2",
         "domain": [
          0.06058617672790892,
          0.43246937882764647
         ],
         "gridcolor": "rgba(0, 0, 0, 0.100)",
         "gridwidth": 0.5,
         "linecolor": "rgba(0, 0, 0, 1.000)",
         "mirror": true,
         "range": [
          -1,
          3
         ],
         "showgrid": true,
         "showline": true,
         "showticklabels": true,
         "tickangle": 0,
         "tickcolor": "rgb(0, 0, 0)",
         "tickfont": {
          "color": "rgba(0, 0, 0, 1.000)",
          "family": "sans-serif",
          "size": 11
         },
         "tickmode": "array",
         "ticks": "inside",
         "ticktext": [],
         "tickvals": [],
         "title": "",
         "titlefont": {
          "color": "rgba(0, 0, 0, 1.000)",
          "family": "sans-serif",
          "size": 15
         },
         "type": "-",
         "visible": true,
         "zeroline": false,
         "zerolinecolor": "rgba(0, 0, 0, 1.000)"
        }
       }
      },
      "text/html": [
       "<!DOCTYPE html>\n",
       "<html>\n",
       "    <head>\n",
       "        <title>Plots.jl</title>\n",
       "        <meta http-equiv=\"content-type\" content=\"text/html; charset=UTF-8\">\n",
       "        \n",
       "    </head>\n",
       "    <body>\n",
       "            <div id=\"4c42e3b9-1e6f-4ca6-b8f8-cf720fb4651f\" style=\"width:500px;height:600px;\"></div>\n",
       "    <script>\n",
       "        requirejs.config({\n",
       "        paths: {\n",
       "            Plotly: 'https://cdn.plot.ly/plotly-1.57.1.min'\n",
       "        }\n",
       "    });\n",
       "    require(['Plotly'], function (Plotly) {\n",
       "\n",
       "    PLOT = document.getElementById('4c42e3b9-1e6f-4ca6-b8f8-cf720fb4651f');\n",
       "    Plotly.plot(PLOT, [\n",
       "    {\n",
       "        \"xaxis\": \"x1\",\n",
       "        \"colorbar\": {\n",
       "            \"title\": \"\"\n",
       "        },\n",
       "        \"yaxis\": \"y1\",\n",
       "        \"text\": [\n",
       "            \"class 1\",\n",
       "            \"class 1\"\n",
       "        ],\n",
       "        \"x\": [\n",
       "            0.4024366521227176,\n",
       "            0.43037476035593203\n",
       "        ],\n",
       "        \"showlegend\": true,\n",
       "        \"mode\": \"lines\",\n",
       "        \"name\": \"y1\",\n",
       "        \"zmin\": null,\n",
       "        \"legendgroup\": \"y1\",\n",
       "        \"zmax\": null,\n",
       "        \"line\": {\n",
       "            \"color\": \"rgba(143, 143, 143, 1.000)\",\n",
       "            \"shape\": \"linear\",\n",
       "            \"dash\": \"solid\",\n",
       "            \"width\": 3\n",
       "        },\n",
       "        \"y\": [\n",
       "            1.0,\n",
       "            1.0\n",
       "        ],\n",
       "        \"type\": \"scatter\",\n",
       "        \"hoverinfo\": \"text\"\n",
       "    },\n",
       "    {\n",
       "        \"xaxis\": \"x1\",\n",
       "        \"colorbar\": {\n",
       "            \"title\": \"\"\n",
       "        },\n",
       "        \"yaxis\": \"y1\",\n",
       "        \"text\": [\n",
       "            \"class 2\",\n",
       "            \"class 2\"\n",
       "        ],\n",
       "        \"x\": [\n",
       "            0.48523076539972543,\n",
       "            0.49653893919583936\n",
       "        ],\n",
       "        \"showlegend\": true,\n",
       "        \"mode\": \"lines\",\n",
       "        \"name\": \"y2\",\n",
       "        \"zmin\": null,\n",
       "        \"legendgroup\": \"y2\",\n",
       "        \"zmax\": null,\n",
       "        \"line\": {\n",
       "            \"color\": \"rgba(238, 18, 137, 1.000)\",\n",
       "            \"shape\": \"linear\",\n",
       "            \"dash\": \"solid\",\n",
       "            \"width\": 3\n",
       "        },\n",
       "        \"y\": [\n",
       "            2.0,\n",
       "            2.0\n",
       "        ],\n",
       "        \"type\": \"scatter\",\n",
       "        \"hoverinfo\": \"text\"\n",
       "    },\n",
       "    {\n",
       "        \"xaxis\": \"x1\",\n",
       "        \"colorbar\": {\n",
       "            \"title\": \"\"\n",
       "        },\n",
       "        \"yaxis\": \"y1\",\n",
       "        \"text\": [\n",
       "            \"class 2\",\n",
       "            \"class 2\"\n",
       "        ],\n",
       "        \"x\": [\n",
       "            0.48523076539972543,\n",
       "            0.49653893919583936\n",
       "        ],\n",
       "        \"showlegend\": true,\n",
       "        \"mode\": \"lines\",\n",
       "        \"name\": \"y3\",\n",
       "        \"zmin\": null,\n",
       "        \"legendgroup\": \"y3\",\n",
       "        \"zmax\": null,\n",
       "        \"line\": {\n",
       "            \"color\": \"rgba(238, 18, 137, 1.000)\",\n",
       "            \"shape\": \"linear\",\n",
       "            \"dash\": \"solid\",\n",
       "            \"width\": 3\n",
       "        },\n",
       "        \"y\": [\n",
       "            2.0,\n",
       "            2.0\n",
       "        ],\n",
       "        \"type\": \"scatter\",\n",
       "        \"hoverinfo\": \"text\"\n",
       "    },\n",
       "    {\n",
       "        \"xaxis\": \"x2\",\n",
       "        \"colorbar\": {\n",
       "            \"title\": \"\"\n",
       "        },\n",
       "        \"yaxis\": \"y2\",\n",
       "        \"text\": [\n",
       "            \"class 2\",\n",
       "            \"class 2\"\n",
       "        ],\n",
       "        \"x\": [\n",
       "            0.5589915032156663,\n",
       "            0.5589915032156663\n",
       "        ],\n",
       "        \"showlegend\": true,\n",
       "        \"mode\": \"lines\",\n",
       "        \"name\": \"y1\",\n",
       "        \"zmin\": null,\n",
       "        \"legendgroup\": \"y1\",\n",
       "        \"zmax\": null,\n",
       "        \"line\": {\n",
       "            \"color\": \"rgba(143, 143, 143, 1.000)\",\n",
       "            \"shape\": \"linear\",\n",
       "            \"dash\": \"solid\",\n",
       "            \"width\": 3\n",
       "        },\n",
       "        \"y\": [\n",
       "            1.0,\n",
       "            1.0\n",
       "        ],\n",
       "        \"type\": \"scatter\",\n",
       "        \"hoverinfo\": \"text\"\n",
       "    },\n",
       "    {\n",
       "        \"xaxis\": \"x2\",\n",
       "        \"colorbar\": {\n",
       "            \"title\": \"\"\n",
       "        },\n",
       "        \"yaxis\": \"y2\",\n",
       "        \"text\": [\n",
       "            \"class 2\",\n",
       "            \"class 2\"\n",
       "        ],\n",
       "        \"x\": [\n",
       "            0.5589915032156663,\n",
       "            0.6349079262193076\n",
       "        ],\n",
       "        \"showlegend\": true,\n",
       "        \"mode\": \"lines\",\n",
       "        \"name\": \"y2\",\n",
       "        \"zmin\": null,\n",
       "        \"legendgroup\": \"y2\",\n",
       "        \"zmax\": null,\n",
       "        \"line\": {\n",
       "            \"color\": \"rgba(238, 18, 137, 1.000)\",\n",
       "            \"shape\": \"linear\",\n",
       "            \"dash\": \"solid\",\n",
       "            \"width\": 3\n",
       "        },\n",
       "        \"y\": [\n",
       "            1.0,\n",
       "            1.0\n",
       "        ],\n",
       "        \"type\": \"scatter\",\n",
       "        \"hoverinfo\": \"text\"\n",
       "    },\n",
       "    {\n",
       "        \"xaxis\": \"x2\",\n",
       "        \"colorbar\": {\n",
       "            \"title\": \"\"\n",
       "        },\n",
       "        \"yaxis\": \"y2\",\n",
       "        \"text\": [\n",
       "            \"class 1\",\n",
       "            \"class 1\"\n",
       "        ],\n",
       "        \"x\": [\n",
       "            0.5639360404052973,\n",
       "            0.5685672879636985\n",
       "        ],\n",
       "        \"showlegend\": true,\n",
       "        \"mode\": \"lines\",\n",
       "        \"name\": \"y3\",\n",
       "        \"zmin\": null,\n",
       "        \"legendgroup\": \"y3\",\n",
       "        \"zmax\": null,\n",
       "        \"line\": {\n",
       "            \"color\": \"rgba(143, 143, 143, 1.000)\",\n",
       "            \"shape\": \"linear\",\n",
       "            \"dash\": \"solid\",\n",
       "            \"width\": 3\n",
       "        },\n",
       "        \"y\": [\n",
       "            2.0,\n",
       "            2.0\n",
       "        ],\n",
       "        \"type\": \"scatter\",\n",
       "        \"hoverinfo\": \"text\"\n",
       "    },\n",
       "    {\n",
       "        \"xaxis\": \"x2\",\n",
       "        \"colorbar\": {\n",
       "            \"title\": \"\"\n",
       "        },\n",
       "        \"yaxis\": \"y2\",\n",
       "        \"text\": [\n",
       "            \"class 2\",\n",
       "            \"class 2\"\n",
       "        ],\n",
       "        \"x\": [\n",
       "            0.5589915032156663,\n",
       "            0.5589915032156663\n",
       "        ],\n",
       "        \"showlegend\": true,\n",
       "        \"mode\": \"lines\",\n",
       "        \"name\": \"y4\",\n",
       "        \"zmin\": null,\n",
       "        \"legendgroup\": \"y4\",\n",
       "        \"zmax\": null,\n",
       "        \"line\": {\n",
       "            \"color\": \"rgba(143, 143, 143, 1.000)\",\n",
       "            \"shape\": \"linear\",\n",
       "            \"dash\": \"solid\",\n",
       "            \"width\": 3\n",
       "        },\n",
       "        \"y\": [\n",
       "            1.0,\n",
       "            1.0\n",
       "        ],\n",
       "        \"type\": \"scatter\",\n",
       "        \"hoverinfo\": \"text\"\n",
       "    },\n",
       "    {\n",
       "        \"xaxis\": \"x2\",\n",
       "        \"colorbar\": {\n",
       "            \"title\": \"\"\n",
       "        },\n",
       "        \"yaxis\": \"y2\",\n",
       "        \"text\": [\n",
       "            \"class 2\",\n",
       "            \"class 2\"\n",
       "        ],\n",
       "        \"x\": [\n",
       "            0.5589915032156663,\n",
       "            0.6349079262193076\n",
       "        ],\n",
       "        \"showlegend\": true,\n",
       "        \"mode\": \"lines\",\n",
       "        \"name\": \"y5\",\n",
       "        \"zmin\": null,\n",
       "        \"legendgroup\": \"y5\",\n",
       "        \"zmax\": null,\n",
       "        \"line\": {\n",
       "            \"color\": \"rgba(238, 18, 137, 1.000)\",\n",
       "            \"shape\": \"linear\",\n",
       "            \"dash\": \"solid\",\n",
       "            \"width\": 3\n",
       "        },\n",
       "        \"y\": [\n",
       "            1.0,\n",
       "            1.0\n",
       "        ],\n",
       "        \"type\": \"scatter\",\n",
       "        \"hoverinfo\": \"text\"\n",
       "    },\n",
       "    {\n",
       "        \"xaxis\": \"x2\",\n",
       "        \"colorbar\": {\n",
       "            \"title\": \"\"\n",
       "        },\n",
       "        \"yaxis\": \"y2\",\n",
       "        \"x\": [\n",
       "            0.5589915032156663,\n",
       "            0.5589915032156663\n",
       "        ],\n",
       "        \"showlegend\": true,\n",
       "        \"mode\": \"lines\",\n",
       "        \"name\": \"y6\",\n",
       "        \"zmin\": null,\n",
       "        \"legendgroup\": \"y6\",\n",
       "        \"zmax\": null,\n",
       "        \"line\": {\n",
       "            \"color\": \"rgba(255, 0, 0, 1.000)\",\n",
       "            \"shape\": \"linear\",\n",
       "            \"dash\": \"dot\",\n",
       "            \"width\": 1\n",
       "        },\n",
       "        \"y\": [\n",
       "            -401.0,\n",
       "            403.0\n",
       "        ],\n",
       "        \"type\": \"scatter\"\n",
       "    }\n",
       "]\n",
       ", {\n",
       "    \"paper_bgcolor\": \"rgba(255, 255, 255, 1.000)\",\n",
       "    \"height\": 600,\n",
       "    \"yaxis2\": {\n",
       "        \"showticklabels\": true,\n",
       "        \"gridwidth\": 0.5,\n",
       "        \"tickvals\": [],\n",
       "        \"visible\": true,\n",
       "        \"ticks\": \"inside\",\n",
       "        \"range\": [\n",
       "            -1.0,\n",
       "            3.0\n",
       "        ],\n",
       "        \"domain\": [\n",
       "            0.06058617672790892,\n",
       "            0.43246937882764647\n",
       "        ],\n",
       "        \"tickmode\": \"array\",\n",
       "        \"linecolor\": \"rgba(0, 0, 0, 1.000)\",\n",
       "        \"showgrid\": true,\n",
       "        \"title\": \"\",\n",
       "        \"mirror\": true,\n",
       "        \"tickangle\": 0,\n",
       "        \"showline\": true,\n",
       "        \"gridcolor\": \"rgba(0, 0, 0, 0.100)\",\n",
       "        \"titlefont\": {\n",
       "            \"color\": \"rgba(0, 0, 0, 1.000)\",\n",
       "            \"family\": \"sans-serif\",\n",
       "            \"size\": 15\n",
       "        },\n",
       "        \"tickcolor\": \"rgb(0, 0, 0)\",\n",
       "        \"ticktext\": [],\n",
       "        \"zeroline\": false,\n",
       "        \"type\": \"-\",\n",
       "        \"tickfont\": {\n",
       "            \"color\": \"rgba(0, 0, 0, 1.000)\",\n",
       "            \"family\": \"sans-serif\",\n",
       "            \"size\": 11\n",
       "        },\n",
       "        \"zerolinecolor\": \"rgba(0, 0, 0, 1.000)\",\n",
       "        \"anchor\": \"x2\"\n",
       "    },\n",
       "    \"yaxis1\": {\n",
       "        \"showticklabels\": true,\n",
       "        \"gridwidth\": 0.5,\n",
       "        \"tickvals\": [],\n",
       "        \"visible\": true,\n",
       "        \"ticks\": \"inside\",\n",
       "        \"range\": [\n",
       "            -1.0,\n",
       "            3.0\n",
       "        ],\n",
       "        \"domain\": [\n",
       "            0.560586176727909,\n",
       "            0.9324693788276466\n",
       "        ],\n",
       "        \"tickmode\": \"array\",\n",
       "        \"linecolor\": \"rgba(0, 0, 0, 1.000)\",\n",
       "        \"showgrid\": true,\n",
       "        \"title\": \"\",\n",
       "        \"mirror\": true,\n",
       "        \"tickangle\": 0,\n",
       "        \"showline\": true,\n",
       "        \"gridcolor\": \"rgba(0, 0, 0, 0.100)\",\n",
       "        \"titlefont\": {\n",
       "            \"color\": \"rgba(0, 0, 0, 1.000)\",\n",
       "            \"family\": \"sans-serif\",\n",
       "            \"size\": 15\n",
       "        },\n",
       "        \"tickcolor\": \"rgb(0, 0, 0)\",\n",
       "        \"ticktext\": [],\n",
       "        \"zeroline\": false,\n",
       "        \"type\": \"-\",\n",
       "        \"tickfont\": {\n",
       "            \"color\": \"rgba(0, 0, 0, 1.000)\",\n",
       "            \"family\": \"sans-serif\",\n",
       "            \"size\": 11\n",
       "        },\n",
       "        \"zerolinecolor\": \"rgba(0, 0, 0, 1.000)\",\n",
       "        \"anchor\": \"x1\"\n",
       "    },\n",
       "    \"annotations\": [\n",
       "        {\n",
       "            \"yanchor\": \"top\",\n",
       "            \"xanchor\": \"center\",\n",
       "            \"rotation\": -0.0,\n",
       "            \"y\": 1.0,\n",
       "            \"font\": {\n",
       "                \"color\": \"rgba(0, 0, 0, 1.000)\",\n",
       "                \"family\": \"sans-serif\",\n",
       "                \"size\": 21\n",
       "            },\n",
       "            \"yref\": \"paper\",\n",
       "            \"showarrow\": false,\n",
       "            \"text\": \"Selected interval in barcode(W)\",\n",
       "            \"xref\": \"paper\",\n",
       "            \"x\": 0.5\n",
       "        },\n",
       "        {\n",
       "            \"yanchor\": \"top\",\n",
       "            \"xanchor\": \"center\",\n",
       "            \"rotation\": -0.0,\n",
       "            \"y\": 0.5,\n",
       "            \"font\": {\n",
       "                \"color\": \"rgba(0, 0, 0, 1.000)\",\n",
       "                \"family\": \"sans-serif\",\n",
       "                \"size\": 21\n",
       "            },\n",
       "            \"yref\": \"paper\",\n",
       "            \"showarrow\": false,\n",
       "            \"text\": \"Confirmed extension in barcode(VR)\",\n",
       "            \"xref\": \"paper\",\n",
       "            \"x\": 0.5\n",
       "        }\n",
       "    ],\n",
       "    \"plot_bgcolor\": \"rgba(255, 255, 255, 1.000)\",\n",
       "    \"showlegend\": false,\n",
       "    \"xaxis1\": {\n",
       "        \"showticklabels\": true,\n",
       "        \"gridwidth\": 0.5,\n",
       "        \"tickvals\": [\n",
       "            0.4,\n",
       "            0.42,\n",
       "            0.44,\n",
       "            0.46,\n",
       "            0.48\n",
       "        ],\n",
       "        \"visible\": true,\n",
       "        \"ticks\": \"inside\",\n",
       "        \"range\": [\n",
       "            0.39961358351052395,\n",
       "            0.499362007808033\n",
       "        ],\n",
       "        \"domain\": [\n",
       "            0.007874015748031496,\n",
       "            0.9921259842519685\n",
       "        ],\n",
       "        \"tickmode\": \"array\",\n",
       "        \"linecolor\": \"rgba(0, 0, 0, 1.000)\",\n",
       "        \"showgrid\": true,\n",
       "        \"title\": \"\",\n",
       "        \"mirror\": true,\n",
       "        \"tickangle\": 0,\n",
       "        \"showline\": true,\n",
       "        \"gridcolor\": \"rgba(0, 0, 0, 0.100)\",\n",
       "        \"titlefont\": {\n",
       "            \"color\": \"rgba(0, 0, 0, 1.000)\",\n",
       "            \"family\": \"sans-serif\",\n",
       "            \"size\": 15\n",
       "        },\n",
       "        \"tickcolor\": \"rgb(0, 0, 0)\",\n",
       "        \"ticktext\": [\n",
       "            \"0.40\",\n",
       "            \"0.42\",\n",
       "            \"0.44\",\n",
       "            \"0.46\",\n",
       "            \"0.48\"\n",
       "        ],\n",
       "        \"zeroline\": false,\n",
       "        \"type\": \"-\",\n",
       "        \"tickfont\": {\n",
       "            \"color\": \"rgba(0, 0, 0, 1.000)\",\n",
       "            \"family\": \"sans-serif\",\n",
       "            \"size\": 17\n",
       "        },\n",
       "        \"zerolinecolor\": \"rgba(0, 0, 0, 1.000)\",\n",
       "        \"anchor\": \"y1\"\n",
       "    },\n",
       "    \"xaxis2\": {\n",
       "        \"showticklabels\": true,\n",
       "        \"gridwidth\": 0.5,\n",
       "        \"tickvals\": [\n",
       "            0.56,\n",
       "            0.58,\n",
       "            0.6,\n",
       "            0.62\n",
       "        ],\n",
       "        \"visible\": true,\n",
       "        \"ticks\": \"inside\",\n",
       "        \"range\": [\n",
       "            0.556714010525557,\n",
       "            0.6371854189094168\n",
       "        ],\n",
       "        \"domain\": [\n",
       "            0.007874015748031496,\n",
       "            0.9921259842519685\n",
       "        ],\n",
       "        \"tickmode\": \"array\",\n",
       "        \"linecolor\": \"rgba(0, 0, 0, 1.000)\",\n",
       "        \"showgrid\": true,\n",
       "        \"title\": \"\",\n",
       "        \"mirror\": true,\n",
       "        \"tickangle\": 0,\n",
       "        \"showline\": true,\n",
       "        \"gridcolor\": \"rgba(0, 0, 0, 0.100)\",\n",
       "        \"titlefont\": {\n",
       "            \"color\": \"rgba(0, 0, 0, 1.000)\",\n",
       "            \"family\": \"sans-serif\",\n",
       "            \"size\": 15\n",
       "        },\n",
       "        \"tickcolor\": \"rgb(0, 0, 0)\",\n",
       "        \"ticktext\": [\n",
       "            \"0.56\",\n",
       "            \"0.58\",\n",
       "            \"0.60\",\n",
       "            \"0.62\"\n",
       "        ],\n",
       "        \"zeroline\": false,\n",
       "        \"type\": \"-\",\n",
       "        \"tickfont\": {\n",
       "            \"color\": \"rgba(0, 0, 0, 1.000)\",\n",
       "            \"family\": \"sans-serif\",\n",
       "            \"size\": 17\n",
       "        },\n",
       "        \"zerolinecolor\": \"rgba(0, 0, 0, 1.000)\",\n",
       "        \"anchor\": \"y2\"\n",
       "    },\n",
       "    \"margin\": {\n",
       "        \"l\": 0,\n",
       "        \"b\": 20,\n",
       "        \"r\": 0,\n",
       "        \"t\": 20\n",
       "    },\n",
       "    \"width\": 500\n",
       "}\n",
       ");\n",
       "    });\n",
       "    </script>\n",
       "\n",
       "    </body>\n",
       "</html>\n"
      ]
     },
     "execution_count": 35,
     "metadata": {},
     "output_type": "execute_result"
    }
   ],
   "source": [
    "plot_confirmed_extension(extension_V1, \n",
    "                         lw_x = 3, \n",
    "                         lw_y = 3, \n",
    "                         titlefontsize = 15, \n",
    "                         xtickfontsize = 12)"
   ]
  },
  {
   "cell_type": "markdown",
   "id": "alive-reader",
   "metadata": {},
   "source": [
    "<b> Plot possible extensions </b>\n",
    "* Plot the barcodes `barcode(VR(V1))`\n",
    "* Use the slider to select parameter $\\epsilon$. \n",
    "    * The dotted vertical line indicates the selected $\\epsilon$.\n",
    "* Select `intervals`. \n",
    "    * The pink intervals on the top barcode represented the confirmed intervals.\n",
    "    * The blue interval(s) on the bottom barcode represent the selected possible interval."
   ]
  },
  {
   "cell_type": "code",
   "execution_count": 36,
   "id": "demographic-binding",
   "metadata": {},
   "outputs": [
    {
     "data": {
      "application/vnd.webio.node+json": {
       "children": [
        {
         "children": [
          {
           "children": [
            {
             "children": [
              {
               "children": [
                {
                 "children": [
                  "ε"
                 ],
                 "instanceArgs": {
                  "namespace": "html",
                  "tag": "label"
                 },
                 "nodeType": "DOM",
                 "props": {
                  "className": "interact ",
                  "style": {
                   "padding": "5px 10px 0px 10px"
                  }
                 },
                 "type": "node"
                }
               ],
               "instanceArgs": {
                "namespace": "html",
                "tag": "div"
               },
               "nodeType": "DOM",
               "props": {
                "className": "interact-flex-row-left"
               },
               "type": "node"
              },
              {
               "children": [
                {
                 "children": [],
                 "instanceArgs": {
                  "namespace": "html",
                  "tag": "input"
                 },
                 "nodeType": "DOM",
                 "props": {
                  "attributes": {
                   "data-bind": "numericValue: index, valueUpdate: 'input', event: {change: function (){this.changes(this.changes()+1)}}",
                   "orient": "horizontal",
                   "type": "range"
                  },
                  "className": "slider slider is-fullwidth",
                  "max": 1,
                  "min": 1,
                  "step": 1,
                  "style": {}
                 },
                 "type": "node"
                }
               ],
               "instanceArgs": {
                "namespace": "html",
                "tag": "div"
               },
               "nodeType": "DOM",
               "props": {
                "className": "interact-flex-row-center"
               },
               "type": "node"
              },
              {
               "children": [
                {
                 "children": [],
                 "instanceArgs": {
                  "namespace": "html",
                  "tag": "p"
                 },
                 "nodeType": "DOM",
                 "props": {
                  "attributes": {
                   "data-bind": "text: formatted_val"
                  }
                 },
                 "type": "node"
                }
               ],
               "instanceArgs": {
                "namespace": "html",
                "tag": "div"
               },
               "nodeType": "DOM",
               "props": {
                "className": "interact-flex-row-right"
               },
               "type": "node"
              }
             ],
             "instanceArgs": {
              "namespace": "html",
              "tag": "div"
             },
             "nodeType": "DOM",
             "props": {
              "className": "interact-flex-row interact-widget"
             },
             "type": "node"
            }
           ],
           "instanceArgs": {
            "handlers": {
             "changes": [
              "(function (val){return (val!=this.model[\"changes\"]()) ? (this.valueFromJulia[\"changes\"]=true, this.model[\"changes\"](val)) : undefined})"
             ],
             "index": [
              "(function (val){return (val!=this.model[\"index\"]()) ? (this.valueFromJulia[\"index\"]=true, this.model[\"index\"](val)) : undefined})"
             ]
            },
            "id": "8795968927446581932",
            "imports": {
             "data": [
              {
               "name": "knockout",
               "type": "js",
               "url": "/assetserver/44700ca70520c46d74ba97c1f943d03fe6985ddf-knockout.js"
              },
              {
               "name": "knockout_punches",
               "type": "js",
               "url": "/assetserver/3f5e7420dfd3ab5a750f192dbd485371621ca4da-knockout_punches.js"
              },
              {
               "name": null,
               "type": "js",
               "url": "/assetserver/3f76434a1e97a9af06f7d6f3894ba480cf001d5f-all.js"
              },
              {
               "name": null,
               "type": "css",
               "url": "/assetserver/a0ee8e311cc462b1ab24c7d36fed5b7ca86463b5-style.css"
              },
              {
               "name": null,
               "type": "css",
               "url": "/assetserver/2c61f542bb90671813560490c4e5380eebd3eba5-bulma_confined.min.css"
              }
             ],
             "type": "async_block"
            },
            "mount_callbacks": [
             "function () {\n    var handler = (function (ko, koPunches) {\n    ko.punches.enableAll();\n    ko.bindingHandlers.numericValue = {\n        init: function(element, valueAccessor, allBindings, data, context) {\n            var stringified = ko.observable(ko.unwrap(valueAccessor()));\n            stringified.subscribe(function(value) {\n                var val = parseFloat(value);\n                if (!isNaN(val)) {\n                    valueAccessor()(val);\n                }\n            });\n            valueAccessor().subscribe(function(value) {\n                var str = JSON.stringify(value);\n                if ((str == \"0\") && ([\"-0\", \"-0.\"].indexOf(stringified()) >= 0))\n                     return;\n                 if ([\"null\", \"\"].indexOf(str) >= 0)\n                     return;\n                stringified(str);\n            });\n            ko.applyBindingsToNode(\n                element,\n                {\n                    value: stringified,\n                    valueUpdate: allBindings.get('valueUpdate'),\n                },\n                context,\n            );\n        }\n    };\n    var json_data = {\"formatted_vals\":[\"0.558992\"],\"changes\":WebIO.getval({\"name\":\"changes\",\"scope\":\"8795968927446581932\",\"id\":\"10041344173540394904\",\"type\":\"observable\"}),\"index\":WebIO.getval({\"name\":\"index\",\"scope\":\"8795968927446581932\",\"id\":\"4782382984609284492\",\"type\":\"observable\"})};\n    var self = this;\n    function AppViewModel() {\n        for (var key in json_data) {\n            var el = json_data[key];\n            this[key] = Array.isArray(el) ? ko.observableArray(el) : ko.observable(el);\n        }\n        \n        [this[\"formatted_val\"]=ko.computed(    function(){\n        return this.formatted_vals()[parseInt(this.index())-(1)];\n    }\n,this)]\n        [this[\"changes\"].subscribe((function (val){!(this.valueFromJulia[\"changes\"]) ? (WebIO.setval({\"name\":\"changes\",\"scope\":\"8795968927446581932\",\"id\":\"10041344173540394904\",\"type\":\"observable\"},val)) : undefined; return this.valueFromJulia[\"changes\"]=false}),self),this[\"index\"].subscribe((function (val){!(this.valueFromJulia[\"index\"]) ? (WebIO.setval({\"name\":\"index\",\"scope\":\"8795968927446581932\",\"id\":\"4782382984609284492\",\"type\":\"observable\"},val)) : undefined; return this.valueFromJulia[\"index\"]=false}),self)]\n        \n    }\n    self.model = new AppViewModel();\n    self.valueFromJulia = {};\n    for (var key in json_data) {\n        self.valueFromJulia[key] = false;\n    }\n    ko.applyBindings(self.model, self.dom);\n}\n);\n    (WebIO.importBlock({\"data\":[{\"name\":\"knockout\",\"type\":\"js\",\"url\":\"/assetserver/44700ca70520c46d74ba97c1f943d03fe6985ddf-knockout.js\"},{\"name\":\"knockout_punches\",\"type\":\"js\",\"url\":\"/assetserver/3f5e7420dfd3ab5a750f192dbd485371621ca4da-knockout_punches.js\"}],\"type\":\"async_block\"})).then((imports) => handler.apply(this, imports));\n}\n"
            ],
            "observables": {
             "changes": {
              "id": "10041344173540394904",
              "sync": false,
              "value": 0
             },
             "index": {
              "id": "4782382984609284492",
              "sync": true,
              "value": 1
             }
            },
            "systemjs_options": null
           },
           "nodeType": "Scope",
           "props": {},
           "type": "node"
          }
         ],
         "instanceArgs": {
          "namespace": "html",
          "tag": "div"
         },
         "nodeType": "DOM",
         "props": {
          "className": "field interact-widget"
         },
         "type": "node"
        },
        {
         "children": [
          {
           "children": [],
           "instanceArgs": {
            "id": "18249485303772643513",
            "name": "obs-node"
           },
           "nodeType": "ObservableNode",
           "props": {},
           "type": "node"
          }
         ],
         "instanceArgs": {
          "handlers": {},
          "id": "17688720057487964861",
          "imports": {
           "data": [],
           "type": "async_block"
          },
          "mount_callbacks": [],
          "observables": {
           "obs-node": {
            "id": "18249485303772643513",
            "sync": false,
            "value": {
             "children": [
              {
               "children": [],
               "instanceArgs": {
                "namespace": "html",
                "tag": "div"
               },
               "nodeType": "DOM",
               "props": {
                "setInnerHtml": "<!DOCTYPE html>\n<html>\n    <head>\n        <title>Plots.jl</title>\n        <meta http-equiv=\"content-type\" content=\"text/html; charset=UTF-8\">\n        \n    </head>\n    <body>\n            <div id=\"020650a4-2968-401e-9b00-4d2825f4e694\" style=\"width:500px;height:300px;\"></div>\n    <script>\n        requirejs.config({\n        paths: {\n            Plotly: 'https://cdn.plot.ly/plotly-1.57.1.min'\n        }\n    });\n    require(['Plotly'], function (Plotly) {\n\n    PLOT = document.getElementById('020650a4-2968-401e-9b00-4d2825f4e694');\n    Plotly.plot(PLOT, [\n    {\n        \"xaxis\": \"x\",\n        \"colorbar\": {\n            \"title\": \"\"\n        },\n        \"yaxis\": \"y\",\n        \"text\": [\n            \"class 2\",\n            \"class 2\"\n        ],\n        \"x\": [\n            0.5589915032156663,\n            0.5589915032156663\n        ],\n        \"showlegend\": true,\n        \"mode\": \"lines\",\n        \"name\": \"y1\",\n        \"zmin\": null,\n        \"legendgroup\": \"y1\",\n        \"zmax\": null,\n        \"line\": {\n            \"color\": \"rgba(143, 143, 143, 1.000)\",\n            \"shape\": \"linear\",\n            \"dash\": \"solid\",\n            \"width\": 4\n        },\n        \"y\": [\n            1.0,\n            1.0\n        ],\n        \"type\": \"scatter\",\n        \"hoverinfo\": \"text\"\n    },\n    {\n        \"xaxis\": \"x\",\n        \"colorbar\": {\n            \"title\": \"\"\n        },\n        \"yaxis\": \"y\",\n        \"text\": [\n            \"class 2\",\n            \"class 2\"\n        ],\n        \"x\": [\n            0.5589915032156663,\n            0.6349079262193076\n        ],\n        \"showlegend\": true,\n        \"mode\": \"lines\",\n        \"name\": \"y2\",\n        \"zmin\": null,\n        \"legendgroup\": \"y2\",\n        \"zmax\": null,\n        \"line\": {\n            \"color\": \"rgba(238, 18, 137, 1.000)\",\n            \"shape\": \"linear\",\n            \"dash\": \"solid\",\n            \"width\": 4\n        },\n        \"y\": [\n            1.0,\n            1.0\n        ],\n        \"type\": \"scatter\",\n        \"hoverinfo\": \"text\"\n    },\n    {\n        \"xaxis\": \"x\",\n        \"colorbar\": {\n            \"title\": \"\"\n        },\n        \"yaxis\": \"y\",\n        \"text\": [\n            \"class 1\",\n            \"class 1\"\n        ],\n        \"x\": [\n            0.5639360404052973,\n            0.5685672879636985\n        ],\n        \"showlegend\": true,\n        \"mode\": \"lines\",\n        \"name\": \"y3\",\n        \"zmin\": null,\n        \"legendgroup\": \"y3\",\n        \"zmax\": null,\n        \"line\": {\n            \"color\": \"rgba(143, 143, 143, 1.000)\",\n            \"shape\": \"linear\",\n            \"dash\": \"solid\",\n            \"width\": 4\n        },\n        \"y\": [\n            2.0,\n            2.0\n        ],\n        \"type\": \"scatter\",\n        \"hoverinfo\": \"text\"\n    },\n    {\n        \"xaxis\": \"x\",\n        \"colorbar\": {\n            \"title\": \"\"\n        },\n        \"yaxis\": \"y\",\n        \"text\": [\n            \"class 2\",\n            \"class 2\"\n        ],\n        \"x\": [\n            0.5589915032156663,\n            0.5589915032156663\n        ],\n        \"showlegend\": true,\n        \"mode\": \"lines\",\n        \"name\": \"y4\",\n        \"zmin\": null,\n        \"legendgroup\": \"y4\",\n        \"zmax\": null,\n        \"line\": {\n            \"color\": \"rgba(143, 143, 143, 1.000)\",\n            \"shape\": \"linear\",\n            \"dash\": \"solid\",\n            \"width\": 4\n        },\n        \"y\": [\n            1.0,\n            1.0\n        ],\n        \"type\": \"scatter\",\n        \"hoverinfo\": \"text\"\n    },\n    {\n        \"xaxis\": \"x\",\n        \"colorbar\": {\n            \"title\": \"\"\n        },\n        \"yaxis\": \"y\",\n        \"text\": [\n            \"class 2\",\n            \"class 2\"\n        ],\n        \"x\": [\n            0.5589915032156663,\n            0.6349079262193076\n        ],\n        \"showlegend\": true,\n        \"mode\": \"lines\",\n        \"name\": \"y5\",\n        \"zmin\": null,\n        \"legendgroup\": \"y5\",\n        \"zmax\": null,\n        \"line\": {\n            \"color\": \"rgba(238, 18, 137, 1.000)\",\n            \"shape\": \"linear\",\n            \"dash\": \"solid\",\n            \"width\": 4\n        },\n        \"y\": [\n            1.0,\n            1.0\n        ],\n        \"type\": \"scatter\",\n        \"hoverinfo\": \"text\"\n    },\n    {\n        \"xaxis\": \"x\",\n        \"colorbar\": {\n            \"title\": \"\"\n        },\n        \"yaxis\": \"y\",\n        \"x\": [\n            0.5589915032156663,\n            0.5589915032156663\n        ],\n        \"showlegend\": true,\n        \"mode\": \"lines\",\n        \"name\": \"y6\",\n        \"zmin\": null,\n        \"legendgroup\": \"y6\",\n        \"zmax\": null,\n        \"line\": {\n            \"color\": \"rgba(255, 0, 0, 1.000)\",\n            \"shape\": \"linear\",\n            \"dash\": \"dot\",\n            \"width\": 1\n        },\n        \"y\": [\n            -401.0,\n            403.0\n        ],\n        \"type\": \"scatter\"\n    }\n]\n, {\n    \"showlegend\": false,\n    \"xaxis\": {\n        \"showticklabels\": true,\n        \"gridwidth\": 0.5,\n        \"tickvals\": [\n            0.56,\n            0.58,\n            0.6,\n            0.62\n        ],\n        \"visible\": true,\n        \"ticks\": \"inside\",\n        \"range\": [\n            0.556714010525557,\n            0.6371854189094168\n        ],\n        \"domain\": [\n            0.007874015748031496,\n            0.9921259842519685\n        ],\n        \"tickmode\": \"array\",\n        \"linecolor\": \"rgba(0, 0, 0, 1.000)\",\n        \"showgrid\": true,\n        \"title\": \"\",\n        \"mirror\": true,\n        \"tickangle\": 0,\n        \"showline\": true,\n        \"gridcolor\": \"rgba(0, 0, 0, 0.100)\",\n        \"titlefont\": {\n            \"color\": \"rgba(0, 0, 0, 1.000)\",\n            \"family\": \"sans-serif\",\n            \"size\": 15\n        },\n        \"tickcolor\": \"rgb(0, 0, 0)\",\n        \"ticktext\": [\n            \"0.56\",\n            \"0.58\",\n            \"0.60\",\n            \"0.62\"\n        ],\n        \"zeroline\": false,\n        \"type\": \"-\",\n        \"tickfont\": {\n            \"color\": \"rgba(0, 0, 0, 1.000)\",\n            \"family\": \"sans-serif\",\n            \"size\": 14\n        },\n        \"zerolinecolor\": \"rgba(0, 0, 0, 1.000)\",\n        \"anchor\": \"y\"\n    },\n    \"paper_bgcolor\": \"rgba(255, 255, 255, 1.000)\",\n    \"annotations\": [\n        {\n            \"yanchor\": \"top\",\n            \"xanchor\": \"center\",\n            \"rotation\": -0.0,\n            \"y\": 1.0,\n            \"font\": {\n                \"color\": \"rgba(0, 0, 0, 1.000)\",\n                \"family\": \"sans-serif\",\n                \"size\": 14\n            },\n            \"yref\": \"paper\",\n            \"showarrow\": false,\n            \"text\": \"Confirmed extension\",\n            \"xref\": \"paper\",\n            \"x\": 0.5\n        }\n    ],\n    \"height\": 300,\n    \"margin\": {\n        \"l\": 0,\n        \"b\": 20,\n        \"r\": 0,\n        \"t\": 20\n    },\n    \"plot_bgcolor\": \"rgba(255, 255, 255, 1.000)\",\n    \"yaxis\": {\n        \"showticklabels\": true,\n        \"gridwidth\": 0.5,\n        \"tickvals\": [],\n        \"visible\": true,\n        \"ticks\": \"inside\",\n        \"range\": [\n            -1.0,\n            3.0\n        ],\n        \"domain\": [\n            0.11191309419655886,\n            0.8880869058034411\n        ],\n        \"tickmode\": \"array\",\n        \"linecolor\": \"rgba(0, 0, 0, 1.000)\",\n        \"showgrid\": true,\n        \"title\": \"\",\n        \"mirror\": true,\n        \"tickangle\": 0,\n        \"showline\": true,\n        \"gridcolor\": \"rgba(0, 0, 0, 0.100)\",\n        \"titlefont\": {\n            \"color\": \"rgba(0, 0, 0, 1.000)\",\n            \"family\": \"sans-serif\",\n            \"size\": 15\n        },\n        \"tickcolor\": \"rgb(0, 0, 0)\",\n        \"ticktext\": [],\n        \"zeroline\": false,\n        \"type\": \"-\",\n        \"tickfont\": {\n            \"color\": \"rgba(0, 0, 0, 1.000)\",\n            \"family\": \"sans-serif\",\n            \"size\": 11\n        },\n        \"zerolinecolor\": \"rgba(0, 0, 0, 1.000)\",\n        \"anchor\": \"x\"\n    },\n    \"width\": 500\n}\n);\n    });\n    </script>\n\n    </body>\n</html>\n"
               },
               "type": "node"
              }
             ],
             "instanceArgs": {
              "namespace": "html",
              "tag": "div"
             },
             "nodeType": "DOM",
             "props": {
              "className": "interact-flex-row interact-widget"
             },
             "type": "node"
            }
           }
          },
          "systemjs_options": null
         },
         "nodeType": "Scope",
         "props": {},
         "type": "node"
        }
       ],
       "instanceArgs": {
        "namespace": "html",
        "tag": "div"
       },
       "nodeType": "DOM",
       "props": {},
       "type": "node"
      },
      "text/html": [
       "<div\n",
       "    class=\"webio-mountpoint\"\n",
       "    data-webio-mountpoint=\"14959192476822811029\"\n",
       ">\n",
       "    <script>\n",
       "    if (window.require && require.defined && require.defined(\"nbextensions/webio-jupyter-notebook\")) {\n",
       "        console.log(\"Jupyter WebIO extension detected, not mounting.\");\n",
       "    } else if (window.WebIO) {\n",
       "        WebIO.mount(\n",
       "            document.querySelector('[data-webio-mountpoint=\"14959192476822811029\"]'),\n",
       "            {\"props\":{},\"nodeType\":\"DOM\",\"type\":\"node\",\"instanceArgs\":{\"namespace\":\"html\",\"tag\":\"div\"},\"children\":[{\"props\":{\"className\":\"field interact-widget\"},\"nodeType\":\"DOM\",\"type\":\"node\",\"instanceArgs\":{\"namespace\":\"html\",\"tag\":\"div\"},\"children\":[{\"props\":{},\"nodeType\":\"Scope\",\"type\":\"node\",\"instanceArgs\":{\"imports\":{\"data\":[{\"name\":\"knockout\",\"type\":\"js\",\"url\":\"\\/assetserver\\/44700ca70520c46d74ba97c1f943d03fe6985ddf-knockout.js\"},{\"name\":\"knockout_punches\",\"type\":\"js\",\"url\":\"\\/assetserver\\/3f5e7420dfd3ab5a750f192dbd485371621ca4da-knockout_punches.js\"},{\"name\":null,\"type\":\"js\",\"url\":\"\\/assetserver\\/3f76434a1e97a9af06f7d6f3894ba480cf001d5f-all.js\"},{\"name\":null,\"type\":\"css\",\"url\":\"\\/assetserver\\/a0ee8e311cc462b1ab24c7d36fed5b7ca86463b5-style.css\"},{\"name\":null,\"type\":\"css\",\"url\":\"\\/assetserver\\/2c61f542bb90671813560490c4e5380eebd3eba5-bulma_confined.min.css\"}],\"type\":\"async_block\"},\"id\":\"8795968927446581932\",\"handlers\":{\"changes\":[\"(function (val){return (val!=this.model[\\\"changes\\\"]()) ? (this.valueFromJulia[\\\"changes\\\"]=true, this.model[\\\"changes\\\"](val)) : undefined})\"],\"index\":[\"(function (val){return (val!=this.model[\\\"index\\\"]()) ? (this.valueFromJulia[\\\"index\\\"]=true, this.model[\\\"index\\\"](val)) : undefined})\"]},\"systemjs_options\":null,\"mount_callbacks\":[\"function () {\\n    var handler = (function (ko, koPunches) {\\n    ko.punches.enableAll();\\n    ko.bindingHandlers.numericValue = {\\n        init: function(element, valueAccessor, allBindings, data, context) {\\n            var stringified = ko.observable(ko.unwrap(valueAccessor()));\\n            stringified.subscribe(function(value) {\\n                var val = parseFloat(value);\\n                if (!isNaN(val)) {\\n                    valueAccessor()(val);\\n                }\\n            });\\n            valueAccessor().subscribe(function(value) {\\n                var str = JSON.stringify(value);\\n                if ((str == \\\"0\\\") && ([\\\"-0\\\", \\\"-0.\\\"].indexOf(stringified()) >= 0))\\n                     return;\\n                 if ([\\\"null\\\", \\\"\\\"].indexOf(str) >= 0)\\n                     return;\\n                stringified(str);\\n            });\\n            ko.applyBindingsToNode(\\n                element,\\n                {\\n                    value: stringified,\\n                    valueUpdate: allBindings.get('valueUpdate'),\\n                },\\n                context,\\n            );\\n        }\\n    };\\n    var json_data = {\\\"formatted_vals\\\":[\\\"0.558992\\\"],\\\"changes\\\":WebIO.getval({\\\"name\\\":\\\"changes\\\",\\\"scope\\\":\\\"8795968927446581932\\\",\\\"id\\\":\\\"10041344173540394904\\\",\\\"type\\\":\\\"observable\\\"}),\\\"index\\\":WebIO.getval({\\\"name\\\":\\\"index\\\",\\\"scope\\\":\\\"8795968927446581932\\\",\\\"id\\\":\\\"4782382984609284492\\\",\\\"type\\\":\\\"observable\\\"})};\\n    var self = this;\\n    function AppViewModel() {\\n        for (var key in json_data) {\\n            var el = json_data[key];\\n            this[key] = Array.isArray(el) ? ko.observableArray(el) : ko.observable(el);\\n        }\\n        \\n        [this[\\\"formatted_val\\\"]=ko.computed(    function(){\\n        return this.formatted_vals()[parseInt(this.index())-(1)];\\n    }\\n,this)]\\n        [this[\\\"changes\\\"].subscribe((function (val){!(this.valueFromJulia[\\\"changes\\\"]) ? (WebIO.setval({\\\"name\\\":\\\"changes\\\",\\\"scope\\\":\\\"8795968927446581932\\\",\\\"id\\\":\\\"10041344173540394904\\\",\\\"type\\\":\\\"observable\\\"},val)) : undefined; return this.valueFromJulia[\\\"changes\\\"]=false}),self),this[\\\"index\\\"].subscribe((function (val){!(this.valueFromJulia[\\\"index\\\"]) ? (WebIO.setval({\\\"name\\\":\\\"index\\\",\\\"scope\\\":\\\"8795968927446581932\\\",\\\"id\\\":\\\"4782382984609284492\\\",\\\"type\\\":\\\"observable\\\"},val)) : undefined; return this.valueFromJulia[\\\"index\\\"]=false}),self)]\\n        \\n    }\\n    self.model = new AppViewModel();\\n    self.valueFromJulia = {};\\n    for (var key in json_data) {\\n        self.valueFromJulia[key] = false;\\n    }\\n    ko.applyBindings(self.model, self.dom);\\n}\\n);\\n    (WebIO.importBlock({\\\"data\\\":[{\\\"name\\\":\\\"knockout\\\",\\\"type\\\":\\\"js\\\",\\\"url\\\":\\\"\\/assetserver\\/44700ca70520c46d74ba97c1f943d03fe6985ddf-knockout.js\\\"},{\\\"name\\\":\\\"knockout_punches\\\",\\\"type\\\":\\\"js\\\",\\\"url\\\":\\\"\\/assetserver\\/3f5e7420dfd3ab5a750f192dbd485371621ca4da-knockout_punches.js\\\"}],\\\"type\\\":\\\"async_block\\\"})).then((imports) => handler.apply(this, imports));\\n}\\n\"],\"observables\":{\"changes\":{\"sync\":false,\"id\":\"10041344173540394904\",\"value\":0},\"index\":{\"sync\":true,\"id\":\"4782382984609284492\",\"value\":1}}},\"children\":[{\"props\":{\"className\":\"interact-flex-row interact-widget\"},\"nodeType\":\"DOM\",\"type\":\"node\",\"instanceArgs\":{\"namespace\":\"html\",\"tag\":\"div\"},\"children\":[{\"props\":{\"className\":\"interact-flex-row-left\"},\"nodeType\":\"DOM\",\"type\":\"node\",\"instanceArgs\":{\"namespace\":\"html\",\"tag\":\"div\"},\"children\":[{\"props\":{\"className\":\"interact \",\"style\":{\"padding\":\"5px 10px 0px 10px\"}},\"nodeType\":\"DOM\",\"type\":\"node\",\"instanceArgs\":{\"namespace\":\"html\",\"tag\":\"label\"},\"children\":[\"ε\"]}]},{\"props\":{\"className\":\"interact-flex-row-center\"},\"nodeType\":\"DOM\",\"type\":\"node\",\"instanceArgs\":{\"namespace\":\"html\",\"tag\":\"div\"},\"children\":[{\"props\":{\"max\":1,\"min\":1,\"attributes\":{\"type\":\"range\",\"data-bind\":\"numericValue: index, valueUpdate: 'input', event: {change: function (){this.changes(this.changes()+1)}}\",\"orient\":\"horizontal\"},\"step\":1,\"className\":\"slider slider is-fullwidth\",\"style\":{}},\"nodeType\":\"DOM\",\"type\":\"node\",\"instanceArgs\":{\"namespace\":\"html\",\"tag\":\"input\"},\"children\":[]}]},{\"props\":{\"className\":\"interact-flex-row-right\"},\"nodeType\":\"DOM\",\"type\":\"node\",\"instanceArgs\":{\"namespace\":\"html\",\"tag\":\"div\"},\"children\":[{\"props\":{\"attributes\":{\"data-bind\":\"text: formatted_val\"}},\"nodeType\":\"DOM\",\"type\":\"node\",\"instanceArgs\":{\"namespace\":\"html\",\"tag\":\"p\"},\"children\":[]}]}]}]}]},{\"props\":{},\"nodeType\":\"Scope\",\"type\":\"node\",\"instanceArgs\":{\"imports\":{\"data\":[],\"type\":\"async_block\"},\"id\":\"17327664273690271916\",\"handlers\":{},\"systemjs_options\":null,\"mount_callbacks\":[],\"observables\":{\"obs-node\":{\"sync\":false,\"id\":\"9849776138695272816\",\"value\":{\"props\":{\"className\":\"interact-flex-row interact-widget\"},\"nodeType\":\"DOM\",\"type\":\"node\",\"instanceArgs\":{\"namespace\":\"html\",\"tag\":\"div\"},\"children\":[{\"props\":{\"setInnerHtml\":\"<!DOCTYPE html>\\n<html>\\n    <head>\\n        <title>Plots.jl<\\/title>\\n        <meta http-equiv=\\\"content-type\\\" content=\\\"text\\/html; charset=UTF-8\\\">\\n        \\n    <\\/head>\\n    <body>\\n            <div id=\\\"2bfccd09-c0d2-49fb-9537-c86b0c3d4a03\\\" style=\\\"width:500px;height:300px;\\\"><\\/div>\\n    <script>\\n        requirejs.config({\\n        paths: {\\n            Plotly: 'https:\\/\\/cdn.plot.ly\\/plotly-1.57.1.min'\\n        }\\n    });\\n    require(['Plotly'], function (Plotly) {\\n\\n    PLOT = document.getElementById('2bfccd09-c0d2-49fb-9537-c86b0c3d4a03');\\n    Plotly.plot(PLOT, [\\n    {\\n        \\\"xaxis\\\": \\\"x\\\",\\n        \\\"colorbar\\\": {\\n            \\\"title\\\": \\\"\\\"\\n        },\\n        \\\"yaxis\\\": \\\"y\\\",\\n        \\\"text\\\": [\\n            \\\"class 2\\\",\\n            \\\"class 2\\\"\\n        ],\\n        \\\"x\\\": [\\n            0.5589915032156663,\\n            0.5589915032156663\\n        ],\\n        \\\"showlegend\\\": true,\\n        \\\"mode\\\": \\\"lines\\\",\\n        \\\"name\\\": \\\"y1\\\",\\n        \\\"zmin\\\": null,\\n        \\\"legendgroup\\\": \\\"y1\\\",\\n        \\\"zmax\\\": null,\\n        \\\"line\\\": {\\n            \\\"color\\\": \\\"rgba(143, 143, 143, 1.000)\\\",\\n            \\\"shape\\\": \\\"linear\\\",\\n            \\\"dash\\\": \\\"solid\\\",\\n            \\\"width\\\": 4\\n        },\\n        \\\"y\\\": [\\n            1.0,\\n            1.0\\n        ],\\n        \\\"type\\\": \\\"scatter\\\",\\n        \\\"hoverinfo\\\": \\\"text\\\"\\n    },\\n    {\\n        \\\"xaxis\\\": \\\"x\\\",\\n        \\\"colorbar\\\": {\\n            \\\"title\\\": \\\"\\\"\\n        },\\n        \\\"yaxis\\\": \\\"y\\\",\\n        \\\"text\\\": [\\n            \\\"class 2\\\",\\n            \\\"class 2\\\"\\n        ],\\n        \\\"x\\\": [\\n            0.5589915032156663,\\n            0.6349079262193076\\n        ],\\n        \\\"showlegend\\\": true,\\n        \\\"mode\\\": \\\"lines\\\",\\n        \\\"name\\\": \\\"y2\\\",\\n        \\\"zmin\\\": null,\\n        \\\"legendgroup\\\": \\\"y2\\\",\\n        \\\"zmax\\\": null,\\n        \\\"line\\\": {\\n            \\\"color\\\": \\\"rgba(238, 18, 137, 1.000)\\\",\\n            \\\"shape\\\": \\\"linear\\\",\\n            \\\"dash\\\": \\\"solid\\\",\\n            \\\"width\\\": 4\\n        },\\n        \\\"y\\\": [\\n            1.0,\\n            1.0\\n        ],\\n        \\\"type\\\": \\\"scatter\\\",\\n        \\\"hoverinfo\\\": \\\"text\\\"\\n    },\\n    {\\n        \\\"xaxis\\\": \\\"x\\\",\\n        \\\"colorbar\\\": {\\n            \\\"title\\\": \\\"\\\"\\n        },\\n        \\\"yaxis\\\": \\\"y\\\",\\n        \\\"text\\\": [\\n            \\\"class 1\\\",\\n            \\\"class 1\\\"\\n        ],\\n        \\\"x\\\": [\\n            0.5639360404052973,\\n            0.5685672879636985\\n        ],\\n        \\\"showlegend\\\": true,\\n        \\\"mode\\\": \\\"lines\\\",\\n        \\\"name\\\": \\\"y3\\\",\\n        \\\"zmin\\\": null,\\n        \\\"legendgroup\\\": \\\"y3\\\",\\n        \\\"zmax\\\": null,\\n        \\\"line\\\": {\\n            \\\"color\\\": \\\"rgba(143, 143, 143, 1.000)\\\",\\n            \\\"shape\\\": \\\"linear\\\",\\n            \\\"dash\\\": \\\"solid\\\",\\n            \\\"width\\\": 4\\n        },\\n        \\\"y\\\": [\\n            2.0,\\n            2.0\\n        ],\\n        \\\"type\\\": \\\"scatter\\\",\\n        \\\"hoverinfo\\\": \\\"text\\\"\\n    },\\n    {\\n        \\\"xaxis\\\": \\\"x\\\",\\n        \\\"colorbar\\\": {\\n            \\\"title\\\": \\\"\\\"\\n        },\\n        \\\"yaxis\\\": \\\"y\\\",\\n        \\\"text\\\": [\\n            \\\"class 2\\\",\\n            \\\"class 2\\\"\\n        ],\\n        \\\"x\\\": [\\n            0.5589915032156663,\\n            0.5589915032156663\\n        ],\\n        \\\"showlegend\\\": true,\\n        \\\"mode\\\": \\\"lines\\\",\\n        \\\"name\\\": \\\"y4\\\",\\n        \\\"zmin\\\": null,\\n        \\\"legendgroup\\\": \\\"y4\\\",\\n        \\\"zmax\\\": null,\\n        \\\"line\\\": {\\n            \\\"color\\\": \\\"rgba(143, 143, 143, 1.000)\\\",\\n            \\\"shape\\\": \\\"linear\\\",\\n            \\\"dash\\\": \\\"solid\\\",\\n            \\\"width\\\": 4\\n        },\\n        \\\"y\\\": [\\n            1.0,\\n            1.0\\n        ],\\n        \\\"type\\\": \\\"scatter\\\",\\n        \\\"hoverinfo\\\": \\\"text\\\"\\n    },\\n    {\\n        \\\"xaxis\\\": \\\"x\\\",\\n        \\\"colorbar\\\": {\\n            \\\"title\\\": \\\"\\\"\\n        },\\n        \\\"yaxis\\\": \\\"y\\\",\\n        \\\"text\\\": [\\n            \\\"class 2\\\",\\n            \\\"class 2\\\"\\n        ],\\n        \\\"x\\\": [\\n            0.5589915032156663,\\n            0.6349079262193076\\n        ],\\n        \\\"showlegend\\\": true,\\n        \\\"mode\\\": \\\"lines\\\",\\n        \\\"name\\\": \\\"y5\\\",\\n        \\\"zmin\\\": null,\\n        \\\"legendgroup\\\": \\\"y5\\\",\\n        \\\"zmax\\\": null,\\n        \\\"line\\\": {\\n            \\\"color\\\": \\\"rgba(238, 18, 137, 1.000)\\\",\\n            \\\"shape\\\": \\\"linear\\\",\\n            \\\"dash\\\": \\\"solid\\\",\\n            \\\"width\\\": 4\\n        },\\n        \\\"y\\\": [\\n            1.0,\\n            1.0\\n        ],\\n        \\\"type\\\": \\\"scatter\\\",\\n        \\\"hoverinfo\\\": \\\"text\\\"\\n    },\\n    {\\n        \\\"xaxis\\\": \\\"x\\\",\\n        \\\"colorbar\\\": {\\n            \\\"title\\\": \\\"\\\"\\n        },\\n        \\\"yaxis\\\": \\\"y\\\",\\n        \\\"x\\\": [\\n            0.5589915032156663,\\n            0.5589915032156663\\n        ],\\n        \\\"showlegend\\\": true,\\n        \\\"mode\\\": \\\"lines\\\",\\n        \\\"name\\\": \\\"y6\\\",\\n        \\\"zmin\\\": null,\\n        \\\"legendgroup\\\": \\\"y6\\\",\\n        \\\"zmax\\\": null,\\n        \\\"line\\\": {\\n            \\\"color\\\": \\\"rgba(255, 0, 0, 1.000)\\\",\\n            \\\"shape\\\": \\\"linear\\\",\\n            \\\"dash\\\": \\\"dot\\\",\\n            \\\"width\\\": 1\\n        },\\n        \\\"y\\\": [\\n            -401.0,\\n            403.0\\n        ],\\n        \\\"type\\\": \\\"scatter\\\"\\n    }\\n]\\n, {\\n    \\\"showlegend\\\": false,\\n    \\\"xaxis\\\": {\\n        \\\"showticklabels\\\": true,\\n        \\\"gridwidth\\\": 0.5,\\n        \\\"tickvals\\\": [\\n            0.56,\\n            0.58,\\n            0.6,\\n            0.62\\n        ],\\n        \\\"visible\\\": true,\\n        \\\"ticks\\\": \\\"inside\\\",\\n        \\\"range\\\": [\\n            0.556714010525557,\\n            0.6371854189094168\\n        ],\\n        \\\"domain\\\": [\\n            0.007874015748031496,\\n            0.9921259842519685\\n        ],\\n        \\\"tickmode\\\": \\\"array\\\",\\n        \\\"linecolor\\\": \\\"rgba(0, 0, 0, 1.000)\\\",\\n        \\\"showgrid\\\": true,\\n        \\\"title\\\": \\\"\\\",\\n        \\\"mirror\\\": true,\\n        \\\"tickangle\\\": 0,\\n        \\\"showline\\\": true,\\n        \\\"gridcolor\\\": \\\"rgba(0, 0, 0, 0.100)\\\",\\n        \\\"titlefont\\\": {\\n            \\\"color\\\": \\\"rgba(0, 0, 0, 1.000)\\\",\\n            \\\"family\\\": \\\"sans-serif\\\",\\n            \\\"size\\\": 15\\n        },\\n        \\\"tickcolor\\\": \\\"rgb(0, 0, 0)\\\",\\n        \\\"ticktext\\\": [\\n            \\\"0.56\\\",\\n            \\\"0.58\\\",\\n            \\\"0.60\\\",\\n            \\\"0.62\\\"\\n        ],\\n        \\\"zeroline\\\": false,\\n        \\\"type\\\": \\\"-\\\",\\n        \\\"tickfont\\\": {\\n            \\\"color\\\": \\\"rgba(0, 0, 0, 1.000)\\\",\\n            \\\"family\\\": \\\"sans-serif\\\",\\n            \\\"size\\\": 14\\n        },\\n        \\\"zerolinecolor\\\": \\\"rgba(0, 0, 0, 1.000)\\\",\\n        \\\"anchor\\\": \\\"y\\\"\\n    },\\n    \\\"paper_bgcolor\\\": \\\"rgba(255, 255, 255, 1.000)\\\",\\n    \\\"annotations\\\": [\\n        {\\n            \\\"yanchor\\\": \\\"top\\\",\\n            \\\"xanchor\\\": \\\"center\\\",\\n            \\\"rotation\\\": -0.0,\\n            \\\"y\\\": 1.0,\\n            \\\"font\\\": {\\n                \\\"color\\\": \\\"rgba(0, 0, 0, 1.000)\\\",\\n                \\\"family\\\": \\\"sans-serif\\\",\\n                \\\"size\\\": 14\\n            },\\n            \\\"yref\\\": \\\"paper\\\",\\n            \\\"showarrow\\\": false,\\n            \\\"text\\\": \\\"Confirmed extension\\\",\\n            \\\"xref\\\": \\\"paper\\\",\\n            \\\"x\\\": 0.5\\n        }\\n    ],\\n    \\\"height\\\": 300,\\n    \\\"margin\\\": {\\n        \\\"l\\\": 0,\\n        \\\"b\\\": 20,\\n        \\\"r\\\": 0,\\n        \\\"t\\\": 20\\n    },\\n    \\\"plot_bgcolor\\\": \\\"rgba(255, 255, 255, 1.000)\\\",\\n    \\\"yaxis\\\": {\\n        \\\"showticklabels\\\": true,\\n        \\\"gridwidth\\\": 0.5,\\n        \\\"tickvals\\\": [],\\n        \\\"visible\\\": true,\\n        \\\"ticks\\\": \\\"inside\\\",\\n        \\\"range\\\": [\\n            -1.0,\\n            3.0\\n        ],\\n        \\\"domain\\\": [\\n            0.11191309419655886,\\n            0.8880869058034411\\n        ],\\n        \\\"tickmode\\\": \\\"array\\\",\\n        \\\"linecolor\\\": \\\"rgba(0, 0, 0, 1.000)\\\",\\n        \\\"showgrid\\\": true,\\n        \\\"title\\\": \\\"\\\",\\n        \\\"mirror\\\": true,\\n        \\\"tickangle\\\": 0,\\n        \\\"showline\\\": true,\\n        \\\"gridcolor\\\": \\\"rgba(0, 0, 0, 0.100)\\\",\\n        \\\"titlefont\\\": {\\n            \\\"color\\\": \\\"rgba(0, 0, 0, 1.000)\\\",\\n            \\\"family\\\": \\\"sans-serif\\\",\\n            \\\"size\\\": 15\\n        },\\n        \\\"tickcolor\\\": \\\"rgb(0, 0, 0)\\\",\\n        \\\"ticktext\\\": [],\\n        \\\"zeroline\\\": false,\\n        \\\"type\\\": \\\"-\\\",\\n        \\\"tickfont\\\": {\\n            \\\"color\\\": \\\"rgba(0, 0, 0, 1.000)\\\",\\n            \\\"family\\\": \\\"sans-serif\\\",\\n            \\\"size\\\": 11\\n        },\\n        \\\"zerolinecolor\\\": \\\"rgba(0, 0, 0, 1.000)\\\",\\n        \\\"anchor\\\": \\\"x\\\"\\n    },\\n    \\\"width\\\": 500\\n}\\n);\\n    });\\n    <\\/script>\\n\\n    <\\/body>\\n<\\/html>\\n\"},\"nodeType\":\"DOM\",\"type\":\"node\",\"instanceArgs\":{\"namespace\":\"html\",\"tag\":\"div\"},\"children\":[]}]}}}},\"children\":[{\"props\":{},\"nodeType\":\"ObservableNode\",\"type\":\"node\",\"instanceArgs\":{\"id\":\"9849776138695272816\",\"name\":\"obs-node\"},\"children\":[]}]}]},\n",
       "            window,\n",
       "        );\n",
       "    } else {\n",
       "        document\n",
       "            .querySelector('[data-webio-mountpoint=\"14959192476822811029\"]')\n",
       "            .innerHTML = (\n",
       "                '<div style=\"padding: 1em; background-color: #f8d6da; border: 1px solid #f5c6cb\">' +\n",
       "                '<p><strong>WebIO not detected.</strong></p>' +\n",
       "                '<p>Please read ' +\n",
       "                '<a href=\"https://juliagizmos.github.io/WebIO.jl/latest/troubleshooting/not-detected/\" target=\"_blank\">the troubleshooting guide</a> ' +\n",
       "                'for more information on how to resolve this issue.</p>' +\n",
       "                '<p><a href=\"https://juliagizmos.github.io/WebIO.jl/latest/troubleshooting/not-detected/\" target=\"_blank\">https://juliagizmos.github.io/WebIO.jl/latest/troubleshooting/not-detected/</a></p>' +\n",
       "                '</div>'\n",
       "            );\n",
       "    }\n",
       "    </script>\n",
       "</div>\n"
      ],
      "text/plain": [
       "WebIO.Node{WebIO.DOM}(WebIO.DOM(:html, :div), Any[WebIO.Node{WebIO.DOM}(WebIO.DOM(:html, :div), Any[WebIO.Scope(WebIO.Node{WebIO.DOM}(WebIO.DOM(:html, :div), Any[WebIO.Node{WebIO.DOM}(WebIO.DOM(:html, :div), Any[WebIO.Node{WebIO.DOM}(WebIO.DOM(:html, :label), Any[\"ε\"], Dict{Symbol,Any}(:className => \"interact \",:style => Dict{Any,Any}(:padding => \"5px 10px 0px 10px\")))], Dict{Symbol,Any}(:className => \"interact-flex-row-left\")), WebIO.Node{WebIO.DOM}(WebIO.DOM(:html, :div), Any[WebIO.Node{WebIO.DOM}(WebIO.DOM(:html, :input), Any[], Dict{Symbol,Any}(:max => 1,:min => 1,:attributes => Dict{Any,Any}(:type => \"range\",Symbol(\"data-bind\") => \"numericValue: index, valueUpdate: 'input', event: {change: function (){this.changes(this.changes()+1)}}\",\"orient\" => \"horizontal\"),:step => 1,:className => \"slider slider is-fullwidth\",:style => Dict{Any,Any}()))], Dict{Symbol,Any}(:className => \"interact-flex-row-center\")), WebIO.Node{WebIO.DOM}(WebIO.DOM(:html, :div), Any[WebIO.Node{WebIO.DOM}(WebIO.DOM(:html, :p), Any[], Dict{Symbol,Any}(:attributes => Dict(\"data-bind\" => \"text: formatted_val\")))], Dict{Symbol,Any}(:className => \"interact-flex-row-right\"))], Dict{Symbol,Any}(:className => \"interact-flex-row interact-widget\")), Dict{String,Tuple{Observables.AbstractObservable,Union{Nothing, Bool}}}(\"changes\" => (Observable{Int64} with 1 listeners. Value:\n",
       "0, nothing),\"index\" => (Observable{Any} with 2 listeners. Value:\n",
       "1, nothing)), Set{String}(), nothing, WebIO.Asset[WebIO.Asset(\"js\", \"knockout\", \"/Users/irisyoon/.julia/packages/Knockout/IP1uR/src/../assets/knockout.js\"), WebIO.Asset(\"js\", \"knockout_punches\", \"/Users/irisyoon/.julia/packages/Knockout/IP1uR/src/../assets/knockout_punches.js\"), WebIO.Asset(\"js\", nothing, \"/Users/irisyoon/.julia/packages/InteractBase/Zfu5P/src/../assets/all.js\"), WebIO.Asset(\"css\", nothing, \"/Users/irisyoon/.julia/packages/InteractBase/Zfu5P/src/../assets/style.css\"), WebIO.Asset(\"css\", nothing, \"/Users/irisyoon/.julia/packages/Interact/SbgIk/src/../assets/bulma_confined.min.css\")], Dict{Any,Any}(\"changes\" => Any[WebIO.JSString(\"(function (val){return (val!=this.model[\\\"changes\\\"]()) ? (this.valueFromJulia[\\\"changes\\\"]=true, this.model[\\\"changes\\\"](val)) : undefined})\")],\"index\" => Any[WebIO.JSString(\"(function (val){return (val!=this.model[\\\"index\\\"]()) ? (this.valueFromJulia[\\\"index\\\"]=true, this.model[\\\"index\\\"](val)) : undefined})\")]), WebIO.ConnectionPool(Channel{Any}(sz_max:32,sz_curr:0), Set{WebIO.AbstractConnection}(), Base.GenericCondition{Base.AlwaysLockedST}(Base.InvasiveLinkedList{Task}(Task (runnable) @0x000000012ae2d210, Task (runnable) @0x000000012ae2d210), Base.AlwaysLockedST(1))), WebIO.JSString[WebIO.JSString(\"function () {\\n    var handler = (function (ko, koPunches) {\\n    ko.punches.enableAll();\\n    ko.bindingHandlers.numericValue = {\\n        init: function(element, valueAccessor, allBindings, data, context) {\\n            var stringified = ko.observable(ko.unwrap(valueAccessor()));\\n            stringified.subscribe(function(value) {\\n                var val = parseFloat(value);\\n                if (!isNaN(val)) {\\n                    valueAccessor()(val);\\n                }\\n            });\\n            valueAccessor().subscribe(function(value) {\\n                var str = JSON.stringify(value);\\n                if ((str == \\\"0\\\") && ([\\\"-0\\\", \\\"-0.\\\"].indexOf(stringified()) >= 0))\\n                     return;\\n                 if ([\\\"null\\\", \\\"\\\"].indexOf(str) >= 0)\\n                     return;\\n                stringified(str);\\n            });\\n            ko.applyBindingsToNode(\\n                element,\\n                {\\n                    value: stringified,\\n                    valueUpdate: allBindings.get('valueUpdate'),\\n                },\\n                context,\\n            );\\n        }\\n    };\\n    var json_data = {\\\"formatted_vals\\\":[\\\"0.558992\\\"],\\\"changes\\\":WebIO.getval({\\\"name\\\":\\\"changes\\\",\\\"scope\\\":\\\"8795968927446581932\\\",\\\"id\\\":\\\"10041344173540394904\\\",\\\"type\\\":\\\"observable\\\"}),\\\"index\\\":WebIO.getval({\\\"name\\\":\\\"index\\\",\\\"scope\\\":\\\"8795968927446581932\\\",\\\"id\\\":\\\"4782382984609284492\\\",\\\"type\\\":\\\"observable\\\"})};\\n    var self = this;\\n    function AppViewModel() {\\n        for (var key in json_data) {\\n            var el = json_data[key];\\n            this[key] = Array.isArray(el) ? ko.observableArray(el) : ko.observable(el);\\n        }\\n        \\n        [this[\\\"formatted_val\\\"]=ko.computed(    function(){\\n        return this.formatted_vals()[parseInt(this.index())-(1)];\\n    }\\n,this)]\\n        [this[\\\"changes\\\"].subscribe((function (val){!(this.valueFromJulia[\\\"changes\\\"]) ? (WebIO.setval({\\\"name\\\":\\\"changes\\\",\\\"scope\\\":\\\"8795968927446581932\\\",\\\"id\\\":\\\"10041344173540394904\\\",\\\"type\\\":\\\"observable\\\"},val)) : undefined; return this.valueFromJulia[\\\"changes\\\"]=false}),self),this[\\\"index\\\"].subscribe((function (val){!(this.valueFromJulia[\\\"index\\\"]) ? (WebIO.setval({\\\"name\\\":\\\"index\\\",\\\"scope\\\":\\\"8795968927446581932\\\",\\\"id\\\":\\\"4782382984609284492\\\",\\\"type\\\":\\\"observable\\\"},val)) : undefined; return this.valueFromJulia[\\\"index\\\"]=false}),self)]\\n        \\n    }\\n    self.model = new AppViewModel();\\n    self.valueFromJulia = {};\\n    for (var key in json_data) {\\n        self.valueFromJulia[key] = false;\\n    }\\n    ko.applyBindings(self.model, self.dom);\\n}\\n);\\n    (WebIO.importBlock({\\\"data\\\":[{\\\"name\\\":\\\"knockout\\\",\\\"type\\\":\\\"js\\\",\\\"url\\\":\\\"/assetserver/44700ca70520c46d74ba97c1f943d03fe6985ddf-knockout.js\\\"},{\\\"name\\\":\\\"knockout_punches\\\",\\\"type\\\":\\\"js\\\",\\\"url\\\":\\\"/assetserver/3f5e7420dfd3ab5a750f192dbd485371621ca4da-knockout_punches.js\\\"}],\\\"type\\\":\\\"async_block\\\"})).then((imports) => handler.apply(this, imports));\\n}\\n\")])], Dict{Symbol,Any}(:className => \"field interact-widget\")), Observable{Any} with 0 listeners. Value:\n",
       "WebIO.Node{WebIO.DOM}(WebIO.DOM(:html, :div), Any[Plot{Plots.PlotlyBackend() n=6}], Dict{Symbol,Any}(:className => \"interact-flex-row interact-widget\"))], Dict{Symbol,Any}())"
      ]
     },
     "execution_count": 36,
     "metadata": {
      "application/vnd.webio.node+json": {
       "kernelId": "772b6ce8-5d63-45d8-a5d1-8d8ebf0558f3"
      }
     },
     "output_type": "execute_result"
    }
   ],
   "source": [
    "plot_possible_extensions(extension_V1, lw = 4)"
   ]
  },
  {
   "cell_type": "markdown",
   "id": "ultimate-trance",
   "metadata": {},
   "source": [
    "<b>Alternative representations under a different choice of basis of barcode(VR(V1))</b>\n",
    "\n",
    "Since there are no other possible intervals at the selected parameter, there are no other alternative representations to consider."
   ]
  },
  {
   "cell_type": "markdown",
   "id": "handed-dallas",
   "metadata": {},
   "source": [
    "### 4(b) Exaine confirmed and possible extensions in extension_AL"
   ]
  },
  {
   "cell_type": "markdown",
   "id": "beneficial-excellence",
   "metadata": {},
   "source": [
    "<b> Plot confirmed interval and possible extensions </b>"
   ]
  },
  {
   "cell_type": "code",
   "execution_count": 47,
   "id": "environmental-wildlife",
   "metadata": {},
   "outputs": [
    {
     "data": {
      "application/vnd.plotly.v1+json": {
       "data": [
        {
         "colorbar": {
          "title": ""
         },
         "hoverinfo": "text",
         "legendgroup": "y1",
         "line": {
          "color": "rgba(143, 143, 143, 1.000)",
          "dash": "solid",
          "shape": "linear",
          "width": 3
         },
         "mode": "lines",
         "name": "y1",
         "showlegend": true,
         "text": [
          "class 1",
          "class 1"
         ],
         "type": "scatter",
         "x": [
          0.4024366521227176,
          0.43037476035593203
         ],
         "xaxis": "x1",
         "y": [
          1,
          1
         ],
         "yaxis": "y1",
         "zmax": null,
         "zmin": null
        },
        {
         "colorbar": {
          "title": ""
         },
         "hoverinfo": "text",
         "legendgroup": "y2",
         "line": {
          "color": "rgba(238, 18, 137, 1.000)",
          "dash": "solid",
          "shape": "linear",
          "width": 3
         },
         "mode": "lines",
         "name": "y2",
         "showlegend": true,
         "text": [
          "class 2",
          "class 2"
         ],
         "type": "scatter",
         "x": [
          0.48523076539972543,
          0.49653893919583936
         ],
         "xaxis": "x1",
         "y": [
          2,
          2
         ],
         "yaxis": "y1",
         "zmax": null,
         "zmin": null
        },
        {
         "colorbar": {
          "title": ""
         },
         "hoverinfo": "text",
         "legendgroup": "y3",
         "line": {
          "color": "rgba(238, 18, 137, 1.000)",
          "dash": "solid",
          "shape": "linear",
          "width": 3
         },
         "mode": "lines",
         "name": "y3",
         "showlegend": true,
         "text": [
          "class 2",
          "class 2"
         ],
         "type": "scatter",
         "x": [
          0.48523076539972543,
          0.49653893919583936
         ],
         "xaxis": "x1",
         "y": [
          2,
          2
         ],
         "yaxis": "y1",
         "zmax": null,
         "zmin": null
        },
        {
         "colorbar": {
          "title": ""
         },
         "hoverinfo": "text",
         "legendgroup": "y1",
         "line": {
          "color": "rgba(143, 143, 143, 1.000)",
          "dash": "solid",
          "shape": "linear",
          "width": 3
         },
         "mode": "lines",
         "name": "y1",
         "showlegend": true,
         "text": [
          "class 1",
          "class 1"
         ],
         "type": "scatter",
         "x": [
          0.3814331491646641,
          0.386574214763859
         ],
         "xaxis": "x2",
         "y": [
          1,
          1
         ],
         "yaxis": "y2",
         "zmax": null,
         "zmin": null
        },
        {
         "colorbar": {
          "title": ""
         },
         "hoverinfo": "text",
         "legendgroup": "y2",
         "line": {
          "color": "rgba(143, 143, 143, 1.000)",
          "dash": "solid",
          "shape": "linear",
          "width": 3
         },
         "mode": "lines",
         "name": "y2",
         "showlegend": true,
         "text": [
          "class 2",
          "class 2"
         ],
         "type": "scatter",
         "x": [
          0.4560830876857863,
          0.4560830876857863
         ],
         "xaxis": "x2",
         "y": [
          2,
          2
         ],
         "yaxis": "y2",
         "zmax": null,
         "zmin": null
        },
        {
         "colorbar": {
          "title": ""
         },
         "hoverinfo": "text",
         "legendgroup": "y3",
         "line": {
          "color": "rgba(238, 18, 137, 1.000)",
          "dash": "solid",
          "shape": "linear",
          "width": 3
         },
         "mode": "lines",
         "name": "y3",
         "showlegend": true,
         "text": [
          "class 2",
          "class 2"
         ],
         "type": "scatter",
         "x": [
          0.4560830876857863,
          0.5083850196946953
         ],
         "xaxis": "x2",
         "y": [
          2,
          2
         ],
         "yaxis": "y2",
         "zmax": null,
         "zmin": null
        },
        {
         "colorbar": {
          "title": ""
         },
         "hoverinfo": "text",
         "legendgroup": "y4",
         "line": {
          "color": "rgba(143, 143, 143, 1.000)",
          "dash": "solid",
          "shape": "linear",
          "width": 3
         },
         "mode": "lines",
         "name": "y4",
         "showlegend": true,
         "text": [
          "class 2",
          "class 2"
         ],
         "type": "scatter",
         "x": [
          0.4560830876857863,
          0.4560830876857863
         ],
         "xaxis": "x2",
         "y": [
          2,
          2
         ],
         "yaxis": "y2",
         "zmax": null,
         "zmin": null
        },
        {
         "colorbar": {
          "title": ""
         },
         "hoverinfo": "text",
         "legendgroup": "y5",
         "line": {
          "color": "rgba(238, 18, 137, 1.000)",
          "dash": "solid",
          "shape": "linear",
          "width": 3
         },
         "mode": "lines",
         "name": "y5",
         "showlegend": true,
         "text": [
          "class 2",
          "class 2"
         ],
         "type": "scatter",
         "x": [
          0.4560830876857863,
          0.5083850196946953
         ],
         "xaxis": "x2",
         "y": [
          2,
          2
         ],
         "yaxis": "y2",
         "zmax": null,
         "zmin": null
        },
        {
         "colorbar": {
          "title": ""
         },
         "legendgroup": "y6",
         "line": {
          "color": "rgba(255, 0, 0, 1.000)",
          "dash": "dot",
          "shape": "linear",
          "width": 1
         },
         "mode": "lines",
         "name": "y6",
         "showlegend": true,
         "type": "scatter",
         "x": [
          0.4560830876857863,
          0.4560830876857863
         ],
         "xaxis": "x2",
         "y": [
          -401,
          403
         ],
         "yaxis": "y2",
         "zmax": null,
         "zmin": null
        }
       ],
       "layout": {
        "annotations": [
         {
          "font": {
           "color": "rgba(0, 0, 0, 1.000)",
           "family": "sans-serif",
           "size": 21
          },
          "rotation": 0,
          "showarrow": false,
          "text": "Selected interval in barcode(W)",
          "x": 0.5,
          "xanchor": "center",
          "xref": "paper",
          "y": 1,
          "yanchor": "top",
          "yref": "paper"
         },
         {
          "font": {
           "color": "rgba(0, 0, 0, 1.000)",
           "family": "sans-serif",
           "size": 21
          },
          "rotation": 0,
          "showarrow": false,
          "text": "Confirmed extension in barcode(VR)",
          "x": 0.5,
          "xanchor": "center",
          "xref": "paper",
          "y": 0.5,
          "yanchor": "top",
          "yref": "paper"
         }
        ],
        "height": 600,
        "margin": {
         "b": 20,
         "l": 0,
         "r": 0,
         "t": 20
        },
        "paper_bgcolor": "rgba(255, 255, 255, 1.000)",
        "plot_bgcolor": "rgba(255, 255, 255, 1.000)",
        "showlegend": false,
        "width": 500,
        "xaxis1": {
         "anchor": "y1",
         "domain": [
          0.007874015748031496,
          0.9921259842519685
         ],
         "gridcolor": "rgba(0, 0, 0, 0.100)",
         "gridwidth": 0.5,
         "linecolor": "rgba(0, 0, 0, 1.000)",
         "mirror": true,
         "range": [
          0.39961358351052395,
          0.499362007808033
         ],
         "showgrid": true,
         "showline": true,
         "showticklabels": true,
         "tickangle": 0,
         "tickcolor": "rgb(0, 0, 0)",
         "tickfont": {
          "color": "rgba(0, 0, 0, 1.000)",
          "family": "sans-serif",
          "size": 17
         },
         "tickmode": "array",
         "ticks": "inside",
         "ticktext": [
          "0.40",
          "0.42",
          "0.44",
          "0.46",
          "0.48"
         ],
         "tickvals": [
          0.4,
          0.42,
          0.44,
          0.46,
          0.48
         ],
         "title": "",
         "titlefont": {
          "color": "rgba(0, 0, 0, 1.000)",
          "family": "sans-serif",
          "size": 15
         },
         "type": "-",
         "visible": true,
         "zeroline": false,
         "zerolinecolor": "rgba(0, 0, 0, 1.000)"
        },
        "xaxis2": {
         "anchor": "y2",
         "domain": [
          0.007874015748031496,
          0.9921259842519685
         ],
         "gridcolor": "rgba(0, 0, 0, 0.100)",
         "gridwidth": 0.5,
         "linecolor": "rgba(0, 0, 0, 1.000)",
         "mirror": true,
         "range": [
          0.37762459304876317,
          0.5121935758105962
         ],
         "showgrid": true,
         "showline": true,
         "showticklabels": true,
         "tickangle": 0,
         "tickcolor": "rgb(0, 0, 0)",
         "tickfont": {
          "color": "rgba(0, 0, 0, 1.000)",
          "family": "sans-serif",
          "size": 17
         },
         "tickmode": "array",
         "ticks": "inside",
         "ticktext": [
          "0.400",
          "0.425",
          "0.450",
          "0.475",
          "0.500"
         ],
         "tickvals": [
          0.4,
          0.42500000000000004,
          0.45,
          0.47500000000000003,
          0.5
         ],
         "title": "",
         "titlefont": {
          "color": "rgba(0, 0, 0, 1.000)",
          "family": "sans-serif",
          "size": 15
         },
         "type": "-",
         "visible": true,
         "zeroline": false,
         "zerolinecolor": "rgba(0, 0, 0, 1.000)"
        },
        "yaxis1": {
         "anchor": "x1",
         "domain": [
          0.560586176727909,
          0.9324693788276466
         ],
         "gridcolor": "rgba(0, 0, 0, 0.100)",
         "gridwidth": 0.5,
         "linecolor": "rgba(0, 0, 0, 1.000)",
         "mirror": true,
         "range": [
          -1,
          3
         ],
         "showgrid": true,
         "showline": true,
         "showticklabels": true,
         "tickangle": 0,
         "tickcolor": "rgb(0, 0, 0)",
         "tickfont": {
          "color": "rgba(0, 0, 0, 1.000)",
          "family": "sans-serif",
          "size": 11
         },
         "tickmode": "array",
         "ticks": "inside",
         "ticktext": [],
         "tickvals": [],
         "title": "",
         "titlefont": {
          "color": "rgba(0, 0, 0, 1.000)",
          "family": "sans-serif",
          "size": 15
         },
         "type": "-",
         "visible": true,
         "zeroline": false,
         "zerolinecolor": "rgba(0, 0, 0, 1.000)"
        },
        "yaxis2": {
         "anchor": "x2",
         "domain": [
          0.06058617672790892,
          0.43246937882764647
         ],
         "gridcolor": "rgba(0, 0, 0, 0.100)",
         "gridwidth": 0.5,
         "linecolor": "rgba(0, 0, 0, 1.000)",
         "mirror": true,
         "range": [
          -1,
          3
         ],
         "showgrid": true,
         "showline": true,
         "showticklabels": true,
         "tickangle": 0,
         "tickcolor": "rgb(0, 0, 0)",
         "tickfont": {
          "color": "rgba(0, 0, 0, 1.000)",
          "family": "sans-serif",
          "size": 11
         },
         "tickmode": "array",
         "ticks": "inside",
         "ticktext": [],
         "tickvals": [],
         "title": "",
         "titlefont": {
          "color": "rgba(0, 0, 0, 1.000)",
          "family": "sans-serif",
          "size": 15
         },
         "type": "-",
         "visible": true,
         "zeroline": false,
         "zerolinecolor": "rgba(0, 0, 0, 1.000)"
        }
       }
      },
      "text/html": [
       "<!DOCTYPE html>\n",
       "<html>\n",
       "    <head>\n",
       "        <title>Plots.jl</title>\n",
       "        <meta http-equiv=\"content-type\" content=\"text/html; charset=UTF-8\">\n",
       "        \n",
       "    </head>\n",
       "    <body>\n",
       "            <div id=\"ebf10add-b863-4943-a220-467b4bbc9c1f\" style=\"width:500px;height:600px;\"></div>\n",
       "    <script>\n",
       "        requirejs.config({\n",
       "        paths: {\n",
       "            Plotly: 'https://cdn.plot.ly/plotly-1.57.1.min'\n",
       "        }\n",
       "    });\n",
       "    require(['Plotly'], function (Plotly) {\n",
       "\n",
       "    PLOT = document.getElementById('ebf10add-b863-4943-a220-467b4bbc9c1f');\n",
       "    Plotly.plot(PLOT, [\n",
       "    {\n",
       "        \"xaxis\": \"x1\",\n",
       "        \"colorbar\": {\n",
       "            \"title\": \"\"\n",
       "        },\n",
       "        \"yaxis\": \"y1\",\n",
       "        \"text\": [\n",
       "            \"class 1\",\n",
       "            \"class 1\"\n",
       "        ],\n",
       "        \"x\": [\n",
       "            0.4024366521227176,\n",
       "            0.43037476035593203\n",
       "        ],\n",
       "        \"showlegend\": true,\n",
       "        \"mode\": \"lines\",\n",
       "        \"name\": \"y1\",\n",
       "        \"zmin\": null,\n",
       "        \"legendgroup\": \"y1\",\n",
       "        \"zmax\": null,\n",
       "        \"line\": {\n",
       "            \"color\": \"rgba(143, 143, 143, 1.000)\",\n",
       "            \"shape\": \"linear\",\n",
       "            \"dash\": \"solid\",\n",
       "            \"width\": 3\n",
       "        },\n",
       "        \"y\": [\n",
       "            1.0,\n",
       "            1.0\n",
       "        ],\n",
       "        \"type\": \"scatter\",\n",
       "        \"hoverinfo\": \"text\"\n",
       "    },\n",
       "    {\n",
       "        \"xaxis\": \"x1\",\n",
       "        \"colorbar\": {\n",
       "            \"title\": \"\"\n",
       "        },\n",
       "        \"yaxis\": \"y1\",\n",
       "        \"text\": [\n",
       "            \"class 2\",\n",
       "            \"class 2\"\n",
       "        ],\n",
       "        \"x\": [\n",
       "            0.48523076539972543,\n",
       "            0.49653893919583936\n",
       "        ],\n",
       "        \"showlegend\": true,\n",
       "        \"mode\": \"lines\",\n",
       "        \"name\": \"y2\",\n",
       "        \"zmin\": null,\n",
       "        \"legendgroup\": \"y2\",\n",
       "        \"zmax\": null,\n",
       "        \"line\": {\n",
       "            \"color\": \"rgba(238, 18, 137, 1.000)\",\n",
       "            \"shape\": \"linear\",\n",
       "            \"dash\": \"solid\",\n",
       "            \"width\": 3\n",
       "        },\n",
       "        \"y\": [\n",
       "            2.0,\n",
       "            2.0\n",
       "        ],\n",
       "        \"type\": \"scatter\",\n",
       "        \"hoverinfo\": \"text\"\n",
       "    },\n",
       "    {\n",
       "        \"xaxis\": \"x1\",\n",
       "        \"colorbar\": {\n",
       "            \"title\": \"\"\n",
       "        },\n",
       "        \"yaxis\": \"y1\",\n",
       "        \"text\": [\n",
       "            \"class 2\",\n",
       "            \"class 2\"\n",
       "        ],\n",
       "        \"x\": [\n",
       "            0.48523076539972543,\n",
       "            0.49653893919583936\n",
       "        ],\n",
       "        \"showlegend\": true,\n",
       "        \"mode\": \"lines\",\n",
       "        \"name\": \"y3\",\n",
       "        \"zmin\": null,\n",
       "        \"legendgroup\": \"y3\",\n",
       "        \"zmax\": null,\n",
       "        \"line\": {\n",
       "            \"color\": \"rgba(238, 18, 137, 1.000)\",\n",
       "            \"shape\": \"linear\",\n",
       "            \"dash\": \"solid\",\n",
       "            \"width\": 3\n",
       "        },\n",
       "        \"y\": [\n",
       "            2.0,\n",
       "            2.0\n",
       "        ],\n",
       "        \"type\": \"scatter\",\n",
       "        \"hoverinfo\": \"text\"\n",
       "    },\n",
       "    {\n",
       "        \"xaxis\": \"x2\",\n",
       "        \"colorbar\": {\n",
       "            \"title\": \"\"\n",
       "        },\n",
       "        \"yaxis\": \"y2\",\n",
       "        \"text\": [\n",
       "            \"class 1\",\n",
       "            \"class 1\"\n",
       "        ],\n",
       "        \"x\": [\n",
       "            0.3814331491646641,\n",
       "            0.386574214763859\n",
       "        ],\n",
       "        \"showlegend\": true,\n",
       "        \"mode\": \"lines\",\n",
       "        \"name\": \"y1\",\n",
       "        \"zmin\": null,\n",
       "        \"legendgroup\": \"y1\",\n",
       "        \"zmax\": null,\n",
       "        \"line\": {\n",
       "            \"color\": \"rgba(143, 143, 143, 1.000)\",\n",
       "            \"shape\": \"linear\",\n",
       "            \"dash\": \"solid\",\n",
       "            \"width\": 3\n",
       "        },\n",
       "        \"y\": [\n",
       "            1.0,\n",
       "            1.0\n",
       "        ],\n",
       "        \"type\": \"scatter\",\n",
       "        \"hoverinfo\": \"text\"\n",
       "    },\n",
       "    {\n",
       "        \"xaxis\": \"x2\",\n",
       "        \"colorbar\": {\n",
       "            \"title\": \"\"\n",
       "        },\n",
       "        \"yaxis\": \"y2\",\n",
       "        \"text\": [\n",
       "            \"class 2\",\n",
       "            \"class 2\"\n",
       "        ],\n",
       "        \"x\": [\n",
       "            0.4560830876857863,\n",
       "            0.4560830876857863\n",
       "        ],\n",
       "        \"showlegend\": true,\n",
       "        \"mode\": \"lines\",\n",
       "        \"name\": \"y2\",\n",
       "        \"zmin\": null,\n",
       "        \"legendgroup\": \"y2\",\n",
       "        \"zmax\": null,\n",
       "        \"line\": {\n",
       "            \"color\": \"rgba(143, 143, 143, 1.000)\",\n",
       "            \"shape\": \"linear\",\n",
       "            \"dash\": \"solid\",\n",
       "            \"width\": 3\n",
       "        },\n",
       "        \"y\": [\n",
       "            2.0,\n",
       "            2.0\n",
       "        ],\n",
       "        \"type\": \"scatter\",\n",
       "        \"hoverinfo\": \"text\"\n",
       "    },\n",
       "    {\n",
       "        \"xaxis\": \"x2\",\n",
       "        \"colorbar\": {\n",
       "            \"title\": \"\"\n",
       "        },\n",
       "        \"yaxis\": \"y2\",\n",
       "        \"text\": [\n",
       "            \"class 2\",\n",
       "            \"class 2\"\n",
       "        ],\n",
       "        \"x\": [\n",
       "            0.4560830876857863,\n",
       "            0.5083850196946953\n",
       "        ],\n",
       "        \"showlegend\": true,\n",
       "        \"mode\": \"lines\",\n",
       "        \"name\": \"y3\",\n",
       "        \"zmin\": null,\n",
       "        \"legendgroup\": \"y3\",\n",
       "        \"zmax\": null,\n",
       "        \"line\": {\n",
       "            \"color\": \"rgba(238, 18, 137, 1.000)\",\n",
       "            \"shape\": \"linear\",\n",
       "            \"dash\": \"solid\",\n",
       "            \"width\": 3\n",
       "        },\n",
       "        \"y\": [\n",
       "            2.0,\n",
       "            2.0\n",
       "        ],\n",
       "        \"type\": \"scatter\",\n",
       "        \"hoverinfo\": \"text\"\n",
       "    },\n",
       "    {\n",
       "        \"xaxis\": \"x2\",\n",
       "        \"colorbar\": {\n",
       "            \"title\": \"\"\n",
       "        },\n",
       "        \"yaxis\": \"y2\",\n",
       "        \"text\": [\n",
       "            \"class 2\",\n",
       "            \"class 2\"\n",
       "        ],\n",
       "        \"x\": [\n",
       "            0.4560830876857863,\n",
       "            0.4560830876857863\n",
       "        ],\n",
       "        \"showlegend\": true,\n",
       "        \"mode\": \"lines\",\n",
       "        \"name\": \"y4\",\n",
       "        \"zmin\": null,\n",
       "        \"legendgroup\": \"y4\",\n",
       "        \"zmax\": null,\n",
       "        \"line\": {\n",
       "            \"color\": \"rgba(143, 143, 143, 1.000)\",\n",
       "            \"shape\": \"linear\",\n",
       "            \"dash\": \"solid\",\n",
       "            \"width\": 3\n",
       "        },\n",
       "        \"y\": [\n",
       "            2.0,\n",
       "            2.0\n",
       "        ],\n",
       "        \"type\": \"scatter\",\n",
       "        \"hoverinfo\": \"text\"\n",
       "    },\n",
       "    {\n",
       "        \"xaxis\": \"x2\",\n",
       "        \"colorbar\": {\n",
       "            \"title\": \"\"\n",
       "        },\n",
       "        \"yaxis\": \"y2\",\n",
       "        \"text\": [\n",
       "            \"class 2\",\n",
       "            \"class 2\"\n",
       "        ],\n",
       "        \"x\": [\n",
       "            0.4560830876857863,\n",
       "            0.5083850196946953\n",
       "        ],\n",
       "        \"showlegend\": true,\n",
       "        \"mode\": \"lines\",\n",
       "        \"name\": \"y5\",\n",
       "        \"zmin\": null,\n",
       "        \"legendgroup\": \"y5\",\n",
       "        \"zmax\": null,\n",
       "        \"line\": {\n",
       "            \"color\": \"rgba(238, 18, 137, 1.000)\",\n",
       "            \"shape\": \"linear\",\n",
       "            \"dash\": \"solid\",\n",
       "            \"width\": 3\n",
       "        },\n",
       "        \"y\": [\n",
       "            2.0,\n",
       "            2.0\n",
       "        ],\n",
       "        \"type\": \"scatter\",\n",
       "        \"hoverinfo\": \"text\"\n",
       "    },\n",
       "    {\n",
       "        \"xaxis\": \"x2\",\n",
       "        \"colorbar\": {\n",
       "            \"title\": \"\"\n",
       "        },\n",
       "        \"yaxis\": \"y2\",\n",
       "        \"x\": [\n",
       "            0.4560830876857863,\n",
       "            0.4560830876857863\n",
       "        ],\n",
       "        \"showlegend\": true,\n",
       "        \"mode\": \"lines\",\n",
       "        \"name\": \"y6\",\n",
       "        \"zmin\": null,\n",
       "        \"legendgroup\": \"y6\",\n",
       "        \"zmax\": null,\n",
       "        \"line\": {\n",
       "            \"color\": \"rgba(255, 0, 0, 1.000)\",\n",
       "            \"shape\": \"linear\",\n",
       "            \"dash\": \"dot\",\n",
       "            \"width\": 1\n",
       "        },\n",
       "        \"y\": [\n",
       "            -401.0,\n",
       "            403.0\n",
       "        ],\n",
       "        \"type\": \"scatter\"\n",
       "    }\n",
       "]\n",
       ", {\n",
       "    \"paper_bgcolor\": \"rgba(255, 255, 255, 1.000)\",\n",
       "    \"height\": 600,\n",
       "    \"yaxis2\": {\n",
       "        \"showticklabels\": true,\n",
       "        \"gridwidth\": 0.5,\n",
       "        \"tickvals\": [],\n",
       "        \"visible\": true,\n",
       "        \"ticks\": \"inside\",\n",
       "        \"range\": [\n",
       "            -1.0,\n",
       "            3.0\n",
       "        ],\n",
       "        \"domain\": [\n",
       "            0.06058617672790892,\n",
       "            0.43246937882764647\n",
       "        ],\n",
       "        \"tickmode\": \"array\",\n",
       "        \"linecolor\": \"rgba(0, 0, 0, 1.000)\",\n",
       "        \"showgrid\": true,\n",
       "        \"title\": \"\",\n",
       "        \"mirror\": true,\n",
       "        \"tickangle\": 0,\n",
       "        \"showline\": true,\n",
       "        \"gridcolor\": \"rgba(0, 0, 0, 0.100)\",\n",
       "        \"titlefont\": {\n",
       "            \"color\": \"rgba(0, 0, 0, 1.000)\",\n",
       "            \"family\": \"sans-serif\",\n",
       "            \"size\": 15\n",
       "        },\n",
       "        \"tickcolor\": \"rgb(0, 0, 0)\",\n",
       "        \"ticktext\": [],\n",
       "        \"zeroline\": false,\n",
       "        \"type\": \"-\",\n",
       "        \"tickfont\": {\n",
       "            \"color\": \"rgba(0, 0, 0, 1.000)\",\n",
       "            \"family\": \"sans-serif\",\n",
       "            \"size\": 11\n",
       "        },\n",
       "        \"zerolinecolor\": \"rgba(0, 0, 0, 1.000)\",\n",
       "        \"anchor\": \"x2\"\n",
       "    },\n",
       "    \"yaxis1\": {\n",
       "        \"showticklabels\": true,\n",
       "        \"gridwidth\": 0.5,\n",
       "        \"tickvals\": [],\n",
       "        \"visible\": true,\n",
       "        \"ticks\": \"inside\",\n",
       "        \"range\": [\n",
       "            -1.0,\n",
       "            3.0\n",
       "        ],\n",
       "        \"domain\": [\n",
       "            0.560586176727909,\n",
       "            0.9324693788276466\n",
       "        ],\n",
       "        \"tickmode\": \"array\",\n",
       "        \"linecolor\": \"rgba(0, 0, 0, 1.000)\",\n",
       "        \"showgrid\": true,\n",
       "        \"title\": \"\",\n",
       "        \"mirror\": true,\n",
       "        \"tickangle\": 0,\n",
       "        \"showline\": true,\n",
       "        \"gridcolor\": \"rgba(0, 0, 0, 0.100)\",\n",
       "        \"titlefont\": {\n",
       "            \"color\": \"rgba(0, 0, 0, 1.000)\",\n",
       "            \"family\": \"sans-serif\",\n",
       "            \"size\": 15\n",
       "        },\n",
       "        \"tickcolor\": \"rgb(0, 0, 0)\",\n",
       "        \"ticktext\": [],\n",
       "        \"zeroline\": false,\n",
       "        \"type\": \"-\",\n",
       "        \"tickfont\": {\n",
       "            \"color\": \"rgba(0, 0, 0, 1.000)\",\n",
       "            \"family\": \"sans-serif\",\n",
       "            \"size\": 11\n",
       "        },\n",
       "        \"zerolinecolor\": \"rgba(0, 0, 0, 1.000)\",\n",
       "        \"anchor\": \"x1\"\n",
       "    },\n",
       "    \"annotations\": [\n",
       "        {\n",
       "            \"yanchor\": \"top\",\n",
       "            \"xanchor\": \"center\",\n",
       "            \"rotation\": -0.0,\n",
       "            \"y\": 1.0,\n",
       "            \"font\": {\n",
       "                \"color\": \"rgba(0, 0, 0, 1.000)\",\n",
       "                \"family\": \"sans-serif\",\n",
       "                \"size\": 21\n",
       "            },\n",
       "            \"yref\": \"paper\",\n",
       "            \"showarrow\": false,\n",
       "            \"text\": \"Selected interval in barcode(W)\",\n",
       "            \"xref\": \"paper\",\n",
       "            \"x\": 0.5\n",
       "        },\n",
       "        {\n",
       "            \"yanchor\": \"top\",\n",
       "            \"xanchor\": \"center\",\n",
       "            \"rotation\": -0.0,\n",
       "            \"y\": 0.5,\n",
       "            \"font\": {\n",
       "                \"color\": \"rgba(0, 0, 0, 1.000)\",\n",
       "                \"family\": \"sans-serif\",\n",
       "                \"size\": 21\n",
       "            },\n",
       "            \"yref\": \"paper\",\n",
       "            \"showarrow\": false,\n",
       "            \"text\": \"Confirmed extension in barcode(VR)\",\n",
       "            \"xref\": \"paper\",\n",
       "            \"x\": 0.5\n",
       "        }\n",
       "    ],\n",
       "    \"plot_bgcolor\": \"rgba(255, 255, 255, 1.000)\",\n",
       "    \"showlegend\": false,\n",
       "    \"xaxis1\": {\n",
       "        \"showticklabels\": true,\n",
       "        \"gridwidth\": 0.5,\n",
       "        \"tickvals\": [\n",
       "            0.4,\n",
       "            0.42,\n",
       "            0.44,\n",
       "            0.46,\n",
       "            0.48\n",
       "        ],\n",
       "        \"visible\": true,\n",
       "        \"ticks\": \"inside\",\n",
       "        \"range\": [\n",
       "            0.39961358351052395,\n",
       "            0.499362007808033\n",
       "        ],\n",
       "        \"domain\": [\n",
       "            0.007874015748031496,\n",
       "            0.9921259842519685\n",
       "        ],\n",
       "        \"tickmode\": \"array\",\n",
       "        \"linecolor\": \"rgba(0, 0, 0, 1.000)\",\n",
       "        \"showgrid\": true,\n",
       "        \"title\": \"\",\n",
       "        \"mirror\": true,\n",
       "        \"tickangle\": 0,\n",
       "        \"showline\": true,\n",
       "        \"gridcolor\": \"rgba(0, 0, 0, 0.100)\",\n",
       "        \"titlefont\": {\n",
       "            \"color\": \"rgba(0, 0, 0, 1.000)\",\n",
       "            \"family\": \"sans-serif\",\n",
       "            \"size\": 15\n",
       "        },\n",
       "        \"tickcolor\": \"rgb(0, 0, 0)\",\n",
       "        \"ticktext\": [\n",
       "            \"0.40\",\n",
       "            \"0.42\",\n",
       "            \"0.44\",\n",
       "            \"0.46\",\n",
       "            \"0.48\"\n",
       "        ],\n",
       "        \"zeroline\": false,\n",
       "        \"type\": \"-\",\n",
       "        \"tickfont\": {\n",
       "            \"color\": \"rgba(0, 0, 0, 1.000)\",\n",
       "            \"family\": \"sans-serif\",\n",
       "            \"size\": 17\n",
       "        },\n",
       "        \"zerolinecolor\": \"rgba(0, 0, 0, 1.000)\",\n",
       "        \"anchor\": \"y1\"\n",
       "    },\n",
       "    \"xaxis2\": {\n",
       "        \"showticklabels\": true,\n",
       "        \"gridwidth\": 0.5,\n",
       "        \"tickvals\": [\n",
       "            0.4,\n",
       "            0.42500000000000004,\n",
       "            0.45,\n",
       "            0.47500000000000003,\n",
       "            0.5\n",
       "        ],\n",
       "        \"visible\": true,\n",
       "        \"ticks\": \"inside\",\n",
       "        \"range\": [\n",
       "            0.37762459304876317,\n",
       "            0.5121935758105962\n",
       "        ],\n",
       "        \"domain\": [\n",
       "            0.007874015748031496,\n",
       "            0.9921259842519685\n",
       "        ],\n",
       "        \"tickmode\": \"array\",\n",
       "        \"linecolor\": \"rgba(0, 0, 0, 1.000)\",\n",
       "        \"showgrid\": true,\n",
       "        \"title\": \"\",\n",
       "        \"mirror\": true,\n",
       "        \"tickangle\": 0,\n",
       "        \"showline\": true,\n",
       "        \"gridcolor\": \"rgba(0, 0, 0, 0.100)\",\n",
       "        \"titlefont\": {\n",
       "            \"color\": \"rgba(0, 0, 0, 1.000)\",\n",
       "            \"family\": \"sans-serif\",\n",
       "            \"size\": 15\n",
       "        },\n",
       "        \"tickcolor\": \"rgb(0, 0, 0)\",\n",
       "        \"ticktext\": [\n",
       "            \"0.400\",\n",
       "            \"0.425\",\n",
       "            \"0.450\",\n",
       "            \"0.475\",\n",
       "            \"0.500\"\n",
       "        ],\n",
       "        \"zeroline\": false,\n",
       "        \"type\": \"-\",\n",
       "        \"tickfont\": {\n",
       "            \"color\": \"rgba(0, 0, 0, 1.000)\",\n",
       "            \"family\": \"sans-serif\",\n",
       "            \"size\": 17\n",
       "        },\n",
       "        \"zerolinecolor\": \"rgba(0, 0, 0, 1.000)\",\n",
       "        \"anchor\": \"y2\"\n",
       "    },\n",
       "    \"margin\": {\n",
       "        \"l\": 0,\n",
       "        \"b\": 20,\n",
       "        \"r\": 0,\n",
       "        \"t\": 20\n",
       "    },\n",
       "    \"width\": 500\n",
       "}\n",
       ");\n",
       "    });\n",
       "    </script>\n",
       "\n",
       "    </body>\n",
       "</html>\n"
      ]
     },
     "execution_count": 47,
     "metadata": {},
     "output_type": "execute_result"
    }
   ],
   "source": [
    "plot_confirmed_extension(extension_AL, \n",
    "                         lw_x = 3, \n",
    "                         lw_y = 3, \n",
    "                         titlefontsize = 15, \n",
    "                         xtickfontsize = 12)"
   ]
  },
  {
   "cell_type": "markdown",
   "id": "starting-majority",
   "metadata": {},
   "source": [
    "<b> Plot possible extensions </b>\n",
    "* Plot the barcodes `barcode(VR(AL))`\n",
    "* Use the slider to select parameter $\\epsilon$. \n",
    "    * The dotted vertical line indicates the selected $\\epsilon$.\n",
    "* Select `intervals`. \n",
    "    * The pink intervals on the top barcode represented the confirmed intervals.\n",
    "    * The blue interval(s) on the bottom barcode represent the selected possible interval."
   ]
  },
  {
   "cell_type": "code",
   "execution_count": 48,
   "id": "satisfactory-amazon",
   "metadata": {},
   "outputs": [
    {
     "data": {
      "application/vnd.webio.node+json": {
       "children": [
        {
         "children": [
          {
           "children": [
            {
             "children": [
              {
               "children": [
                {
                 "children": [
                  "ε"
                 ],
                 "instanceArgs": {
                  "namespace": "html",
                  "tag": "label"
                 },
                 "nodeType": "DOM",
                 "props": {
                  "className": "interact ",
                  "style": {
                   "padding": "5px 10px 0px 10px"
                  }
                 },
                 "type": "node"
                }
               ],
               "instanceArgs": {
                "namespace": "html",
                "tag": "div"
               },
               "nodeType": "DOM",
               "props": {
                "className": "interact-flex-row-left"
               },
               "type": "node"
              },
              {
               "children": [
                {
                 "children": [],
                 "instanceArgs": {
                  "namespace": "html",
                  "tag": "input"
                 },
                 "nodeType": "DOM",
                 "props": {
                  "attributes": {
                   "data-bind": "numericValue: index, valueUpdate: 'input', event: {change: function (){this.changes(this.changes()+1)}}",
                   "orient": "horizontal",
                   "type": "range"
                  },
                  "className": "slider slider is-fullwidth",
                  "max": 2,
                  "min": 1,
                  "step": 1,
                  "style": {}
                 },
                 "type": "node"
                }
               ],
               "instanceArgs": {
                "namespace": "html",
                "tag": "div"
               },
               "nodeType": "DOM",
               "props": {
                "className": "interact-flex-row-center"
               },
               "type": "node"
              },
              {
               "children": [
                {
                 "children": [],
                 "instanceArgs": {
                  "namespace": "html",
                  "tag": "p"
                 },
                 "nodeType": "DOM",
                 "props": {
                  "attributes": {
                   "data-bind": "text: formatted_val"
                  }
                 },
                 "type": "node"
                }
               ],
               "instanceArgs": {
                "namespace": "html",
                "tag": "div"
               },
               "nodeType": "DOM",
               "props": {
                "className": "interact-flex-row-right"
               },
               "type": "node"
              }
             ],
             "instanceArgs": {
              "namespace": "html",
              "tag": "div"
             },
             "nodeType": "DOM",
             "props": {
              "className": "interact-flex-row interact-widget"
             },
             "type": "node"
            }
           ],
           "instanceArgs": {
            "handlers": {
             "changes": [
              "(function (val){return (val!=this.model[\"changes\"]()) ? (this.valueFromJulia[\"changes\"]=true, this.model[\"changes\"](val)) : undefined})"
             ],
             "index": [
              "(function (val){return (val!=this.model[\"index\"]()) ? (this.valueFromJulia[\"index\"]=true, this.model[\"index\"](val)) : undefined})"
             ]
            },
            "id": "15178161629409657333",
            "imports": {
             "data": [
              {
               "name": "knockout",
               "type": "js",
               "url": "/assetserver/44700ca70520c46d74ba97c1f943d03fe6985ddf-knockout.js"
              },
              {
               "name": "knockout_punches",
               "type": "js",
               "url": "/assetserver/3f5e7420dfd3ab5a750f192dbd485371621ca4da-knockout_punches.js"
              },
              {
               "name": null,
               "type": "js",
               "url": "/assetserver/3f76434a1e97a9af06f7d6f3894ba480cf001d5f-all.js"
              },
              {
               "name": null,
               "type": "css",
               "url": "/assetserver/a0ee8e311cc462b1ab24c7d36fed5b7ca86463b5-style.css"
              },
              {
               "name": null,
               "type": "css",
               "url": "/assetserver/2c61f542bb90671813560490c4e5380eebd3eba5-bulma_confined.min.css"
              }
             ],
             "type": "async_block"
            },
            "mount_callbacks": [
             "function () {\n    var handler = (function (ko, koPunches) {\n    ko.punches.enableAll();\n    ko.bindingHandlers.numericValue = {\n        init: function(element, valueAccessor, allBindings, data, context) {\n            var stringified = ko.observable(ko.unwrap(valueAccessor()));\n            stringified.subscribe(function(value) {\n                var val = parseFloat(value);\n                if (!isNaN(val)) {\n                    valueAccessor()(val);\n                }\n            });\n            valueAccessor().subscribe(function(value) {\n                var str = JSON.stringify(value);\n                if ((str == \"0\") && ([\"-0\", \"-0.\"].indexOf(stringified()) >= 0))\n                     return;\n                 if ([\"null\", \"\"].indexOf(str) >= 0)\n                     return;\n                stringified(str);\n            });\n            ko.applyBindingsToNode(\n                element,\n                {\n                    value: stringified,\n                    valueUpdate: allBindings.get('valueUpdate'),\n                },\n                context,\n            );\n        }\n    };\n    var json_data = {\"formatted_vals\":[\"0.456083\",\"0.50357\"],\"changes\":WebIO.getval({\"name\":\"changes\",\"scope\":\"15178161629409657333\",\"id\":\"6316992433846248616\",\"type\":\"observable\"}),\"index\":WebIO.getval({\"name\":\"index\",\"scope\":\"15178161629409657333\",\"id\":\"1423086351945239259\",\"type\":\"observable\"})};\n    var self = this;\n    function AppViewModel() {\n        for (var key in json_data) {\n            var el = json_data[key];\n            this[key] = Array.isArray(el) ? ko.observableArray(el) : ko.observable(el);\n        }\n        \n        [this[\"formatted_val\"]=ko.computed(    function(){\n        return this.formatted_vals()[parseInt(this.index())-(1)];\n    }\n,this)]\n        [this[\"changes\"].subscribe((function (val){!(this.valueFromJulia[\"changes\"]) ? (WebIO.setval({\"name\":\"changes\",\"scope\":\"15178161629409657333\",\"id\":\"6316992433846248616\",\"type\":\"observable\"},val)) : undefined; return this.valueFromJulia[\"changes\"]=false}),self),this[\"index\"].subscribe((function (val){!(this.valueFromJulia[\"index\"]) ? (WebIO.setval({\"name\":\"index\",\"scope\":\"15178161629409657333\",\"id\":\"1423086351945239259\",\"type\":\"observable\"},val)) : undefined; return this.valueFromJulia[\"index\"]=false}),self)]\n        \n    }\n    self.model = new AppViewModel();\n    self.valueFromJulia = {};\n    for (var key in json_data) {\n        self.valueFromJulia[key] = false;\n    }\n    ko.applyBindings(self.model, self.dom);\n}\n);\n    (WebIO.importBlock({\"data\":[{\"name\":\"knockout\",\"type\":\"js\",\"url\":\"/assetserver/44700ca70520c46d74ba97c1f943d03fe6985ddf-knockout.js\"},{\"name\":\"knockout_punches\",\"type\":\"js\",\"url\":\"/assetserver/3f5e7420dfd3ab5a750f192dbd485371621ca4da-knockout_punches.js\"}],\"type\":\"async_block\"})).then((imports) => handler.apply(this, imports));\n}\n"
            ],
            "observables": {
             "changes": {
              "id": "6316992433846248616",
              "sync": false,
              "value": 0
             },
             "index": {
              "id": "1423086351945239259",
              "sync": true,
              "value": 1
             }
            },
            "systemjs_options": null
           },
           "nodeType": "Scope",
           "props": {},
           "type": "node"
          }
         ],
         "instanceArgs": {
          "namespace": "html",
          "tag": "div"
         },
         "nodeType": "DOM",
         "props": {
          "className": "field interact-widget"
         },
         "type": "node"
        },
        {
         "children": [
          {
           "children": [],
           "instanceArgs": {
            "id": "3302572788263281141",
            "name": "obs-node"
           },
           "nodeType": "ObservableNode",
           "props": {},
           "type": "node"
          }
         ],
         "instanceArgs": {
          "handlers": {},
          "id": "17755040460146911434",
          "imports": {
           "data": [],
           "type": "async_block"
          },
          "mount_callbacks": [],
          "observables": {
           "obs-node": {
            "id": "3302572788263281141",
            "sync": false,
            "value": {
             "children": [
              {
               "children": [],
               "instanceArgs": {
                "namespace": "html",
                "tag": "div"
               },
               "nodeType": "DOM",
               "props": {
                "setInnerHtml": "<!DOCTYPE html>\n<html>\n    <head>\n        <title>Plots.jl</title>\n        <meta http-equiv=\"content-type\" content=\"text/html; charset=UTF-8\">\n        \n    </head>\n    <body>\n            <div id=\"d4047f89-2a7a-4c37-a367-de47faa2bb40\" style=\"width:500px;height:300px;\"></div>\n    <script>\n        requirejs.config({\n        paths: {\n            Plotly: 'https://cdn.plot.ly/plotly-1.57.1.min'\n        }\n    });\n    require(['Plotly'], function (Plotly) {\n\n    PLOT = document.getElementById('d4047f89-2a7a-4c37-a367-de47faa2bb40');\n    Plotly.plot(PLOT, [\n    {\n        \"xaxis\": \"x\",\n        \"colorbar\": {\n            \"title\": \"\"\n        },\n        \"yaxis\": \"y\",\n        \"text\": [\n            \"class 1\",\n            \"class 1\"\n        ],\n        \"x\": [\n            0.3814331491646641,\n            0.386574214763859\n        ],\n        \"showlegend\": true,\n        \"mode\": \"lines\",\n        \"name\": \"y1\",\n        \"zmin\": null,\n        \"legendgroup\": \"y1\",\n        \"zmax\": null,\n        \"line\": {\n            \"color\": \"rgba(143, 143, 143, 1.000)\",\n            \"shape\": \"linear\",\n            \"dash\": \"solid\",\n            \"width\": 4\n        },\n        \"y\": [\n            1.0,\n            1.0\n        ],\n        \"type\": \"scatter\",\n        \"hoverinfo\": \"text\"\n    },\n    {\n        \"xaxis\": \"x\",\n        \"colorbar\": {\n            \"title\": \"\"\n        },\n        \"yaxis\": \"y\",\n        \"text\": [\n            \"class 2\",\n            \"class 2\"\n        ],\n        \"x\": [\n            0.4560830876857863,\n            0.4560830876857863\n        ],\n        \"showlegend\": true,\n        \"mode\": \"lines\",\n        \"name\": \"y2\",\n        \"zmin\": null,\n        \"legendgroup\": \"y2\",\n        \"zmax\": null,\n        \"line\": {\n            \"color\": \"rgba(143, 143, 143, 1.000)\",\n            \"shape\": \"linear\",\n            \"dash\": \"solid\",\n            \"width\": 4\n        },\n        \"y\": [\n            2.0,\n            2.0\n        ],\n        \"type\": \"scatter\",\n        \"hoverinfo\": \"text\"\n    },\n    {\n        \"xaxis\": \"x\",\n        \"colorbar\": {\n            \"title\": \"\"\n        },\n        \"yaxis\": \"y\",\n        \"text\": [\n            \"class 2\",\n            \"class 2\"\n        ],\n        \"x\": [\n            0.4560830876857863,\n            0.5083850196946953\n        ],\n        \"showlegend\": true,\n        \"mode\": \"lines\",\n        \"name\": \"y3\",\n        \"zmin\": null,\n        \"legendgroup\": \"y3\",\n        \"zmax\": null,\n        \"line\": {\n            \"color\": \"rgba(238, 18, 137, 1.000)\",\n            \"shape\": \"linear\",\n            \"dash\": \"solid\",\n            \"width\": 4\n        },\n        \"y\": [\n            2.0,\n            2.0\n        ],\n        \"type\": \"scatter\",\n        \"hoverinfo\": \"text\"\n    },\n    {\n        \"xaxis\": \"x\",\n        \"colorbar\": {\n            \"title\": \"\"\n        },\n        \"yaxis\": \"y\",\n        \"text\": [\n            \"class 2\",\n            \"class 2\"\n        ],\n        \"x\": [\n            0.4560830876857863,\n            0.4560830876857863\n        ],\n        \"showlegend\": true,\n        \"mode\": \"lines\",\n        \"name\": \"y4\",\n        \"zmin\": null,\n        \"legendgroup\": \"y4\",\n        \"zmax\": null,\n        \"line\": {\n            \"color\": \"rgba(143, 143, 143, 1.000)\",\n            \"shape\": \"linear\",\n            \"dash\": \"solid\",\n            \"width\": 4\n        },\n        \"y\": [\n            2.0,\n            2.0\n        ],\n        \"type\": \"scatter\",\n        \"hoverinfo\": \"text\"\n    },\n    {\n        \"xaxis\": \"x\",\n        \"colorbar\": {\n            \"title\": \"\"\n        },\n        \"yaxis\": \"y\",\n        \"text\": [\n            \"class 2\",\n            \"class 2\"\n        ],\n        \"x\": [\n            0.4560830876857863,\n            0.5083850196946953\n        ],\n        \"showlegend\": true,\n        \"mode\": \"lines\",\n        \"name\": \"y5\",\n        \"zmin\": null,\n        \"legendgroup\": \"y5\",\n        \"zmax\": null,\n        \"line\": {\n            \"color\": \"rgba(238, 18, 137, 1.000)\",\n            \"shape\": \"linear\",\n            \"dash\": \"solid\",\n            \"width\": 4\n        },\n        \"y\": [\n            2.0,\n            2.0\n        ],\n        \"type\": \"scatter\",\n        \"hoverinfo\": \"text\"\n    },\n    {\n        \"xaxis\": \"x\",\n        \"colorbar\": {\n            \"title\": \"\"\n        },\n        \"yaxis\": \"y\",\n        \"x\": [\n            0.4560830876857863,\n            0.4560830876857863\n        ],\n        \"showlegend\": true,\n        \"mode\": \"lines\",\n        \"name\": \"y6\",\n        \"zmin\": null,\n        \"legendgroup\": \"y6\",\n        \"zmax\": null,\n        \"line\": {\n            \"color\": \"rgba(255, 0, 0, 1.000)\",\n            \"shape\": \"linear\",\n            \"dash\": \"dot\",\n            \"width\": 1\n        },\n        \"y\": [\n            -401.0,\n            403.0\n        ],\n        \"type\": \"scatter\"\n    }\n]\n, {\n    \"showlegend\": false,\n    \"xaxis\": {\n        \"showticklabels\": true,\n        \"gridwidth\": 0.5,\n        \"tickvals\": [\n            0.4,\n            0.42500000000000004,\n            0.45,\n            0.47500000000000003,\n            0.5\n        ],\n        \"visible\": true,\n        \"ticks\": \"inside\",\n        \"range\": [\n            0.37762459304876317,\n            0.5121935758105962\n        ],\n        \"domain\": [\n            0.007874015748031496,\n            0.9921259842519685\n        ],\n        \"tickmode\": \"array\",\n        \"linecolor\": \"rgba(0, 0, 0, 1.000)\",\n        \"showgrid\": true,\n        \"title\": \"\",\n        \"mirror\": true,\n        \"tickangle\": 0,\n        \"showline\": true,\n        \"gridcolor\": \"rgba(0, 0, 0, 0.100)\",\n        \"titlefont\": {\n            \"color\": \"rgba(0, 0, 0, 1.000)\",\n            \"family\": \"sans-serif\",\n            \"size\": 15\n        },\n        \"tickcolor\": \"rgb(0, 0, 0)\",\n        \"ticktext\": [\n            \"0.400\",\n            \"0.425\",\n            \"0.450\",\n            \"0.475\",\n            \"0.500\"\n        ],\n        \"zeroline\": false,\n        \"type\": \"-\",\n        \"tickfont\": {\n            \"color\": \"rgba(0, 0, 0, 1.000)\",\n            \"family\": \"sans-serif\",\n            \"size\": 14\n        },\n        \"zerolinecolor\": \"rgba(0, 0, 0, 1.000)\",\n        \"anchor\": \"y\"\n    },\n    \"paper_bgcolor\": \"rgba(255, 255, 255, 1.000)\",\n    \"annotations\": [\n        {\n            \"yanchor\": \"top\",\n            \"xanchor\": \"center\",\n            \"rotation\": -0.0,\n            \"y\": 1.0,\n            \"font\": {\n                \"color\": \"rgba(0, 0, 0, 1.000)\",\n                \"family\": \"sans-serif\",\n                \"size\": 14\n            },\n            \"yref\": \"paper\",\n            \"showarrow\": false,\n            \"text\": \"Confirmed extension\",\n            \"xref\": \"paper\",\n            \"x\": 0.5\n        }\n    ],\n    \"height\": 300,\n    \"margin\": {\n        \"l\": 0,\n        \"b\": 20,\n        \"r\": 0,\n        \"t\": 20\n    },\n    \"plot_bgcolor\": \"rgba(255, 255, 255, 1.000)\",\n    \"yaxis\": {\n        \"showticklabels\": true,\n        \"gridwidth\": 0.5,\n        \"tickvals\": [],\n        \"visible\": true,\n        \"ticks\": \"inside\",\n        \"range\": [\n            -1.0,\n            3.0\n        ],\n        \"domain\": [\n            0.11191309419655886,\n            0.8880869058034411\n        ],\n        \"tickmode\": \"array\",\n        \"linecolor\": \"rgba(0, 0, 0, 1.000)\",\n        \"showgrid\": true,\n        \"title\": \"\",\n        \"mirror\": true,\n        \"tickangle\": 0,\n        \"showline\": true,\n        \"gridcolor\": \"rgba(0, 0, 0, 0.100)\",\n        \"titlefont\": {\n            \"color\": \"rgba(0, 0, 0, 1.000)\",\n            \"family\": \"sans-serif\",\n            \"size\": 15\n        },\n        \"tickcolor\": \"rgb(0, 0, 0)\",\n        \"ticktext\": [],\n        \"zeroline\": false,\n        \"type\": \"-\",\n        \"tickfont\": {\n            \"color\": \"rgba(0, 0, 0, 1.000)\",\n            \"family\": \"sans-serif\",\n            \"size\": 11\n        },\n        \"zerolinecolor\": \"rgba(0, 0, 0, 1.000)\",\n        \"anchor\": \"x\"\n    },\n    \"width\": 500\n}\n);\n    });\n    </script>\n\n    </body>\n</html>\n"
               },
               "type": "node"
              }
             ],
             "instanceArgs": {
              "namespace": "html",
              "tag": "div"
             },
             "nodeType": "DOM",
             "props": {
              "className": "interact-flex-row interact-widget"
             },
             "type": "node"
            }
           }
          },
          "systemjs_options": null
         },
         "nodeType": "Scope",
         "props": {},
         "type": "node"
        }
       ],
       "instanceArgs": {
        "namespace": "html",
        "tag": "div"
       },
       "nodeType": "DOM",
       "props": {},
       "type": "node"
      },
      "text/html": [
       "<div\n",
       "    class=\"webio-mountpoint\"\n",
       "    data-webio-mountpoint=\"16294100947192028191\"\n",
       ">\n",
       "    <script>\n",
       "    if (window.require && require.defined && require.defined(\"nbextensions/webio-jupyter-notebook\")) {\n",
       "        console.log(\"Jupyter WebIO extension detected, not mounting.\");\n",
       "    } else if (window.WebIO) {\n",
       "        WebIO.mount(\n",
       "            document.querySelector('[data-webio-mountpoint=\"16294100947192028191\"]'),\n",
       "            {\"props\":{},\"nodeType\":\"DOM\",\"type\":\"node\",\"instanceArgs\":{\"namespace\":\"html\",\"tag\":\"div\"},\"children\":[{\"props\":{\"className\":\"field interact-widget\"},\"nodeType\":\"DOM\",\"type\":\"node\",\"instanceArgs\":{\"namespace\":\"html\",\"tag\":\"div\"},\"children\":[{\"props\":{},\"nodeType\":\"Scope\",\"type\":\"node\",\"instanceArgs\":{\"imports\":{\"data\":[{\"name\":\"knockout\",\"type\":\"js\",\"url\":\"\\/assetserver\\/44700ca70520c46d74ba97c1f943d03fe6985ddf-knockout.js\"},{\"name\":\"knockout_punches\",\"type\":\"js\",\"url\":\"\\/assetserver\\/3f5e7420dfd3ab5a750f192dbd485371621ca4da-knockout_punches.js\"},{\"name\":null,\"type\":\"js\",\"url\":\"\\/assetserver\\/3f76434a1e97a9af06f7d6f3894ba480cf001d5f-all.js\"},{\"name\":null,\"type\":\"css\",\"url\":\"\\/assetserver\\/a0ee8e311cc462b1ab24c7d36fed5b7ca86463b5-style.css\"},{\"name\":null,\"type\":\"css\",\"url\":\"\\/assetserver\\/2c61f542bb90671813560490c4e5380eebd3eba5-bulma_confined.min.css\"}],\"type\":\"async_block\"},\"id\":\"15178161629409657333\",\"handlers\":{\"changes\":[\"(function (val){return (val!=this.model[\\\"changes\\\"]()) ? (this.valueFromJulia[\\\"changes\\\"]=true, this.model[\\\"changes\\\"](val)) : undefined})\"],\"index\":[\"(function (val){return (val!=this.model[\\\"index\\\"]()) ? (this.valueFromJulia[\\\"index\\\"]=true, this.model[\\\"index\\\"](val)) : undefined})\"]},\"systemjs_options\":null,\"mount_callbacks\":[\"function () {\\n    var handler = (function (ko, koPunches) {\\n    ko.punches.enableAll();\\n    ko.bindingHandlers.numericValue = {\\n        init: function(element, valueAccessor, allBindings, data, context) {\\n            var stringified = ko.observable(ko.unwrap(valueAccessor()));\\n            stringified.subscribe(function(value) {\\n                var val = parseFloat(value);\\n                if (!isNaN(val)) {\\n                    valueAccessor()(val);\\n                }\\n            });\\n            valueAccessor().subscribe(function(value) {\\n                var str = JSON.stringify(value);\\n                if ((str == \\\"0\\\") && ([\\\"-0\\\", \\\"-0.\\\"].indexOf(stringified()) >= 0))\\n                     return;\\n                 if ([\\\"null\\\", \\\"\\\"].indexOf(str) >= 0)\\n                     return;\\n                stringified(str);\\n            });\\n            ko.applyBindingsToNode(\\n                element,\\n                {\\n                    value: stringified,\\n                    valueUpdate: allBindings.get('valueUpdate'),\\n                },\\n                context,\\n            );\\n        }\\n    };\\n    var json_data = {\\\"formatted_vals\\\":[\\\"0.456083\\\",\\\"0.50357\\\"],\\\"changes\\\":WebIO.getval({\\\"name\\\":\\\"changes\\\",\\\"scope\\\":\\\"15178161629409657333\\\",\\\"id\\\":\\\"6316992433846248616\\\",\\\"type\\\":\\\"observable\\\"}),\\\"index\\\":WebIO.getval({\\\"name\\\":\\\"index\\\",\\\"scope\\\":\\\"15178161629409657333\\\",\\\"id\\\":\\\"1423086351945239259\\\",\\\"type\\\":\\\"observable\\\"})};\\n    var self = this;\\n    function AppViewModel() {\\n        for (var key in json_data) {\\n            var el = json_data[key];\\n            this[key] = Array.isArray(el) ? ko.observableArray(el) : ko.observable(el);\\n        }\\n        \\n        [this[\\\"formatted_val\\\"]=ko.computed(    function(){\\n        return this.formatted_vals()[parseInt(this.index())-(1)];\\n    }\\n,this)]\\n        [this[\\\"changes\\\"].subscribe((function (val){!(this.valueFromJulia[\\\"changes\\\"]) ? (WebIO.setval({\\\"name\\\":\\\"changes\\\",\\\"scope\\\":\\\"15178161629409657333\\\",\\\"id\\\":\\\"6316992433846248616\\\",\\\"type\\\":\\\"observable\\\"},val)) : undefined; return this.valueFromJulia[\\\"changes\\\"]=false}),self),this[\\\"index\\\"].subscribe((function (val){!(this.valueFromJulia[\\\"index\\\"]) ? (WebIO.setval({\\\"name\\\":\\\"index\\\",\\\"scope\\\":\\\"15178161629409657333\\\",\\\"id\\\":\\\"1423086351945239259\\\",\\\"type\\\":\\\"observable\\\"},val)) : undefined; return this.valueFromJulia[\\\"index\\\"]=false}),self)]\\n        \\n    }\\n    self.model = new AppViewModel();\\n    self.valueFromJulia = {};\\n    for (var key in json_data) {\\n        self.valueFromJulia[key] = false;\\n    }\\n    ko.applyBindings(self.model, self.dom);\\n}\\n);\\n    (WebIO.importBlock({\\\"data\\\":[{\\\"name\\\":\\\"knockout\\\",\\\"type\\\":\\\"js\\\",\\\"url\\\":\\\"\\/assetserver\\/44700ca70520c46d74ba97c1f943d03fe6985ddf-knockout.js\\\"},{\\\"name\\\":\\\"knockout_punches\\\",\\\"type\\\":\\\"js\\\",\\\"url\\\":\\\"\\/assetserver\\/3f5e7420dfd3ab5a750f192dbd485371621ca4da-knockout_punches.js\\\"}],\\\"type\\\":\\\"async_block\\\"})).then((imports) => handler.apply(this, imports));\\n}\\n\"],\"observables\":{\"changes\":{\"sync\":false,\"id\":\"6316992433846248616\",\"value\":0},\"index\":{\"sync\":true,\"id\":\"1423086351945239259\",\"value\":1}}},\"children\":[{\"props\":{\"className\":\"interact-flex-row interact-widget\"},\"nodeType\":\"DOM\",\"type\":\"node\",\"instanceArgs\":{\"namespace\":\"html\",\"tag\":\"div\"},\"children\":[{\"props\":{\"className\":\"interact-flex-row-left\"},\"nodeType\":\"DOM\",\"type\":\"node\",\"instanceArgs\":{\"namespace\":\"html\",\"tag\":\"div\"},\"children\":[{\"props\":{\"className\":\"interact \",\"style\":{\"padding\":\"5px 10px 0px 10px\"}},\"nodeType\":\"DOM\",\"type\":\"node\",\"instanceArgs\":{\"namespace\":\"html\",\"tag\":\"label\"},\"children\":[\"ε\"]}]},{\"props\":{\"className\":\"interact-flex-row-center\"},\"nodeType\":\"DOM\",\"type\":\"node\",\"instanceArgs\":{\"namespace\":\"html\",\"tag\":\"div\"},\"children\":[{\"props\":{\"max\":2,\"min\":1,\"attributes\":{\"type\":\"range\",\"data-bind\":\"numericValue: index, valueUpdate: 'input', event: {change: function (){this.changes(this.changes()+1)}}\",\"orient\":\"horizontal\"},\"step\":1,\"className\":\"slider slider is-fullwidth\",\"style\":{}},\"nodeType\":\"DOM\",\"type\":\"node\",\"instanceArgs\":{\"namespace\":\"html\",\"tag\":\"input\"},\"children\":[]}]},{\"props\":{\"className\":\"interact-flex-row-right\"},\"nodeType\":\"DOM\",\"type\":\"node\",\"instanceArgs\":{\"namespace\":\"html\",\"tag\":\"div\"},\"children\":[{\"props\":{\"attributes\":{\"data-bind\":\"text: formatted_val\"}},\"nodeType\":\"DOM\",\"type\":\"node\",\"instanceArgs\":{\"namespace\":\"html\",\"tag\":\"p\"},\"children\":[]}]}]}]}]},{\"props\":{},\"nodeType\":\"Scope\",\"type\":\"node\",\"instanceArgs\":{\"imports\":{\"data\":[],\"type\":\"async_block\"},\"id\":\"8341948909457387567\",\"handlers\":{},\"systemjs_options\":null,\"mount_callbacks\":[],\"observables\":{\"obs-node\":{\"sync\":false,\"id\":\"7059390491380875852\",\"value\":{\"props\":{\"className\":\"interact-flex-row interact-widget\"},\"nodeType\":\"DOM\",\"type\":\"node\",\"instanceArgs\":{\"namespace\":\"html\",\"tag\":\"div\"},\"children\":[{\"props\":{\"setInnerHtml\":\"<!DOCTYPE html>\\n<html>\\n    <head>\\n        <title>Plots.jl<\\/title>\\n        <meta http-equiv=\\\"content-type\\\" content=\\\"text\\/html; charset=UTF-8\\\">\\n        \\n    <\\/head>\\n    <body>\\n            <div id=\\\"6cefe5e3-47a1-4d67-8540-67782ea3d2ae\\\" style=\\\"width:500px;height:300px;\\\"><\\/div>\\n    <script>\\n        requirejs.config({\\n        paths: {\\n            Plotly: 'https:\\/\\/cdn.plot.ly\\/plotly-1.57.1.min'\\n        }\\n    });\\n    require(['Plotly'], function (Plotly) {\\n\\n    PLOT = document.getElementById('6cefe5e3-47a1-4d67-8540-67782ea3d2ae');\\n    Plotly.plot(PLOT, [\\n    {\\n        \\\"xaxis\\\": \\\"x\\\",\\n        \\\"colorbar\\\": {\\n            \\\"title\\\": \\\"\\\"\\n        },\\n        \\\"yaxis\\\": \\\"y\\\",\\n        \\\"text\\\": [\\n            \\\"class 1\\\",\\n            \\\"class 1\\\"\\n        ],\\n        \\\"x\\\": [\\n            0.3814331491646641,\\n            0.386574214763859\\n        ],\\n        \\\"showlegend\\\": true,\\n        \\\"mode\\\": \\\"lines\\\",\\n        \\\"name\\\": \\\"y1\\\",\\n        \\\"zmin\\\": null,\\n        \\\"legendgroup\\\": \\\"y1\\\",\\n        \\\"zmax\\\": null,\\n        \\\"line\\\": {\\n            \\\"color\\\": \\\"rgba(143, 143, 143, 1.000)\\\",\\n            \\\"shape\\\": \\\"linear\\\",\\n            \\\"dash\\\": \\\"solid\\\",\\n            \\\"width\\\": 4\\n        },\\n        \\\"y\\\": [\\n            1.0,\\n            1.0\\n        ],\\n        \\\"type\\\": \\\"scatter\\\",\\n        \\\"hoverinfo\\\": \\\"text\\\"\\n    },\\n    {\\n        \\\"xaxis\\\": \\\"x\\\",\\n        \\\"colorbar\\\": {\\n            \\\"title\\\": \\\"\\\"\\n        },\\n        \\\"yaxis\\\": \\\"y\\\",\\n        \\\"text\\\": [\\n            \\\"class 2\\\",\\n            \\\"class 2\\\"\\n        ],\\n        \\\"x\\\": [\\n            0.4560830876857863,\\n            0.4560830876857863\\n        ],\\n        \\\"showlegend\\\": true,\\n        \\\"mode\\\": \\\"lines\\\",\\n        \\\"name\\\": \\\"y2\\\",\\n        \\\"zmin\\\": null,\\n        \\\"legendgroup\\\": \\\"y2\\\",\\n        \\\"zmax\\\": null,\\n        \\\"line\\\": {\\n            \\\"color\\\": \\\"rgba(143, 143, 143, 1.000)\\\",\\n            \\\"shape\\\": \\\"linear\\\",\\n            \\\"dash\\\": \\\"solid\\\",\\n            \\\"width\\\": 4\\n        },\\n        \\\"y\\\": [\\n            2.0,\\n            2.0\\n        ],\\n        \\\"type\\\": \\\"scatter\\\",\\n        \\\"hoverinfo\\\": \\\"text\\\"\\n    },\\n    {\\n        \\\"xaxis\\\": \\\"x\\\",\\n        \\\"colorbar\\\": {\\n            \\\"title\\\": \\\"\\\"\\n        },\\n        \\\"yaxis\\\": \\\"y\\\",\\n        \\\"text\\\": [\\n            \\\"class 2\\\",\\n            \\\"class 2\\\"\\n        ],\\n        \\\"x\\\": [\\n            0.4560830876857863,\\n            0.5083850196946953\\n        ],\\n        \\\"showlegend\\\": true,\\n        \\\"mode\\\": \\\"lines\\\",\\n        \\\"name\\\": \\\"y3\\\",\\n        \\\"zmin\\\": null,\\n        \\\"legendgroup\\\": \\\"y3\\\",\\n        \\\"zmax\\\": null,\\n        \\\"line\\\": {\\n            \\\"color\\\": \\\"rgba(238, 18, 137, 1.000)\\\",\\n            \\\"shape\\\": \\\"linear\\\",\\n            \\\"dash\\\": \\\"solid\\\",\\n            \\\"width\\\": 4\\n        },\\n        \\\"y\\\": [\\n            2.0,\\n            2.0\\n        ],\\n        \\\"type\\\": \\\"scatter\\\",\\n        \\\"hoverinfo\\\": \\\"text\\\"\\n    },\\n    {\\n        \\\"xaxis\\\": \\\"x\\\",\\n        \\\"colorbar\\\": {\\n            \\\"title\\\": \\\"\\\"\\n        },\\n        \\\"yaxis\\\": \\\"y\\\",\\n        \\\"text\\\": [\\n            \\\"class 2\\\",\\n            \\\"class 2\\\"\\n        ],\\n        \\\"x\\\": [\\n            0.4560830876857863,\\n            0.4560830876857863\\n        ],\\n        \\\"showlegend\\\": true,\\n        \\\"mode\\\": \\\"lines\\\",\\n        \\\"name\\\": \\\"y4\\\",\\n        \\\"zmin\\\": null,\\n        \\\"legendgroup\\\": \\\"y4\\\",\\n        \\\"zmax\\\": null,\\n        \\\"line\\\": {\\n            \\\"color\\\": \\\"rgba(143, 143, 143, 1.000)\\\",\\n            \\\"shape\\\": \\\"linear\\\",\\n            \\\"dash\\\": \\\"solid\\\",\\n            \\\"width\\\": 4\\n        },\\n        \\\"y\\\": [\\n            2.0,\\n            2.0\\n        ],\\n        \\\"type\\\": \\\"scatter\\\",\\n        \\\"hoverinfo\\\": \\\"text\\\"\\n    },\\n    {\\n        \\\"xaxis\\\": \\\"x\\\",\\n        \\\"colorbar\\\": {\\n            \\\"title\\\": \\\"\\\"\\n        },\\n        \\\"yaxis\\\": \\\"y\\\",\\n        \\\"text\\\": [\\n            \\\"class 2\\\",\\n            \\\"class 2\\\"\\n        ],\\n        \\\"x\\\": [\\n            0.4560830876857863,\\n            0.5083850196946953\\n        ],\\n        \\\"showlegend\\\": true,\\n        \\\"mode\\\": \\\"lines\\\",\\n        \\\"name\\\": \\\"y5\\\",\\n        \\\"zmin\\\": null,\\n        \\\"legendgroup\\\": \\\"y5\\\",\\n        \\\"zmax\\\": null,\\n        \\\"line\\\": {\\n            \\\"color\\\": \\\"rgba(238, 18, 137, 1.000)\\\",\\n            \\\"shape\\\": \\\"linear\\\",\\n            \\\"dash\\\": \\\"solid\\\",\\n            \\\"width\\\": 4\\n        },\\n        \\\"y\\\": [\\n            2.0,\\n            2.0\\n        ],\\n        \\\"type\\\": \\\"scatter\\\",\\n        \\\"hoverinfo\\\": \\\"text\\\"\\n    },\\n    {\\n        \\\"xaxis\\\": \\\"x\\\",\\n        \\\"colorbar\\\": {\\n            \\\"title\\\": \\\"\\\"\\n        },\\n        \\\"yaxis\\\": \\\"y\\\",\\n        \\\"x\\\": [\\n            0.4560830876857863,\\n            0.4560830876857863\\n        ],\\n        \\\"showlegend\\\": true,\\n        \\\"mode\\\": \\\"lines\\\",\\n        \\\"name\\\": \\\"y6\\\",\\n        \\\"zmin\\\": null,\\n        \\\"legendgroup\\\": \\\"y6\\\",\\n        \\\"zmax\\\": null,\\n        \\\"line\\\": {\\n            \\\"color\\\": \\\"rgba(255, 0, 0, 1.000)\\\",\\n            \\\"shape\\\": \\\"linear\\\",\\n            \\\"dash\\\": \\\"dot\\\",\\n            \\\"width\\\": 1\\n        },\\n        \\\"y\\\": [\\n            -401.0,\\n            403.0\\n        ],\\n        \\\"type\\\": \\\"scatter\\\"\\n    }\\n]\\n, {\\n    \\\"showlegend\\\": false,\\n    \\\"xaxis\\\": {\\n        \\\"showticklabels\\\": true,\\n        \\\"gridwidth\\\": 0.5,\\n        \\\"tickvals\\\": [\\n            0.4,\\n            0.42500000000000004,\\n            0.45,\\n            0.47500000000000003,\\n            0.5\\n        ],\\n        \\\"visible\\\": true,\\n        \\\"ticks\\\": \\\"inside\\\",\\n        \\\"range\\\": [\\n            0.37762459304876317,\\n            0.5121935758105962\\n        ],\\n        \\\"domain\\\": [\\n            0.007874015748031496,\\n            0.9921259842519685\\n        ],\\n        \\\"tickmode\\\": \\\"array\\\",\\n        \\\"linecolor\\\": \\\"rgba(0, 0, 0, 1.000)\\\",\\n        \\\"showgrid\\\": true,\\n        \\\"title\\\": \\\"\\\",\\n        \\\"mirror\\\": true,\\n        \\\"tickangle\\\": 0,\\n        \\\"showline\\\": true,\\n        \\\"gridcolor\\\": \\\"rgba(0, 0, 0, 0.100)\\\",\\n        \\\"titlefont\\\": {\\n            \\\"color\\\": \\\"rgba(0, 0, 0, 1.000)\\\",\\n            \\\"family\\\": \\\"sans-serif\\\",\\n            \\\"size\\\": 15\\n        },\\n        \\\"tickcolor\\\": \\\"rgb(0, 0, 0)\\\",\\n        \\\"ticktext\\\": [\\n            \\\"0.400\\\",\\n            \\\"0.425\\\",\\n            \\\"0.450\\\",\\n            \\\"0.475\\\",\\n            \\\"0.500\\\"\\n        ],\\n        \\\"zeroline\\\": false,\\n        \\\"type\\\": \\\"-\\\",\\n        \\\"tickfont\\\": {\\n            \\\"color\\\": \\\"rgba(0, 0, 0, 1.000)\\\",\\n            \\\"family\\\": \\\"sans-serif\\\",\\n            \\\"size\\\": 14\\n        },\\n        \\\"zerolinecolor\\\": \\\"rgba(0, 0, 0, 1.000)\\\",\\n        \\\"anchor\\\": \\\"y\\\"\\n    },\\n    \\\"paper_bgcolor\\\": \\\"rgba(255, 255, 255, 1.000)\\\",\\n    \\\"annotations\\\": [\\n        {\\n            \\\"yanchor\\\": \\\"top\\\",\\n            \\\"xanchor\\\": \\\"center\\\",\\n            \\\"rotation\\\": -0.0,\\n            \\\"y\\\": 1.0,\\n            \\\"font\\\": {\\n                \\\"color\\\": \\\"rgba(0, 0, 0, 1.000)\\\",\\n                \\\"family\\\": \\\"sans-serif\\\",\\n                \\\"size\\\": 14\\n            },\\n            \\\"yref\\\": \\\"paper\\\",\\n            \\\"showarrow\\\": false,\\n            \\\"text\\\": \\\"Confirmed extension\\\",\\n            \\\"xref\\\": \\\"paper\\\",\\n            \\\"x\\\": 0.5\\n        }\\n    ],\\n    \\\"height\\\": 300,\\n    \\\"margin\\\": {\\n        \\\"l\\\": 0,\\n        \\\"b\\\": 20,\\n        \\\"r\\\": 0,\\n        \\\"t\\\": 20\\n    },\\n    \\\"plot_bgcolor\\\": \\\"rgba(255, 255, 255, 1.000)\\\",\\n    \\\"yaxis\\\": {\\n        \\\"showticklabels\\\": true,\\n        \\\"gridwidth\\\": 0.5,\\n        \\\"tickvals\\\": [],\\n        \\\"visible\\\": true,\\n        \\\"ticks\\\": \\\"inside\\\",\\n        \\\"range\\\": [\\n            -1.0,\\n            3.0\\n        ],\\n        \\\"domain\\\": [\\n            0.11191309419655886,\\n            0.8880869058034411\\n        ],\\n        \\\"tickmode\\\": \\\"array\\\",\\n        \\\"linecolor\\\": \\\"rgba(0, 0, 0, 1.000)\\\",\\n        \\\"showgrid\\\": true,\\n        \\\"title\\\": \\\"\\\",\\n        \\\"mirror\\\": true,\\n        \\\"tickangle\\\": 0,\\n        \\\"showline\\\": true,\\n        \\\"gridcolor\\\": \\\"rgba(0, 0, 0, 0.100)\\\",\\n        \\\"titlefont\\\": {\\n            \\\"color\\\": \\\"rgba(0, 0, 0, 1.000)\\\",\\n            \\\"family\\\": \\\"sans-serif\\\",\\n            \\\"size\\\": 15\\n        },\\n        \\\"tickcolor\\\": \\\"rgb(0, 0, 0)\\\",\\n        \\\"ticktext\\\": [],\\n        \\\"zeroline\\\": false,\\n        \\\"type\\\": \\\"-\\\",\\n        \\\"tickfont\\\": {\\n            \\\"color\\\": \\\"rgba(0, 0, 0, 1.000)\\\",\\n            \\\"family\\\": \\\"sans-serif\\\",\\n            \\\"size\\\": 11\\n        },\\n        \\\"zerolinecolor\\\": \\\"rgba(0, 0, 0, 1.000)\\\",\\n        \\\"anchor\\\": \\\"x\\\"\\n    },\\n    \\\"width\\\": 500\\n}\\n);\\n    });\\n    <\\/script>\\n\\n    <\\/body>\\n<\\/html>\\n\"},\"nodeType\":\"DOM\",\"type\":\"node\",\"instanceArgs\":{\"namespace\":\"html\",\"tag\":\"div\"},\"children\":[]}]}}}},\"children\":[{\"props\":{},\"nodeType\":\"ObservableNode\",\"type\":\"node\",\"instanceArgs\":{\"id\":\"7059390491380875852\",\"name\":\"obs-node\"},\"children\":[]}]}]},\n",
       "            window,\n",
       "        );\n",
       "    } else {\n",
       "        document\n",
       "            .querySelector('[data-webio-mountpoint=\"16294100947192028191\"]')\n",
       "            .innerHTML = (\n",
       "                '<div style=\"padding: 1em; background-color: #f8d6da; border: 1px solid #f5c6cb\">' +\n",
       "                '<p><strong>WebIO not detected.</strong></p>' +\n",
       "                '<p>Please read ' +\n",
       "                '<a href=\"https://juliagizmos.github.io/WebIO.jl/latest/troubleshooting/not-detected/\" target=\"_blank\">the troubleshooting guide</a> ' +\n",
       "                'for more information on how to resolve this issue.</p>' +\n",
       "                '<p><a href=\"https://juliagizmos.github.io/WebIO.jl/latest/troubleshooting/not-detected/\" target=\"_blank\">https://juliagizmos.github.io/WebIO.jl/latest/troubleshooting/not-detected/</a></p>' +\n",
       "                '</div>'\n",
       "            );\n",
       "    }\n",
       "    </script>\n",
       "</div>\n"
      ],
      "text/plain": [
       "WebIO.Node{WebIO.DOM}(WebIO.DOM(:html, :div), Any[WebIO.Node{WebIO.DOM}(WebIO.DOM(:html, :div), Any[WebIO.Scope(WebIO.Node{WebIO.DOM}(WebIO.DOM(:html, :div), Any[WebIO.Node{WebIO.DOM}(WebIO.DOM(:html, :div), Any[WebIO.Node{WebIO.DOM}(WebIO.DOM(:html, :label), Any[\"ε\"], Dict{Symbol,Any}(:className => \"interact \",:style => Dict{Any,Any}(:padding => \"5px 10px 0px 10px\")))], Dict{Symbol,Any}(:className => \"interact-flex-row-left\")), WebIO.Node{WebIO.DOM}(WebIO.DOM(:html, :div), Any[WebIO.Node{WebIO.DOM}(WebIO.DOM(:html, :input), Any[], Dict{Symbol,Any}(:max => 2,:min => 1,:attributes => Dict{Any,Any}(:type => \"range\",Symbol(\"data-bind\") => \"numericValue: index, valueUpdate: 'input', event: {change: function (){this.changes(this.changes()+1)}}\",\"orient\" => \"horizontal\"),:step => 1,:className => \"slider slider is-fullwidth\",:style => Dict{Any,Any}()))], Dict{Symbol,Any}(:className => \"interact-flex-row-center\")), WebIO.Node{WebIO.DOM}(WebIO.DOM(:html, :div), Any[WebIO.Node{WebIO.DOM}(WebIO.DOM(:html, :p), Any[], Dict{Symbol,Any}(:attributes => Dict(\"data-bind\" => \"text: formatted_val\")))], Dict{Symbol,Any}(:className => \"interact-flex-row-right\"))], Dict{Symbol,Any}(:className => \"interact-flex-row interact-widget\")), Dict{String,Tuple{Observables.AbstractObservable,Union{Nothing, Bool}}}(\"changes\" => (Observable{Int64} with 1 listeners. Value:\n",
       "0, nothing),\"index\" => (Observable{Any} with 2 listeners. Value:\n",
       "1, nothing)), Set{String}(), nothing, WebIO.Asset[WebIO.Asset(\"js\", \"knockout\", \"/Users/irisyoon/.julia/packages/Knockout/IP1uR/src/../assets/knockout.js\"), WebIO.Asset(\"js\", \"knockout_punches\", \"/Users/irisyoon/.julia/packages/Knockout/IP1uR/src/../assets/knockout_punches.js\"), WebIO.Asset(\"js\", nothing, \"/Users/irisyoon/.julia/packages/InteractBase/Zfu5P/src/../assets/all.js\"), WebIO.Asset(\"css\", nothing, \"/Users/irisyoon/.julia/packages/InteractBase/Zfu5P/src/../assets/style.css\"), WebIO.Asset(\"css\", nothing, \"/Users/irisyoon/.julia/packages/Interact/SbgIk/src/../assets/bulma_confined.min.css\")], Dict{Any,Any}(\"changes\" => Any[WebIO.JSString(\"(function (val){return (val!=this.model[\\\"changes\\\"]()) ? (this.valueFromJulia[\\\"changes\\\"]=true, this.model[\\\"changes\\\"](val)) : undefined})\")],\"index\" => Any[WebIO.JSString(\"(function (val){return (val!=this.model[\\\"index\\\"]()) ? (this.valueFromJulia[\\\"index\\\"]=true, this.model[\\\"index\\\"](val)) : undefined})\")]), WebIO.ConnectionPool(Channel{Any}(sz_max:32,sz_curr:0), Set{WebIO.AbstractConnection}(), Base.GenericCondition{Base.AlwaysLockedST}(Base.InvasiveLinkedList{Task}(Task (runnable) @0x000000012c142650, Task (runnable) @0x000000012c142650), Base.AlwaysLockedST(1))), WebIO.JSString[WebIO.JSString(\"function () {\\n    var handler = (function (ko, koPunches) {\\n    ko.punches.enableAll();\\n    ko.bindingHandlers.numericValue = {\\n        init: function(element, valueAccessor, allBindings, data, context) {\\n            var stringified = ko.observable(ko.unwrap(valueAccessor()));\\n            stringified.subscribe(function(value) {\\n                var val = parseFloat(value);\\n                if (!isNaN(val)) {\\n                    valueAccessor()(val);\\n                }\\n            });\\n            valueAccessor().subscribe(function(value) {\\n                var str = JSON.stringify(value);\\n                if ((str == \\\"0\\\") && ([\\\"-0\\\", \\\"-0.\\\"].indexOf(stringified()) >= 0))\\n                     return;\\n                 if ([\\\"null\\\", \\\"\\\"].indexOf(str) >= 0)\\n                     return;\\n                stringified(str);\\n            });\\n            ko.applyBindingsToNode(\\n                element,\\n                {\\n                    value: stringified,\\n                    valueUpdate: allBindings.get('valueUpdate'),\\n                },\\n                context,\\n            );\\n        }\\n    };\\n    var json_data = {\\\"formatted_vals\\\":[\\\"0.456083\\\",\\\"0.50357\\\"],\\\"changes\\\":WebIO.getval({\\\"name\\\":\\\"changes\\\",\\\"scope\\\":\\\"15178161629409657333\\\",\\\"id\\\":\\\"6316992433846248616\\\",\\\"type\\\":\\\"observable\\\"}),\\\"index\\\":WebIO.getval({\\\"name\\\":\\\"index\\\",\\\"scope\\\":\\\"15178161629409657333\\\",\\\"id\\\":\\\"1423086351945239259\\\",\\\"type\\\":\\\"observable\\\"})};\\n    var self = this;\\n    function AppViewModel() {\\n        for (var key in json_data) {\\n            var el = json_data[key];\\n            this[key] = Array.isArray(el) ? ko.observableArray(el) : ko.observable(el);\\n        }\\n        \\n        [this[\\\"formatted_val\\\"]=ko.computed(    function(){\\n        return this.formatted_vals()[parseInt(this.index())-(1)];\\n    }\\n,this)]\\n        [this[\\\"changes\\\"].subscribe((function (val){!(this.valueFromJulia[\\\"changes\\\"]) ? (WebIO.setval({\\\"name\\\":\\\"changes\\\",\\\"scope\\\":\\\"15178161629409657333\\\",\\\"id\\\":\\\"6316992433846248616\\\",\\\"type\\\":\\\"observable\\\"},val)) : undefined; return this.valueFromJulia[\\\"changes\\\"]=false}),self),this[\\\"index\\\"].subscribe((function (val){!(this.valueFromJulia[\\\"index\\\"]) ? (WebIO.setval({\\\"name\\\":\\\"index\\\",\\\"scope\\\":\\\"15178161629409657333\\\",\\\"id\\\":\\\"1423086351945239259\\\",\\\"type\\\":\\\"observable\\\"},val)) : undefined; return this.valueFromJulia[\\\"index\\\"]=false}),self)]\\n        \\n    }\\n    self.model = new AppViewModel();\\n    self.valueFromJulia = {};\\n    for (var key in json_data) {\\n        self.valueFromJulia[key] = false;\\n    }\\n    ko.applyBindings(self.model, self.dom);\\n}\\n);\\n    (WebIO.importBlock({\\\"data\\\":[{\\\"name\\\":\\\"knockout\\\",\\\"type\\\":\\\"js\\\",\\\"url\\\":\\\"/assetserver/44700ca70520c46d74ba97c1f943d03fe6985ddf-knockout.js\\\"},{\\\"name\\\":\\\"knockout_punches\\\",\\\"type\\\":\\\"js\\\",\\\"url\\\":\\\"/assetserver/3f5e7420dfd3ab5a750f192dbd485371621ca4da-knockout_punches.js\\\"}],\\\"type\\\":\\\"async_block\\\"})).then((imports) => handler.apply(this, imports));\\n}\\n\")])], Dict{Symbol,Any}(:className => \"field interact-widget\")), Observable{Any} with 0 listeners. Value:\n",
       "WebIO.Node{WebIO.DOM}(WebIO.DOM(:html, :div), Any[Plot{Plots.PlotlyBackend() n=6}], Dict{Symbol,Any}(:className => \"interact-flex-row interact-widget\"))], Dict{Symbol,Any}())"
      ]
     },
     "execution_count": 48,
     "metadata": {
      "application/vnd.webio.node+json": {
       "kernelId": "772b6ce8-5d63-45d8-a5d1-8d8ebf0558f3"
      }
     },
     "output_type": "execute_result"
    }
   ],
   "source": [
    "plot_possible_extensions(extension_AL, lw = 4)"
   ]
  },
  {
   "cell_type": "markdown",
   "id": "clean-issue",
   "metadata": {},
   "source": [
    "<b>Alternative representations under a different choice of basis of barcode(VR(AL))</b>\n",
    "\n",
    "Since there are no other possible intervals at the selected parameter, there are no other alternative representations to consider."
   ]
  }
 ],
 "metadata": {
  "@webio": {
   "lastCommId": "2b6f12a3a05141ad8e04071026312dd8",
   "lastKernelId": "772b6ce8-5d63-45d8-a5d1-8d8ebf0558f3"
  },
  "kernelspec": {
   "display_name": "Julia 1.6.3",
   "language": "julia",
   "name": "julia-1.6"
  },
  "language_info": {
   "file_extension": ".jl",
   "mimetype": "application/julia",
   "name": "julia",
   "version": "1.6.3"
  }
 },
 "nbformat": 4,
 "nbformat_minor": 5
}
