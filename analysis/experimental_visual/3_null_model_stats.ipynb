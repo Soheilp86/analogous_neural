{
 "cells": [
  {
   "cell_type": "markdown",
   "id": "602a330d",
   "metadata": {},
   "source": [
    "Computes the null model statistics"
   ]
  },
  {
   "cell_type": "code",
   "execution_count": 1,
   "id": "75a31baf",
   "metadata": {},
   "outputs": [
    {
     "name": "stderr",
     "output_type": "stream",
     "text": [
      "\u001b[32m\u001b[1m  Activating\u001b[22m\u001b[39m project at `~/Documents/1Projects/tracking_cycles_code/env`\n"
     ]
    }
   ],
   "source": [
    "using Pkg\n",
    "Pkg.activate(\"../../env/.\")"
   ]
  },
  {
   "cell_type": "code",
   "execution_count": 2,
   "id": "ignored-literacy",
   "metadata": {},
   "outputs": [
    {
     "name": "stderr",
     "output_type": "stream",
     "text": [
      "WARNING: could not import HDF5.Group into _hdf5_implementation\n",
      "WARNING: could not import HDF5.Dataset into _hdf5_implementation\n",
      "┌ Warning: Error requiring `HDF5` from `Plots`\n",
      "│   exception = (LoadError(\"/Users/irisyoon/.julia/packages/Plots/iYDwd/src/backends/hdf5.jl\", 37, UndefVarError(:Group)), Union{Ptr{Nothing}, Base.InterpreterIP}[Ptr{Nothing} @0x000000010b356b1f, Ptr{Nothing} @0x000000010b4003cf, Ptr{Nothing} @0x000000010b40157b, Ptr{Nothing} @0x000000010b3ffae6, Ptr{Nothing} @0x000000010b4000dc, Base.InterpreterIP in top-level CodeInfo for Plots._hdf5_implementation at statement 4, Ptr{Nothing} @0x000000010b41b15f, Ptr{Nothing} @0x000000010b41b2f5, Ptr{Nothing} @0x000000010b41af02, Ptr{Nothing} @0x000000010b41af02, Ptr{Nothing} @0x000000010b41c1d5, Ptr{Nothing} @0x00000001225fe7da, Ptr{Nothing} @0x000000010b3e8160, Ptr{Nothing} @0x000000012263df45, Ptr{Nothing} @0x00000001221c9c85, Ptr{Nothing} @0x000000010b3e8160, Ptr{Nothing} @0x000000010b3f4f4a, Ptr{Nothing} @0x000000010c928d8a, Ptr{Nothing} @0x000000010b3e8160, Ptr{Nothing} @0x000000010b40159f, Ptr{Nothing} @0x000000010b3ffae6, Ptr{Nothing} @0x000000010b4000dc, Base.InterpreterIP in top-level CodeInfo for Plots at statement 10, Ptr{Nothing} @0x000000010b41b15f, Ptr{Nothing} @0x000000010b41c1d5, Ptr{Nothing} @0x000000010c928cfb, Ptr{Nothing} @0x000000010c928d1f, Ptr{Nothing} @0x000000010b3e8160, Ptr{Nothing} @0x000000010b40159f, Ptr{Nothing} @0x000000010b3ff809, Ptr{Nothing} @0x000000010b3ffd2a, Ptr{Nothing} @0x000000010b3ff50c, Base.InterpreterIP in MethodInstance for Requires.err(::Any, ::Module, ::String, ::String, ::Any) at statement 8, Ptr{Nothing} @0x000000010c928c45, Ptr{Nothing} @0x000000010c928c5f, Ptr{Nothing} @0x000000010b3e8160, Ptr{Nothing} @0x000000010b40159f, Ptr{Nothing} @0x000000010b3ff809, Ptr{Nothing} @0x000000010b3ffd2a, Ptr{Nothing} @0x000000010b3ff50c, Base.InterpreterIP in MethodInstance for Requires.withpath(::Any, ::String) at statement 10, Ptr{Nothing} @0x000000010c928af4, Ptr{Nothing} @0x000000010c928b9f, Ptr{Nothing} @0x000000010b3e8160, Ptr{Nothing} @0x000000010b40159f, Ptr{Nothing} @0x000000010b3ff7d0, Ptr{Nothing} @0x000000010b3ff50c, Base.InterpreterIP in MethodInstance for Requires.listenpkg(::Any, ::Base.PkgId) at statement 3, Ptr{Nothing} @0x000000010c91c2a7, Ptr{Nothing} @0x000000010c91d0af, Ptr{Nothing} @0x000000010b3e8160, Ptr{Nothing} @0x000000010b4198c3, Ptr{Nothing} @0x000000010b40b027, Ptr{Nothing} @0x000000010c8e6f84, Ptr{Nothing} @0x000000010c8e83d5, Ptr{Nothing} @0x000000010c8eac2b, Ptr{Nothing} @0x000000010c8ed4c9, Ptr{Nothing} @0x000000010c8eeee5, Ptr{Nothing} @0x000000010b3e8160, Ptr{Nothing} @0x000000010b41bd3c, Ptr{Nothing} @0x000000010b41aadf, Ptr{Nothing} @0x000000010b41b2f5, Ptr{Nothing} @0x000000010b41af02, Ptr{Nothing} @0x000000010b41af02, Ptr{Nothing} @0x000000010b41c1d5, Ptr{Nothing} @0x00000001225fe7da, Ptr{Nothing} @0x000000010b3e8160, Ptr{Nothing} @0x000000012263df45, Ptr{Nothing} @0x000000010c89549e, Ptr{Nothing} @0x000000010b3e8160, Ptr{Nothing} @0x000000010b40159f, Ptr{Nothing} @0x000000010b3ffae6, Ptr{Nothing} @0x000000010b4000dc, Base.InterpreterIP in top-level CodeInfo for Main at statement 0, Ptr{Nothing} @0x000000010b41b15f, Ptr{Nothing} @0x000000010b41af02, Ptr{Nothing} @0x000000010b41c1d5, Ptr{Nothing} @0x000000010c88cccc, Ptr{Nothing} @0x000000010b3e8160, Ptr{Nothing} @0x000000010b3f4f4a, Ptr{Nothing} @0x000000010c88b7cd, Ptr{Nothing} @0x000000010c88c572, Ptr{Nothing} @0x000000010c88c94a, Ptr{Nothing} @0x000000010c88c9cd, Ptr{Nothing} @0x000000010b3e8160, Ptr{Nothing} @0x000000010c87ef0f, Ptr{Nothing} @0x000000010b3e8160, Ptr{Nothing} @0x000000010c871bff, Ptr{Nothing} @0x000000010c8720b2, Ptr{Nothing} @0x000000010c872128, Ptr{Nothing} @0x000000010b3e8160, Ptr{Nothing} @0x000000010c86a265, Ptr{Nothing} @0x000000010b41b096, Ptr{Nothing} @0x000000010b41af02, Ptr{Nothing} @0x000000010b41c1d5, Ptr{Nothing} @0x00000001225fe7da, Ptr{Nothing} @0x000000010b3e8160, Ptr{Nothing} @0x000000012263df45, Ptr{Nothing} @0x00000001221c9c85, Ptr{Nothing} @0x000000010b3e8160, Ptr{Nothing} @0x0000000122343a74, Ptr{Nothing} @0x0000000121b9f94f, Ptr{Nothing} @0x0000000121b9fab8, Ptr{Nothing} @0x000000010b3e8160, Ptr{Nothing} @0x000000010b43e9f2, Ptr{Nothing} @0x000000010b43e8e3])\n",
      "└ @ Requires /Users/irisyoon/.julia/packages/Requires/Z8rfN/src/require.jl:51\n",
      "┌ Info: For saving to png with the Plotly backend PlotlyBase has to be installed.\n",
      "└ @ Plots /Users/irisyoon/.julia/packages/Plots/iYDwd/src/backends.jl:372\n"
     ]
    }
   ],
   "source": [
    "include(\"../../src/analogous_bars.jl\")\n",
    "include(\"../../src/Eirene_var.jl\")\n",
    "using .analogous_bars\n",
    "using .Eirene_var\n",
    "using DelimitedFiles\n",
    "using HDF5\n",
    "using Plots\n",
    "using FileIO\n",
    "using Random"
   ]
  },
  {
   "cell_type": "markdown",
   "id": "established-kitty",
   "metadata": {},
   "source": [
    "# Load data"
   ]
  },
  {
   "cell_type": "code",
   "execution_count": null,
   "id": "008f60e1",
   "metadata": {},
   "outputs": [],
   "source": [
    "using Distributed\n",
    "addprocs(5)\n",
    "@everywhere include(\"../../../src/analogous_stats.jl\")\n",
    "@everywhere using .analogous_stats"
   ]
  },
  {
   "cell_type": "code",
   "execution_count": 7,
   "id": "smoking-favorite",
   "metadata": {},
   "outputs": [
    {
     "data": {
      "text/plain": [
       "41×53 Matrix{Float64}:\n",
       " 0.424699  0.411983  0.444443  0.575124  …  0.30476   0.374187  0.381591\n",
       " 0.607417  0.832001  0.576374  0.644771     0.640732  0.809459  0.533623\n",
       " 0.866342  0.761677  0.685496  0.856879     0.688428  0.745529  0.832457\n",
       " 0.795257  0.956038  0.626893  0.849059     0.757421  0.952889  0.802012\n",
       " 0.695159  0.762696  0.491192  0.654693     0.581769  0.789278  0.611313\n",
       " 0.815913  0.877328  0.552313  0.817288  …  0.662579  0.818494  0.786352\n",
       " 0.576197  0.7669    0.365874  0.668136     0.49702   0.716563  0.559443\n",
       " 0.892061  0.803853  0.727002  0.959489     0.729597  0.738541  0.931111\n",
       " 0.547611  0.291893  0.510774  0.693142     0.247919  0.189238  0.50727\n",
       " 0.953746  0.819153  0.725814  0.960114     0.69568   0.708533  0.961894\n",
       " ⋮                                       ⋱  ⋮                   \n",
       " 0.450087  0.786944  0.523222  0.676305     0.621632  0.756245  0.504729\n",
       " 0.945825  0.792079  0.76876   0.960825     0.735642  0.711439  0.953876\n",
       " 0.354884  0.253876  0.405666  0.589983     0.181229  0.176462  0.356177\n",
       " 0.608198  0.415229  0.469971  0.68294   …  0.331378  0.405004  0.573634\n",
       " 0.465869  0.623667  0.439966  0.533398     0.423446  0.5802    0.370514\n",
       " 0.781759  0.98996   0.584392  0.878121     0.80538   0.979293  0.835931\n",
       " 0.753728  0.903447  0.500089  0.796105     0.658396  0.876695  0.731304\n",
       " 0.986171  0.827268  0.809843  0.977794     0.777205  0.749775  0.983411\n",
       " 0.358777  0.442147  0.362656  0.656361  …  0.316369  0.382353  0.442703"
      ]
     },
     "metadata": {},
     "output_type": "display_data"
    }
   ],
   "source": [
    "# load distances\n",
    "total_D = readdlm(\"total_dissimilarity.csv\")\n",
    "\n",
    "# get number of neurons in AL\n",
    "AL_txt = open(\"AL_neurons_idx.txt\", \"r\")\n",
    "AL_linebyline = readlines(AL_txt)\n",
    "close(AL_txt)\n",
    "n_AL = size(AL_linebyline, 1)\n",
    "\n",
    "# get number of neurons in V1\n",
    "V1_txt = open(\"V1_neurons_idx.txt\", \"r\")\n",
    "V1_linebyline = readlines(V1_txt)\n",
    "close(V1_txt)\n",
    "n_V1 = size(V1_linebyline, 1)\n",
    "\n",
    "# Define submatrices \n",
    "D_V1 = total_D[1:n_V1, 1:n_V1]\n",
    "D_AL = total_D[n_V1+1:end, n_V1+1:end]\n",
    "D_V1_AL = total_D[1:n_V1, n_V1+1:end]\n",
    "    # rows (landmarks): V1\n",
    "    # columns (witness) : AL\n",
    "D_AL_V1 = total_D[n_V1+1:end, 1:n_V1];\n",
    "    # rows (landmarks): AL\n",
    "    # columns (witness) : V1"
   ]
  },
  {
   "cell_type": "code",
   "execution_count": 8,
   "id": "alternate-airline",
   "metadata": {},
   "outputs": [],
   "source": [
    "# compute\n",
    "C_V1 = eirene(D_V1, record = \"all\", maxdim = 1)\n",
    "C_AL = eirene(D_AL, record = \"all\", maxdim = 1)\n",
    "W_V1 = ext_var.compute_Witness_persistence(D_V1_AL)\n",
    "\n",
    "barcode_V1 = barcode(C_V1, dim = 1)\n",
    "barcode_AL = barcode(C_AL, dim = 1)\n",
    "barcode_W_V1_AL = barcode(W_V1[\"eirene_output\"], dim = 1);"
   ]
  },
  {
   "cell_type": "code",
   "execution_count": 7,
   "id": "mysterious-authorization",
   "metadata": {},
   "outputs": [
    {
     "data": {
      "application/vnd.plotly.v1+json": {
       "data": [
        {
         "colorbar": {
          "title": ""
         },
         "legendgroup": "",
         "marker": {
          "color": "rgba(128, 128, 128, 0.500)",
          "line": {
           "color": "rgba(0, 0, 0, 0.500)",
           "width": 1
          },
          "size": 8,
          "symbol": "circle"
         },
         "mode": "markers",
         "name": "",
         "showlegend": false,
         "type": "scatter",
         "x": [
          0.5639360404052973,
          0.5589915032156663
         ],
         "xaxis": "x1",
         "y": [
          0.5685672879636985,
          0.6349079262193076
         ],
         "yaxis": "y1",
         "zmax": null,
         "zmin": null
        },
        {
         "colorbar": {
          "title": ""
         },
         "legendgroup": "",
         "line": {
          "color": "rgba(128, 128, 128, 1.000)",
          "dash": "solid",
          "shape": "linear",
          "width": 5
         },
         "mode": "lines",
         "name": "",
         "showlegend": false,
         "type": "scatter",
         "x": [
          0.44719320257253303,
          0.6983987188412384
         ],
         "xaxis": "x1",
         "y": [
          0.44719320257253303,
          0.6983987188412384
         ],
         "yaxis": "y1",
         "zmax": null,
         "zmin": null
        },
        {
         "colorbar": {
          "title": ""
         },
         "legendgroup": "",
         "marker": {
          "color": "rgba(128, 128, 128, 0.500)",
          "line": {
           "color": "rgba(0, 0, 0, 0.500)",
           "width": 1
          },
          "size": 8,
          "symbol": "circle"
         },
         "mode": "markers",
         "name": "",
         "showlegend": false,
         "type": "scatter",
         "x": [
          0.4024366521227176,
          0.48523076539972543
         ],
         "xaxis": "x2",
         "y": [
          0.43037476035593203,
          0.49653893919583936
         ],
         "yaxis": "y2",
         "zmax": null,
         "zmin": null
        },
        {
         "colorbar": {
          "title": ""
         },
         "legendgroup": "",
         "line": {
          "color": "rgba(128, 128, 128, 1.000)",
          "dash": "solid",
          "shape": "linear",
          "width": 5
         },
         "mode": "lines",
         "name": "",
         "showlegend": false,
         "type": "scatter",
         "x": [
          0.32194932169817414,
          0.5461928331154233
         ],
         "xaxis": "x2",
         "y": [
          0.32194932169817414,
          0.5461928331154233
         ],
         "yaxis": "y2",
         "zmax": null,
         "zmin": null
        },
        {
         "colorbar": {
          "title": ""
         },
         "legendgroup": "",
         "marker": {
          "color": "rgba(128, 128, 128, 0.500)",
          "line": {
           "color": "rgba(0, 0, 0, 0.500)",
           "width": 1
          },
          "size": 8,
          "symbol": "circle"
         },
         "mode": "markers",
         "name": "",
         "showlegend": false,
         "type": "scatter",
         "x": [
          0.3814331491646641,
          0.4560830876857863
         ],
         "xaxis": "x3",
         "y": [
          0.386574214763859,
          0.5083850196946953
         ],
         "yaxis": "y3",
         "zmax": null,
         "zmin": null
        },
        {
         "colorbar": {
          "title": ""
         },
         "legendgroup": "",
         "line": {
          "color": "rgba(128, 128, 128, 1.000)",
          "dash": "solid",
          "shape": "linear",
          "width": 5
         },
         "mode": "lines",
         "name": "",
         "showlegend": false,
         "type": "scatter",
         "x": [
          0.3051465193317313,
          0.5592235216641649
         ],
         "xaxis": "x3",
         "y": [
          0.3051465193317313,
          0.5592235216641649
         ],
         "yaxis": "y3",
         "zmax": null,
         "zmin": null
        }
       ],
       "layout": {
        "annotations": [
         {
          "font": {
           "color": "rgba(0, 0, 0, 1.000)",
           "family": "sans-serif",
           "size": 21
          },
          "rotation": 0,
          "showarrow": false,
          "text": "PD(VR(V1))",
          "x": 0.19629629629629627,
          "xanchor": "center",
          "xref": "paper",
          "y": 1,
          "yanchor": "top",
          "yref": "paper"
         },
         {
          "font": {
           "color": "rgba(0, 0, 0, 1.000)",
           "family": "sans-serif",
           "size": 20
          },
          "rotation": 0,
          "showarrow": false,
          "text": "PD(W(V1, AL))",
          "x": 0.5296296296296296,
          "xanchor": "center",
          "xref": "paper",
          "y": 1,
          "yanchor": "top",
          "yref": "paper"
         },
         {
          "font": {
           "color": "rgba(0, 0, 0, 1.000)",
           "family": "sans-serif",
           "size": 21
          },
          "rotation": 0,
          "showarrow": false,
          "text": "PD(VR(AL))",
          "x": 0.8629629629629629,
          "xanchor": "center",
          "xref": "paper",
          "y": 1,
          "yanchor": "top",
          "yref": "paper"
         }
        ],
        "height": 400,
        "legend": {
         "bgcolor": "rgba(255, 255, 255, 1.000)",
         "bordercolor": "rgba(0, 0, 0, 1.000)",
         "font": {
          "color": "rgba(0, 0, 0, 1.000)",
          "family": "sans-serif",
          "size": 11
         },
         "tracegroupgap": 0,
         "x": 1,
         "y": 0
        },
        "margin": {
         "b": 20,
         "l": 0,
         "r": 0,
         "t": 20
        },
        "paper_bgcolor": "rgba(255, 255, 255, 1.000)",
        "plot_bgcolor": "rgba(255, 255, 255, 1.000)",
        "showlegend": true,
        "width": 600,
        "xaxis1": {
         "anchor": "y1",
         "domain": [
          0.0658209390492855,
          0.32677165354330706
         ],
         "gridcolor": "rgba(0, 0, 0, 0.100)",
         "gridwidth": 0.5,
         "linecolor": "rgba(0, 0, 0, 1.000)",
         "mirror": true,
         "range": [
          0.44719320257253303,
          0.6983987188412384
         ],
         "showgrid": true,
         "showline": true,
         "showticklabels": true,
         "tickangle": 0,
         "tickcolor": "rgb(0, 0, 0)",
         "tickfont": {
          "color": "rgba(0, 0, 0, 1.000)",
          "family": "sans-serif",
          "size": 11
         },
         "tickmode": "array",
         "ticks": "inside",
         "ticktext": [
          "0.45",
          "0.50",
          "0.55",
          "0.60",
          "0.65"
         ],
         "tickvals": [
          0.45,
          0.5,
          0.55,
          0.6000000000000001,
          0.65
         ],
         "title": "",
         "titlefont": {
          "color": "rgba(0, 0, 0, 1.000)",
          "family": "sans-serif",
          "size": 15
         },
         "type": "-",
         "visible": true,
         "zeroline": false,
         "zerolinecolor": "rgba(0, 0, 0, 1.000)"
        },
        "xaxis2": {
         "anchor": "y2",
         "domain": [
          0.3991542723826188,
          0.6601049868766404
         ],
         "gridcolor": "rgba(0, 0, 0, 0.100)",
         "gridwidth": 0.5,
         "linecolor": "rgba(0, 0, 0, 1.000)",
         "mirror": true,
         "range": [
          0.32194932169817414,
          0.5461928331154233
         ],
         "showgrid": true,
         "showline": true,
         "showticklabels": true,
         "tickangle": 0,
         "tickcolor": "rgb(0, 0, 0)",
         "tickfont": {
          "color": "rgba(0, 0, 0, 1.000)",
          "family": "sans-serif",
          "size": 11
         },
         "tickmode": "array",
         "ticks": "inside",
         "ticktext": [
          "0.35",
          "0.40",
          "0.45",
          "0.50"
         ],
         "tickvals": [
          0.35000000000000003,
          0.4,
          0.45,
          0.5
         ],
         "title": "",
         "titlefont": {
          "color": "rgba(0, 0, 0, 1.000)",
          "family": "sans-serif",
          "size": 15
         },
         "type": "-",
         "visible": true,
         "zeroline": false,
         "zerolinecolor": "rgba(0, 0, 0, 1.000)"
        },
        "xaxis3": {
         "anchor": "y3",
         "domain": [
          0.7324876057159522,
          0.9934383202099737
         ],
         "gridcolor": "rgba(0, 0, 0, 0.100)",
         "gridwidth": 0.5,
         "linecolor": "rgba(0, 0, 0, 1.000)",
         "mirror": true,
         "range": [
          0.3051465193317313,
          0.5592235216641649
         ],
         "showgrid": true,
         "showline": true,
         "showticklabels": true,
         "tickangle": 0,
         "tickcolor": "rgb(0, 0, 0)",
         "tickfont": {
          "color": "rgba(0, 0, 0, 1.000)",
          "family": "sans-serif",
          "size": 11
         },
         "tickmode": "array",
         "ticks": "inside",
         "ticktext": [
          "0.35",
          "0.40",
          "0.45",
          "0.50",
          "0.55"
         ],
         "tickvals": [
          0.35000000000000003,
          0.4,
          0.45,
          0.5,
          0.55
         ],
         "title": "",
         "titlefont": {
          "color": "rgba(0, 0, 0, 1.000)",
          "family": "sans-serif",
          "size": 15
         },
         "type": "-",
         "visible": true,
         "zeroline": false,
         "zerolinecolor": "rgba(0, 0, 0, 1.000)"
        },
        "yaxis1": {
         "anchor": "x1",
         "domain": [
          0.29213418635170596,
          0.6835602580927383
         ],
         "gridcolor": "rgba(0, 0, 0, 0.100)",
         "gridwidth": 0.5,
         "linecolor": "rgba(0, 0, 0, 1.000)",
         "mirror": true,
         "range": [
          0.44719320257253303,
          0.6983987188412384
         ],
         "showgrid": true,
         "showline": true,
         "showticklabels": true,
         "tickangle": 0,
         "tickcolor": "rgb(0, 0, 0)",
         "tickfont": {
          "color": "rgba(0, 0, 0, 1.000)",
          "family": "sans-serif",
          "size": 11
         },
         "tickmode": "array",
         "ticks": "inside",
         "ticktext": [
          "0.45",
          "0.50",
          "0.55",
          "0.60",
          "0.65"
         ],
         "tickvals": [
          0.45,
          0.5,
          0.55,
          0.6000000000000001,
          0.65
         ],
         "title": "",
         "titlefont": {
          "color": "rgba(0, 0, 0, 1.000)",
          "family": "sans-serif",
          "size": 15
         },
         "type": "-",
         "visible": true,
         "zeroline": false,
         "zerolinecolor": "rgba(0, 0, 0, 1.000)"
        },
        "yaxis2": {
         "anchor": "x2",
         "domain": [
          0.29213418635170596,
          0.6835602580927383
         ],
         "gridcolor": "rgba(0, 0, 0, 0.100)",
         "gridwidth": 0.5,
         "linecolor": "rgba(0, 0, 0, 1.000)",
         "mirror": true,
         "range": [
          0.32194932169817414,
          0.5461928331154233
         ],
         "showgrid": true,
         "showline": true,
         "showticklabels": true,
         "tickangle": 0,
         "tickcolor": "rgb(0, 0, 0)",
         "tickfont": {
          "color": "rgba(0, 0, 0, 1.000)",
          "family": "sans-serif",
          "size": 11
         },
         "tickmode": "array",
         "ticks": "inside",
         "ticktext": [
          "0.35",
          "0.40",
          "0.45",
          "0.50"
         ],
         "tickvals": [
          0.35000000000000003,
          0.4,
          0.45,
          0.5
         ],
         "title": "",
         "titlefont": {
          "color": "rgba(0, 0, 0, 1.000)",
          "family": "sans-serif",
          "size": 15
         },
         "type": "-",
         "visible": true,
         "zeroline": false,
         "zerolinecolor": "rgba(0, 0, 0, 1.000)"
        },
        "yaxis3": {
         "anchor": "x3",
         "domain": [
          0.29213418635170596,
          0.6835602580927383
         ],
         "gridcolor": "rgba(0, 0, 0, 0.100)",
         "gridwidth": 0.5,
         "linecolor": "rgba(0, 0, 0, 1.000)",
         "mirror": true,
         "range": [
          0.3051465193317313,
          0.5592235216641649
         ],
         "showgrid": true,
         "showline": true,
         "showticklabels": true,
         "tickangle": 0,
         "tickcolor": "rgb(0, 0, 0)",
         "tickfont": {
          "color": "rgba(0, 0, 0, 1.000)",
          "family": "sans-serif",
          "size": 11
         },
         "tickmode": "array",
         "ticks": "inside",
         "ticktext": [
          "0.35",
          "0.40",
          "0.45",
          "0.50",
          "0.55"
         ],
         "tickvals": [
          0.35000000000000003,
          0.4,
          0.45,
          0.5,
          0.55
         ],
         "title": "",
         "titlefont": {
          "color": "rgba(0, 0, 0, 1.000)",
          "family": "sans-serif",
          "size": 15
         },
         "type": "-",
         "visible": true,
         "zeroline": false,
         "zerolinecolor": "rgba(0, 0, 0, 1.000)"
        }
       }
      },
      "text/html": [
       "<!DOCTYPE html>\n",
       "<html>\n",
       "    <head>\n",
       "        <title>Plots.jl</title>\n",
       "        <meta http-equiv=\"content-type\" content=\"text/html; charset=UTF-8\">\n",
       "        <script src=\"https://cdn.plot.ly/plotly-latest.min.js\"></script>\n",
       "    </head>\n",
       "    <body>\n",
       "            <div id=\"132656c3-ac42-491e-99ed-ad7351ed2e5d\" style=\"width:600px;height:400px;\"></div>\n",
       "    <script>\n",
       "    PLOT = document.getElementById('132656c3-ac42-491e-99ed-ad7351ed2e5d');\n",
       "    Plotly.plot(PLOT, [\n",
       "    {\n",
       "        \"xaxis\": \"x1\",\n",
       "        \"colorbar\": {\n",
       "            \"title\": \"\"\n",
       "        },\n",
       "        \"yaxis\": \"y1\",\n",
       "        \"x\": [\n",
       "            0.5639360404052973,\n",
       "            0.5589915032156663\n",
       "        ],\n",
       "        \"showlegend\": false,\n",
       "        \"mode\": \"markers\",\n",
       "        \"name\": \"\",\n",
       "        \"zmin\": null,\n",
       "        \"legendgroup\": \"\",\n",
       "        \"marker\": {\n",
       "            \"symbol\": \"circle\",\n",
       "            \"color\": \"rgba(128, 128, 128, 0.500)\",\n",
       "            \"line\": {\n",
       "                \"color\": \"rgba(0, 0, 0, 0.500)\",\n",
       "                \"width\": 1\n",
       "            },\n",
       "            \"size\": 8\n",
       "        },\n",
       "        \"zmax\": null,\n",
       "        \"y\": [\n",
       "            0.5685672879636985,\n",
       "            0.6349079262193076\n",
       "        ],\n",
       "        \"type\": \"scatter\"\n",
       "    },\n",
       "    {\n",
       "        \"xaxis\": \"x1\",\n",
       "        \"colorbar\": {\n",
       "            \"title\": \"\"\n",
       "        },\n",
       "        \"yaxis\": \"y1\",\n",
       "        \"x\": [\n",
       "            0.44719320257253303,\n",
       "            0.6983987188412384\n",
       "        ],\n",
       "        \"showlegend\": false,\n",
       "        \"mode\": \"lines\",\n",
       "        \"name\": \"\",\n",
       "        \"zmin\": null,\n",
       "        \"legendgroup\": \"\",\n",
       "        \"zmax\": null,\n",
       "        \"line\": {\n",
       "            \"color\": \"rgba(128, 128, 128, 1.000)\",\n",
       "            \"shape\": \"linear\",\n",
       "            \"dash\": \"solid\",\n",
       "            \"width\": 5\n",
       "        },\n",
       "        \"y\": [\n",
       "            0.44719320257253303,\n",
       "            0.6983987188412384\n",
       "        ],\n",
       "        \"type\": \"scatter\"\n",
       "    },\n",
       "    {\n",
       "        \"xaxis\": \"x2\",\n",
       "        \"colorbar\": {\n",
       "            \"title\": \"\"\n",
       "        },\n",
       "        \"yaxis\": \"y2\",\n",
       "        \"x\": [\n",
       "            0.4024366521227176,\n",
       "            0.48523076539972543\n",
       "        ],\n",
       "        \"showlegend\": false,\n",
       "        \"mode\": \"markers\",\n",
       "        \"name\": \"\",\n",
       "        \"zmin\": null,\n",
       "        \"legendgroup\": \"\",\n",
       "        \"marker\": {\n",
       "            \"symbol\": \"circle\",\n",
       "            \"color\": \"rgba(128, 128, 128, 0.500)\",\n",
       "            \"line\": {\n",
       "                \"color\": \"rgba(0, 0, 0, 0.500)\",\n",
       "                \"width\": 1\n",
       "            },\n",
       "            \"size\": 8\n",
       "        },\n",
       "        \"zmax\": null,\n",
       "        \"y\": [\n",
       "            0.43037476035593203,\n",
       "            0.49653893919583936\n",
       "        ],\n",
       "        \"type\": \"scatter\"\n",
       "    },\n",
       "    {\n",
       "        \"xaxis\": \"x2\",\n",
       "        \"colorbar\": {\n",
       "            \"title\": \"\"\n",
       "        },\n",
       "        \"yaxis\": \"y2\",\n",
       "        \"x\": [\n",
       "            0.32194932169817414,\n",
       "            0.5461928331154233\n",
       "        ],\n",
       "        \"showlegend\": false,\n",
       "        \"mode\": \"lines\",\n",
       "        \"name\": \"\",\n",
       "        \"zmin\": null,\n",
       "        \"legendgroup\": \"\",\n",
       "        \"zmax\": null,\n",
       "        \"line\": {\n",
       "            \"color\": \"rgba(128, 128, 128, 1.000)\",\n",
       "            \"shape\": \"linear\",\n",
       "            \"dash\": \"solid\",\n",
       "            \"width\": 5\n",
       "        },\n",
       "        \"y\": [\n",
       "            0.32194932169817414,\n",
       "            0.5461928331154233\n",
       "        ],\n",
       "        \"type\": \"scatter\"\n",
       "    },\n",
       "    {\n",
       "        \"xaxis\": \"x3\",\n",
       "        \"colorbar\": {\n",
       "            \"title\": \"\"\n",
       "        },\n",
       "        \"yaxis\": \"y3\",\n",
       "        \"x\": [\n",
       "            0.3814331491646641,\n",
       "            0.4560830876857863\n",
       "        ],\n",
       "        \"showlegend\": false,\n",
       "        \"mode\": \"markers\",\n",
       "        \"name\": \"\",\n",
       "        \"zmin\": null,\n",
       "        \"legendgroup\": \"\",\n",
       "        \"marker\": {\n",
       "            \"symbol\": \"circle\",\n",
       "            \"color\": \"rgba(128, 128, 128, 0.500)\",\n",
       "            \"line\": {\n",
       "                \"color\": \"rgba(0, 0, 0, 0.500)\",\n",
       "                \"width\": 1\n",
       "            },\n",
       "            \"size\": 8\n",
       "        },\n",
       "        \"zmax\": null,\n",
       "        \"y\": [\n",
       "            0.386574214763859,\n",
       "            0.5083850196946953\n",
       "        ],\n",
       "        \"type\": \"scatter\"\n",
       "    },\n",
       "    {\n",
       "        \"xaxis\": \"x3\",\n",
       "        \"colorbar\": {\n",
       "            \"title\": \"\"\n",
       "        },\n",
       "        \"yaxis\": \"y3\",\n",
       "        \"x\": [\n",
       "            0.3051465193317313,\n",
       "            0.5592235216641649\n",
       "        ],\n",
       "        \"showlegend\": false,\n",
       "        \"mode\": \"lines\",\n",
       "        \"name\": \"\",\n",
       "        \"zmin\": null,\n",
       "        \"legendgroup\": \"\",\n",
       "        \"zmax\": null,\n",
       "        \"line\": {\n",
       "            \"color\": \"rgba(128, 128, 128, 1.000)\",\n",
       "            \"shape\": \"linear\",\n",
       "            \"dash\": \"solid\",\n",
       "            \"width\": 5\n",
       "        },\n",
       "        \"y\": [\n",
       "            0.3051465193317313,\n",
       "            0.5592235216641649\n",
       "        ],\n",
       "        \"type\": \"scatter\"\n",
       "    }\n",
       "]\n",
       ", {\n",
       "    \"paper_bgcolor\": \"rgba(255, 255, 255, 1.000)\",\n",
       "    \"height\": 400,\n",
       "    \"yaxis2\": {\n",
       "        \"showticklabels\": true,\n",
       "        \"gridwidth\": 0.5,\n",
       "        \"tickvals\": [\n",
       "            0.35000000000000003,\n",
       "            0.4,\n",
       "            0.45,\n",
       "            0.5\n",
       "        ],\n",
       "        \"visible\": true,\n",
       "        \"ticks\": \"inside\",\n",
       "        \"range\": [\n",
       "            0.32194932169817414,\n",
       "            0.5461928331154233\n",
       "        ],\n",
       "        \"domain\": [\n",
       "            0.29213418635170596,\n",
       "            0.6835602580927383\n",
       "        ],\n",
       "        \"tickmode\": \"array\",\n",
       "        \"linecolor\": \"rgba(0, 0, 0, 1.000)\",\n",
       "        \"showgrid\": true,\n",
       "        \"title\": \"\",\n",
       "        \"mirror\": true,\n",
       "        \"tickangle\": 0,\n",
       "        \"showline\": true,\n",
       "        \"gridcolor\": \"rgba(0, 0, 0, 0.100)\",\n",
       "        \"titlefont\": {\n",
       "            \"color\": \"rgba(0, 0, 0, 1.000)\",\n",
       "            \"family\": \"sans-serif\",\n",
       "            \"size\": 15\n",
       "        },\n",
       "        \"tickcolor\": \"rgb(0, 0, 0)\",\n",
       "        \"ticktext\": [\n",
       "            \"0.35\",\n",
       "            \"0.40\",\n",
       "            \"0.45\",\n",
       "            \"0.50\"\n",
       "        ],\n",
       "        \"zeroline\": false,\n",
       "        \"type\": \"-\",\n",
       "        \"tickfont\": {\n",
       "            \"color\": \"rgba(0, 0, 0, 1.000)\",\n",
       "            \"family\": \"sans-serif\",\n",
       "            \"size\": 11\n",
       "        },\n",
       "        \"zerolinecolor\": \"rgba(0, 0, 0, 1.000)\",\n",
       "        \"anchor\": \"x2\"\n",
       "    },\n",
       "    \"xaxis3\": {\n",
       "        \"showticklabels\": true,\n",
       "        \"gridwidth\": 0.5,\n",
       "        \"tickvals\": [\n",
       "            0.35000000000000003,\n",
       "            0.4,\n",
       "            0.45,\n",
       "            0.5,\n",
       "            0.55\n",
       "        ],\n",
       "        \"visible\": true,\n",
       "        \"ticks\": \"inside\",\n",
       "        \"range\": [\n",
       "            0.3051465193317313,\n",
       "            0.5592235216641649\n",
       "        ],\n",
       "        \"domain\": [\n",
       "            0.7324876057159522,\n",
       "            0.9934383202099737\n",
       "        ],\n",
       "        \"tickmode\": \"array\",\n",
       "        \"linecolor\": \"rgba(0, 0, 0, 1.000)\",\n",
       "        \"showgrid\": true,\n",
       "        \"title\": \"\",\n",
       "        \"mirror\": true,\n",
       "        \"tickangle\": 0,\n",
       "        \"showline\": true,\n",
       "        \"gridcolor\": \"rgba(0, 0, 0, 0.100)\",\n",
       "        \"titlefont\": {\n",
       "            \"color\": \"rgba(0, 0, 0, 1.000)\",\n",
       "            \"family\": \"sans-serif\",\n",
       "            \"size\": 15\n",
       "        },\n",
       "        \"tickcolor\": \"rgb(0, 0, 0)\",\n",
       "        \"ticktext\": [\n",
       "            \"0.35\",\n",
       "            \"0.40\",\n",
       "            \"0.45\",\n",
       "            \"0.50\",\n",
       "            \"0.55\"\n",
       "        ],\n",
       "        \"zeroline\": false,\n",
       "        \"type\": \"-\",\n",
       "        \"tickfont\": {\n",
       "            \"color\": \"rgba(0, 0, 0, 1.000)\",\n",
       "            \"family\": \"sans-serif\",\n",
       "            \"size\": 11\n",
       "        },\n",
       "        \"zerolinecolor\": \"rgba(0, 0, 0, 1.000)\",\n",
       "        \"anchor\": \"y3\"\n",
       "    },\n",
       "    \"yaxis1\": {\n",
       "        \"showticklabels\": true,\n",
       "        \"gridwidth\": 0.5,\n",
       "        \"tickvals\": [\n",
       "            0.45,\n",
       "            0.5,\n",
       "            0.55,\n",
       "            0.6000000000000001,\n",
       "            0.65\n",
       "        ],\n",
       "        \"visible\": true,\n",
       "        \"ticks\": \"inside\",\n",
       "        \"range\": [\n",
       "            0.44719320257253303,\n",
       "            0.6983987188412384\n",
       "        ],\n",
       "        \"domain\": [\n",
       "            0.29213418635170596,\n",
       "            0.6835602580927383\n",
       "        ],\n",
       "        \"tickmode\": \"array\",\n",
       "        \"linecolor\": \"rgba(0, 0, 0, 1.000)\",\n",
       "        \"showgrid\": true,\n",
       "        \"title\": \"\",\n",
       "        \"mirror\": true,\n",
       "        \"tickangle\": 0,\n",
       "        \"showline\": true,\n",
       "        \"gridcolor\": \"rgba(0, 0, 0, 0.100)\",\n",
       "        \"titlefont\": {\n",
       "            \"color\": \"rgba(0, 0, 0, 1.000)\",\n",
       "            \"family\": \"sans-serif\",\n",
       "            \"size\": 15\n",
       "        },\n",
       "        \"tickcolor\": \"rgb(0, 0, 0)\",\n",
       "        \"ticktext\": [\n",
       "            \"0.45\",\n",
       "            \"0.50\",\n",
       "            \"0.55\",\n",
       "            \"0.60\",\n",
       "            \"0.65\"\n",
       "        ],\n",
       "        \"zeroline\": false,\n",
       "        \"type\": \"-\",\n",
       "        \"tickfont\": {\n",
       "            \"color\": \"rgba(0, 0, 0, 1.000)\",\n",
       "            \"family\": \"sans-serif\",\n",
       "            \"size\": 11\n",
       "        },\n",
       "        \"zerolinecolor\": \"rgba(0, 0, 0, 1.000)\",\n",
       "        \"anchor\": \"x1\"\n",
       "    },\n",
       "    \"annotations\": [\n",
       "        {\n",
       "            \"yanchor\": \"top\",\n",
       "            \"xanchor\": \"center\",\n",
       "            \"rotation\": -0.0,\n",
       "            \"y\": 1.0,\n",
       "            \"font\": {\n",
       "                \"color\": \"rgba(0, 0, 0, 1.000)\",\n",
       "                \"family\": \"sans-serif\",\n",
       "                \"size\": 21\n",
       "            },\n",
       "            \"yref\": \"paper\",\n",
       "            \"showarrow\": false,\n",
       "            \"text\": \"PD(VR(V1))\",\n",
       "            \"xref\": \"paper\",\n",
       "            \"x\": 0.19629629629629627\n",
       "        },\n",
       "        {\n",
       "            \"yanchor\": \"top\",\n",
       "            \"xanchor\": \"center\",\n",
       "            \"rotation\": -0.0,\n",
       "            \"y\": 1.0,\n",
       "            \"font\": {\n",
       "                \"color\": \"rgba(0, 0, 0, 1.000)\",\n",
       "                \"family\": \"sans-serif\",\n",
       "                \"size\": 20\n",
       "            },\n",
       "            \"yref\": \"paper\",\n",
       "            \"showarrow\": false,\n",
       "            \"text\": \"PD(W(V1, AL))\",\n",
       "            \"xref\": \"paper\",\n",
       "            \"x\": 0.5296296296296296\n",
       "        },\n",
       "        {\n",
       "            \"yanchor\": \"top\",\n",
       "            \"xanchor\": \"center\",\n",
       "            \"rotation\": -0.0,\n",
       "            \"y\": 1.0,\n",
       "            \"font\": {\n",
       "                \"color\": \"rgba(0, 0, 0, 1.000)\",\n",
       "                \"family\": \"sans-serif\",\n",
       "                \"size\": 21\n",
       "            },\n",
       "            \"yref\": \"paper\",\n",
       "            \"showarrow\": false,\n",
       "            \"text\": \"PD(VR(AL))\",\n",
       "            \"xref\": \"paper\",\n",
       "            \"x\": 0.8629629629629629\n",
       "        }\n",
       "    ],\n",
       "    \"plot_bgcolor\": \"rgba(255, 255, 255, 1.000)\",\n",
       "    \"showlegend\": true,\n",
       "    \"xaxis1\": {\n",
       "        \"showticklabels\": true,\n",
       "        \"gridwidth\": 0.5,\n",
       "        \"tickvals\": [\n",
       "            0.45,\n",
       "            0.5,\n",
       "            0.55,\n",
       "            0.6000000000000001,\n",
       "            0.65\n",
       "        ],\n",
       "        \"visible\": true,\n",
       "        \"ticks\": \"inside\",\n",
       "        \"range\": [\n",
       "            0.44719320257253303,\n",
       "            0.6983987188412384\n",
       "        ],\n",
       "        \"domain\": [\n",
       "            0.0658209390492855,\n",
       "            0.32677165354330706\n",
       "        ],\n",
       "        \"tickmode\": \"array\",\n",
       "        \"linecolor\": \"rgba(0, 0, 0, 1.000)\",\n",
       "        \"showgrid\": true,\n",
       "        \"title\": \"\",\n",
       "        \"mirror\": true,\n",
       "        \"tickangle\": 0,\n",
       "        \"showline\": true,\n",
       "        \"gridcolor\": \"rgba(0, 0, 0, 0.100)\",\n",
       "        \"titlefont\": {\n",
       "            \"color\": \"rgba(0, 0, 0, 1.000)\",\n",
       "            \"family\": \"sans-serif\",\n",
       "            \"size\": 15\n",
       "        },\n",
       "        \"tickcolor\": \"rgb(0, 0, 0)\",\n",
       "        \"ticktext\": [\n",
       "            \"0.45\",\n",
       "            \"0.50\",\n",
       "            \"0.55\",\n",
       "            \"0.60\",\n",
       "            \"0.65\"\n",
       "        ],\n",
       "        \"zeroline\": false,\n",
       "        \"type\": \"-\",\n",
       "        \"tickfont\": {\n",
       "            \"color\": \"rgba(0, 0, 0, 1.000)\",\n",
       "            \"family\": \"sans-serif\",\n",
       "            \"size\": 11\n",
       "        },\n",
       "        \"zerolinecolor\": \"rgba(0, 0, 0, 1.000)\",\n",
       "        \"anchor\": \"y1\"\n",
       "    },\n",
       "    \"legend\": {\n",
       "        \"tracegroupgap\": 0,\n",
       "        \"bordercolor\": \"rgba(0, 0, 0, 1.000)\",\n",
       "        \"bgcolor\": \"rgba(255, 255, 255, 1.000)\",\n",
       "        \"font\": {\n",
       "            \"color\": \"rgba(0, 0, 0, 1.000)\",\n",
       "            \"family\": \"sans-serif\",\n",
       "            \"size\": 11\n",
       "        },\n",
       "        \"y\": 0.0,\n",
       "        \"x\": 1.0\n",
       "    },\n",
       "    \"yaxis3\": {\n",
       "        \"showticklabels\": true,\n",
       "        \"gridwidth\": 0.5,\n",
       "        \"tickvals\": [\n",
       "            0.35000000000000003,\n",
       "            0.4,\n",
       "            0.45,\n",
       "            0.5,\n",
       "            0.55\n",
       "        ],\n",
       "        \"visible\": true,\n",
       "        \"ticks\": \"inside\",\n",
       "        \"range\": [\n",
       "            0.3051465193317313,\n",
       "            0.5592235216641649\n",
       "        ],\n",
       "        \"domain\": [\n",
       "            0.29213418635170596,\n",
       "            0.6835602580927383\n",
       "        ],\n",
       "        \"tickmode\": \"array\",\n",
       "        \"linecolor\": \"rgba(0, 0, 0, 1.000)\",\n",
       "        \"showgrid\": true,\n",
       "        \"title\": \"\",\n",
       "        \"mirror\": true,\n",
       "        \"tickangle\": 0,\n",
       "        \"showline\": true,\n",
       "        \"gridcolor\": \"rgba(0, 0, 0, 0.100)\",\n",
       "        \"titlefont\": {\n",
       "            \"color\": \"rgba(0, 0, 0, 1.000)\",\n",
       "            \"family\": \"sans-serif\",\n",
       "            \"size\": 15\n",
       "        },\n",
       "        \"tickcolor\": \"rgb(0, 0, 0)\",\n",
       "        \"ticktext\": [\n",
       "            \"0.35\",\n",
       "            \"0.40\",\n",
       "            \"0.45\",\n",
       "            \"0.50\",\n",
       "            \"0.55\"\n",
       "        ],\n",
       "        \"zeroline\": false,\n",
       "        \"type\": \"-\",\n",
       "        \"tickfont\": {\n",
       "            \"color\": \"rgba(0, 0, 0, 1.000)\",\n",
       "            \"family\": \"sans-serif\",\n",
       "            \"size\": 11\n",
       "        },\n",
       "        \"zerolinecolor\": \"rgba(0, 0, 0, 1.000)\",\n",
       "        \"anchor\": \"x3\"\n",
       "    },\n",
       "    \"xaxis2\": {\n",
       "        \"showticklabels\": true,\n",
       "        \"gridwidth\": 0.5,\n",
       "        \"tickvals\": [\n",
       "            0.35000000000000003,\n",
       "            0.4,\n",
       "            0.45,\n",
       "            0.5\n",
       "        ],\n",
       "        \"visible\": true,\n",
       "        \"ticks\": \"inside\",\n",
       "        \"range\": [\n",
       "            0.32194932169817414,\n",
       "            0.5461928331154233\n",
       "        ],\n",
       "        \"domain\": [\n",
       "            0.3991542723826188,\n",
       "            0.6601049868766404\n",
       "        ],\n",
       "        \"tickmode\": \"array\",\n",
       "        \"linecolor\": \"rgba(0, 0, 0, 1.000)\",\n",
       "        \"showgrid\": true,\n",
       "        \"title\": \"\",\n",
       "        \"mirror\": true,\n",
       "        \"tickangle\": 0,\n",
       "        \"showline\": true,\n",
       "        \"gridcolor\": \"rgba(0, 0, 0, 0.100)\",\n",
       "        \"titlefont\": {\n",
       "            \"color\": \"rgba(0, 0, 0, 1.000)\",\n",
       "            \"family\": \"sans-serif\",\n",
       "            \"size\": 15\n",
       "        },\n",
       "        \"tickcolor\": \"rgb(0, 0, 0)\",\n",
       "        \"ticktext\": [\n",
       "            \"0.35\",\n",
       "            \"0.40\",\n",
       "            \"0.45\",\n",
       "            \"0.50\"\n",
       "        ],\n",
       "        \"zeroline\": false,\n",
       "        \"type\": \"-\",\n",
       "        \"tickfont\": {\n",
       "            \"color\": \"rgba(0, 0, 0, 1.000)\",\n",
       "            \"family\": \"sans-serif\",\n",
       "            \"size\": 11\n",
       "        },\n",
       "        \"zerolinecolor\": \"rgba(0, 0, 0, 1.000)\",\n",
       "        \"anchor\": \"y2\"\n",
       "    },\n",
       "    \"margin\": {\n",
       "        \"l\": 0,\n",
       "        \"b\": 20,\n",
       "        \"r\": 0,\n",
       "        \"t\": 20\n",
       "    },\n",
       "    \"width\": 600\n",
       "}\n",
       ");\n",
       "    </script>\n",
       "\n",
       "    </body>\n",
       "</html>\n"
      ]
     },
     "execution_count": 7,
     "metadata": {},
     "output_type": "execute_result"
    }
   ],
   "source": [
    "p1 = ext_var.plot_PD(barcode_V1, title = \"PD(VR(V1))\", titlefontsize = 15)\n",
    "p2 = ext_var.plot_PD(barcode_W_V1_AL, title = \"PD(W(V1, AL))\")\n",
    "p3 = ext_var.plot_PD(barcode_AL, title = \"PD(VR(AL))\", titlefontsize = 15)\n",
    "plot(p1, p2, p3, layout = grid(1,3))"
   ]
  },
  {
   "cell_type": "markdown",
   "id": "elect-witch",
   "metadata": {},
   "source": [
    "# Compute null model stats"
   ]
  },
  {
   "cell_type": "code",
   "execution_count": null,
   "id": "golden-sarah",
   "metadata": {},
   "outputs": [],
   "source": [
    "start_idx = collect(1:5:200)\n",
    "for idx in start_idx\n",
    "    shuffles = collect(idx:idx+4) \n",
    "    t = @distributed for k in shuffles\n",
    "        output_filename = \"null_model_stats/\" * string(k)\n",
    "        _, _, _, _, _ = analogous_stats.compute_analogous_bars_null_model(;\n",
    "                                                                    VR_P = C_V1,\n",
    "                                                                    D_P = D_V1,\n",
    "                                                                    VR_Q = C_AL,\n",
    "                                                                    D_Q = D_AL,\n",
    "                                                                    P_null_dim = 1,\n",
    "                                                                    Q_null_dim = 1,\n",
    "                                                                    output_filename = output_filename\n",
    "                                                                    )\n",
    "    \n",
    "\n",
    "    end\n",
    "    fetch(t)\n",
    "end"
   ]
  },
  {
   "cell_type": "markdown",
   "id": "pregnant-yellow",
   "metadata": {},
   "source": [
    "# Load stats"
   ]
  },
  {
   "cell_type": "code",
   "execution_count": 3,
   "id": "14f4f501",
   "metadata": {},
   "outputs": [],
   "source": [
    "include(\"../../../src/analogous_stats.jl\")\n",
    "using .analogous_stats"
   ]
  },
  {
   "cell_type": "code",
   "execution_count": 9,
   "id": "improving-chrome",
   "metadata": {},
   "outputs": [
    {
     "data": {
      "text/plain": [
       "2×2 Matrix{Float64}:\n",
       " 0.0  0.0\n",
       " 0.0  0.0"
      ]
     },
     "metadata": {},
     "output_type": "display_data"
    }
   ],
   "source": [
    "n_shuffles = 200\n",
    "output_dir = \"null_model_stats/\"\n",
    "selected_V1 = selected_AL = [1, 2]\n",
    "stats_matrix, stats_matrix_total, selected_bar_count, no_Ftau_P_or_Q, valid_files = parse_null_model_stats(output_dir, \n",
    "                                                                         barcode_V1, \n",
    "                                                                         barcode_AL,\n",
    "                                                                         selected_V1,\n",
    "                                                                         selected_AL,\n",
    "                                                                         n_shuffles = n_shuffles)\n",
    "\n",
    "prob_matrix = stats_matrix ./ n_shuffles"
   ]
  },
  {
   "cell_type": "code",
   "execution_count": 10,
   "id": "finite-spider",
   "metadata": {},
   "outputs": [
    {
     "data": {
      "text/plain": [
       "2×2 Matrix{Float64}:\n",
       " 0.0  0.0\n",
       " 0.0  0.0"
      ]
     },
     "metadata": {},
     "output_type": "display_data"
    }
   ],
   "source": [
    "stats_matrix_total"
   ]
  },
  {
   "cell_type": "code",
   "execution_count": 11,
   "id": "3303fb0e",
   "metadata": {},
   "outputs": [
    {
     "data": {
      "text/plain": [
       "2×2 Matrix{Float64}:\n",
       " 0.0  0.0\n",
       " 0.0  0.0"
      ]
     },
     "metadata": {},
     "output_type": "display_data"
    }
   ],
   "source": [
    "stats_matrix"
   ]
  },
  {
   "cell_type": "code",
   "execution_count": null,
   "id": "7bce2788",
   "metadata": {},
   "outputs": [],
   "source": []
  }
 ],
 "metadata": {
  "kernelspec": {
   "display_name": "Julia 1.7.2 1.10.2",
   "language": "julia",
   "name": "julia-1.7.2-1.10"
  },
  "language_info": {
   "file_extension": ".jl",
   "mimetype": "application/julia",
   "name": "julia",
   "version": "1.10.2"
  }
 },
 "nbformat": 4,
 "nbformat_minor": 5
}
