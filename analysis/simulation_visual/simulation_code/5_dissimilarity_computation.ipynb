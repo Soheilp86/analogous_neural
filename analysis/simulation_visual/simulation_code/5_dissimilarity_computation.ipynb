{
 "cells": [
  {
   "cell_type": "markdown",
   "id": "chubby-cotton",
   "metadata": {},
   "source": [
    "# Dissimilarity computation\n",
    "* This notebook contains code for computing dissimilarity among spike trains. \n",
    "* Note that most dissimilarities should be computed using the multiprocessing scripts `src/compute_similarity_multiprocessing.py` and `src/cross_similarity_multiprocessing.py`. This notebook illustrates how to use the scripts.\n",
    "\n",
    "### Process\n",
    "1. Compute similarity & dissimilarity matrix in each region (V1, orientation, direction)\n",
    "2. Compute cross-similarity matrices across regions\n",
    "\n",
    "* <b> NOTE </b>: To save storage space, for symmetric matrices, we only store the entries on the upper triangle. These entries can be used to find the full matrix.\n"
   ]
  },
  {
   "cell_type": "markdown",
   "id": "entertaining-soldier",
   "metadata": {},
   "source": [
    "# 1. Compute similarity matrices in each region"
   ]
  },
  {
   "cell_type": "markdown",
   "id": "systematic-intro",
   "metadata": {},
   "source": [
    "* Use the script `compute_similarity_multiprocessing.py` to compute similarity matrices of each region (V1, orientation, direction)\n",
    "* The script should be called in following format:\n",
    "\n",
    "`python3 compute_similarity_multiprocessing.py path_to_raster limit_len path_to_output`\n",
    "\n",
    "### Example\n",
    "* among V1 spike trains: `python3 compute_similarity_multiprocessing.py V1_simulation_raster.h5 100 V1_simulation_distance.h5`  \n",
    "* among orientation neurons: `python3 compute_similarity_multiprocessing.py orientation_raster.h5 100 orientation_distance.h5`  \n",
    "* among direction neurons: `python3 compute_similarity_multiprocessing.py direction_raster.h5 100 direction_distance.h5`"
   ]
  },
  {
   "cell_type": "markdown",
   "id": "downtown-mongolia",
   "metadata": {},
   "source": [
    "# 2. Compute cross-system similarities"
   ]
  },
  {
   "cell_type": "markdown",
   "id": "assigned-swimming",
   "metadata": {},
   "source": [
    "### 2(a) Between V1 spike trains and sampled stimulus images\n",
    "`python3 cross_similarity_multiprocessing.py V1_simulation_raster.h5 stimulus_raster.h5 100 V1_stimulus_distance.h5`\n",
    "\n",
    "### 2(b) Between V1 and orientation-sensitive neurons\n",
    "`python3 cross_similarity_multiprocessing.py V1_simulation_raster.h5 orientation_raster.h5 100 V1_orientation_distance.h5`\n",
    "\n",
    "### 2(c) Between V1 and direction-sensitive neurons\n",
    "`python3 cross_similarity_multiprocessing.py V1_simulation_raster.h5 direction_raster.h5 100 V1_direction_distance.h5`"
   ]
  }
 ],
 "metadata": {
  "kernelspec": {
   "display_name": "Python 3",
   "language": "python",
   "name": "python3"
  },
  "language_info": {
   "codemirror_mode": {
    "name": "ipython",
    "version": 3
   },
   "file_extension": ".py",
   "mimetype": "text/x-python",
   "name": "python",
   "nbconvert_exporter": "python",
   "pygments_lexer": "ipython3",
   "version": "3.6.8"
  }
 },
 "nbformat": 4,
 "nbformat_minor": 5
}
