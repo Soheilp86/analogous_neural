{
 "cells": [
  {
   "cell_type": "markdown",
   "id": "communist-small",
   "metadata": {},
   "source": [
    "# 1. Generate stimulus\n",
    "* This notebook generates the parameters of the stimulus videos `training_video` and `simulation_video`.\n",
    "* Due to the large size of video arrays, we don't actually generate the stimulus video in this notebook. The full video generation is performed in `2_simulation_V1.ipynb`. \n",
    "\n",
    "**Contents**\n",
    "1. Becoming familiar with output file\n",
    "    * This section explores the various data stored in the output of `generate_stimulus.py`\n",
    "2. Visualization\n",
    "    * This section provides some visualizations of the generated stimulus.\n",
    "3. Stimulus checklist\n",
    "    * This section checks that the generated stimulus satisfies certain basic conditions. When generating new stimulus (with different parameters), it's important to go through this checklist.\n",
    "4. Compute distances\n",
    "    * This distance matrix will be used to compute the persistent homology of the stimulus space."
   ]
  },
  {
   "cell_type": "code",
   "execution_count": 1,
   "id": "adequate-shoulder",
   "metadata": {},
   "outputs": [],
   "source": [
    "%load_ext autoreload\n",
    "%autoreload 2"
   ]
  },
  {
   "cell_type": "code",
   "execution_count": 1,
   "id": "deluxe-decrease",
   "metadata": {},
   "outputs": [],
   "source": [
    "import sys\n",
    "sys.path.insert(0, '../../src/')\n",
    "\n",
    "from stimulus_helper import *\n",
    "from Gabor_filter_functions import *\n",
    "import h5py\n",
    "import math\n",
    "import random\n",
    "\n",
    "import matplotlib.pyplot as plt\n",
    "import numpy as np\n",
    "import pickle"
   ]
  },
  {
   "cell_type": "code",
   "execution_count": 2,
   "id": "earlier-delaware",
   "metadata": {},
   "outputs": [],
   "source": [
    "directory = \"data\""
   ]
  },
  {
   "cell_type": "markdown",
   "id": "intimate-democrat",
   "metadata": {},
   "source": [
    "# 1. Create example stimulus image"
   ]
  },
  {
   "cell_type": "markdown",
   "id": "visible-complexity",
   "metadata": {},
   "source": [
    "## 1(a) Select parameters"
   ]
  },
  {
   "cell_type": "code",
   "execution_count": 3,
   "id": "honest-breathing",
   "metadata": {},
   "outputs": [
    {
     "data": {
      "image/png": "[encoded data removed]",
      "text/plain": [
       "<Figure size 432x288 with 2 Axes>"
      ]
     },
     "metadata": {
      "needs_background": "light"
     },
     "output_type": "display_data"
    }
   ],
   "source": [
    "# Parameters\n",
    "size = 40\n",
    "wavelength = 12\n",
    "radius = 8\n",
    "n_frames = 40000\n",
    "phase = math.pi\n",
    "theta = 0\n",
    "\n",
    "#plot\n",
    "img, _  = create_stimulus_image(size, wavelength, phase, radius, theta, x_loc = size//2, y_loc = size//2)\n",
    "\n",
    "plt.imshow(img)\n",
    "plt.tick_params(axis='both',       \n",
    "                which='both',      \n",
    "                bottom=False,      \n",
    "                left = False, \n",
    "                labelbottom=False,\n",
    "                labelleft = False)\n",
    "plt.colorbar()\n",
    "plt.show()"
   ]
  },
  {
   "cell_type": "code",
   "execution_count": 47,
   "id": "laden-metadata",
   "metadata": {},
   "outputs": [],
   "source": [
    "#####  save stimulus parameters #####\n",
    "\n",
    "stimulus_param = dict()\n",
    "stimulus_param[\"wavelength\"] = wavelength\n",
    "stimulus_param[\"radius\"] = radius\n",
    "stimulus_param[\"phase\"] = phase\n",
    "stimulus_param[\"size\"] = size\n",
    "\n",
    "#with open(directory + '/stimulus_param.pickle', 'wb') as handle:\n",
    "#    pickle.dump(stimulus_param, handle, protocol=pickle.HIGHEST_PROTOCOL)\n"
   ]
  },
  {
   "cell_type": "markdown",
   "id": "occupied-theory",
   "metadata": {},
   "source": [
    "## 1(b) Generate stimulus video information: orientations and locations"
   ]
  },
  {
   "cell_type": "markdown",
   "id": "under-craps",
   "metadata": {},
   "source": [
    "Note that we don't actually generate the video since that would take up a lot of space.  \n",
    "\n",
    "Instead, we keep track of the parameters that change over the course of the video: orientations and locations.\n",
    "\n",
    "The following will generate the stimulus video parameters (for both training and simulation sets) and save them. "
   ]
  },
  {
   "cell_type": "code",
   "execution_count": 48,
   "id": "chemical-neighbor",
   "metadata": {},
   "outputs": [
    {
     "name": "stdout",
     "output_type": "stream",
     "text": [
      "Stimulus generation complete. Stimulus info saved to data_v3/stimulus.h5\n"
     ]
    }
   ],
   "source": [
    "n_samples = 40000\n",
    "size = size \n",
    "output_file = directory + \"/stimulus.h5\"\n",
    "\n",
    "create_stimulus_video_parameters(size = size, n_samples = 40000, output_file= output_file)"
   ]
  },
  {
   "cell_type": "markdown",
   "id": "sudden-feature",
   "metadata": {
    "heading_collapsed": true,
    "hidden": true
   },
   "source": [
    "## 1(c) Inspect stimulus"
   ]
  },
  {
   "cell_type": "markdown",
   "id": "genetic-rogers",
   "metadata": {
    "hidden": true
   },
   "source": [
    "Each stimulus contains the following information.\n",
    "* directions: The possible movement directions in the stimulus.\n",
    "* orientations: The possible orientations in the stimulus.\n",
    "* video_directions: Movement direction of each frame of stimulus video.\n",
    "* video_locations: Location of the center of stimuli at each frame of video.\n",
    "* video_orientations: Orientation of stimuli at each frame of video."
   ]
  },
  {
   "cell_type": "code",
   "execution_count": 40,
   "id": "otherwise-malpractice",
   "metadata": {},
   "outputs": [],
   "source": [
    "f = h5py.File(directory + '/stimulus.h5', 'r')\n",
    "# load frame-level info\n",
    "directions = f[\"train_stimulus\"][\"directions\"][:,:]\n",
    "orientations = f[\"train_stimulus\"][\"orientations\"][:]\n",
    "video_directions = f[\"train_stimulus\"][\"video_directions\"][:,:]\n",
    "video_locations = f[\"train_stimulus\"][\"video_locations\"][:,:]\n",
    "video_orientations = f[\"train_stimulus\"][\"video_orientations\"][:]\n",
    "f.close()"
   ]
  },
  {
   "cell_type": "markdown",
   "id": "upset-leadership",
   "metadata": {
    "hidden": true
   },
   "source": [
    "<b> Possible movement directions </b>"
   ]
  },
  {
   "cell_type": "code",
   "execution_count": 9,
   "id": "related-fishing",
   "metadata": {
    "hidden": true
   },
   "outputs": [
    {
     "data": {
      "text/plain": [
       "array([[ 3,  0],\n",
       "       [ 3,  3],\n",
       "       [ 0,  3],\n",
       "       [-3,  3],\n",
       "       [-3,  0],\n",
       "       [-3, -3],\n",
       "       [ 0, -3],\n",
       "       [ 3, -3]])"
      ]
     },
     "execution_count": 9,
     "metadata": {},
     "output_type": "execute_result"
    }
   ],
   "source": [
    "directions"
   ]
  },
  {
   "cell_type": "markdown",
   "id": "behind-kitchen",
   "metadata": {
    "hidden": true
   },
   "source": [
    "<b> Possible orientations </b>"
   ]
  },
  {
   "cell_type": "code",
   "execution_count": 10,
   "id": "refined-yahoo",
   "metadata": {
    "hidden": true
   },
   "outputs": [
    {
     "data": {
      "text/plain": [
       "array([0.        , 0.39269908, 0.78539816, 1.17809725, 1.57079633,\n",
       "       1.96349541, 2.35619449, 2.74889357])"
      ]
     },
     "execution_count": 10,
     "metadata": {},
     "output_type": "execute_result"
    }
   ],
   "source": [
    "orientations"
   ]
  },
  {
   "cell_type": "markdown",
   "id": "productive-black",
   "metadata": {
    "hidden": true
   },
   "source": [
    "<b> Movement directions of video </b>"
   ]
  },
  {
   "cell_type": "code",
   "execution_count": 11,
   "id": "worst-namibia",
   "metadata": {
    "hidden": true
   },
   "outputs": [
    {
     "data": {
      "text/plain": [
       "array([[-1, -1],\n",
       "       [ 0,  3],\n",
       "       [ 0,  3],\n",
       "       ...,\n",
       "       [-3,  0],\n",
       "       [-3,  0],\n",
       "       [-3,  3]])"
      ]
     },
     "execution_count": 11,
     "metadata": {},
     "output_type": "execute_result"
    }
   ],
   "source": [
    "video_directions"
   ]
  },
  {
   "cell_type": "markdown",
   "id": "colonial-croatia",
   "metadata": {
    "hidden": true
   },
   "source": [
    "<b> Location of stimulus on window</b>"
   ]
  },
  {
   "cell_type": "code",
   "execution_count": 12,
   "id": "finnish-brush",
   "metadata": {
    "hidden": true
   },
   "outputs": [
    {
     "data": {
      "text/plain": [
       "array([[ 0,  0],\n",
       "       [ 0,  3],\n",
       "       [ 0,  6],\n",
       "       ...,\n",
       "       [10,  9],\n",
       "       [ 7,  9],\n",
       "       [ 4, 12]])"
      ]
     },
     "execution_count": 12,
     "metadata": {},
     "output_type": "execute_result"
    }
   ],
   "source": [
    "video_locations"
   ]
  },
  {
   "cell_type": "markdown",
   "id": "vietnamese-bruce",
   "metadata": {
    "hidden": true
   },
   "source": [
    "<b> Orientations of stimulus </b>"
   ]
  },
  {
   "cell_type": "code",
   "execution_count": 13,
   "id": "controversial-masters",
   "metadata": {
    "hidden": true
   },
   "outputs": [
    {
     "data": {
      "text/plain": [
       "array([0.        , 0.        , 0.        , ..., 0.39269908, 0.39269908,\n",
       "       0.        ])"
      ]
     },
     "execution_count": 13,
     "metadata": {},
     "output_type": "execute_result"
    }
   ],
   "source": [
    "video_orientations"
   ]
  },
  {
   "cell_type": "markdown",
   "id": "billion-worship",
   "metadata": {},
   "source": [
    "# 2. Visualize stimulus"
   ]
  },
  {
   "cell_type": "markdown",
   "id": "certified-rating",
   "metadata": {},
   "source": [
    "## 2(a) Generate video"
   ]
  },
  {
   "cell_type": "code",
   "execution_count": 41,
   "id": "abandoned-french",
   "metadata": {},
   "outputs": [],
   "source": [
    "# create video\n",
    "# Note: When simiulating spike trains, we'll need to create video for the entire stimulus.\n",
    "# For now, let's create a video consisting of the first 40 frames\n",
    "n_frames = 40\n",
    "\n",
    "video = create_stimulus_video(wavelength, phase, radius, size, n_frames, video_locations, video_orientations)"
   ]
  },
  {
   "cell_type": "markdown",
   "id": "related-guatemala",
   "metadata": {},
   "source": [
    "Visualize the first 35 frames"
   ]
  },
  {
   "cell_type": "code",
   "execution_count": 15,
   "id": "polish-likelihood",
   "metadata": {},
   "outputs": [
    {
     "data": {
      "image/png": "[encoded data removed]",
      "text/plain": [
       "<Figure size 1080x576 with 35 Axes>"
      ]
     },
     "metadata": {},
     "output_type": "display_data"
    }
   ],
   "source": [
    "fig, ax = plt.subplots(nrows = 5, ncols = 7, figsize = (15,8))\n",
    "for i in range(1,36):\n",
    "    row = (i-1) // 7\n",
    "    col = (i-1) % 7\n",
    "    ax[row][col].imshow(video[:,:,i], cmap = 'gray')\n",
    "    ax[row][col].tick_params(axis='both',       \n",
    "                        which='both',      \n",
    "                        bottom=False,      \n",
    "                        left = False, \n",
    "                        labelbottom=False,\n",
    "                        labelleft = False)\n",
    "\n",
    "plt.show()"
   ]
  },
  {
   "cell_type": "markdown",
   "id": "strong-stack",
   "metadata": {},
   "source": [
    "# 3. Stimulus checklist"
   ]
  },
  {
   "cell_type": "markdown",
   "id": "narrative-hammer",
   "metadata": {},
   "source": [
    "This section contains a checklist to ensure that we generated a \"good\" stimulus. See the section **Stimulus checklist** in `README.md`."
   ]
  },
  {
   "cell_type": "markdown",
   "id": "pharmaceutical-future",
   "metadata": {},
   "source": [
    "## 3(a) Check that various parameters are well-represented"
   ]
  },
  {
   "cell_type": "markdown",
   "id": "compound-samba",
   "metadata": {
    "heading_collapsed": true
   },
   "source": [
    "### 3(a)-i For each orientation, check that various locations of the window are equally represented."
   ]
  },
  {
   "cell_type": "code",
   "execution_count": 31,
   "id": "neutral-domain",
   "metadata": {
    "hidden": true
   },
   "outputs": [
    {
     "data": {
      "image/png": "[encoded data removed]",
      "text/plain": [
       "<Figure size 432x288 with 2 Axes>"
      ]
     },
     "metadata": {
      "needs_background": "light"
     },
     "output_type": "display_data"
    }
   ],
   "source": [
    "# Select orientation to inspect\n",
    "orient = orientations[5]\n",
    "\n",
    "# plot number of stimulus frames with given orientation and locations\n",
    "loc = check_locations(video_orientations, video_locations, orient, size)"
   ]
  },
  {
   "cell_type": "markdown",
   "id": "suited-cartridge",
   "metadata": {
    "hidden": true
   },
   "source": [
    "We want to make sure that the locations are well-distributed across the window."
   ]
  },
  {
   "cell_type": "markdown",
   "id": "assigned-trade",
   "metadata": {
    "heading_collapsed": true
   },
   "source": [
    "### 3(a)-ii Check that the number of frames with specific orienentation and movement axis are similar"
   ]
  },
  {
   "cell_type": "code",
   "execution_count": 17,
   "id": "korean-professor",
   "metadata": {
    "hidden": true
   },
   "outputs": [],
   "source": [
    "directions = [tuple(item) for item in video_directions]\n"
   ]
  },
  {
   "cell_type": "markdown",
   "id": "nuclear-operator",
   "metadata": {
    "hidden": true
   },
   "source": [
    "Note: you have to manually input the different possible axis"
   ]
  },
  {
   "cell_type": "code",
   "execution_count": 18,
   "id": "contemporary-trauma",
   "metadata": {
    "hidden": true
   },
   "outputs": [],
   "source": [
    "# create possible movement axis\n",
    "move_axis = [[(3,0), (-3, 0)], \n",
    "             [(0,3), (0,-3)], \n",
    "             [(3,3), (-3,-3)], \n",
    "             [(3, -3), (-3, 3)]]"
   ]
  },
  {
   "cell_type": "markdown",
   "id": "gross-powder",
   "metadata": {
    "hidden": true
   },
   "source": [
    "Check that the output of the following cell has roughly similar numbers"
   ]
  },
  {
   "cell_type": "code",
   "execution_count": 19,
   "id": "previous-hartford",
   "metadata": {},
   "outputs": [
    {
     "name": "stdout",
     "output_type": "stream",
     "text": [
      "number of frames with orientation 0.00 and movements  [(3, 0), (-3, 0)]  : 1232\n",
      "number of frames with orientation 0.00 and movements  [(0, 3), (0, -3)]  : 1344\n",
      "number of frames with orientation 0.00 and movements  [(3, 3), (-3, -3)]  : 1281\n",
      "number of frames with orientation 0.00 and movements  [(3, -3), (-3, 3)]  : 1121\n",
      "number of frames with orientation 0.39 and movements  [(3, 0), (-3, 0)]  : 1106\n",
      "number of frames with orientation 0.39 and movements  [(0, 3), (0, -3)]  : 1344\n",
      "number of frames with orientation 0.39 and movements  [(3, 3), (-3, -3)]  : 1407\n",
      "number of frames with orientation 0.39 and movements  [(3, -3), (-3, 3)]  : 1344\n",
      "number of frames with orientation 0.79 and movements  [(3, 0), (-3, 0)]  : 1435\n",
      "number of frames with orientation 0.79 and movements  [(0, 3), (0, -3)]  : 1393\n",
      "number of frames with orientation 0.79 and movements  [(3, 3), (-3, -3)]  : 1232\n",
      "number of frames with orientation 0.79 and movements  [(3, -3), (-3, 3)]  : 1148\n",
      "number of frames with orientation 1.18 and movements  [(3, 0), (-3, 0)]  : 1106\n",
      "number of frames with orientation 1.18 and movements  [(0, 3), (0, -3)]  : 1330\n",
      "number of frames with orientation 1.18 and movements  [(3, 3), (-3, -3)]  : 1253\n",
      "number of frames with orientation 1.18 and movements  [(3, -3), (-3, 3)]  : 1400\n",
      "number of frames with orientation 1.57 and movements  [(3, 0), (-3, 0)]  : 1218\n",
      "number of frames with orientation 1.57 and movements  [(0, 3), (0, -3)]  : 1288\n",
      "number of frames with orientation 1.57 and movements  [(3, 3), (-3, -3)]  : 1372\n",
      "number of frames with orientation 1.57 and movements  [(3, -3), (-3, 3)]  : 1190\n",
      "number of frames with orientation 1.96 and movements  [(3, 0), (-3, 0)]  : 1211\n",
      "number of frames with orientation 1.96 and movements  [(0, 3), (0, -3)]  : 1190\n",
      "number of frames with orientation 1.96 and movements  [(3, 3), (-3, -3)]  : 1337\n",
      "number of frames with orientation 1.96 and movements  [(3, -3), (-3, 3)]  : 1253\n",
      "number of frames with orientation 2.36 and movements  [(3, 0), (-3, 0)]  : 1246\n",
      "number of frames with orientation 2.36 and movements  [(0, 3), (0, -3)]  : 1106\n",
      "number of frames with orientation 2.36 and movements  [(3, 3), (-3, -3)]  : 1218\n",
      "number of frames with orientation 2.36 and movements  [(3, -3), (-3, 3)]  : 1176\n",
      "number of frames with orientation 2.75 and movements  [(3, 0), (-3, 0)]  : 1127\n",
      "number of frames with orientation 2.75 and movements  [(0, 3), (0, -3)]  : 1134\n",
      "number of frames with orientation 2.75 and movements  [(3, 3), (-3, -3)]  : 1393\n",
      "number of frames with orientation 2.75 and movements  [(3, -3), (-3, 3)]  : 1064\n"
     ]
    }
   ],
   "source": [
    "for ori in orientations:\n",
    "    for axis in move_axis:\n",
    "        _ = check_directions(video_orientations, directions, ori, axis)"
   ]
  },
  {
   "cell_type": "markdown",
   "id": "female-blackjack",
   "metadata": {},
   "source": [
    "# 4 Compute distance\n",
    "\n",
    "Given a stimulus frame $s$, let $s_x$ denote its x-location, $s_y$ its y-location, and $s_o$ its orientation.\n",
    "Given two stimulus frames $s^1$ and $s^2$, let   \n",
    "* $d_x$: distance between $s^1_x$ and $s^2_x$ (on S1)  \n",
    "* $d_y$: distance between $s^1_y$ and $s^2_y$ (on S1)  \n",
    "* $d_o$: distance between $s^1_o$ and $s^2_o$ (on S1)  \n",
    "\n",
    "\n",
    "Define $d(s^1, s^2) = \\sqrt{d_x^2 + d_y^2+ d_o^2}$"
   ]
  },
  {
   "cell_type": "code",
   "execution_count": 49,
   "id": "collective-celebrity",
   "metadata": {},
   "outputs": [],
   "source": [
    "# sample X number of stimulus frames with a given orientation. \n",
    "n_samples_per_orientation = 50\n",
    "stimuli_distance, locations_sampled, orientations_sampled = compute_stimulus_angular_distance(size, \n",
    "                                                                                              orientations,\n",
    "                                                                                              n_samples_per_orientation)"
   ]
  },
  {
   "cell_type": "markdown",
   "id": "hired-release",
   "metadata": {},
   "source": [
    "Perturb the entries a little bit so that each simplex has a unique associated parameter"
   ]
  },
  {
   "cell_type": "code",
   "execution_count": 50,
   "id": "sharing-dubai",
   "metadata": {},
   "outputs": [
    {
     "name": "stdout",
     "output_type": "stream",
     "text": [
      "distance matrix size:  (400, 400)\n",
      "total number of entries:  160000\n",
      "total number of upper-triangular entries:  79800.0\n"
     ]
    }
   ],
   "source": [
    "m = stimuli_distance.shape[0]\n",
    "print(\"distance matrix size: \", stimuli_distance.shape)\n",
    "print(\"total number of entries: \", m * m)\n",
    "print(\"total number of upper-triangular entries: \", m * (m - 1) / 2)"
   ]
  },
  {
   "cell_type": "code",
   "execution_count": 51,
   "id": "funded-still",
   "metadata": {},
   "outputs": [
    {
     "name": "stdout",
     "output_type": "stream",
     "text": [
      "number of unique values in distance matrix:  2133\n"
     ]
    }
   ],
   "source": [
    "# check if there are duplicate entries in the distance matrix\n",
    "u, c = np.unique(stimuli_distance, return_counts=True)\n",
    "dup = u[c > 1]\n",
    "print(\"number of unique values in distance matrix: \", u.shape[0])"
   ]
  },
  {
   "cell_type": "code",
   "execution_count": 52,
   "id": "prescribed-horizontal",
   "metadata": {},
   "outputs": [
    {
     "name": "stdout",
     "output_type": "stream",
     "text": [
      "number of unique values in distance matrix:  160000\n"
     ]
    }
   ],
   "source": [
    "# perturb distance array\n",
    "random_array = np.random.normal(loc=0.0, scale=0.001, size=(m,m))\n",
    "np.max(random_array)\n",
    "\n",
    "distance_perturbed = stimuli_distance + random_array\n",
    "\n",
    "# check if there are duplicate entries in the distance matrix\n",
    "u, c = np.unique(distance_perturbed, return_counts=True)\n",
    "\n",
    "print(\"number of unique values in distance matrix: \", u.shape[0])\n",
    "\n",
    "# put zeros on the diagonal\n",
    "np.fill_diagonal(distance_perturbed, 0)\n",
    "for i in range(m):\n",
    "    for j in range(i,m):\n",
    "        distance_perturbed[i][j] = distance_perturbed[j][i]"
   ]
  },
  {
   "cell_type": "code",
   "execution_count": 53,
   "id": "organic-intent",
   "metadata": {},
   "outputs": [],
   "source": [
    "# save distance matrices\n",
    "\n",
    "np.savetxt( directory + \"/stimulus_distance.csv\", stimuli_distance)\n",
    "np.savetxt(directory + \"/stimulus_perturbed_distance.csv\", distance_perturbed)\n",
    "\n",
    "with open(directory + '/stimulus_locations_sampled.pickle', 'wb') as handle:\n",
    "    pickle.dump(locations_sampled, handle, protocol=pickle.HIGHEST_PROTOCOL)\n",
    "#    \n",
    "with open(directory + '/stimulus_orientations_sampled.pickle', 'wb') as handle:\n",
    "    pickle.dump(orientations_sampled, handle, protocol=pickle.HIGHEST_PROTOCOL)\n"
   ]
  },
  {
   "cell_type": "markdown",
   "id": "chubby-delay",
   "metadata": {},
   "source": [
    "# 5. Create stimulus raster"
   ]
  },
  {
   "cell_type": "markdown",
   "id": "vocal-vertex",
   "metadata": {},
   "source": [
    "In a later part of the analysis, we compute the distances between stimulus images and the simulated V1 spike trains. For that purpose, we need to create a binary raster of the stimulus images. "
   ]
  },
  {
   "cell_type": "code",
   "execution_count": null,
   "id": "twelve-motion",
   "metadata": {},
   "outputs": [],
   "source": [
    "# load stimulus video information\n",
    "f = h5py.File(directory + '/stimulus.h5', 'r')\n",
    "video_locations = f[\"simulation_stimulus\"][\"video_locations\"][:,:]\n",
    "video_orientations = f[\"simulation_stimulus\"][\"video_orientations\"][:]\n",
    "f.close()\n",
    "\n",
    "# load the stimulus samples information\n",
    "with open(directory + '/stimulus_locations_sampled.pickle', 'rb') as handle:\n",
    "    locations_sampled = pickle.load(handle)\n",
    "    \n",
    "with open(directory + '/stimulus_orientations_sampled.pickle', 'rb') as handle:\n",
    "    orientations_sampled = pickle.load(handle)\n"
   ]
  },
  {
   "cell_type": "code",
   "execution_count": null,
   "id": "korean-nicaragua",
   "metadata": {},
   "outputs": [],
   "source": [
    "### CAUTION!!!! ####\n",
    "### NEED TO TURN THE FOLLOWING INTO THE FUNCTION \"create_sampled_stimulus_raster\"\n",
    "\n",
    "# get binary matrix indicating whether the sampled stimulus matches a video frame\n",
    "stimulus_matrix = np.zeros((400, 40000))\n",
    "for i in range(400):\n",
    "\n",
    "    sampled_loc = locations_sampled[i]\n",
    "    sampled_orientation = orientations_sampled[i]\n",
    "\n",
    "    # find all frames that match the sampled orientation\n",
    "    orientation_match = [idx for idx, ori in enumerate(video_orientations) if ori == sampled_orientation]\n",
    "    \n",
    "    # \"allow locations to be an approximate match \" (I'm not allowing locations to match via the corners.... )\n",
    "    match = [j for j in orientation_match if location_distance_on_torus(video_locations[j], sampled_loc, 40) <= 6]\n",
    "    for idx in match:\n",
    "        stimulus_matrix[i, idx] = 1"
   ]
  },
  {
   "cell_type": "code",
   "execution_count": null,
   "id": "determined-ribbon",
   "metadata": {},
   "outputs": [],
   "source": [
    "# Compute stimulus raster\n",
    "stimulus_raster = create_sampled_stimulus_raster(locations_sampled, \n",
    "                                                 orientations_sampled, \n",
    "                                                 video_locations, \n",
    "                                                 video_orientations, \n",
    "                                                 max_proximity = 6, \n",
    "                                                 image_size = 40)\n",
    "\n",
    "# increase timebins (25 timebins per second)\n",
    "n_bins = 25\n",
    "stimulus_raster = np.repeat(stimulus_raster, n_bins, axis = 1)\n",
    "print(stimulus_raster.shape)"
   ]
  },
  {
   "cell_type": "code",
   "execution_count": null,
   "id": "early-joyce",
   "metadata": {},
   "outputs": [],
   "source": [
    "# save the stimulus raster\n",
    "hf = h5py.File(directory + '/stimulus_raster.h5','w')\n",
    "hf.create_dataset('raster', data = stimulus_raster)\n",
    "hf.close()"
   ]
  }
 ],
 "metadata": {
  "@webio": {
   "lastCommId": null,
   "lastKernelId": null
  },
  "kernelspec": {
   "display_name": "Python 3",
   "language": "python",
   "name": "python3"
  },
  "language_info": {
   "codemirror_mode": {
    "name": "ipython",
    "version": 3
   },
   "file_extension": ".py",
   "mimetype": "text/x-python",
   "name": "python",
   "nbconvert_exporter": "python",
   "pygments_lexer": "ipython3",
   "version": "3.8.8"
  }
 },
 "nbformat": 4,
 "nbformat_minor": 5
}
