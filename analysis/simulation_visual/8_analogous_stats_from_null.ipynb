{
 "cells": [
  {
   "cell_type": "markdown",
   "id": "auburn-counter",
   "metadata": {},
   "source": [
    "# Analogous stats"
   ]
  },
  {
   "cell_type": "code",
   "execution_count": null,
   "id": "15734513",
   "metadata": {},
   "outputs": [],
   "source": [
    "using Pkg\n",
    "Pkg.activate(\"../../env/.\")"
   ]
  },
  {
   "cell_type": "code",
   "execution_count": 1,
   "id": "conceptual-world",
   "metadata": {},
   "outputs": [
    {
     "data": {
      "application/vnd.webio.node+json": {
       "children": [],
       "instanceArgs": {
        "namespace": "html",
        "tag": "div"
       },
       "nodeType": "DOM",
       "props": {},
       "type": "node"
      },
      "text/html": [
       "<div style=\"padding: 1em; background-color: #f8d6da; border: 1px solid #f5c6cb; font-weight: bold;\">\n",
       "<p>The WebIO Jupyter extension was not detected. See the\n",
       "<a href=\"https://juliagizmos.github.io/WebIO.jl/latest/providers/ijulia/\" target=\"_blank\">\n",
       "    WebIO Jupyter integration documentation\n",
       "</a>\n",
       "for more information.\n",
       "</div>\n"
      ],
      "text/plain": [
       "WebIO._IJuliaInit()"
      ]
     },
     "metadata": {},
     "output_type": "display_data"
    },
    {
     "name": "stderr",
     "output_type": "stream",
     "text": [
      "┌ Warning: ORCA.jl has been deprecated and all savefig functionality\n",
      "│ has been implemented directly in PlotlyBase itself.\n",
      "│ \n",
      "│ By implementing in PlotlyBase.jl, the savefig routines are automatically\n",
      "│ available to PlotlyJS.jl also.\n",
      "└ @ ORCA /opt/julia/packages/ORCA/U5XaN/src/ORCA.jl:8\n"
     ]
    }
   ],
   "source": [
    "include(\"../../src/analogous_bars.jl\")\n",
    "include(\"../../src/Eirene_var.jl\")\n",
    "include(\"../../src/eirene_helper.jl\")\n",
    "using .analogous_bars\n",
    "using .Eirene_var\n",
    "using .eirene_helper\n",
    "using DelimitedFiles\n",
    "using HDF5\n",
    "using Plots\n",
    "using FileIO\n",
    "using Random\n"
   ]
  },
  {
   "cell_type": "code",
   "execution_count": 3,
   "id": "professional-button",
   "metadata": {},
   "outputs": [],
   "source": [
    "using Distributed\n",
    "#addprocs(5)\n",
    "#print(nprocs());\n",
    "\n",
    "@everywhere include(\"../../src/analogous_stats.jl\")\n",
    "@everywhere using .analogous_stats"
   ]
  },
  {
   "cell_type": "markdown",
   "id": "tutorial-yellow",
   "metadata": {},
   "source": [
    "## 1. Encoding: stimulus & V1"
   ]
  },
  {
   "cell_type": "markdown",
   "id": "foster-advantage",
   "metadata": {},
   "source": [
    "Load dissimilarity matrices"
   ]
  },
  {
   "cell_type": "code",
   "execution_count": 5,
   "id": "painted-vacuum",
   "metadata": {},
   "outputs": [],
   "source": [
    "directory = \"data\"\n",
    "\n",
    "# load distance matrices\n",
    "D_stimulus = readdlm(directory * \"/stimulus_perturbed_distance.csv\")\n",
    "D_V1 = h5read(directory * \"/V1_simulation_distance.h5\",\"distance\")\n",
    "D_V1 = vector_to_symmetric_matrix(D_V1, 800);\n",
    "\n",
    "D_V1_stimulus = Array(transpose(h5read(directory * \"/V1_stimulus_distance.h5\", \"distance\")));\n",
    "D_stimulus_V1 = Array(transpose(D_V1_stimulus));"
   ]
  },
  {
   "cell_type": "markdown",
   "id": "north-tourism",
   "metadata": {},
   "source": [
    "Compute VR persistence"
   ]
  },
  {
   "cell_type": "code",
   "execution_count": 6,
   "id": "nuclear-minority",
   "metadata": {},
   "outputs": [],
   "source": [
    "dim = 1\n",
    "\n",
    "# VR persistence\n",
    "VR_stimulus = eirene(D_stimulus, record = \"all\", maxdim = dim)\n",
    "VR_V1 = eirene(D_V1, record = \"all\", maxdim = dim);"
   ]
  },
  {
   "cell_type": "markdown",
   "id": "rocky-republican",
   "metadata": {},
   "source": [
    "Load the VR, W persistence diagrams and cutoffs"
   ]
  },
  {
   "cell_type": "code",
   "execution_count": null,
   "id": "permanent-penetration",
   "metadata": {},
   "outputs": [],
   "source": [
    "\n",
    "#save(directory * \"/stimulus_V1_baseline_similarity_analogous.jld2\", \n",
    "#    \"barcodes\", barcodes,\n",
    "#    \"persistence_cutoff\", persistence_cutoff,\n",
    "#    \"analogous_pair\", analogous_pair)"
   ]
  },
  {
   "cell_type": "code",
   "execution_count": 7,
   "id": "informed-absorption",
   "metadata": {},
   "outputs": [],
   "source": [
    "outputs = load(\"data/stimulus_V1_baseline_similarity_analogous.jld2\")\n",
    "\n",
    "# load barcodes\n",
    "barcode_V1 = outputs[\"barcodes\"][\"VR_V1\"]\n",
    "barcode_stimulus = outputs[\"barcodes\"][\"VR_stimulus\"]\n",
    "barcode_W_V1_stimulus = outputs[\"barcodes\"][\"W_V1_stimulus\"]\n",
    "\n",
    "# load cutoffs\n",
    "V1_cutoff = outputs[\"persistence_cutoff\"][\"V1_cutoff\"]\n",
    "stimulus_cutoff = outputs[\"persistence_cutoff\"][\"stimulus_cutoff\"]\n",
    "W_cutoff = outputs[\"persistence_cutoff\"][\"W_V1_stimulus_cutoff\"];"
   ]
  },
  {
   "cell_type": "code",
   "execution_count": 8,
   "id": "later-impact",
   "metadata": {},
   "outputs": [
    {
     "data": {
      "text/plain": [
       "3-element Array{Int64,1}:\n",
       " 275\n",
       " 276\n",
       " 277"
      ]
     },
     "execution_count": 8,
     "metadata": {},
     "output_type": "execute_result"
    }
   ],
   "source": [
    "selected_V1 = findall(x -> x > V1_cutoff, barcode_V1[:,2] - barcode_V1[:,1])\n",
    "selected_stimulus = findall(x -> x > stimulus_cutoff, barcode_stimulus[:,2] - barcode_stimulus[:,1])"
   ]
  },
  {
   "cell_type": "code",
   "execution_count": null,
   "id": "covered-restriction",
   "metadata": {},
   "outputs": [
    {
     "name": "stdout",
     "output_type": "stream",
     "text": [
      "      From worker 2:\t400\n",
      "      From worker 2:\t800\n",
      "      From worker 3:\t400\n",
      "      From worker 3:\t800\n",
      "      From worker 4:\t400\n",
      "      From worker 4:\t800\n",
      "      From worker 5:\t400\n",
      "      From worker 5:\t800\n",
      "      From worker 6:\t400\n",
      "      From worker 6:\t800\n"
     ]
    }
   ],
   "source": [
    "# script to compute from 50 to 100\n",
    "start_idx = collect(151:5:200)\n",
    "for idx in start_idx\n",
    "    shuffles = collect(idx:idx+4) \n",
    "    t = @distributed for k in shuffles\n",
    "        output_filename = \"null_model_stats/stimulus_V1/\" * string(k)\n",
    "        _, _, _, _, _ = analogous_stats.compute_analogous_bars_null_model(;\n",
    "                                                                        VR_P = VR_stimulus,\n",
    "                                                                        D_P = D_stimulus,\n",
    "                                                                        VR_Q = VR_V1,\n",
    "                                                                        D_Q = D_V1,\n",
    "                                                                        P_null_dim = 3,\n",
    "                                                                        Q_null_dim = 3,\n",
    "                                                                        output_filename = output_filename\n",
    "                                                                        )\n",
    "\n",
    "    end\n",
    "    fetch(t)\n",
    "end"
   ]
  },
  {
   "cell_type": "code",
   "execution_count": null,
   "id": "constitutional-preliminary",
   "metadata": {},
   "outputs": [],
   "source": [
    "fetch(t)"
   ]
  },
  {
   "cell_type": "code",
   "execution_count": 18,
   "id": "affecting-object",
   "metadata": {},
   "outputs": [
    {
     "data": {
      "text/plain": [
       "3×3 Array{Float64,2}:\n",
       " 0.0  0.0  0.0\n",
       " 0.0  0.0  0.0\n",
       " 0.0  0.0  0.0"
      ]
     },
     "execution_count": 18,
     "metadata": {},
     "output_type": "execute_result"
    }
   ],
   "source": [
    "n_shuffles = 200\n",
    "output_dir = \"null_model_stats/stimulus_V1/\"\n",
    "stats_matrix, stats_total, selected_bar_count, no_Ftau_P_or_Q, valid_files = parse_null_model_stats(output_dir, \n",
    "                                                                         barcode_stimulus, \n",
    "                                                                         barcode_V1,\n",
    "                                                                         selected_stimulus,\n",
    "                                                                         selected_V1,\n",
    "                                                                         n_shuffles = n_shuffles)\n",
    "\n",
    "prob_matrix = stats_matrix ./ n_shuffles"
   ]
  },
  {
   "cell_type": "code",
   "execution_count": 21,
   "id": "usual-exchange",
   "metadata": {},
   "outputs": [
    {
     "name": "stdout",
     "output_type": "stream",
     "text": [
      "[48, 50]\n",
      "Dict{Any,Any}(50 => [1],48 => [8, 1])\n",
      "Dict{Any,Any}(50 => nothing,48 => nothing)\n",
      "[44, 45]\n",
      "Dict{Any,Any}(44 => nothing,45 => nothing)\n",
      "Dict{Any,Any}(44 => nothing,45 => nothing)\n",
      "[55, 56]\n",
      "Dict{Any,Any}(55 => nothing,56 => nothing)\n",
      "Dict{Any,Any}(55 => nothing,56 => nothing)\n",
      "[55, 56]\n",
      "Dict{Any,Any}(55 => nothing,56 => nothing)\n",
      "Dict{Any,Any}(55 => nothing,56 => nothing)\n",
      "[44, 46]\n",
      "Dict{Any,Any}(44 => nothing,46 => nothing)\n",
      "Dict{Any,Any}(44 => nothing,46 => nothing)\n",
      "[54, 55]\n",
      "Dict{Any,Any}(54 => nothing,55 => [3])\n",
      "Dict{Any,Any}(54 => nothing,55 => nothing)\n",
      "[49, 51]\n",
      "Dict{Any,Any}(49 => [8],51 => nothing)\n",
      "Dict{Any,Any}(49 => nothing,51 => nothing)\n",
      "[42, 43]\n",
      "Dict{Any,Any}(43 => nothing,42 => nothing)\n",
      "Dict{Any,Any}(43 => nothing,42 => nothing)\n",
      "[44, 47]\n",
      "Dict{Any,Any}(47 => [2],44 => nothing)\n",
      "Dict{Any,Any}(47 => nothing,44 => nothing)\n",
      "[46, 47]\n",
      "Dict{Any,Any}(47 => nothing,46 => nothing)\n",
      "Dict{Any,Any}(47 => nothing,46 => nothing)\n"
     ]
    }
   ],
   "source": [
    "# count the total number of bars from which we ran similarity_centric_analogous_bars\n",
    "output_dir = \"null_model_stats/grid_conj/\"\n",
    "for i = 1:10\n",
    "\n",
    "\n",
    "    # open julia files\n",
    "    analogous_P = load(output_dir * string(i) * \".jld2\")[\"analogous_P\"]\n",
    "    analogous_Q = load(output_dir * string(i) * \".jld2\")[\"analogous_Q\"]\n",
    "    selected = load(output_dir * string(i) * \".jld2\")[\"W_selected\"]\n",
    "\n",
    "    println(selected)\n",
    "    println(analogous_P)\n",
    "    println(analogous_Q)\n",
    "end"
   ]
  },
  {
   "cell_type": "markdown",
   "id": "wireless-liquid",
   "metadata": {},
   "source": [
    "# 2. V1 & orientation"
   ]
  },
  {
   "cell_type": "markdown",
   "id": "emerging-royalty",
   "metadata": {},
   "source": [
    "Load dissimilarity matrices"
   ]
  },
  {
   "cell_type": "code",
   "execution_count": 4,
   "id": "eligible-decrease",
   "metadata": {},
   "outputs": [],
   "source": [
    "# load distances\n",
    "directory = \"data\"\n",
    "V1_distance = h5read(directory * \"/V1_simulation_distance.h5\", \"distance\")\n",
    "O_distance = h5read(directory * \"/orientation_distance.h5\", \"distance\")\n",
    "D_ori_V1 = h5read(directory * \"/V1_orientation_distance.h5\", \"distance\") # this is probably orientation_V1 \n",
    "\n",
    "# number of neurons\n",
    "n_V1 = 800\n",
    "n_O = 64\n",
    "\n",
    "\n",
    "# convert vector of distances to distance matrix \n",
    "D_V1 = vector_to_symmetric_matrix(V1_distance, n_V1)\n",
    "D_O = vector_to_symmetric_matrix(O_distance, n_O)\n",
    "D_V1_ori = Array(transpose(D_ori_V1));"
   ]
  },
  {
   "cell_type": "markdown",
   "id": "pressing-essex",
   "metadata": {},
   "source": [
    "Compute VR persistence"
   ]
  },
  {
   "cell_type": "code",
   "execution_count": 5,
   "id": "aquatic-bargain",
   "metadata": {},
   "outputs": [],
   "source": [
    "VR_O = eirene(D_O, record = \"all\", maxdim = 1)\n",
    "VR_V1 = eirene(D_V1, record = \"all\", maxdim = 1);"
   ]
  },
  {
   "cell_type": "markdown",
   "id": "missing-shakespeare",
   "metadata": {},
   "source": [
    "Load the VR, W persistence diagrams and cutoffs"
   ]
  },
  {
   "cell_type": "code",
   "execution_count": 6,
   "id": "nutritional-motivation",
   "metadata": {},
   "outputs": [],
   "source": [
    "outputs = load(\"data/V1_orientation_baseline_similarity_analogous.jld2\")\n",
    "\n",
    "# load barcodes\n",
    "barcode_O = outputs[\"barcodes\"][\"VR_orientation\"]\n",
    "barcode_V1 = outputs[\"barcodes\"][\"VR_V1\"]\n",
    "barcode_W = outputs[\"barcodes\"][\"W_orientation_V1\"]\n",
    "\n",
    "# load cutoffs\n",
    "O_cutoff = outputs[\"persistence_cutoff\"][\"ori_cutoff\"]\n",
    "V1_cutoff = outputs[\"persistence_cutoff\"][\"V1_cutoff\"]\n",
    "W_cutoff = outputs[\"persistence_cutoff\"][\"W_ori_V1_cutoff\"]\n",
    "\n",
    "# selected bars\n",
    "selected_O = outputs[\"persistence_cutoff\"][\"ori_selected\"]\n",
    "selected_V1 = outputs[\"persistence_cutoff\"][\"V1_selected\"]\n",
    "selected_W = outputs[\"persistence_cutoff\"][\"W_ori_V1_selected\"];"
   ]
  },
  {
   "cell_type": "code",
   "execution_count": null,
   "id": "excited-measurement",
   "metadata": {},
   "outputs": [],
   "source": [
    "# script to compute from 50 to 100\n",
    "start_idx = collect(146:5:201)\n",
    "for idx in start_idx\n",
    "    shuffles = collect(idx:idx+4) \n",
    "    t = @distributed for k in shuffles\n",
    "        output_filename = \"null_model_stats/V1_ori/\" * string(k)\n",
    "        _, _, _, _, _ = analogous_stats.compute_analogous_bars_null_model(;\n",
    "                                                                        VR_P = VR_V1,\n",
    "                                                                        D_P = D_V1,\n",
    "                                                                        VR_Q = VR_O,\n",
    "                                                                        D_Q = D_O,\n",
    "                                                                        P_null_dim = 3,\n",
    "                                                                        Q_null_dim = 1,\n",
    "                                                                        output_filename = output_filename\n",
    "                                                                        )\n",
    "\n",
    "    end\n",
    "    fetch(t)\n",
    "end"
   ]
  },
  {
   "cell_type": "code",
   "execution_count": 7,
   "id": "peaceful-pleasure",
   "metadata": {},
   "outputs": [
    {
     "data": {
      "text/plain": [
       "3×1 Array{Float64,2}:\n",
       " 0.0\n",
       " 0.0\n",
       " 0.0"
      ]
     },
     "execution_count": 7,
     "metadata": {},
     "output_type": "execute_result"
    }
   ],
   "source": [
    "n_shuffles = 200\n",
    "output_dir = \"null_model_stats/V1_ori/\"\n",
    "\n",
    "stats_matrix, stats_total, selected_bar_count, no_Ftau_P_or_Q, valid_files = parse_null_model_stats(output_dir, \n",
    "                                                                         barcode_V1, \n",
    "                                                                         barcode_O,\n",
    "                                                                         selected_V1,\n",
    "                                                                         selected_O,\n",
    "                                                                         n_shuffles = n_shuffles)\n",
    "\n",
    "prob_matrix = stats_matrix ./ n_shuffles"
   ]
  },
  {
   "cell_type": "code",
   "execution_count": 11,
   "id": "engaging-there",
   "metadata": {},
   "outputs": [
    {
     "data": {
      "text/plain": [
       "0"
      ]
     },
     "execution_count": 11,
     "metadata": {},
     "output_type": "execute_result"
    }
   ],
   "source": [
    "no_Ftau_P_or_Q"
   ]
  },
  {
   "cell_type": "markdown",
   "id": "funded-hudson",
   "metadata": {},
   "source": [
    "# 3. V1 & direction"
   ]
  },
  {
   "cell_type": "markdown",
   "id": "demanding-findings",
   "metadata": {},
   "source": [
    "Load dissimilarity matrices"
   ]
  },
  {
   "cell_type": "code",
   "execution_count": 12,
   "id": "pacific-liberia",
   "metadata": {},
   "outputs": [],
   "source": [
    "# load distances\n",
    "directory = \"data\"\n",
    "V1_distance = h5read(directory * \"/V1_simulation_distance.h5\", \"distance\")\n",
    "dir_distance = h5read(directory * \"/direction_distance.h5\", \"distance\")\n",
    "D_dir_V1 = h5read(directory * \"/V1_direction_distance.h5\", \"distance\") # this is probably orientation_V1 \n",
    "\n",
    "# number of neurons\n",
    "n_V1 = 800\n",
    "n_D = 64\n",
    "\n",
    "\n",
    "# convert vector of distances to distance matrix \n",
    "D_V1 = vector_to_symmetric_matrix(V1_distance, n_V1)\n",
    "D_dir = vector_to_symmetric_matrix(dir_distance, n_D)\n",
    "D_V1_dir = Array(transpose(D_dir_V1));"
   ]
  },
  {
   "cell_type": "markdown",
   "id": "nasty-findings",
   "metadata": {},
   "source": [
    "Compute VR persistence"
   ]
  },
  {
   "cell_type": "code",
   "execution_count": 13,
   "id": "operating-louisiana",
   "metadata": {},
   "outputs": [],
   "source": [
    "VR_D = eirene(D_dir, record = \"all\", maxdim = 1)\n",
    "VR_V1 = eirene(D_V1, record = \"all\", maxdim = 1);"
   ]
  },
  {
   "cell_type": "markdown",
   "id": "portuguese-smell",
   "metadata": {},
   "source": [
    "Load the VR, W persistence diagrams and cutoffs"
   ]
  },
  {
   "cell_type": "code",
   "execution_count": 14,
   "id": "revolutionary-couple",
   "metadata": {},
   "outputs": [],
   "source": [
    "outputs = load(\"data/V1_direction_baseline_similarity_analogous.jld2\")\n",
    "\n",
    "# load barcodes\n",
    "barcode_dir = outputs[\"barcodes\"][\"VR_direction\"]\n",
    "barcode_V1 = outputs[\"barcodes\"][\"VR_V1\"]\n",
    "barcode_W = outputs[\"barcodes\"][\"W_direction_V1\"]\n",
    "\n",
    "# load cutoffs\n",
    "dir_cutoff = outputs[\"persistence_cutoff\"][\"direction_cutoff\"]\n",
    "V1_cutoff = outputs[\"persistence_cutoff\"][\"V1_cutoff\"]\n",
    "W_cutoff = outputs[\"persistence_cutoff\"][\"W_direction_V1_cutoff\"]\n",
    "\n",
    "# selected bars\n",
    "selected_dir = outputs[\"persistence_cutoff\"][\"direction_selected\"]\n",
    "selected_V1 = outputs[\"persistence_cutoff\"][\"V1_selected\"]\n",
    "selected_W = outputs[\"persistence_cutoff\"][\"W_direction_V1_selected\"];"
   ]
  },
  {
   "cell_type": "code",
   "execution_count": 6,
   "id": "catholic-numbers",
   "metadata": {},
   "outputs": [
    {
     "data": {
      "text/plain": [
       "6"
      ]
     },
     "execution_count": 6,
     "metadata": {},
     "output_type": "execute_result"
    }
   ],
   "source": [
    "nprocs()"
   ]
  },
  {
   "cell_type": "code",
   "execution_count": null,
   "id": "stock-projector",
   "metadata": {},
   "outputs": [],
   "source": [
    "# script to compute from 50 to 100\n",
    "start_idx = collect(151:5:201)\n",
    "for idx in start_idx\n",
    "    shuffles = collect(idx:idx+4) \n",
    "    t = @distributed for k in shuffles\n",
    "        output_filename = \"null_model_stats/V1_dir/\" * string(k)\n",
    "        _, _, _, _, _ = analogous_stats.compute_analogous_bars_null_model(;\n",
    "                                                                        VR_P = VR_V1,\n",
    "                                                                        D_P = D_V1,\n",
    "                                                                        VR_Q = VR_D,\n",
    "                                                                        D_Q = D_dir,\n",
    "                                                                        P_null_dim = 3,\n",
    "                                                                        Q_null_dim = 1,\n",
    "                                                                        output_filename = output_filename\n",
    "                                                                        )\n",
    "\n",
    "    end\n",
    "    fetch(t)\n",
    "end"
   ]
  },
  {
   "cell_type": "code",
   "execution_count": null,
   "id": "shaped-morrison",
   "metadata": {},
   "outputs": [],
   "source": [
    "interrupt()"
   ]
  },
  {
   "cell_type": "code",
   "execution_count": 15,
   "id": "realistic-service",
   "metadata": {},
   "outputs": [
    {
     "data": {
      "text/plain": [
       "3×1 Array{Float64,2}:\n",
       " 0.0\n",
       " 0.0\n",
       " 0.0"
      ]
     },
     "execution_count": 15,
     "metadata": {},
     "output_type": "execute_result"
    }
   ],
   "source": [
    "n_shuffles = 200\n",
    "output_dir = \"null_model_stats/V1_dir/\"\n",
    "\n",
    "stats_matrix, stats_total, selected_bar_count, no_Ftau_P_or_Q, valid_files = parse_null_model_stats(output_dir, \n",
    "                                                                         barcode_V1, \n",
    "                                                                         barcode_dir,\n",
    "                                                                         selected_V1,\n",
    "                                                                         selected_dir,\n",
    "                                                                         n_shuffles = n_shuffles)\n",
    "\n",
    "prob_matrix = stats_matrix ./ n_shuffles"
   ]
  },
  {
   "cell_type": "code",
   "execution_count": 37,
   "id": "extreme-climate",
   "metadata": {},
   "outputs": [
    {
     "data": {
      "text/plain": [
       "0.0"
      ]
     },
     "execution_count": 37,
     "metadata": {},
     "output_type": "execute_result"
    }
   ],
   "source": [
    "maximum(stats_total)"
   ]
  },
  {
   "cell_type": "code",
   "execution_count": null,
   "id": "unlikely-modeling",
   "metadata": {},
   "outputs": [],
   "source": []
  }
 ],
 "metadata": {
  "kernelspec": {
   "display_name": "Julia 1.5.3",
   "language": "julia",
   "name": "julia-1.5"
  },
  "language_info": {
   "file_extension": ".jl",
   "mimetype": "application/julia",
   "name": "julia",
   "version": "1.5.3"
  }
 },
 "nbformat": 4,
 "nbformat_minor": 5
}
